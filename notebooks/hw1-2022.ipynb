{
 "cells": [
  {
   "cell_type": "markdown",
   "metadata": {},
   "source": [
    "### Работу выполняли\n",
    "**Соколов Ян\\\n",
    "Екимов Егор\\\n",
    "Токкожин Арсен**"
   ]
  },
  {
   "cell_type": "markdown",
   "metadata": {
    "colab_type": "text",
    "id": "cDlh5WB_SkfZ"
   },
   "source": [
    "# Домашнее задание 1\n",
    "## Sentiment Analysis in Russian\n",
    "\n",
    "*deadline*: 2 октября 2022, 23:59\n",
    "\n",
    "В этом домашнем задании вы будете работать с корпусом новостных текстов на русском языке. Корпус собран из заметок новостных сайтов с указанием на тональность данного текста.\n",
    "\n",
    "Корпус описан и представлен по ссылке: https://www.kaggle.com/competitions/sentiment-analysis-in-russian/data\n",
    "\n",
    "Части 1, 2 задания должны быть выполнены на полных текстах, Часть 3 – на разбиении на тестовое, отладочное и обучающее множества (которое вы должно произвести самостоятельно). Тестовое множество должно быть использовано исключительно для тестирования моделей, обучающее и отладочное – для выбора модели и параметров. \n",
    "\n",
    "\n",
    "## ПРАВИЛА\n",
    "1. Домашнее задание выполняется в группе до 3-х человек.\n",
    "2. Домашнее задание оформляется в виде отчета либо в .pdf файле, либо jupyter-тетрадке. \n",
    "3. Отчет должен содержать: имена всех членов группы, нумерацию заданий и пунктов, которые вы выполнили, код решения, и понятное пошаговое описание того, что вы сделали. Отчет должен быть написан в академическом стиле, без излишнего использования сленга и с соблюдением норм русского языка.\n",
    "4. Не стоит копировать фрагменты лекций, статей и Википедии в ваш отчет.\n",
    "5. Отчеты, состоящие исключительно из кода, не будут проверены и будут автоматически оценены нулевой оценкой.\n",
    "6. Плагиат и любое недобросовестное цитирование приводит к обнулению оценки. "
   ]
  },
  {
   "cell_type": "code",
   "execution_count": 42,
   "metadata": {
    "ExecuteTime": {
     "end_time": "2022-10-02T18:07:04.186506Z",
     "start_time": "2022-10-02T18:07:04.156170Z"
    }
   },
   "outputs": [],
   "source": [
    "# !pip install -r requirements.txt"
   ]
  },
  {
   "cell_type": "code",
   "execution_count": 1,
   "metadata": {
    "ExecuteTime": {
     "end_time": "2022-10-02T11:04:51.344502Z",
     "start_time": "2022-10-02T11:04:51.340678Z"
    },
    "colab": {},
    "colab_type": "code",
    "id": "09cqK5nbSkfo",
    "jupyter": {
     "outputs_hidden": true
    }
   },
   "outputs": [],
   "source": [
    "# !unzip sentiment-analysis-in-russian.zip"
   ]
  },
  {
   "cell_type": "markdown",
   "metadata": {},
   "source": [
    "## Часть 1. [2 балла] Эксплоративный анализ \n",
    "1. Найдите топ-300 слов по частоте без учета стоп-слов.\n",
    "2. Найдите топ слов, характеризующих каждую тональность отдельно. \n",
    "\n",
    "[бонус] Постройте тематическую модель по данному корпусу.\n",
    "\n",
    "[бонус] Найдите еще что-то интересное в корпусе (что-то специфичное для данной темы)"
   ]
  },
  {
   "cell_type": "code",
   "execution_count": 68,
   "metadata": {
    "ExecuteTime": {
     "end_time": "2022-10-02T18:35:31.552852Z",
     "start_time": "2022-10-02T18:35:31.548506Z"
    }
   },
   "outputs": [],
   "source": [
    "import pandas as pd\n",
    "from nltk.corpus import stopwords\n",
    "from nltk.tokenize import word_tokenize\n",
    "from string import punctuation\n",
    "import matplotlib.pyplot as plt\n",
    "\n",
    "plt.style.use('ggplot')"
   ]
  },
  {
   "cell_type": "code",
   "execution_count": 69,
   "metadata": {
    "ExecuteTime": {
     "end_time": "2022-10-02T18:35:32.991862Z",
     "start_time": "2022-10-02T18:35:32.079137Z"
    },
    "colab": {},
    "colab_type": "code",
    "id": "RNK9lk9RSkg_"
   },
   "outputs": [
    {
     "data": {
      "text/html": [
       "<div>\n",
       "<style scoped>\n",
       "    .dataframe tbody tr th:only-of-type {\n",
       "        vertical-align: middle;\n",
       "    }\n",
       "\n",
       "    .dataframe tbody tr th {\n",
       "        vertical-align: top;\n",
       "    }\n",
       "\n",
       "    .dataframe thead th {\n",
       "        text-align: right;\n",
       "    }\n",
       "</style>\n",
       "<table border=\"1\" class=\"dataframe\">\n",
       "  <thead>\n",
       "    <tr style=\"text-align: right;\">\n",
       "      <th></th>\n",
       "      <th>text</th>\n",
       "      <th>id</th>\n",
       "      <th>sentiment</th>\n",
       "    </tr>\n",
       "  </thead>\n",
       "  <tbody>\n",
       "    <tr>\n",
       "      <th>0</th>\n",
       "      <td>Досудебное расследование по факту покупки ЕНПФ...</td>\n",
       "      <td>1945</td>\n",
       "      <td>negative</td>\n",
       "    </tr>\n",
       "    <tr>\n",
       "      <th>1</th>\n",
       "      <td>Медики рассказали о состоянии пострадавшего му...</td>\n",
       "      <td>1957</td>\n",
       "      <td>negative</td>\n",
       "    </tr>\n",
       "    <tr>\n",
       "      <th>2</th>\n",
       "      <td>Прошел почти год, как железнодорожным оператор...</td>\n",
       "      <td>1969</td>\n",
       "      <td>negative</td>\n",
       "    </tr>\n",
       "    <tr>\n",
       "      <th>3</th>\n",
       "      <td>По итогам 12 месяцев 2016 года на территории р...</td>\n",
       "      <td>1973</td>\n",
       "      <td>negative</td>\n",
       "    </tr>\n",
       "    <tr>\n",
       "      <th>4</th>\n",
       "      <td>Астана. 21 ноября. Kazakhstan Today - Агентств...</td>\n",
       "      <td>1975</td>\n",
       "      <td>negative</td>\n",
       "    </tr>\n",
       "  </tbody>\n",
       "</table>\n",
       "</div>"
      ],
      "text/plain": [
       "                                                text    id sentiment\n",
       "0  Досудебное расследование по факту покупки ЕНПФ...  1945  negative\n",
       "1  Медики рассказали о состоянии пострадавшего му...  1957  negative\n",
       "2  Прошел почти год, как железнодорожным оператор...  1969  negative\n",
       "3  По итогам 12 месяцев 2016 года на территории р...  1973  negative\n",
       "4  Астана. 21 ноября. Kazakhstan Today - Агентств...  1975  negative"
      ]
     },
     "execution_count": 69,
     "metadata": {},
     "output_type": "execute_result"
    }
   ],
   "source": [
    "## считаем данные\n",
    "\n",
    "df = pd.read_json('train.json')\n",
    "df_kaggle = pd.read_json('test.json')\n",
    "df.head()"
   ]
  },
  {
   "cell_type": "code",
   "execution_count": 70,
   "metadata": {
    "ExecuteTime": {
     "end_time": "2022-10-02T18:35:33.009775Z",
     "start_time": "2022-10-02T18:35:32.994299Z"
    }
   },
   "outputs": [
    {
     "data": {
      "text/plain": [
       "neutral     48\n",
       "positive    33\n",
       "negative    17\n",
       "Name: sentiment, dtype: int64"
      ]
     },
     "execution_count": 70,
     "metadata": {},
     "output_type": "execute_result"
    }
   ],
   "source": [
    "## посмотрим на распределение классов\n",
    "(df['sentiment'].value_counts(normalize=True) * 100).astype(int)"
   ]
  },
  {
   "cell_type": "code",
   "execution_count": 71,
   "metadata": {
    "ExecuteTime": {
     "end_time": "2022-10-02T18:35:33.082768Z",
     "start_time": "2022-10-02T18:35:33.073622Z"
    },
    "colab": {},
    "colab_type": "code",
    "id": "bcfq1-dNSkho"
   },
   "outputs": [
    {
     "data": {
      "text/plain": [
       "'Трое молодых людей ловко провернули аферу, получив дубликат sim-карты Ксеll и предоставив поддельную доверенность от нотариуса. В АТФБанке подвоха не заметили.\\n'"
      ]
     },
     "execution_count": 71,
     "metadata": {},
     "output_type": "execute_result"
    }
   ],
   "source": [
    "df.sample(1).iloc[0]['text']"
   ]
  },
  {
   "cell_type": "code",
   "execution_count": 72,
   "metadata": {
    "ExecuteTime": {
     "end_time": "2022-10-02T18:36:32.106357Z",
     "start_time": "2022-10-02T18:35:33.192953Z"
    }
   },
   "outputs": [],
   "source": [
    "## создадим колонку text_tokenized с очищенным от пунктуации и стоп слов текстом\n",
    "## и токенизируем его с помощью word_tokenize из библиотеки nltk\n",
    "\n",
    "noise = stopwords.words('russian') + list(punctuation) + ['«', '»', '``', '\\'\\'', '–', '—']\n",
    "\n",
    "## train\n",
    "df['text_tokenized'] = df['text'].str.lower().str.strip().apply(lambda x: word_tokenize(x, language='russian'))\n",
    "df['text_tokenized'] = df['text_tokenized'].apply(lambda x: [w for w in x if w not in noise])\n",
    "\n",
    "## test\n",
    "df_kaggle['text_tokenized'] = df_kaggle['text'].str.lower().str.strip().apply(lambda x: word_tokenize(x, language='russian'))\n",
    "df_kaggle['text_tokenized'] = df_kaggle['text_tokenized'].apply(lambda x: [w for w in x if w not in noise])\n"
   ]
  },
  {
   "cell_type": "markdown",
   "metadata": {},
   "source": [
    "## Топ 300 слов"
   ]
  },
  {
   "cell_type": "code",
   "execution_count": 73,
   "metadata": {
    "ExecuteTime": {
     "end_time": "2022-10-02T18:36:33.096276Z",
     "start_time": "2022-10-02T18:36:32.109200Z"
    }
   },
   "outputs": [
    {
     "data": {
      "text/plain": [
       "года        22765\n",
       "тенге       15326\n",
       "это         13620\n",
       "году        11196\n",
       "также       10934\n",
       "            ...  \n",
       "сентября     1160\n",
       "момент       1160\n",
       "являются     1158\n",
       "текущего     1155\n",
       "работе       1150\n",
       "Name: text_tokenized, Length: 300, dtype: int64"
      ]
     },
     "execution_count": 73,
     "metadata": {},
     "output_type": "execute_result"
    }
   ],
   "source": [
    "## найдем топ 300 слов по встречаемости во всех предложениях\n",
    "top300 = df['text_tokenized'].explode().value_counts().head(300)\n",
    "top20 = top300.head(20)\n",
    "top300"
   ]
  },
  {
   "cell_type": "code",
   "execution_count": 74,
   "metadata": {
    "ExecuteTime": {
     "end_time": "2022-10-02T18:36:33.481995Z",
     "start_time": "2022-10-02T18:36:33.099354Z"
    }
   },
   "outputs": [
    {
     "data": {
      "image/png": "[encoded data removed]",
      "text/plain": [
       "<Figure size 576x432 with 1 Axes>"
      ]
     },
     "metadata": {},
     "output_type": "display_data"
    }
   ],
   "source": [
    "## график топ 20 слов по встречаемости во всех предложениях\n",
    "\n",
    "plt.figure(figsize=(8, 6))\n",
    "plt.title('Top 20 words', weight='bold', size=16)\n",
    "plt.plot(top20)\n",
    "plt.xticks(top20.index, rotation=90)\n",
    "plt.show()"
   ]
  },
  {
   "cell_type": "markdown",
   "metadata": {},
   "source": [
    "**Вывод:**  топ слов показывает нам что речь в текстах идет возможно об экономике Казахстана 2016 года"
   ]
  },
  {
   "cell_type": "code",
   "execution_count": 75,
   "metadata": {
    "ExecuteTime": {
     "end_time": "2022-10-02T18:36:34.645313Z",
     "start_time": "2022-10-02T18:36:33.485745Z"
    }
   },
   "outputs": [
    {
     "name": "stderr",
     "output_type": "stream",
     "text": [
      "/var/folders/7r/3bj773_x3qv873q1y8mhs8yh0000gn/T/ipykernel_29677/1121671770.py:8: UserWarning: FixedFormatter should only be used together with FixedLocator\n",
      "  axs[i].set_xticklabels(df_sent.get(val).index, rotation=90)\n"
     ]
    },
    {
     "data": {
      "image/png": "[encoded data removed]",
      "text/plain": [
       "<Figure size 1440x576 with 3 Axes>"
      ]
     },
     "metadata": {},
     "output_type": "display_data"
    }
   ],
   "source": [
    "## топ 10 слов для каждой тональности\n",
    "\n",
    "df_sent = df.groupby(['sentiment']).apply(lambda x: x['text_tokenized'].explode().value_counts().head(10))\n",
    "\n",
    "fig, axs = plt.subplots(1, 3, figsize=(20, 8))\n",
    "for i, val in enumerate(df['sentiment'].unique()):\n",
    "    axs[i].plot(df_sent.get(val))\n",
    "    axs[i].set_xticklabels(df_sent.get(val).index, rotation=90)\n",
    "    axs[i].set_title(val.capitalize(), weight='bold', size=14)"
   ]
  },
  {
   "cell_type": "markdown",
   "metadata": {},
   "source": [
    "**Вывод:**  топ слов примено одинаковый во всех категориях, за исключением слова \"енпф\" в негативных текстах."
   ]
  },
  {
   "cell_type": "code",
   "execution_count": 76,
   "metadata": {
    "ExecuteTime": {
     "end_time": "2022-10-02T18:36:34.654315Z",
     "start_time": "2022-10-02T18:36:34.647487Z"
    }
   },
   "outputs": [
    {
     "data": {
      "text/plain": [
       "neutral     48%\n",
       "positive    33%\n",
       "negative    17%\n",
       "Name: sentiment, dtype: object"
      ]
     },
     "execution_count": 76,
     "metadata": {},
     "output_type": "execute_result"
    }
   ],
   "source": [
    "(df['sentiment'].value_counts(normalize=True) * 100).astype(int).apply(lambda x: f'{x}%')"
   ]
  },
  {
   "cell_type": "markdown",
   "metadata": {},
   "source": [
    "## Часть 2. [2 балла] Модели представления слов \n",
    "Обучите модель представления слов (word2vec, GloVe, fastText или любую другую) на материале корпуса.\n",
    "1. Продемонстрируйте, как работает поиск синонимов, ассоциаций, лишних слов в обученной модели. \n",
    "2. Визуализируйте топ-300 слов по частоте без учета стоп-слов (п. 1.1) с помощью TSNE или UMAP (https://umap-learn.readthedocs.io)."
   ]
  },
  {
   "cell_type": "code",
   "execution_count": 77,
   "metadata": {
    "ExecuteTime": {
     "end_time": "2022-10-02T18:36:34.663749Z",
     "start_time": "2022-10-02T18:36:34.656079Z"
    }
   },
   "outputs": [],
   "source": [
    "import gensim\n",
    "from gensim.models import word2vec\n",
    "from bokeh.models import ColumnDataSource, LabelSet\n",
    "from bokeh.plotting import figure, show, output_file\n",
    "from bokeh.io import output_notebook\n",
    "from nltk import FreqDist\n",
    "from tqdm.notebook import tqdm\n",
    "from sklearn.manifold import TSNE\n"
   ]
  },
  {
   "cell_type": "code",
   "execution_count": 78,
   "metadata": {
    "ExecuteTime": {
     "end_time": "2022-10-02T18:36:46.912707Z",
     "start_time": "2022-10-02T18:36:34.665557Z"
    }
   },
   "outputs": [],
   "source": [
    "## используем модель Word2Vec\n",
    "\n",
    "w2v = word2vec.Word2Vec(sentences=df['text_tokenized'])"
   ]
  },
  {
   "cell_type": "code",
   "execution_count": 79,
   "metadata": {
    "ExecuteTime": {
     "end_time": "2022-10-02T18:36:47.187576Z",
     "start_time": "2022-10-02T18:36:46.915223Z"
    }
   },
   "outputs": [
    {
     "name": "stdout",
     "output_type": "stream",
     "text": [
      "тесты\n",
      "трамваев :  0.898883044719696\n",
      "тестов :  0.893265426158905\n",
      "существовавших :  0.8892338871955872\n",
      "композиции :  0.8862087726593018\n",
      "павлодарских :  0.8838459849357605\n",
      "\n",
      "\n",
      "12\n",
      "17 :  0.9071356058120728\n",
      "18 :  0.9066873788833618\n",
      "11 :  0.8994946479797363\n",
      "19 :  0.8976907730102539\n",
      "14 :  0.8820249438285828\n",
      "\n",
      "\n",
      "газоснабжения\n",
      "захоронению :  0.8772619366645813\n",
      "электроснабжение :  0.8752131462097168\n",
      "канализации :  0.866553544998169\n",
      "локомотивной :  0.8567538857460022\n",
      "перебои :  0.8559655547142029\n",
      "\n",
      "\n"
     ]
    }
   ],
   "source": [
    "## посмотрим на поиск синоноимов в обученной модели\n",
    "\n",
    "for anything in df['text_tokenized'].explode().sample(3):\n",
    "    print(anything)\n",
    "    if anything in w2v.wv.key_to_index.keys():\n",
    "        for word, sim in w2v.wv.most_similar(positive=anything, topn=5):\n",
    "            print(word, ': ', sim)\n",
    "        print('\\n')"
   ]
  },
  {
   "cell_type": "code",
   "execution_count": 80,
   "metadata": {
    "ExecuteTime": {
     "end_time": "2022-10-02T18:36:47.194976Z",
     "start_time": "2022-10-02T18:36:47.190378Z"
    }
   },
   "outputs": [
    {
     "data": {
      "text/plain": [
       "'пенсия'"
      ]
     },
     "execution_count": 80,
     "metadata": {},
     "output_type": "execute_result"
    }
   ],
   "source": [
    "## посмотрим как работает определитель лишних слов\n",
    "\n",
    "w2v.wv.doesnt_match('казахстан корея пенсия'.split())"
   ]
  },
  {
   "cell_type": "code",
   "execution_count": 81,
   "metadata": {
    "ExecuteTime": {
     "end_time": "2022-10-02T18:36:47.207206Z",
     "start_time": "2022-10-02T18:36:47.202710Z"
    }
   },
   "outputs": [
    {
     "data": {
      "text/plain": [
       "'года'"
      ]
     },
     "execution_count": 81,
     "metadata": {},
     "output_type": "execute_result"
    }
   ],
   "source": [
    "## посмотрим как работает определитель лишних слов\n",
    "\n",
    "w2v.wv.doesnt_match('банк кредит года'.split())"
   ]
  },
  {
   "cell_type": "code",
   "execution_count": 82,
   "metadata": {
    "ExecuteTime": {
     "end_time": "2022-10-02T18:36:50.619897Z",
     "start_time": "2022-10-02T18:36:47.209121Z"
    }
   },
   "outputs": [
    {
     "data": {
      "application/vnd.jupyter.widget-view+json": {
       "model_id": "255534640ed94c2c907691d5d95dd81d",
       "version_major": 2,
       "version_minor": 0
      },
      "text/plain": [
       "  0%|          | 0/8263 [00:00<?, ?it/s]"
      ]
     },
     "metadata": {},
     "output_type": "display_data"
    }
   ],
   "source": [
    "## визуализируем топ-300 слов\n",
    "\n",
    "top_words = []\n",
    "\n",
    "## посчитаем частоту встречаемости каждого слова\n",
    "fd = FreqDist()\n",
    "for s in tqdm(df['text_tokenized']):\n",
    "    fd.update(s)\n",
    "\n",
    "for w in fd.most_common(300):\n",
    "    top_words.append(w[0])\n",
    "    \n",
    "top_words_vec = w2v.wv[top_words]\n",
    "\n",
    "## трансформирум слова в двумерные векторы для визуализации\n",
    "tsne = TSNE(n_components=2, random_state=0)\n",
    "top_words_tsne = tsne.fit_transform(top_words_vec)"
   ]
  },
  {
   "cell_type": "code",
   "execution_count": 83,
   "metadata": {
    "ExecuteTime": {
     "end_time": "2022-10-02T18:36:50.697963Z",
     "start_time": "2022-10-02T18:36:50.621896Z"
    },
    "scrolled": false
   },
   "outputs": [
    {
     "data": {
      "text/html": [
       "\n",
       "    <div class=\"bk-root\">\n",
       "        <a href=\"https://bokeh.org\" target=\"_blank\" class=\"bk-logo bk-logo-small bk-logo-notebook\"></a>\n",
       "        <span id=\"1094\">Loading BokehJS ...</span>\n",
       "    </div>"
      ]
     },
     "metadata": {},
     "output_type": "display_data"
    },
    {
     "data": {
      "application/javascript": [
       "\n",
       "(function(root) {\n",
       "  function now() {\n",
       "    return new Date();\n",
       "  }\n",
       "\n",
       "  const force = true;\n",
       "\n",
       "  if (typeof root._bokeh_onload_callbacks === \"undefined\" || force === true) {\n",
       "    root._bokeh_onload_callbacks = [];\n",
       "    root._bokeh_is_loading = undefined;\n",
       "  }\n",
       "\n",
       "  const JS_MIME_TYPE = 'application/javascript';\n",
       "  const HTML_MIME_TYPE = 'text/html';\n",
       "  const EXEC_MIME_TYPE = 'application/vnd.bokehjs_exec.v0+json';\n",
       "  const CLASS_NAME = 'output_bokeh rendered_html';\n",
       "\n",
       "  /**\n",
       "   * Render data to the DOM node\n",
       "   */\n",
       "  function render(props, node) {\n",
       "    const script = document.createElement(\"script\");\n",
       "    node.appendChild(script);\n",
       "  }\n",
       "\n",
       "  /**\n",
       "   * Handle when an output is cleared or removed\n",
       "   */\n",
       "  function handleClearOutput(event, handle) {\n",
       "    const cell = handle.cell;\n",
       "\n",
       "    const id = cell.output_area._bokeh_element_id;\n",
       "    const server_id = cell.output_area._bokeh_server_id;\n",
       "    // Clean up Bokeh references\n",
       "    if (id != null && id in Bokeh.index) {\n",
       "      Bokeh.index[id].model.document.clear();\n",
       "      delete Bokeh.index[id];\n",
       "    }\n",
       "\n",
       "    if (server_id !== undefined) {\n",
       "      // Clean up Bokeh references\n",
       "      const cmd_clean = \"from bokeh.io.state import curstate; print(curstate().uuid_to_server['\" + server_id + \"'].get_sessions()[0].document.roots[0]._id)\";\n",
       "      cell.notebook.kernel.execute(cmd_clean, {\n",
       "        iopub: {\n",
       "          output: function(msg) {\n",
       "            const id = msg.content.text.trim();\n",
       "            if (id in Bokeh.index) {\n",
       "              Bokeh.index[id].model.document.clear();\n",
       "              delete Bokeh.index[id];\n",
       "            }\n",
       "          }\n",
       "        }\n",
       "      });\n",
       "      // Destroy server and session\n",
       "      const cmd_destroy = \"import bokeh.io.notebook as ion; ion.destroy_server('\" + server_id + \"')\";\n",
       "      cell.notebook.kernel.execute(cmd_destroy);\n",
       "    }\n",
       "  }\n",
       "\n",
       "  /**\n",
       "   * Handle when a new output is added\n",
       "   */\n",
       "  function handleAddOutput(event, handle) {\n",
       "    const output_area = handle.output_area;\n",
       "    const output = handle.output;\n",
       "\n",
       "    // limit handleAddOutput to display_data with EXEC_MIME_TYPE content only\n",
       "    if ((output.output_type != \"display_data\") || (!Object.prototype.hasOwnProperty.call(output.data, EXEC_MIME_TYPE))) {\n",
       "      return\n",
       "    }\n",
       "\n",
       "    const toinsert = output_area.element.find(\".\" + CLASS_NAME.split(' ')[0]);\n",
       "\n",
       "    if (output.metadata[EXEC_MIME_TYPE][\"id\"] !== undefined) {\n",
       "      toinsert[toinsert.length - 1].firstChild.textContent = output.data[JS_MIME_TYPE];\n",
       "      // store reference to embed id on output_area\n",
       "      output_area._bokeh_element_id = output.metadata[EXEC_MIME_TYPE][\"id\"];\n",
       "    }\n",
       "    if (output.metadata[EXEC_MIME_TYPE][\"server_id\"] !== undefined) {\n",
       "      const bk_div = document.createElement(\"div\");\n",
       "      bk_div.innerHTML = output.data[HTML_MIME_TYPE];\n",
       "      const script_attrs = bk_div.children[0].attributes;\n",
       "      for (let i = 0; i < script_attrs.length; i++) {\n",
       "        toinsert[toinsert.length - 1].firstChild.setAttribute(script_attrs[i].name, script_attrs[i].value);\n",
       "        toinsert[toinsert.length - 1].firstChild.textContent = bk_div.children[0].textContent\n",
       "      }\n",
       "      // store reference to server id on output_area\n",
       "      output_area._bokeh_server_id = output.metadata[EXEC_MIME_TYPE][\"server_id\"];\n",
       "    }\n",
       "  }\n",
       "\n",
       "  function register_renderer(events, OutputArea) {\n",
       "\n",
       "    function append_mime(data, metadata, element) {\n",
       "      // create a DOM node to render to\n",
       "      const toinsert = this.create_output_subarea(\n",
       "        metadata,\n",
       "        CLASS_NAME,\n",
       "        EXEC_MIME_TYPE\n",
       "      );\n",
       "      this.keyboard_manager.register_events(toinsert);\n",
       "      // Render to node\n",
       "      const props = {data: data, metadata: metadata[EXEC_MIME_TYPE]};\n",
       "      render(props, toinsert[toinsert.length - 1]);\n",
       "      element.append(toinsert);\n",
       "      return toinsert\n",
       "    }\n",
       "\n",
       "    /* Handle when an output is cleared or removed */\n",
       "    events.on('clear_output.CodeCell', handleClearOutput);\n",
       "    events.on('delete.Cell', handleClearOutput);\n",
       "\n",
       "    /* Handle when a new output is added */\n",
       "    events.on('output_added.OutputArea', handleAddOutput);\n",
       "\n",
       "    /**\n",
       "     * Register the mime type and append_mime function with output_area\n",
       "     */\n",
       "    OutputArea.prototype.register_mime_type(EXEC_MIME_TYPE, append_mime, {\n",
       "      /* Is output safe? */\n",
       "      safe: true,\n",
       "      /* Index of renderer in `output_area.display_order` */\n",
       "      index: 0\n",
       "    });\n",
       "  }\n",
       "\n",
       "  // register the mime type if in Jupyter Notebook environment and previously unregistered\n",
       "  if (root.Jupyter !== undefined) {\n",
       "    const events = require('base/js/events');\n",
       "    const OutputArea = require('notebook/js/outputarea').OutputArea;\n",
       "\n",
       "    if (OutputArea.prototype.mime_types().indexOf(EXEC_MIME_TYPE) == -1) {\n",
       "      register_renderer(events, OutputArea);\n",
       "    }\n",
       "  }\n",
       "\n",
       "  \n",
       "  if (typeof (root._bokeh_timeout) === \"undefined\" || force === true) {\n",
       "    root._bokeh_timeout = Date.now() + 5000;\n",
       "    root._bokeh_failed_load = false;\n",
       "  }\n",
       "\n",
       "  const NB_LOAD_WARNING = {'data': {'text/html':\n",
       "     \"<div style='background-color: #fdd'>\\n\"+\n",
       "     \"<p>\\n\"+\n",
       "     \"BokehJS does not appear to have successfully loaded. If loading BokehJS from CDN, this \\n\"+\n",
       "     \"may be due to a slow or bad network connection. Possible fixes:\\n\"+\n",
       "     \"</p>\\n\"+\n",
       "     \"<ul>\\n\"+\n",
       "     \"<li>re-rerun `output_notebook()` to attempt to load from CDN again, or</li>\\n\"+\n",
       "     \"<li>use INLINE resources instead, as so:</li>\\n\"+\n",
       "     \"</ul>\\n\"+\n",
       "     \"<code>\\n\"+\n",
       "     \"from bokeh.resources import INLINE\\n\"+\n",
       "     \"output_notebook(resources=INLINE)\\n\"+\n",
       "     \"</code>\\n\"+\n",
       "     \"</div>\"}};\n",
       "\n",
       "  function display_loaded() {\n",
       "    const el = document.getElementById(\"1094\");\n",
       "    if (el != null) {\n",
       "      el.textContent = \"BokehJS is loading...\";\n",
       "    }\n",
       "    if (root.Bokeh !== undefined) {\n",
       "      if (el != null) {\n",
       "        el.textContent = \"BokehJS \" + root.Bokeh.version + \" successfully loaded.\";\n",
       "      }\n",
       "    } else if (Date.now() < root._bokeh_timeout) {\n",
       "      setTimeout(display_loaded, 100)\n",
       "    }\n",
       "  }\n",
       "\n",
       "\n",
       "  function run_callbacks() {\n",
       "    try {\n",
       "      root._bokeh_onload_callbacks.forEach(function(callback) {\n",
       "        if (callback != null)\n",
       "          callback();\n",
       "      });\n",
       "    } finally {\n",
       "      delete root._bokeh_onload_callbacks\n",
       "    }\n",
       "    console.debug(\"Bokeh: all callbacks have finished\");\n",
       "  }\n",
       "\n",
       "  function load_libs(css_urls, js_urls, callback) {\n",
       "    if (css_urls == null) css_urls = [];\n",
       "    if (js_urls == null) js_urls = [];\n",
       "\n",
       "    root._bokeh_onload_callbacks.push(callback);\n",
       "    if (root._bokeh_is_loading > 0) {\n",
       "      console.debug(\"Bokeh: BokehJS is being loaded, scheduling callback at\", now());\n",
       "      return null;\n",
       "    }\n",
       "    if (js_urls == null || js_urls.length === 0) {\n",
       "      run_callbacks();\n",
       "      return null;\n",
       "    }\n",
       "    console.debug(\"Bokeh: BokehJS not loaded, scheduling load and callback at\", now());\n",
       "    root._bokeh_is_loading = css_urls.length + js_urls.length;\n",
       "\n",
       "    function on_load() {\n",
       "      root._bokeh_is_loading--;\n",
       "      if (root._bokeh_is_loading === 0) {\n",
       "        console.debug(\"Bokeh: all BokehJS libraries/stylesheets loaded\");\n",
       "        run_callbacks()\n",
       "      }\n",
       "    }\n",
       "\n",
       "    function on_error(url) {\n",
       "      console.error(\"failed to load \" + url);\n",
       "    }\n",
       "\n",
       "    for (let i = 0; i < css_urls.length; i++) {\n",
       "      const url = css_urls[i];\n",
       "      const element = document.createElement(\"link\");\n",
       "      element.onload = on_load;\n",
       "      element.onerror = on_error.bind(null, url);\n",
       "      element.rel = \"stylesheet\";\n",
       "      element.type = \"text/css\";\n",
       "      element.href = url;\n",
       "      console.debug(\"Bokeh: injecting link tag for BokehJS stylesheet: \", url);\n",
       "      document.body.appendChild(element);\n",
       "    }\n",
       "\n",
       "    for (let i = 0; i < js_urls.length; i++) {\n",
       "      const url = js_urls[i];\n",
       "      const element = document.createElement('script');\n",
       "      element.onload = on_load;\n",
       "      element.onerror = on_error.bind(null, url);\n",
       "      element.async = false;\n",
       "      element.src = url;\n",
       "      console.debug(\"Bokeh: injecting script tag for BokehJS library: \", url);\n",
       "      document.head.appendChild(element);\n",
       "    }\n",
       "  };\n",
       "\n",
       "  function inject_raw_css(css) {\n",
       "    const element = document.createElement(\"style\");\n",
       "    element.appendChild(document.createTextNode(css));\n",
       "    document.body.appendChild(element);\n",
       "  }\n",
       "\n",
       "  \n",
       "  const js_urls = [\"https://cdn.bokeh.org/bokeh/release/bokeh-2.4.1.min.js\", \"https://cdn.bokeh.org/bokeh/release/bokeh-gl-2.4.1.min.js\", \"https://cdn.bokeh.org/bokeh/release/bokeh-widgets-2.4.1.min.js\", \"https://cdn.bokeh.org/bokeh/release/bokeh-tables-2.4.1.min.js\", \"https://cdn.bokeh.org/bokeh/release/bokeh-mathjax-2.4.1.min.js\"];\n",
       "  const css_urls = [];\n",
       "  \n",
       "\n",
       "  const inline_js = [\n",
       "    function(Bokeh) {\n",
       "      Bokeh.set_log_level(\"info\");\n",
       "    },\n",
       "    function(Bokeh) {\n",
       "    \n",
       "    \n",
       "    }\n",
       "  ];\n",
       "\n",
       "  function run_inline_js() {\n",
       "    \n",
       "    if (root.Bokeh !== undefined || force === true) {\n",
       "      \n",
       "    for (let i = 0; i < inline_js.length; i++) {\n",
       "      inline_js[i].call(root, root.Bokeh);\n",
       "    }\n",
       "    if (force === true) {\n",
       "        display_loaded();\n",
       "      }} else if (Date.now() < root._bokeh_timeout) {\n",
       "      setTimeout(run_inline_js, 100);\n",
       "    } else if (!root._bokeh_failed_load) {\n",
       "      console.log(\"Bokeh: BokehJS failed to load within specified timeout.\");\n",
       "      root._bokeh_failed_load = true;\n",
       "    } else if (force !== true) {\n",
       "      const cell = $(document.getElementById(\"1094\")).parents('.cell').data().cell;\n",
       "      cell.output_area.append_execute_result(NB_LOAD_WARNING)\n",
       "    }\n",
       "\n",
       "  }\n",
       "\n",
       "  if (root._bokeh_is_loading === 0) {\n",
       "    console.debug(\"Bokeh: BokehJS loaded, going straight to plotting\");\n",
       "    run_inline_js();\n",
       "  } else {\n",
       "    load_libs(css_urls, js_urls, function() {\n",
       "      console.debug(\"Bokeh: BokehJS plotting callback run at\", now());\n",
       "      run_inline_js();\n",
       "    });\n",
       "  }\n",
       "}(window));"
      ],
      "application/vnd.bokehjs_load.v0+json": "\n(function(root) {\n  function now() {\n    return new Date();\n  }\n\n  const force = true;\n\n  if (typeof root._bokeh_onload_callbacks === \"undefined\" || force === true) {\n    root._bokeh_onload_callbacks = [];\n    root._bokeh_is_loading = undefined;\n  }\n\n  \n\n  \n  if (typeof (root._bokeh_timeout) === \"undefined\" || force === true) {\n    root._bokeh_timeout = Date.now() + 5000;\n    root._bokeh_failed_load = false;\n  }\n\n  const NB_LOAD_WARNING = {'data': {'text/html':\n     \"<div style='background-color: #fdd'>\\n\"+\n     \"<p>\\n\"+\n     \"BokehJS does not appear to have successfully loaded. If loading BokehJS from CDN, this \\n\"+\n     \"may be due to a slow or bad network connection. Possible fixes:\\n\"+\n     \"</p>\\n\"+\n     \"<ul>\\n\"+\n     \"<li>re-rerun `output_notebook()` to attempt to load from CDN again, or</li>\\n\"+\n     \"<li>use INLINE resources instead, as so:</li>\\n\"+\n     \"</ul>\\n\"+\n     \"<code>\\n\"+\n     \"from bokeh.resources import INLINE\\n\"+\n     \"output_notebook(resources=INLINE)\\n\"+\n     \"</code>\\n\"+\n     \"</div>\"}};\n\n  function display_loaded() {\n    const el = document.getElementById(\"1094\");\n    if (el != null) {\n      el.textContent = \"BokehJS is loading...\";\n    }\n    if (root.Bokeh !== undefined) {\n      if (el != null) {\n        el.textContent = \"BokehJS \" + root.Bokeh.version + \" successfully loaded.\";\n      }\n    } else if (Date.now() < root._bokeh_timeout) {\n      setTimeout(display_loaded, 100)\n    }\n  }\n\n\n  function run_callbacks() {\n    try {\n      root._bokeh_onload_callbacks.forEach(function(callback) {\n        if (callback != null)\n          callback();\n      });\n    } finally {\n      delete root._bokeh_onload_callbacks\n    }\n    console.debug(\"Bokeh: all callbacks have finished\");\n  }\n\n  function load_libs(css_urls, js_urls, callback) {\n    if (css_urls == null) css_urls = [];\n    if (js_urls == null) js_urls = [];\n\n    root._bokeh_onload_callbacks.push(callback);\n    if (root._bokeh_is_loading > 0) {\n      console.debug(\"Bokeh: BokehJS is being loaded, scheduling callback at\", now());\n      return null;\n    }\n    if (js_urls == null || js_urls.length === 0) {\n      run_callbacks();\n      return null;\n    }\n    console.debug(\"Bokeh: BokehJS not loaded, scheduling load and callback at\", now());\n    root._bokeh_is_loading = css_urls.length + js_urls.length;\n\n    function on_load() {\n      root._bokeh_is_loading--;\n      if (root._bokeh_is_loading === 0) {\n        console.debug(\"Bokeh: all BokehJS libraries/stylesheets loaded\");\n        run_callbacks()\n      }\n    }\n\n    function on_error(url) {\n      console.error(\"failed to load \" + url);\n    }\n\n    for (let i = 0; i < css_urls.length; i++) {\n      const url = css_urls[i];\n      const element = document.createElement(\"link\");\n      element.onload = on_load;\n      element.onerror = on_error.bind(null, url);\n      element.rel = \"stylesheet\";\n      element.type = \"text/css\";\n      element.href = url;\n      console.debug(\"Bokeh: injecting link tag for BokehJS stylesheet: \", url);\n      document.body.appendChild(element);\n    }\n\n    for (let i = 0; i < js_urls.length; i++) {\n      const url = js_urls[i];\n      const element = document.createElement('script');\n      element.onload = on_load;\n      element.onerror = on_error.bind(null, url);\n      element.async = false;\n      element.src = url;\n      console.debug(\"Bokeh: injecting script tag for BokehJS library: \", url);\n      document.head.appendChild(element);\n    }\n  };\n\n  function inject_raw_css(css) {\n    const element = document.createElement(\"style\");\n    element.appendChild(document.createTextNode(css));\n    document.body.appendChild(element);\n  }\n\n  \n  const js_urls = [\"https://cdn.bokeh.org/bokeh/release/bokeh-2.4.1.min.js\", \"https://cdn.bokeh.org/bokeh/release/bokeh-gl-2.4.1.min.js\", \"https://cdn.bokeh.org/bokeh/release/bokeh-widgets-2.4.1.min.js\", \"https://cdn.bokeh.org/bokeh/release/bokeh-tables-2.4.1.min.js\", \"https://cdn.bokeh.org/bokeh/release/bokeh-mathjax-2.4.1.min.js\"];\n  const css_urls = [];\n  \n\n  const inline_js = [\n    function(Bokeh) {\n      Bokeh.set_log_level(\"info\");\n    },\n    function(Bokeh) {\n    \n    \n    }\n  ];\n\n  function run_inline_js() {\n    \n    if (root.Bokeh !== undefined || force === true) {\n      \n    for (let i = 0; i < inline_js.length; i++) {\n      inline_js[i].call(root, root.Bokeh);\n    }\n    if (force === true) {\n        display_loaded();\n      }} else if (Date.now() < root._bokeh_timeout) {\n      setTimeout(run_inline_js, 100);\n    } else if (!root._bokeh_failed_load) {\n      console.log(\"Bokeh: BokehJS failed to load within specified timeout.\");\n      root._bokeh_failed_load = true;\n    } else if (force !== true) {\n      const cell = $(document.getElementById(\"1094\")).parents('.cell').data().cell;\n      cell.output_area.append_execute_result(NB_LOAD_WARNING)\n    }\n\n  }\n\n  if (root._bokeh_is_loading === 0) {\n    console.debug(\"Bokeh: BokehJS loaded, going straight to plotting\");\n    run_inline_js();\n  } else {\n    load_libs(css_urls, js_urls, function() {\n      console.debug(\"Bokeh: BokehJS plotting callback run at\", now());\n      run_inline_js();\n    });\n  }\n}(window));"
     },
     "metadata": {},
     "output_type": "display_data"
    },
    {
     "data": {
      "text/html": [
       "\n",
       "\n",
       "\n",
       "\n",
       "\n",
       "\n",
       "  <div class=\"bk-root\" id=\"35b9d19b-32df-40a0-85cf-97244cd1df5a\" data-root-id=\"1095\"></div>\n"
      ]
     },
     "metadata": {},
     "output_type": "display_data"
    },
    {
     "data": {
      "application/javascript": [
       "(function(root) {\n",
       "  function embed_document(root) {\n",
       "    \n",
       "  const docs_json = {\"86306499-5fac-49f9-ab1d-f9bbf582e6f2\":{\"defs\":[],\"roots\":{\"references\":[{\"attributes\":{\"below\":[{\"id\":\"1106\"}],\"center\":[{\"id\":\"1109\"},{\"id\":\"1113\"},{\"id\":\"1130\"}],\"left\":[{\"id\":\"1110\"}],\"renderers\":[{\"id\":\"1128\"}],\"title\":{\"id\":\"1096\"},\"toolbar\":{\"id\":\"1118\"},\"toolbar_location\":\"above\",\"x_range\":{\"id\":\"1098\"},\"x_scale\":{\"id\":\"1102\"},\"y_range\":{\"id\":\"1100\"},\"y_scale\":{\"id\":\"1104\"}},\"id\":\"1095\",\"subtype\":\"Figure\",\"type\":\"Plot\"},{\"attributes\":{\"coordinates\":null,\"group\":null,\"text\":\"word2vec T-SNE (eng model, top1000 words)\"},\"id\":\"1096\",\"type\":\"Title\"},{\"attributes\":{},\"id\":\"1114\",\"type\":\"PanTool\"},{\"attributes\":{},\"id\":\"1143\",\"type\":\"BasicTickFormatter\"},{\"attributes\":{},\"id\":\"1107\",\"type\":\"BasicTicker\"},{\"attributes\":{},\"id\":\"1146\",\"type\":\"BasicTickFormatter\"},{\"attributes\":{},\"id\":\"1147\",\"type\":\"AllLabels\"},{\"attributes\":{\"coordinates\":null,\"data_source\":{\"id\":\"1123\"},\"glyph\":{\"id\":\"1125\"},\"group\":null,\"hover_glyph\":null,\"muted_glyph\":{\"id\":\"1127\"},\"nonselection_glyph\":{\"id\":\"1126\"},\"view\":{\"id\":\"1129\"}},\"id\":\"1128\",\"type\":\"GlyphRenderer\"},{\"attributes\":{},\"id\":\"1149\",\"type\":\"Selection\"},{\"attributes\":{\"axis\":{\"id\":\"1110\"},\"coordinates\":null,\"dimension\":1,\"group\":null,\"ticker\":null},\"id\":\"1113\",\"type\":\"Grid\"},{\"attributes\":{},\"id\":\"1102\",\"type\":\"LinearScale\"},{\"attributes\":{},\"id\":\"1104\",\"type\":\"LinearScale\"},{\"attributes\":{},\"id\":\"1098\",\"type\":\"DataRange1d\"},{\"attributes\":{\"source\":{\"id\":\"1123\"}},\"id\":\"1129\",\"type\":\"CDSView\"},{\"attributes\":{},\"id\":\"1144\",\"type\":\"AllLabels\"},{\"attributes\":{},\"id\":\"1148\",\"type\":\"UnionRenderers\"},{\"attributes\":{\"coordinates\":null,\"group\":null,\"source\":{\"id\":\"1123\"},\"text\":{\"field\":\"names\"},\"text_align\":{\"value\":\"center\"},\"text_color\":{\"value\":\"#555555\"},\"text_font_size\":{\"value\":\"8pt\"},\"x\":{\"field\":\"x1\"},\"y\":{\"field\":\"x2\"},\"y_offset\":{\"value\":6}},\"id\":\"1130\",\"type\":\"LabelSet\"},{\"attributes\":{\"coordinates\":null,\"formatter\":{\"id\":\"1143\"},\"group\":null,\"major_label_policy\":{\"id\":\"1144\"},\"ticker\":{\"id\":\"1111\"}},\"id\":\"1110\",\"type\":\"LinearAxis\"},{\"attributes\":{},\"id\":\"1115\",\"type\":\"WheelZoomTool\"},{\"attributes\":{\"fill_color\":{\"value\":\"#1f77b4\"},\"line_color\":{\"value\":\"#1f77b4\"},\"size\":{\"value\":8},\"x\":{\"field\":\"x1\"},\"y\":{\"field\":\"x2\"}},\"id\":\"1125\",\"type\":\"Scatter\"},{\"attributes\":{},\"id\":\"1100\",\"type\":\"DataRange1d\"},{\"attributes\":{\"fill_alpha\":{\"value\":0.2},\"fill_color\":{\"value\":\"#1f77b4\"},\"hatch_alpha\":{\"value\":0.2},\"line_alpha\":{\"value\":0.2},\"line_color\":{\"value\":\"#1f77b4\"},\"size\":{\"value\":8},\"x\":{\"field\":\"x1\"},\"y\":{\"field\":\"x2\"}},\"id\":\"1127\",\"type\":\"Scatter\"},{\"attributes\":{\"tools\":[{\"id\":\"1114\"},{\"id\":\"1115\"},{\"id\":\"1116\"},{\"id\":\"1117\"}]},\"id\":\"1118\",\"type\":\"Toolbar\"},{\"attributes\":{\"axis\":{\"id\":\"1106\"},\"coordinates\":null,\"group\":null,\"ticker\":null},\"id\":\"1109\",\"type\":\"Grid\"},{\"attributes\":{},\"id\":\"1111\",\"type\":\"BasicTicker\"},{\"attributes\":{\"fill_alpha\":{\"value\":0.1},\"fill_color\":{\"value\":\"#1f77b4\"},\"hatch_alpha\":{\"value\":0.1},\"line_alpha\":{\"value\":0.1},\"line_color\":{\"value\":\"#1f77b4\"},\"size\":{\"value\":8},\"x\":{\"field\":\"x1\"},\"y\":{\"field\":\"x2\"}},\"id\":\"1126\",\"type\":\"Scatter\"},{\"attributes\":{\"coordinates\":null,\"formatter\":{\"id\":\"1146\"},\"group\":null,\"major_label_policy\":{\"id\":\"1147\"},\"ticker\":{\"id\":\"1107\"}},\"id\":\"1106\",\"type\":\"LinearAxis\"},{\"attributes\":{},\"id\":\"1116\",\"type\":\"ResetTool\"},{\"attributes\":{},\"id\":\"1117\",\"type\":\"SaveTool\"},{\"attributes\":{\"data\":{\"names\":[\"\\u0433\\u043e\\u0434\\u0430\",\"\\u0442\\u0435\\u043d\\u0433\\u0435\",\"\\u044d\\u0442\\u043e\",\"\\u0433\\u043e\\u0434\\u0443\",\"\\u0442\\u0430\\u043a\\u0436\\u0435\",\"\\u043a\\u0430\\u0437\\u0430\\u0445\\u0441\\u0442\\u0430\\u043d\\u0430\",\"\\u0430\\u043e\",\"\\u043a\\u0430\\u0437\\u0430\\u0445\\u0441\\u0442\\u0430\\u043d\",\"2016\",\"\\u0440\\u043a\",\"\\u043e\\u0431\\u043b\\u0430\\u0441\\u0442\\u0438\",\"\\u0440\\u0435\\u0441\\u043f\\u0443\\u0431\\u043b\\u0438\\u043a\\u0438\",\"1\",\"\\u0440\\u0430\\u0437\\u0432\\u0438\\u0442\\u0438\\u044f\",\"\\u043b\\u0435\\u0442\",\"\\u0432\\u0440\\u0435\\u043c\\u044f\",\"\\u043a\\u043e\\u0442\\u043e\\u0440\\u044b\\u0435\",\"\\u043c\\u043b\\u0440\\u0434\",\"\\u0430\\u043b\\u043c\\u0430\\u0442\\u044b\",\"\\u043a\\u0430\\u0437\\u0430\\u0445\\u0441\\u0442\\u0430\\u043d\\u0435\",\"\\u0431\\u0443\\u0434\\u0443\\u0442\",\"2015\",\"\\u0441\\u0442\\u0440\\u0430\\u043d\\u044b\",\"\\u0442\\u043e\\u043e\",\"\\u043a\\u043e\\u043c\\u043f\\u0430\\u043d\\u0438\\u0438\",\"\\u0431\\u0430\\u043d\\u043a\\u0430\",\"\\u044d\\u043a\\u043e\\u043d\\u043e\\u043c\\u0438\\u043a\\u0438\",\"\\u044f\\u0432\\u043b\\u044f\\u0435\\u0442\\u0441\\u044f\",\"\\u0440\\u0430\\u043c\\u043a\\u0430\\u0445\",\"\\u0435\\u043d\\u043f\\u0444\",\"\\u043d\\u0430\\u0437\\u0430\\u0434\",\"\\u0433\\u043e\\u0434\",\"\\u0433\\u043e\\u0441\\u0443\\u0434\\u0430\\u0440\\u0441\\u0442\\u0432\\u0430\",\"2017\",\"\\u0441\\u0435\\u0433\\u043e\\u0434\\u043d\\u044f\",\"\\u0431\\u0430\\u043d\\u043a\",\"2\",\"10\",\"\\u043a\\u043e\\u0442\\u043e\\u0440\\u044b\\u0439\",\"\\u0441\\u0440\\u0435\\u0434\\u0441\\u0442\\u0432\",\"\\u044f\\u043d\\u0432\\u0430\\u0440\\u044f\",\"\\u0442\\u044b\\u0441.\",\"\\u043d\\u0435\\u043e\\u0431\\u0445\\u043e\\u0434\\u0438\\u043c\\u043e\",\"\\u0430\\u0441\\u0442\\u0430\\u043d\\u0430\",\"\\u0433.\",\"\\u043d\\u0430\\u0446\\u0438\\u043e\\u043d\\u0430\\u043b\\u044c\\u043d\\u043e\\u0439\",\"\\u0443\\u043f\\u0440\\u0430\\u0432\\u043b\\u0435\\u043d\\u0438\\u044f\",\"\\u0442\\u044b\\u0441\\u044f\\u0447\",\"\\u043f\\u0440\\u0435\\u0437\\u0438\\u0434\\u0435\\u043d\\u0442\\u0430\",\"3\",\"\\u043c\\u043b\\u043d\",\"\\u0440\\u0430\\u0431\\u043e\\u0442\\u044b\",\"5\",\"\\u0434\\u0435\\u043a\\u0430\\u0431\\u0440\\u044f\",\"\\u0437\\u0430\\u043c\\u0435\\u0441\\u0442\\u0438\\u0442\\u0435\\u043b\\u044c\",\"\\u0434\\u0438\\u0440\\u0435\\u043a\\u0442\\u043e\\u0440\",\"\\u043a\\u043e\\u043c\\u043f\\u0430\\u043d\\u0438\\u044f\",\"\\u0444\\u043e\\u043d\\u0434\\u0430\",\"\\u043e\\u0442\\u043c\\u0435\\u0442\\u0438\\u043b\",\"\\u0447\\u0438\\u0441\\u043b\\u0435\",\"\\u043d\\u0443\\u0436\\u043d\\u043e\",\"\\u0434\\u0435\\u043d\\u044c\",\"\\u0440\\u0435\\u0430\\u043b\\u0438\\u0437\\u0430\\u0446\\u0438\\u0438\",\"\\u043f\\u0440\\u043e\\u0435\\u043a\\u0442\\u043e\\u0432\",\"\\u0433\\u043b\\u0430\\u0432\\u0430\",\"\\u043a\\u0440\\u043e\\u043c\\u0435\",\"\\u043f\\u0440\\u0435\\u0437\\u0438\\u0434\\u0435\\u043d\\u0442\",\"\\u043f\\u0440\\u043e\\u0438\\u0437\\u0432\\u043e\\u0434\\u0441\\u0442\\u0432\\u0430\",\"\\u0434\\u0435\\u044f\\u0442\\u0435\\u043b\\u044c\\u043d\\u043e\\u0441\\u0442\\u0438\",\"\\u043f\\u0440\\u043e\\u0433\\u0440\\u0430\\u043c\\u043c\\u044b\",\"\\u0430\\u0432\\u0442\\u043e\\u043c\\u043e\\u0431\\u0438\\u043b\\u0435\\u0439\",\"\\u043e\\u0447\\u0435\\u043d\\u044c\",\"\\u043f\\u0440\\u0430\\u0432\\u043b\\u0435\\u043d\\u0438\\u044f\",\"4\",\"\\u0441\\u0432\\u044f\\u0437\\u0438\",\"\\u0433\\u043e\\u0440\\u043e\\u0434\\u0430\",\"\\u043d\\u043e\\u0432\\u044b\\u0445\",\"\\u0440\\u0430\\u0437\\u0432\\u0438\\u0442\\u0438\\u044e\",\"\\u043f\\u0440\\u0435\\u0434\\u0441\\u0435\\u0434\\u0430\\u0442\\u0435\\u043b\\u044c\",\"\\u0441\\u0442\\u0440\\u0430\\u043d\",\"\\u043c\\u0438\\u043d\\u0438\\u0441\\u0442\\u0435\\u0440\\u0441\\u0442\\u0432\\u0430\",\"\\u0433\\u043e\\u0434\\u044b\",\"\\u0445\\u043e\\u0434\\u0435\",\"\\u043d\\u0430\\u0446\\u0438\\u043e\\u043d\\u0430\\u043b\\u044c\\u043d\\u043e\\u0433\\u043e\",\"\\u043f\\u0440\\u043e\\u0435\\u043a\\u0442\\u0430\",\"\\u0440\\u043e\\u0441\\u0441\\u0438\\u0438\",\"\\u0441\\u043b\\u043e\\u0432\\u0430\\u043c\",\"\\u043a\\u043e\\u043c\\u043f\\u0430\\u043d\\u0438\\u0439\",\"\\u043c\\u043b\\u0440\\u0434.\",\"\\u0431\\u0438\\u0437\\u043d\\u0435\\u0441\\u0430\",\"\\u0447\\u0435\\u043b\\u043e\\u0432\\u0435\\u043a\",\"\\u043a\\u043e\\u043c\\u0438\\u0442\\u0435\\u0442\\u0430\",\"\\u043f\\u0440\\u043e\\u0434\\u0443\\u043a\\u0446\\u0438\\u0438\",\"\\u0441\\u0447\\u0435\\u0442\",\"\\u0434\\u0435\\u043f\\u0430\\u0440\\u0442\\u0430\\u043c\\u0435\\u043d\\u0442\\u0430\",\"\\u0434\\u043e\\u043b\\u043b\\u0430\\u0440\\u043e\\u0432\",\"\\u0441\\u043a\\u0430\\u0437\\u0430\\u043b\",\"\\u043d\\u0430\\u0437\\u0430\\u0440\\u0431\\u0430\\u0435\\u0432\",\"\\u0442\\u043e\\u043d\\u043d\",\"\\u043e\\u0434\\u043d\\u0430\\u043a\\u043e\",\"\\u0432\\u043e\\u043f\\u0440\\u043e\\u0441\",\"\\u043f\\u0440\\u0435\\u0434\\u0441\\u0435\\u0434\\u0430\\u0442\\u0435\\u043b\\u044f\",\"\\u0431\\u0435\\u0437\\u043e\\u043f\\u0430\\u0441\\u043d\\u043e\\u0441\\u0442\\u0438\",\"\\u0434\\u043e\\u043b\\u0436\\u043d\\u044b\",\"\\u0438\\u0442\\u043e\\u0433\\u0430\\u043c\",\"\\u0440\\u0430\\u043d\\u0435\\u0435\",\"\\u043a\\u043e\\u0442\\u043e\\u0440\\u044b\\u0445\",\"\\u043f\\u0440\\u0430\\u0432\\u0438\\u0442\\u0435\\u043b\\u044c\\u0441\\u0442\\u0432\\u0430\",\"20\",\"\\u0438\\u043d\\u0444\\u043e\\u0440\\u043c\\u0430\\u0446\\u0438\\u0438\",\"\\u043c\\u0438\\u043d\\u0438\\u0441\\u0442\\u0440\",\"\\u0441\\u0440\\u0435\\u0434\\u0441\\u0442\\u0432\\u0430\",\"\\u0441\\u0443\\u043c\\u043c\\u0443\",\"\\u043d\\u043e\\u044f\\u0431\\u0440\\u044f\",\"\\u0441\\u043e\\u0432\\u0435\\u0442\\u0430\",\"\\u0441\\u0448\\u0430\",\"\\u043d\\u0430\\u0441\\u0435\\u043b\\u0435\\u043d\\u0438\\u044f\",\"\\u0440\\u0430\\u0437\\u0432\\u0438\\u0442\\u0438\\u0435\",\"\\u043f\\u0440\\u043e\\u0435\\u043a\\u0442\",\"\\u0443\\u0447\\u0430\\u0441\\u0442\\u0438\\u0435\",\"\\u0440\\u0430\\u0431\\u043e\\u0442\\u0443\",\"\\u0441\\u0438\\u0441\\u0442\\u0435\\u043c\\u044b\",\"2014\",\"\\u0440\\u043e\\u0441\\u0442\",\"\\u0441\\u043e\\u043e\\u0431\\u0449\\u0438\\u043b\",\"\\u043a\\u043e\\u0442\\u043e\\u0440\\u0430\\u044f\",\"\\u0441\\u0442\\u0440\\u043e\\u0438\\u0442\\u0435\\u043b\\u044c\\u0441\\u0442\\u0432\\u043e\",\"\\u043f\\u043e\\u044d\\u0442\\u043e\\u043c\\u0443\",\"6\",\"\\u0441\\u0444\\u0435\\u0440\\u0435\",\"\\u0434\\u0435\\u043d\\u044c\\u0433\\u0438\",\"\\u0441\\u043e\\u0433\\u043b\\u0430\\u0441\\u043d\\u043e\",\"100\",\"\\u0441\\u0442\\u0440\\u0430\\u043d\\u0435\",\"30\",\"\\u043f\\u0435\\u0440\\u0435\\u0434\\u0430\\u0435\\u0442\",\"\\u043e\\u0431\\u044a\\u0435\\u043c\",\"\\u043e\\u043a\\u043e\\u043b\\u043e\",\"\\u043f\\u0435\\u0440\\u0438\\u043e\\u0434\",\"\\u043c\\u043e\\u0433\\u0443\\u0442\",\"\\u0430\\u0441\\u0442\\u0430\\u043d\\u0435\",\"\\u0433\\u043e\\u0441\\u0443\\u0434\\u0430\\u0440\\u0441\\u0442\\u0432\\u0435\\u043d\\u043d\\u044b\\u0445\",\"\\u0441\\u0442\\u043e\\u0440\\u043e\\u043d\\u044b\",\"\\u0434\\u0440\\u0443\\u0433\\u0438\\u0445\",\"\\u043f\\u0435\\u0440\\u0432\\u044b\\u0439\",\"\\u0443\\u0440\\u043e\\u0432\\u043d\\u0435\",\"\\u0440\\u044b\\u043d\\u043a\\u0430\",\"\\u0430\\u043a\\u0442\\u0438\\u0432\\u043e\\u0432\",\"\\u043c\\u0435\\u0441\\u044f\\u0446\\u0435\\u0432\",\"\\u0444\\u043e\\u043d\\u0434\",\"\\u0433\\u043e\\u0441\\u0443\\u0434\\u0430\\u0440\\u0441\\u0442\\u0432\\u0435\\u043d\\u043d\\u043e\\u0439\",\"7\",\"\\u0443\\u0440\\u043e\\u0432\\u043d\\u044f\",\"\\u0441\\u0442.\",\"\\u043f\\u0435\\u043d\\u0441\\u0438\\u043e\\u043d\\u043d\\u044b\\u0445\",\"\\u0441\\u0440\\u0435\\u0434\\u0438\",\"9\",\"\\u0438\\u043d\\u0432\\u0435\\u0441\\u0442\\u0438\\u0446\\u0438\\u0439\",\"\\u0431\\u0430\\u043d\\u043a\\u043e\\u0432\",\"\\u0441\\u043e\\u0441\\u0442\\u0430\\u0432\\u043b\\u044f\\u0435\\u0442\",\"\\u0440\\u044b\\u043d\\u043a\\u0435\",\"15\",\"\\u0440\\u0430\\u0437\\u043c\\u0435\\u0440\\u0435\",\"\\u0430\\u0441\\u0442\\u0430\\u043d\\u044b\",\"\\u043d\\u0430\\u043c\",\"\\u0432\\u043e\\u043f\\u0440\\u043e\\u0441\\u044b\",\"\\u0441\\u043e\\u043e\\u0431\\u0449\\u0430\\u0435\\u0442\",\"\\u0441\\u0443\\u0434\\u0430\",\"\\u043f\\u0440\\u0435\\u0434\\u043f\\u0440\\u0438\\u044f\\u0442\\u0438\\u0439\",\"\\u0440\\u043e\\u0441\\u0442\\u0430\",\"\\u0441\\u043b\\u0443\\u0447\\u0430\\u0435\",\"25\",\"\\u0441\\u0432\\u043e\\u0438\",\"\\u0440\\u0435\\u0448\\u0435\\u043d\\u0438\\u0435\",\"\\u043e\\u043a\\u0442\\u044f\\u0431\\u0440\\u044f\",\"8\",\"\\u0433\\u043b\\u0430\\u0432\\u044b\",\"\\u0440\\u043e\\u0434\\u0438\\u043b\\u0441\\u044f\",\"\\u0434\\u0435\\u0442\\u0435\\u0439\",\"\\u0434\\u0430\\u043d\\u043d\\u044b\\u043c\",\"12\",\"\\u0443\\u0441\\u043b\\u0443\\u0433\",\"\\u044d\\u0442\\u0438\\u0445\",\"\\u0434\\u0440\\u0443\\u0433\\u0438\\u0435\",\"\\u0442\\u0435\\u0440\\u0440\\u0438\\u0442\\u043e\\u0440\\u0438\\u0438\",\"\\u043e\\u0440\\u0433\\u0430\\u043d\\u0438\\u0437\\u0430\\u0446\\u0438\\u0438\",\"\\u043d\\u043e\\u0432\\u044b\\u0435\",\"\\u0441\\u043e\\u043e\\u0442\\u0432\\u0435\\u0442\\u0441\\u0442\\u0432\\u0438\\u0438\",\"\\u0431\\u0430\\u0439\\u0442\\u0435\\u0440\\u0435\\u043a\",\"\\u043f\\u043e\\u0440\\u044f\\u0434\\u043a\\u0430\",\"\\u043b\\u0438\\u0446\",\"\\u0434\\u043e\\u043b\\u0436\\u0435\\u043d\",\"\\u0443\\u0440\\u043e\\u0432\\u0435\\u043d\\u044c\",\"\\u0441\\u043e\\u0441\\u0442\\u0430\\u0432\\u0438\\u043b\",\"\\u043d\\u0430\\u0446\\u0438\\u043e\\u043d\\u0430\\u043b\\u044c\\u043d\\u044b\\u0439\",\"\\u0434\\u043e\\u043b\\u044f\",\"\\u043c\\u043b\\u043d.\",\"\\u0441\\u043e\\u0442\\u0440\\u0443\\u0434\\u043d\\u0438\\u0447\\u0435\\u0441\\u0442\\u0432\\u0430\",\"11\",\"\\u0441\\u0442\\u0430\\u043b\",\"\\u043e\\u0431\\u0440\\u0430\\u0437\\u043e\\u0432\\u0430\\u043d\\u0438\\u044f\",\"\\u0430\\u0432\\u0442\\u043e\",\"\\u043e\\u0442\\u043d\\u043e\\u0448\\u0435\\u043d\\u0438\\u0438\",\"\\u0438\\u043c\\u0435\\u043d\\u043d\\u043e\",\"\\u043a\\u0430\\u0437\\u0430\\u0445\\u0441\\u0442\\u0430\\u043d\\u0441\\u043a\\u043e\\u0439\",\"\\u0438\\u043d\\u0432\\u0435\\u0441\\u0442\\u0438\\u0446\\u0438\\u044f\\u043c\",\"\\u0430\\u043a\\u0438\\u043c\\u0430\",\"000\",\"\\u0447\\u0430\\u0441\\u0442\\u044c\",\"\\u043e\\u0442\\u0440\\u0430\\u0441\\u043b\\u0438\",\"\\u0433\\u043e\\u0441\\u0443\\u0434\\u0430\\u0440\\u0441\\u0442\\u0432\\u0435\\u043d\\u043d\\u043e\\u0433\\u043e\",\"\\u0434\\u043e\\u043b\\u0436\\u043d\\u043e\\u0441\\u0442\\u0438\",\"\\u0446\\u0435\\u043b\\u043e\\u043c\",\"\\u0441\\u0442\\u0440\\u043e\\u0438\\u0442\\u0435\\u043b\\u044c\\u0441\\u0442\\u0432\\u0430\",\"\\u043d\\u0430\\u0441\\u0442\\u043e\\u044f\\u0449\\u0435\\u0435\",\"\\u043c\\u0435\\u0441\\u0442\\u043e\",\"\\u043f\\u0440\\u0435\\u0434\\u043f\\u0440\\u0438\\u043d\\u0438\\u043c\\u0430\\u0442\\u0435\\u043b\\u0435\\u0439\",\"\\u043d\\u043e\\u0432\\u044b\\u0439\",\"\\u043e\\u0447\\u0435\\u0440\\u0435\\u0434\\u044c\",\"\\u043f\\u043e\\u043a\\u0430\",\"\\u043a\\u0430\\u0437\\u0430\\u0445\\u0441\\u0442\\u0430\\u043d\\u0441\\u043a\\u0438\\u0445\",\"\\u043d\\u043e\\u0432\\u043e\\u0433\\u043e\",\"\\u043d\\u0435\\u0441\\u043a\\u043e\\u043b\\u044c\\u043a\\u043e\",\"50\",\"\\u0441\\u0432\\u043e\\u0435\\u0439\",\"\\u0440\\u0430\\u0431\\u043e\\u0442\\u0430\",\"\\u043d\\u0443\\u0440\\u0441\\u0443\\u043b\\u0442\\u0430\\u043d\",\"\\u043f\\u043b\\u0430\\u043d\\u0438\\u0440\\u0443\\u0435\\u0442\\u0441\\u044f\",\"\\u0440\\u0443\\u043a\\u043e\\u0432\\u043e\\u0434\\u0438\\u0442\\u0435\\u043b\\u044c\",\"\\u0432\\u043e\\u0437\\u043c\\u043e\\u0436\\u043d\\u043e\\u0441\\u0442\\u044c\",\"\\u043f\\u0440\\u0435\\u0434\\u043f\\u0440\\u0438\\u044f\\u0442\\u0438\\u044f\",\"\\u043f\\u043e\\u0434\\u0434\\u0435\\u0440\\u0436\\u043a\\u0438\",\"\\u0438\\u043d\\u0444\\u0440\\u0430\\u0441\\u0442\\u0440\\u0443\\u043a\\u0442\\u0443\\u0440\\u044b\",\"\\u043d\\u0430\\u0447\\u0430\\u043b\\u0430\",\"\\u0440\\u0430\\u0437\\u0430\",\"\\u0446\\u0435\\u043d\\u0442\\u0440\",\"\\u043a\\u043e\\u0442\\u043e\\u0440\\u043e\\u0439\",\"\\u0434\\u0435\\u044f\\u0442\\u0435\\u043b\\u044c\\u043d\\u043e\\u0441\\u0442\\u044c\",\"\\u0441\\u043e\\u0432\\u043c\\u0435\\u0441\\u0442\\u043d\\u043e\",\"\\u043f\\u0440\\u043e\\u043c\\u044b\\u0448\\u043b\\u0435\\u043d\\u043d\\u043e\\u0441\\u0442\\u0438\",\"\\u043f\\u0440\\u043e\\u0438\\u0437\\u0432\\u043e\\u0434\\u0441\\u0442\\u0432\\u043e\",\"\\u0433\\u0440\\u0430\\u0436\\u0434\\u0430\\u043d\",\"\\u043d\\u0430\\u0447\\u0430\\u043b\\u044c\\u043d\\u0438\\u043a\",\"\\u043c\\u0438\\u043b\\u043b\\u0438\\u043e\\u043d\\u043e\\u0432\",\"\\u043d\\u0430\\u0448\\u0435\\u0439\",\"\\u0432\\u0441\\u0435\\u043c\",\"\\u0432\\u043c\\u0435\\u0441\\u0442\\u0435\",\"\\u0440\\u044b\\u043d\\u043e\\u043a\",\"\\u0441\\u043b\\u0435\\u0434\\u0443\\u0435\\u0442\",\"\\u0441\\u0442\\u0430\\u043b\\u043e\",\"\\u0434\\u0432\\u0443\\u0445\",\"\\u0434\\u0438\\u0440\\u0435\\u043a\\u0442\\u043e\\u0440\\u0430\",\"\\u043a\\u043e\\u043b\\u0438\\u0447\\u0435\\u0441\\u0442\\u0432\\u043e\",\"\\u043d\\u0435\\u0444\\u0442\\u0438\",\"\\u043f\\u0440\\u043e\\u0446\\u0435\\u043d\\u0442\\u043e\\u0432\",\"\\u0441\\u0442\\u043e\\u0438\\u043c\\u043e\\u0441\\u0442\\u044c\",\"\\u0446\\u0435\\u043d\\u0442\\u0440\\u0430\",\"14\",\"\\u0447\\u0430\\u0441\\u0442\\u0438\",\"\\u0441\\u0430\\u0439\\u0442\\u0430\",\"\\u043c\\u0435\\u0440\\u044b\",\"\\u043e\\u0442\\u0434\\u0435\\u043b\\u0430\",\"\\u043e\\u0431\\u0435\\u0441\\u043f\\u0435\\u0447\\u0438\\u0442\\u044c\",\"\\u043d\\u0430\\u043f\\u043e\\u043c\\u043d\\u0438\\u043c\",\"\\u0438\\u043c\\u0435\\u0435\\u0442\",\"16\",\"\\u043a\\u043e\\u0442\\u043e\\u0440\\u043e\\u0433\\u043e\",\"\\u044d\\u043a\\u043e\\u043d\\u043e\\u043c\\u0438\\u0447\\u0435\\u0441\\u043a\\u043e\\u0433\\u043e\",\"\\u0432\\u043d\\u0438\\u043c\\u0430\\u043d\\u0438\\u0435\",\"\\u2116\",\"\\u043e\\u0431\\u044a\\u0435\\u043a\\u0442\\u043e\\u0432\",\"\\u043f\\u0440\\u0430\\u0432\\u0438\\u0442\\u0435\\u043b\\u044c\\u0441\\u0442\\u0432\\u0443\",\"\\u044d\\u0442\\u0438\\u043c\",\"\\u0438\\u043d\\u043e\\u0441\\u0442\\u0440\\u0430\\u043d\\u043d\\u044b\\u0445\",\"\\u043f\\u0440\\u0435\\u0434\\u043f\\u0440\\u0438\\u043d\\u0438\\u043c\\u0430\\u0442\\u0435\\u043b\\u044c\\u0441\\u0442\\u0432\\u0430\",\"\\u0442\\u0435\\u0447\\u0435\\u043d\\u0438\\u0435\",\"\\u043a\\u0430\\u0437\\u0430\\u0445\\u0441\\u0442\\u0430\\u043d\\u0441\\u043a\\u043e\\u0433\\u043e\",\"\\u0441\\u043e\\u044e\\u0437\\u0430\",\"\\u0441\\u0435\\u043a\\u0442\\u043e\\u0440\\u0430\",\"\\u0442\\u0430\\u043a\\u0438\\u0435\",\"\\u0441\\u0442\\u0430\\u0442\\u044c\\u0438\",\"\\u0438\\u043c.\",\"\\u043d\\u043e\\u0432\\u043e\\u0439\",\"\\u043f\\u043e\\u043b\\u0438\\u0442\\u0438\\u043a\\u0438\",\"\\u043e\\u0431\\u0440\\u0430\\u0437\\u043e\\u043c\",\"\\u043c\\u0438\\u0440\\u0430\",\"\\u0440\\u0435\\u0437\\u0443\\u043b\\u044c\\u0442\\u0430\\u0442\\u0435\",\"\\u0434\\u0435\\u043b\",\"\\u0440\\u0430\\u0439\\u043e\\u043d\\u0430\",\"\\u043c\\u0435\\u043d\\u0435\\u0435\",\"\\u043c\\u0438\\u043d\\u0438\\u0441\\u0442\\u0440\\u0430\",\"\\u0443\\u0441\\u043b\\u043e\\u0432\\u0438\\u044f\\u0445\",\"\\u043d\\u0430\\u0446\\u0431\\u0430\\u043d\\u043a\\u0430\",\"2013\",\"\\u0438\\u0437-\\u0437\\u0430\",\"\\u043c\\u043e\\u043c\\u0435\\u043d\\u0442\",\"\\u0441\\u0435\\u043d\\u0442\\u044f\\u0431\\u0440\\u044f\",\"\\u044f\\u0432\\u043b\\u044f\\u044e\\u0442\\u0441\\u044f\",\"\\u0442\\u0435\\u043a\\u0443\\u0449\\u0435\\u0433\\u043e\",\"\\u0440\\u0430\\u0431\\u043e\\u0442\\u0435\"],\"x1\":{\"__ndarray__\":\"+cWSP05zM0FwfndAd8NLv6P3l78iRDXBVzVhwTopqkCFjYNB+elOQIQQWMHD+JRAKPm2QLazY8Efd2xBc767v4UGuECxO2FB6RVSwRatIsD4HA9BS6B5QX5KMMETv07BVCo4wSeiEMH03//AFZ34P5ODjUCd6OXAChlPQGZ7Dr9RcSxBfeyBQZvvlD+4aCPB4YZ/QBcslkDGAau9gywBQWoSYsCpsD9B+60YQTOCT8Ge14o/PlioQLzo9cAHLDFB9QwYQcvnhEDs5klBsxczwAODS0CSZyvAjVwZwajj8MAsg07Bn1QywXBhWMDiZoU/2gMFwElObUCQumdAYKbQP34f/EDtuCa/YwQTQYSHCsEmXnrAWkHvvQ5G8sBupWFAFh0UwYzmaUAE485Av3dJwaEHWsATMD7BAiUHwVK6ub9noAjBsWZTv1Z+Zb9g+LvAg6lwP5orMMAHJRLAWuAtweipXUF7KWHBRCWIwGp9D8HYnwvBpVvtQEjNB8HSjyxBeLdRwNtsGEHpidzADtzSP62Gh0AtJi3B+rnsv91OAUFdOT4+keEzwL6dE0ADzyNBCBywQNZgj8C7ucNAEXIIQYjZO0GUoS7AzUYPwZ87NMASjY9AE8lVwZAsyb156fXAOJcSwK8Inb8z43FBbAEsQRfXUcCd6Xo/v00KQBy8XkD6DGNA1yinwPQvA0GcYKdAL5DqQKcACcBRpbJAUZyuwKSgAkEe0AxB5Az9Ps3y8EClgD3Bb623wKpuKUDrLU0/AXljPvcrA0H5LbHAyFHSQHnrXkGQkDLBZHaCwM/yf0CYfoHAkUMBQH2eyUDR1p4+m2tLQMHuysAITQ3BHMr/QMBnsMAKwqNAN/Y7QYleSsHC5Y5A9oa/QGG3qsAmzSI9azYjwV4rLUHOEShA+PmbQEDi00DJH+rA70kbwLnyiUCnuARBUT0mwa3TicAE8G/AaK6GQNiVo77MBuM/3jWtQIjyRkCChYnATNPKQFb0pkDlmb/AiocNQXI/h0BAYfVABuIKQV61BEF7AKm/21P8QH3RR0EL0dO/c9RkQOKmsz97b+XAuFfywJN1zb6nBhdA6lNoQNGrNMHsvj/BtpUsQab7JkA5dwjBdAe6wEUYFsGKHFk/pd8DQOPxrr687Aw/Dw4nwcKYLb4e40HAbnceQO+Imb4fSJw/KtkPQMhL10B3LmxA6JIDwGC7FUGlrAZAM8sGwaDzv0BzlynBA1NRwU1wmL6KRYI/JtHEv4XACMF5utU+RAe4wMDWKMALgAbBFGMFweGocUBOkAjB2f44QTSEhEBKWqhALogGQAR8s8D9TwNBzR7xP/WEBkDH7x3BgcgKQRx258Bd8lxBUU01wOkCCMH5hnVAHSIgQGIDs0BR3d9Av7IEwU0WBEF9wSzAcjgCQPPToEBDZsE9gQ2yv2zdr0AHKUU/Zv5+P0e5ZcDzWr9AXYzYwJB0WsEDJ/g/MP6BwNCF8sBRYTBBLwipQGBrj0AtViDB++X8PgjXRsBsfS9ByYZhv6pTGD/2levAYzRBwdJYH0AO6A7By+P8Py7XAsEMxG5BowhlP3HSa0DLwiHAE/5+QF8VgUEEn0zA\",\"dtype\":\"float32\",\"order\":\"little\",\"shape\":[300]},\"x2\":{\"__ndarray__\":\"y+Y2wYfYBMEVGndAiWRRwT43eD8gPRrBTryswD3VlcE5x+C/iiWawRjSU0FRzJ/BdNNYwWAEokCeYdXA5FXpwHFap78Prz7BzsomQQLyJ8C9nYg/fXYEwG/QFcGIWoHAFMeewBBM5D+V5t+/xHTjQIXAakFEtqs/sP//wODMPsEubA5BdBCbvmtdF0BK+4k/Lu1cwbe9IsELE6FAonBNwOpHlcHz61DBOWisQEBeF0HvoVnBRMQXQSird0ErFEjBm90tQdiIVsEQ3ULBmjcKQcMERMHOwJbBkRKMQcPzjkHU1qHA9CEhQDU8Y0ASmRrAkeidvkzn9kAkSWRB2hV0QR+OOkG3EZ8/ClVWQcx7tsC7cBZBahd1QUaiIMFlIkZAk1edQEKwVsEexo9ATPg2Qeo0w8AtoMtA9ZuLQbZem8BLl+pARmZBwRIl88BA40VBIcJrQaW2YMCt0UBAcHsuwEEaP8Fsvz4/IycOwZjAykCXI9HAi+dRwGFKcUEOcwTBpLBeQGu1XkG0kOXAFT6LPxxopkB8gYBBzWpQQflCzD/GKA/BJELNPz1FFcDVHxRBgjwiwWKzGz9+1jZBFUyYvxRxGsHW1pPB2o6hQNj7fMAUSjDAeeWdQMbS9EB8Cl/B0TDGQNkGS0GnAQjA/WWIwF1nNECN13xA/0JRQS+FJ0D/EjzBMz0OQSCqXL8UPozBkNMiwejc6b/uDTPB7VWEvrfT0cAzGhzBQzInwaE6iz8ZtRtBhrubQJkNj0Ae6jvAnkPOQPRYVsGkP23A5CqSwNmT38CSvg5AxGM/QUBoOMHaeFLBEUF7wQMvlMBsBI7AP6EwwcdFz0DHfEo/jAcOwZeWhMC/eizBL1MawRhlLUHvNSpAgw/jQNmXJr4/KIXBdXorwCzzgsCZFjI/o10ZwVPubD883FTB9XWTwRiyPcGyDDVBsMpWQQhCDcGYG1w/LCIswSG4579ypMK/uttzPhv7IkFyMQNBZb5OPou7lMFMbzJA3fIawdP8hcAcsilA6V5vwQ667cCuEpFApmXfwM0pQsHFJSZBK1Qrwfl40UBnhQ5BxVkgwcuxA78FGhdAv0zoPtOu0kDDZVdBdGk1wZjWicCnlFDAjnFCQbE8DUGWjKQ/pCRTQW4eEEAdr6jADCGzv5gHxUDkrX5Bv33ZPzl5VMAtgg1BvB3TwJ8sHsGFEtI/HWztQOrhWUHukD9B19eJQUriIEAOaY7A4KCLPx+7SUFtRxfBl18bwTrKMEEKx2pAKnA2QQpuvEBy/U3AP465wHMOKcCpEoJBtUs8wY1Utz9AFFBAyVgUQGLklsAk0YdAeu6wQLjny8BFmX5BpJAtwfYfz8DoYODAAEIuwfr/MEGs/B7BDdmFwAPVhcFBEeFAMj56Qa6Xw0BNLPg/fqdaQJVAP8FRUXFABjAfQT27tkAxy33B2N5KQR1zukBe0YdAk1bYQGEAaj/LYw/BQMH3vzJIi0A8+IK/soqgPk4a18A30VBBBV8YQUlULEEAwDxAso6WwJPJd77l+epAhXZQQdUUJ7/o+gJBhHKJPnbGvz9NYQzASOqnva4j1kCBA5HB4F9kvylFir9j2AZB\",\"dtype\":\"float32\",\"order\":\"little\",\"shape\":[300]}},\"selected\":{\"id\":\"1149\"},\"selection_policy\":{\"id\":\"1148\"}},\"id\":\"1123\",\"type\":\"ColumnDataSource\"}],\"root_ids\":[\"1095\"]},\"title\":\"Bokeh Application\",\"version\":\"2.4.1\"}};\n",
       "  const render_items = [{\"docid\":\"86306499-5fac-49f9-ab1d-f9bbf582e6f2\",\"root_ids\":[\"1095\"],\"roots\":{\"1095\":\"35b9d19b-32df-40a0-85cf-97244cd1df5a\"}}];\n",
       "  root.Bokeh.embed.embed_items_notebook(docs_json, render_items);\n",
       "\n",
       "  }\n",
       "  if (root.Bokeh !== undefined) {\n",
       "    embed_document(root);\n",
       "  } else {\n",
       "    let attempts = 0;\n",
       "    const timer = setInterval(function(root) {\n",
       "      if (root.Bokeh !== undefined) {\n",
       "        clearInterval(timer);\n",
       "        embed_document(root);\n",
       "      } else {\n",
       "        attempts++;\n",
       "        if (attempts > 100) {\n",
       "          clearInterval(timer);\n",
       "          console.log(\"Bokeh: ERROR: Unable to run BokehJS code because BokehJS library is missing\");\n",
       "        }\n",
       "      }\n",
       "    }, 10, root)\n",
       "  }\n",
       "})(window);"
      ],
      "application/vnd.bokehjs_exec.v0+json": ""
     },
     "metadata": {
      "application/vnd.bokehjs_exec.v0+json": {
       "id": "1095"
      }
     },
     "output_type": "display_data"
    }
   ],
   "source": [
    "output_notebook()\n",
    "\n",
    "p = figure(tools=\"pan, wheel_zoom, reset, save\",\n",
    "           toolbar_location=\"above\",\n",
    "           title=\"word2vec T-SNE (eng model, top1000 words)\")\n",
    "\n",
    "source = ColumnDataSource(data=dict(x1=top_words_tsne[:,0],\n",
    "                                    x2=top_words_tsne[:,1],\n",
    "                                    names=top_words))\n",
    "\n",
    "p.scatter(x=\"x1\", y=\"x2\", size=8, source=source)\n",
    "\n",
    "labels = LabelSet(x=\"x1\", y=\"x2\", text=\"names\", y_offset=6,\n",
    "                  text_font_size=\"8pt\", text_color=\"#555555\",\n",
    "                  source=source, text_align='center')\n",
    "p.add_layout(labels)\n",
    "\n",
    "show(p)"
   ]
  },
  {
   "cell_type": "markdown",
   "metadata": {},
   "source": [
    "**Вывод:** видно что слова близкие по смыслу лежат вместе"
   ]
  },
  {
   "cell_type": "markdown",
   "metadata": {},
   "source": [
    "## Часть 3. [5 баллов] Классификация текстов\n",
    "Задача классификации формулируется так: каждая новостная статья описывает какую-то ситуацию, имеющую определенную тональность. Требуется по тексту предсказать, какую тональность имеет данная статья. Таким образом, тональность - это фактически метка класса. Основная мера качества – macro $F_1$.\n",
    "Обучите несколько классификаторов и сравните их между собой. Оцените качество классификаторов на каждом из классв. Какие классы чаще всего оказываются перепутаны? Связаны ли ошибки со смыслом текстов?\n",
    "\n",
    "Используйте фрагменты из множества train для обучения, из множества dev для отладки, из множества test – для тестирования и получения итоговых результатов. \n",
    "\n",
    "1. [1 балл] Используйте fastText в качестве baseline-классификатора.\n",
    "2. [2 балла] Используйте сверточные сети в качестве более продвинутого классификатора. Поэкспериментируйте с количеством и размерностью фильтров, используйте разные размеры окон, попробуйте использовать $k$-max pooling. \n",
    "3. [2 балла] Попробуйте расширить обучающее множество за счет аугментации данных. Если вам понадобится словарь синонимов, можно использовать WordNet (ниже вы найдете примеры).\n",
    "\n",
    "[бонус] Используйте результат max pooling'а как эмбеддинг входного текста. Визуализируйте эмбеддинги 300-500 предложений из обучающего множества и изучите свойства получившегося пространства.\n",
    "\n",
    "[бонус] Используйте ваш любимый классификатор и любые (честные) способы повышения качества классификации и получите macro $F_1$ больше 0.5."
   ]
  },
  {
   "cell_type": "code",
   "execution_count": 84,
   "metadata": {
    "ExecuteTime": {
     "end_time": "2022-10-02T18:36:50.707346Z",
     "start_time": "2022-10-02T18:36:50.702470Z"
    }
   },
   "outputs": [],
   "source": [
    "from sklearn.model_selection import train_test_split\n",
    "from sklearn.metrics import f1_score\n",
    "import fasttext\n",
    "import numpy as np\n"
   ]
  },
  {
   "cell_type": "markdown",
   "metadata": {},
   "source": [
    "## fasttext as baseline"
   ]
  },
  {
   "cell_type": "code",
   "execution_count": 87,
   "metadata": {
    "ExecuteTime": {
     "end_time": "2022-10-02T18:37:57.800298Z",
     "start_time": "2022-10-02T18:37:55.713292Z"
    }
   },
   "outputs": [
    {
     "name": "stdout",
     "output_type": "stream",
     "text": [
      "total train examples 5536\n",
      "total test examples 2727\n"
     ]
    }
   ],
   "source": [
    "## разделим данные на тренировочную и тестовую выборки\n",
    "\n",
    "X = df['text_tokenized'].apply(lambda x : \" \".join(x))\n",
    "y = df['sentiment'].tolist()\n",
    "\n",
    "X, y = np.array(X), np.array(y)\n",
    "\n",
    "X_train, X_test, y_train, y_test = train_test_split(X, y, test_size=0.33)\n",
    "print(\"total train examples %s\" % len(y_train))\n",
    "print(\"total test examples %s\" % len(y_test))"
   ]
  },
  {
   "cell_type": "code",
   "execution_count": 88,
   "metadata": {
    "ExecuteTime": {
     "end_time": "2022-10-02T18:37:59.194855Z",
     "start_time": "2022-10-02T18:37:59.049444Z"
    }
   },
   "outputs": [],
   "source": [
    "## запишем полученные выборки в файлы\n",
    "\n",
    "with open('data.train.txt', 'w+', encoding='utf-8') as outfile:\n",
    "    for i in range(len(X_train)):\n",
    "        outfile.write('__label__' + y_train[i] + ' '+ X_train[i] + '\\n')\n",
    "    \n",
    "\n",
    "with open('dev.txt', 'w+', encoding='utf-8') as outfile:\n",
    "    for i in range(len(X_test)):\n",
    "        outfile.write('__label__' + y_test[i] + ' ' + X_test[i] + '\\n')"
   ]
  },
  {
   "cell_type": "code",
   "execution_count": 147,
   "metadata": {
    "ExecuteTime": {
     "end_time": "2022-10-02T19:00:10.061013Z",
     "start_time": "2022-10-02T19:00:07.122054Z"
    }
   },
   "outputs": [
    {
     "name": "stderr",
     "output_type": "stream",
     "text": [
      "Read 2M words\n",
      "Number of words:  139608\n",
      "Number of labels: 3\n",
      "Progress: 100.0% words/sec/thread: 2431951 lr:  0.000000 avg.loss:  0.716560 ETA:   0h 0m 0s\n"
     ]
    },
    {
     "name": "stdout",
     "output_type": "stream",
     "text": [
      "Macro F1: 0.6935934749641439\n"
     ]
    }
   ],
   "source": [
    "## обучим fasttext и измерим скор\n",
    "\n",
    "classifier = fasttext.train_supervised('data.train.txt', epoch=15)\n",
    "\n",
    "y_pred = classifier.predict(X_test.tolist())\n",
    "print('Macro F1:', f1_score(np.array(list(map(lambda x : \"__label__\" + x, y_test))),\n",
    "                            np.array(y_pred[0]).squeeze(), average='macro'))"
   ]
  },
  {
   "cell_type": "code",
   "execution_count": 159,
   "metadata": {
    "ExecuteTime": {
     "end_time": "2022-10-02T19:15:03.384191Z",
     "start_time": "2022-10-02T19:15:02.986809Z"
    }
   },
   "outputs": [],
   "source": [
    "## kaggle predictions\n",
    "\n",
    "X_kaggle = np.array(df_kaggle['text_tokenized'].apply(lambda x : \" \".join(x)))\n",
    "y_kaggle = classifier.predict(X_kaggle.tolist())\n",
    "y_kaggle = np.array(y_kaggle[0]).squeeze()\n",
    "\n",
    "df_kaggle['sentiment'] = y_kaggle\n",
    "df_kaggle['sentiment'] = df_kaggle['sentiment'].str.replace('__label__', '')\n",
    "df_kaggle[['id', 'sentiment']].to_csv('fasstext.csv', index=False)"
   ]
  },
  {
   "attachments": {
    "Screenshot%202022-10-02%20at%2022.15.27.png": {
     "image/png": "[encoded data removed]"
    }
   },
   "cell_type": "markdown",
   "metadata": {},
   "source": [
    "![Screenshot%202022-10-02%20at%2022.15.27.png](attachment:Screenshot%202022-10-02%20at%2022.15.27.png)"
   ]
  },
  {
   "cell_type": "markdown",
   "metadata": {},
   "source": [
    "**Вывод:** используем это число как baseline"
   ]
  },
  {
   "cell_type": "markdown",
   "metadata": {},
   "source": [
    "## CNN"
   ]
  },
  {
   "cell_type": "code",
   "execution_count": 166,
   "metadata": {
    "ExecuteTime": {
     "end_time": "2022-10-02T19:16:26.566660Z",
     "start_time": "2022-10-02T19:16:26.560990Z"
    }
   },
   "outputs": [],
   "source": [
    "import torch\n",
    "from torchtext.legacy import data\n",
    "from torchtext.legacy import datasets\n",
    "from torchtext.vocab import build_vocab_from_iterator\n",
    "from torch import nn\n",
    "import torch.optim as optim\n",
    "from torch.nn import functional as F\n",
    "\n",
    "from itertools import product\n",
    "import pymorphy2\n",
    "import re\n",
    "\n",
    "from torch.utils.data import Dataset\n",
    "from torch.utils.data import DataLoader\n",
    "from sklearn.preprocessing import LabelEncoder\n",
    "\n",
    "import warnings \n",
    "warnings.filterwarnings('ignore')\n"
   ]
  },
  {
   "cell_type": "code",
   "execution_count": 149,
   "metadata": {
    "ExecuteTime": {
     "end_time": "2022-10-02T19:00:27.285699Z",
     "start_time": "2022-10-02T19:00:27.261449Z"
    }
   },
   "outputs": [],
   "source": [
    "SEED = 0\n",
    "torch.manual_seed(SEED)\n",
    "torch.cuda.manual_seed(SEED)\n",
    "tqdm.pandas()"
   ]
  },
  {
   "cell_type": "code",
   "execution_count": 150,
   "metadata": {
    "ExecuteTime": {
     "end_time": "2022-10-02T19:00:29.832443Z",
     "start_time": "2022-10-02T19:00:29.029909Z"
    }
   },
   "outputs": [],
   "source": [
    "m = pymorphy2.MorphAnalyzer() \n",
    "\n",
    "def lemmatize(text, pymorphy=m):\n",
    "    try:\n",
    "        return \" \".join([pymorphy.parse(w)[0].normal_form for w in text])\n",
    "    except:\n",
    "        return \" \"    \n",
    "    \n",
    "\n",
    "def dataset_iterator(texts):\n",
    "    for text in texts:\n",
    "        yield text.split()"
   ]
  },
  {
   "cell_type": "code",
   "execution_count": 151,
   "metadata": {
    "ExecuteTime": {
     "end_time": "2022-10-02T19:12:29.080480Z",
     "start_time": "2022-10-02T19:00:51.489151Z"
    }
   },
   "outputs": [
    {
     "data": {
      "application/vnd.jupyter.widget-view+json": {
       "model_id": "8e7ef33f53974c5592e948e975d0295d",
       "version_major": 2,
       "version_minor": 0
      },
      "text/plain": [
       "  0%|          | 0/8263 [00:00<?, ?it/s]"
      ]
     },
     "metadata": {},
     "output_type": "display_data"
    },
    {
     "data": {
      "application/vnd.jupyter.widget-view+json": {
       "model_id": "ae069eb9589e41f4aa3d2d7b8e5d886f",
       "version_major": 2,
       "version_minor": 0
      },
      "text/plain": [
       "  0%|          | 0/2056 [00:00<?, ?it/s]"
      ]
     },
     "metadata": {},
     "output_type": "display_data"
    }
   ],
   "source": [
    "## lemmatize text\n",
    "\n",
    "df['text_lemmatized'] = df['text_tokenized'].progress_apply(lambda x : lemmatize(x))\n",
    "df_kaggle['text_lemmatized'] = df_kaggle['text_tokenized'].progress_apply(lambda x : lemmatize(x))"
   ]
  },
  {
   "cell_type": "code",
   "execution_count": 299,
   "metadata": {
    "ExecuteTime": {
     "end_time": "2022-10-02T20:27:25.726481Z",
     "start_time": "2022-10-02T20:27:24.486458Z"
    }
   },
   "outputs": [],
   "source": [
    "## составляем словарь всех слов, неизвестные меняем на unk, добавляем паддинг\n",
    "\n",
    "vocab = build_vocab_from_iterator(\n",
    "    dataset_iterator(df['text_lemmatized']),\n",
    "    specials=['<pad>', '<unk>'], min_freq=10,\n",
    ")\n",
    "\n",
    "df_train, df_test = train_test_split(df, test_size=0.2)"
   ]
  },
  {
   "cell_type": "code",
   "execution_count": 300,
   "metadata": {
    "ExecuteTime": {
     "end_time": "2022-10-02T20:27:32.123905Z",
     "start_time": "2022-10-02T20:27:25.728452Z"
    }
   },
   "outputs": [],
   "source": [
    "## создаем токены для всех датасетов, для неизвестных слов проставляем unk\n",
    "\n",
    "train_tokens = []\n",
    "for text in dataset_iterator(df_train['text_lemmatized']):\n",
    "    tokens = [vocab[word] if word in vocab else vocab['<unk>'] for word in text]\n",
    "    train_tokens += [tokens]\n",
    "\n",
    "test_tokens = []\n",
    "for text in dataset_iterator(df_test['text_lemmatized']):\n",
    "    tokens = [vocab[word] if word in vocab else vocab['<unk>'] for word in text]\n",
    "    test_tokens += [tokens]\n",
    "    \n",
    "kaggle_tokens = []\n",
    "for text in dataset_iterator(df_kaggle['text_lemmatized']):\n",
    "    tokens = [vocab[word] if word in vocab else vocab['<unk>'] for word in text]\n",
    "    kaggle_tokens += [tokens]"
   ]
  },
  {
   "cell_type": "code",
   "execution_count": 301,
   "metadata": {
    "ExecuteTime": {
     "end_time": "2022-10-02T20:27:32.315205Z",
     "start_time": "2022-10-02T20:27:32.126320Z"
    }
   },
   "outputs": [],
   "source": [
    "## добиваем векторы до одинаковой длины (padding=300)\n",
    "\n",
    "max_length = 300\n",
    "tokenized_train = torch.full((len(train_tokens), max_length), vocab['<pad>'], dtype=torch.int32)\n",
    "for i, tokens in enumerate(train_tokens):\n",
    "    length = min(max_length, len(tokens))\n",
    "    tokenized_train[i, :length] = torch.tensor(tokens[:length])\n",
    "\n",
    "tokenized_test = torch.full((len(test_tokens), max_length), vocab['<pad>'], dtype=torch.int32)\n",
    "for i, tokens in enumerate(test_tokens):\n",
    "    length = min(max_length, len(tokens))\n",
    "    tokenized_test[i, :length] = torch.tensor(tokens[:length])\n",
    "    \n",
    "tokenized_kaggle = torch.full((len(kaggle_tokens), max_length), vocab['<pad>'], dtype=torch.int32)\n",
    "for i, tokens in enumerate(kaggle_tokens):\n",
    "    length = min(max_length, len(tokens))\n",
    "    tokenized_kaggle[i, :length] = torch.tensor(tokens[:length])\n",
    "    \n",
    "    "
   ]
  },
  {
   "cell_type": "code",
   "execution_count": 302,
   "metadata": {
    "ExecuteTime": {
     "end_time": "2022-10-02T20:27:32.323177Z",
     "start_time": "2022-10-02T20:27:32.317169Z"
    }
   },
   "outputs": [],
   "source": [
    "## dataset for CNN\n",
    "\n",
    "class MyDataset(Dataset):\n",
    "    def __init__(self, X, y):\n",
    "        self.y = torch.tensor(y)\n",
    "        self.X = torch.tensor(X)\n",
    "\n",
    "    def __len__(self):\n",
    "        return self.X.shape[0]\n",
    "\n",
    "    def __getitem__(self, i): \n",
    "        return self.X[i], self.y[i]"
   ]
  },
  {
   "cell_type": "code",
   "execution_count": 303,
   "metadata": {
    "ExecuteTime": {
     "end_time": "2022-10-02T20:27:32.750328Z",
     "start_time": "2022-10-02T20:27:32.732352Z"
    }
   },
   "outputs": [],
   "source": [
    "## переведем строковые значения таргета в числовые\n",
    "\n",
    "lenc = LabelEncoder()\n",
    "df_train['sentiment'] = lenc.fit_transform(df_train['sentiment'])\n",
    "df_test['sentiment'] = lenc.transform(df_test['sentiment'])\n",
    "df_kaggle['sentiment'] = 0"
   ]
  },
  {
   "cell_type": "code",
   "execution_count": 304,
   "metadata": {
    "ExecuteTime": {
     "end_time": "2022-10-02T20:27:36.110482Z",
     "start_time": "2022-10-02T20:27:36.062311Z"
    }
   },
   "outputs": [
    {
     "name": "stdout",
     "output_type": "stream",
     "text": [
      "Features shape: torch.Size([128, 300])\n",
      "Target shape: torch.Size([128])\n"
     ]
    }
   ],
   "source": [
    "## создаем датасеты для \n",
    "\n",
    "torch.manual_seed(101)\n",
    "\n",
    "batch_size = 128\n",
    "\n",
    "train_dataset = MyDataset(\n",
    "    tokenized_train,\n",
    "    df_train['sentiment'].values\n",
    ")\n",
    "test_dataset = MyDataset(\n",
    "    tokenized_test,\n",
    "    df_test['sentiment'].values\n",
    ")\n",
    "\n",
    "kaggle_dataset = MyDataset(\n",
    "    tokenized_kaggle,\n",
    "    df_kaggle['sentiment'].values\n",
    ")\n",
    "\n",
    "train_loader = DataLoader(train_dataset, batch_size=batch_size, shuffle=True)\n",
    "test_loader = DataLoader(test_dataset, batch_size=512, shuffle=False)\n",
    "kaggle_loader = DataLoader(kaggle_dataset, batch_size=512, shuffle=False)\n",
    "\n",
    "X, y = next(iter(train_loader))\n",
    "\n",
    "print(\"Features shape:\", X.shape)\n",
    "print(\"Target shape:\", y.shape)"
   ]
  },
  {
   "cell_type": "code",
   "execution_count": 305,
   "metadata": {
    "ExecuteTime": {
     "end_time": "2022-10-02T20:27:36.830372Z",
     "start_time": "2022-10-02T20:27:36.806158Z"
    }
   },
   "outputs": [],
   "source": [
    "## динамический подсчет accuracy\n",
    "\n",
    "def binary_accuracy(preds, y):\n",
    "    rounded_preds = torch.round(F.sigmoid(preds))\n",
    "    correct = (rounded_preds == y).float()\n",
    "    acc = correct.sum() / len(correct)\n",
    "    return acc\n",
    "\n",
    "## функция обучения\n",
    "def train_func(model, iterator, optimizer, criterion):\n",
    "    epoch_loss = 0\n",
    "    epoch_acc = 0\n",
    "    \n",
    "    ## режим обучения\n",
    "    model.train()\n",
    "    \n",
    "    ## проходим по батчам\n",
    "    for text, label in tqdm(iterator, leave=False):\n",
    "        ## зануляем градиент\n",
    "        optimizer.zero_grad()\n",
    "        ## предсказания в вероятностях\n",
    "        logits = model(text)\n",
    "        ## считаем лосс\n",
    "        loss = criterion(logits, label.long())\n",
    "        ## вычисляем accuracy\n",
    "        acc = (logits.argmax(dim=-1) == label).sum().item()\n",
    "        \n",
    "        ## обратное распространение ошибки\n",
    "        loss.backward()\n",
    "        ## шаг оптимизатора\n",
    "        optimizer.step()\n",
    "        \n",
    "        epoch_loss += loss.item() * text.shape[0]\n",
    "        epoch_acc += acc\n",
    "        \n",
    "    return epoch_loss / len(iterator.dataset), epoch_acc / len(iterator.dataset)\n",
    "\n",
    "## функция валидации\n",
    "def evaluate_func(model, iterator, criterion):\n",
    "    epoch_loss = 0\n",
    "    epoch_acc = 0\n",
    "    \n",
    "    ## режим валидации\n",
    "    model.eval()\n",
    "    \n",
    "    ## не меняем градиент\n",
    "    with torch.no_grad():\n",
    "        ## по батчам\n",
    "        for text, label in tqdm(iterator, leave=False):\n",
    "            ## предсказания, ...\n",
    "            logits = model(text)\n",
    "            loss = criterion(logits, label.long())\n",
    "            acc = (logits.argmax(dim=-1) == label).sum().item()\n",
    "            \n",
    "\n",
    "            epoch_loss += loss.item() * text.shape[0]\n",
    "            epoch_acc += acc\n",
    "        \n",
    "    return epoch_loss / len(iterator.dataset), epoch_acc / len(iterator.dataset)\n",
    "\n",
    "## функция получения предсказаний\n",
    "def predict(model, iterator):\n",
    "    model.eval()\n",
    "    predictions = torch.Tensor()\n",
    "    with torch.no_grad():\n",
    "        for text, label in tqdm(iterator, leave=False):\n",
    "            logits = model(text)\n",
    "            predictions_ = logits.argmax(dim=-1)\n",
    "            predictions = torch.cat([predictions, predictions_])\n",
    "            \n",
    "    return np.array(predictions).astype(int)\n",
    "\n",
    "## наша моделечка, сам себе СИ-ЭН-ЭН\n",
    "## взято с семинара, очень понравилось\n",
    "class CNN(nn.Module):\n",
    "    def __init__(self, vocab_size, embedding_dim, n_filters, filter_sizes, output_dim, dropout):\n",
    "        super().__init__()\n",
    "        \n",
    "        self.embedding = nn.Embedding(vocab_size, embedding_dim)\n",
    "        self.conv_0 = nn.Conv2d(in_channels=1, out_channels=n_filters, kernel_size=(filter_sizes[0], embedding_dim))\n",
    "        self.conv_1 = nn.Conv2d(in_channels=1, out_channels=n_filters, kernel_size=(filter_sizes[1], embedding_dim))\n",
    "        self.conv_2 = nn.Conv2d(in_channels=1, out_channels=n_filters, kernel_size=(filter_sizes[2], embedding_dim))\n",
    "        self.fc = nn.Linear(len(filter_sizes) * n_filters, output_dim)\n",
    "        self.dropout = nn.Dropout(dropout)\n",
    "        \n",
    "    def forward(self, x):\n",
    "        embedded = self.embedding(x)\n",
    "        embedded = embedded.unsqueeze(1)\n",
    "        ## слои\n",
    "        conved_0 = F.relu(self.conv_0(embedded).squeeze(3))\n",
    "        conved_1 = F.relu(self.conv_1(embedded).squeeze(3))\n",
    "        conved_2 = F.relu(self.conv_2(embedded).squeeze(3))\n",
    "        pooled_0 = F.max_pool1d(conved_0, conved_0.shape[2]).squeeze(2)\n",
    "        pooled_1 = F.max_pool1d(conved_1, conved_1.shape[2]).squeeze(2)\n",
    "        pooled_2 = F.max_pool1d(conved_2, conved_2.shape[2]).squeeze(2)\n",
    "        cat = self.dropout(torch.cat((pooled_0, pooled_1, pooled_2), dim=1))\n",
    "        return self.fc(cat)"
   ]
  },
  {
   "cell_type": "code",
   "execution_count": 182,
   "metadata": {
    "ExecuteTime": {
     "end_time": "2022-10-02T19:25:26.481838Z",
     "start_time": "2022-10-02T19:25:26.463646Z"
    }
   },
   "outputs": [],
   "source": [
    "## гиперпараметры\n",
    "\n",
    "INPUT_DIM = len(vocab)\n",
    "EMBEDDING_DIM = 100\n",
    "N_FILTERS = 100\n",
    "FILTER_SIZES = [3, 4, 5]\n",
    "LEARNING_RATE = 1e-3\n",
    "N_EPOCHS = 5\n",
    "\n",
    "## 3 класса\n",
    "OUTPUT_DIM = 3\n",
    "DROPOUT = 0.2\n",
    "\n",
    "## создаем модель\n",
    "model = CNN(INPUT_DIM, EMBEDDING_DIM, N_FILTERS, FILTER_SIZES, OUTPUT_DIM, DROPOUT)\n",
    "\n",
    "## оптимизатор и функция потерь\n",
    "optimizer = optim.Adam(model.parameters(), lr=LEARNING_RATE)\n",
    "criterion = nn.CrossEntropyLoss()"
   ]
  },
  {
   "cell_type": "code",
   "execution_count": 183,
   "metadata": {
    "ExecuteTime": {
     "end_time": "2022-10-02T19:31:08.179508Z",
     "start_time": "2022-10-02T19:25:27.287661Z"
    }
   },
   "outputs": [
    {
     "data": {
      "application/vnd.jupyter.widget-view+json": {
       "model_id": "",
       "version_major": 2,
       "version_minor": 0
      },
      "text/plain": [
       "  0%|          | 0/52 [00:00<?, ?it/s]"
      ]
     },
     "metadata": {},
     "output_type": "display_data"
    },
    {
     "data": {
      "application/vnd.jupyter.widget-view+json": {
       "model_id": "",
       "version_major": 2,
       "version_minor": 0
      },
      "text/plain": [
       "  0%|          | 0/4 [00:00<?, ?it/s]"
      ]
     },
     "metadata": {},
     "output_type": "display_data"
    },
    {
     "name": "stdout",
     "output_type": "stream",
     "text": [
      "Epoch: 01, Train Loss: 1.027, Train Acc: 49.09%, Val. Loss: 0.856, Val. Acc: 56.26%\n"
     ]
    },
    {
     "data": {
      "application/vnd.jupyter.widget-view+json": {
       "model_id": "",
       "version_major": 2,
       "version_minor": 0
      },
      "text/plain": [
       "  0%|          | 0/52 [00:00<?, ?it/s]"
      ]
     },
     "metadata": {},
     "output_type": "display_data"
    },
    {
     "data": {
      "application/vnd.jupyter.widget-view+json": {
       "model_id": "",
       "version_major": 2,
       "version_minor": 0
      },
      "text/plain": [
       "  0%|          | 0/4 [00:00<?, ?it/s]"
      ]
     },
     "metadata": {},
     "output_type": "display_data"
    },
    {
     "name": "stdout",
     "output_type": "stream",
     "text": [
      "Epoch: 02, Train Loss: 0.782, Train Acc: 63.98%, Val. Loss: 0.810, Val. Acc: 65.03%\n"
     ]
    },
    {
     "data": {
      "application/vnd.jupyter.widget-view+json": {
       "model_id": "",
       "version_major": 2,
       "version_minor": 0
      },
      "text/plain": [
       "  0%|          | 0/52 [00:00<?, ?it/s]"
      ]
     },
     "metadata": {},
     "output_type": "display_data"
    },
    {
     "data": {
      "application/vnd.jupyter.widget-view+json": {
       "model_id": "",
       "version_major": 2,
       "version_minor": 0
      },
      "text/plain": [
       "  0%|          | 0/4 [00:00<?, ?it/s]"
      ]
     },
     "metadata": {},
     "output_type": "display_data"
    },
    {
     "name": "stdout",
     "output_type": "stream",
     "text": [
      "Epoch: 03, Train Loss: 0.659, Train Acc: 72.04%, Val. Loss: 0.740, Val. Acc: 67.15%\n"
     ]
    },
    {
     "data": {
      "application/vnd.jupyter.widget-view+json": {
       "model_id": "",
       "version_major": 2,
       "version_minor": 0
      },
      "text/plain": [
       "  0%|          | 0/52 [00:00<?, ?it/s]"
      ]
     },
     "metadata": {},
     "output_type": "display_data"
    },
    {
     "data": {
      "application/vnd.jupyter.widget-view+json": {
       "model_id": "",
       "version_major": 2,
       "version_minor": 0
      },
      "text/plain": [
       "  0%|          | 0/4 [00:00<?, ?it/s]"
      ]
     },
     "metadata": {},
     "output_type": "display_data"
    },
    {
     "name": "stdout",
     "output_type": "stream",
     "text": [
      "Epoch: 04, Train Loss: 0.582, Train Acc: 76.34%, Val. Loss: 0.751, Val. Acc: 63.94%\n"
     ]
    },
    {
     "data": {
      "application/vnd.jupyter.widget-view+json": {
       "model_id": "",
       "version_major": 2,
       "version_minor": 0
      },
      "text/plain": [
       "  0%|          | 0/52 [00:00<?, ?it/s]"
      ]
     },
     "metadata": {},
     "output_type": "display_data"
    },
    {
     "data": {
      "application/vnd.jupyter.widget-view+json": {
       "model_id": "",
       "version_major": 2,
       "version_minor": 0
      },
      "text/plain": [
       "  0%|          | 0/4 [00:00<?, ?it/s]"
      ]
     },
     "metadata": {},
     "output_type": "display_data"
    },
    {
     "name": "stdout",
     "output_type": "stream",
     "text": [
      "Epoch: 05, Train Loss: 0.512, Train Acc: 80.14%, Val. Loss: 0.706, Val. Acc: 67.76%\n"
     ]
    }
   ],
   "source": [
    "for epoch in range(N_EPOCHS):\n",
    "    train_loss, train_acc = train_func(model, train_loader, optimizer, criterion)\n",
    "    valid_loss, valid_acc = evaluate_func(model, test_loader, criterion)\n",
    "    \n",
    "    print(f'Epoch: {epoch+1:02}, Train Loss: {train_loss:.3f}, Train Acc: {train_acc*100:.2f}%, Val. Loss: {valid_loss:.3f}, Val. Acc: {valid_acc*100:.2f}%')"
   ]
  },
  {
   "cell_type": "code",
   "execution_count": 184,
   "metadata": {
    "ExecuteTime": {
     "end_time": "2022-10-02T19:31:13.176592Z",
     "start_time": "2022-10-02T19:31:08.182856Z"
    }
   },
   "outputs": [
    {
     "data": {
      "application/vnd.jupyter.widget-view+json": {
       "model_id": "",
       "version_major": 2,
       "version_minor": 0
      },
      "text/plain": [
       "  0%|          | 0/4 [00:00<?, ?it/s]"
      ]
     },
     "metadata": {},
     "output_type": "display_data"
    },
    {
     "name": "stdout",
     "output_type": "stream",
     "text": [
      "Macro F1: 0.650681111296215\n"
     ]
    }
   ],
   "source": [
    "y_pred = predict(model, test_loader)\n",
    "print('Macro F1:', f1_score(df_test['sentiment'], y_pred, average='macro'))"
   ]
  },
  {
   "cell_type": "markdown",
   "metadata": {},
   "source": [
    "### param fitting"
   ]
  },
  {
   "cell_type": "code",
   "execution_count": 306,
   "metadata": {
    "ExecuteTime": {
     "end_time": "2022-10-02T20:27:49.579142Z",
     "start_time": "2022-10-02T20:27:49.569703Z"
    }
   },
   "outputs": [],
   "source": [
    "## Перебор параметров для поиска наилучших.\n",
    "\n",
    "def search_params(n_filters = [50, 100], filter_sizes = [[3, 4, 5], [4, 5, 6]]):\n",
    "    \n",
    "    best_params = {}\n",
    "    INPUT_DIM = len(vocab)\n",
    "    EMBEDDING_DIM = 100\n",
    "    OUTPUT_DIM = 3 ## now it is n_classes\n",
    "    DROPOUT = 0.2\n",
    "    LEARNING_RATE = 1e-2\n",
    "    N_EPOCHS = 4\n",
    "    \n",
    "    \n",
    "    for N_FILTER, FILTER_SIZE in tqdm(list(product(n_filters, filter_sizes))):\n",
    "        model = CNN(INPUT_DIM, EMBEDDING_DIM, N_FILTER, FILTER_SIZE, OUTPUT_DIM, DROPOUT)\n",
    "        optimizer = optim.Adam(model.parameters(), lr=LEARNING_RATE)\n",
    "        criterion = nn.CrossEntropyLoss()\n",
    "        \n",
    "\n",
    "        for epoch in range(N_EPOCHS):\n",
    "            train_loss, train_acc = train_func(model, train_loader, optimizer, criterion)\n",
    "            \n",
    "        y_pred = predict(model, test_loader)\n",
    "        score = f1_score(df_test['sentiment'], y_pred, average='macro')\n",
    "        print(f'N_FILTERS {N_FILTER}, FILTER_SIZES {FILTER_SIZE}, SCORE: {score}')\n",
    "        \n",
    "        \n",
    "        if best_params == {} or score > best_params['BEST_SCORE']:\n",
    "            best_params['N_FILTERS'] = N_FILTER\n",
    "            best_params['FILTER_SIZES'] = FILTER_SIZE\n",
    "            best_params['BEST_SCORE'] = score\n",
    "        \n",
    "    \n",
    "    return best_params\n",
    "        "
   ]
  },
  {
   "cell_type": "code",
   "execution_count": 307,
   "metadata": {
    "ExecuteTime": {
     "end_time": "2022-10-02T20:44:29.871060Z",
     "start_time": "2022-10-02T20:27:50.230895Z"
    }
   },
   "outputs": [
    {
     "data": {
      "application/vnd.jupyter.widget-view+json": {
       "model_id": "f5867c57a78045d2bdf3d3c52ec6cb6a",
       "version_major": 2,
       "version_minor": 0
      },
      "text/plain": [
       "  0%|          | 0/4 [00:00<?, ?it/s]"
      ]
     },
     "metadata": {},
     "output_type": "display_data"
    },
    {
     "data": {
      "application/vnd.jupyter.widget-view+json": {
       "model_id": "",
       "version_major": 2,
       "version_minor": 0
      },
      "text/plain": [
       "  0%|          | 0/52 [00:00<?, ?it/s]"
      ]
     },
     "metadata": {},
     "output_type": "display_data"
    },
    {
     "data": {
      "application/vnd.jupyter.widget-view+json": {
       "model_id": "",
       "version_major": 2,
       "version_minor": 0
      },
      "text/plain": [
       "  0%|          | 0/52 [00:00<?, ?it/s]"
      ]
     },
     "metadata": {},
     "output_type": "display_data"
    },
    {
     "data": {
      "application/vnd.jupyter.widget-view+json": {
       "model_id": "",
       "version_major": 2,
       "version_minor": 0
      },
      "text/plain": [
       "  0%|          | 0/52 [00:00<?, ?it/s]"
      ]
     },
     "metadata": {},
     "output_type": "display_data"
    },
    {
     "data": {
      "application/vnd.jupyter.widget-view+json": {
       "model_id": "",
       "version_major": 2,
       "version_minor": 0
      },
      "text/plain": [
       "  0%|          | 0/52 [00:00<?, ?it/s]"
      ]
     },
     "metadata": {},
     "output_type": "display_data"
    },
    {
     "data": {
      "application/vnd.jupyter.widget-view+json": {
       "model_id": "",
       "version_major": 2,
       "version_minor": 0
      },
      "text/plain": [
       "  0%|          | 0/4 [00:00<?, ?it/s]"
      ]
     },
     "metadata": {},
     "output_type": "display_data"
    },
    {
     "name": "stdout",
     "output_type": "stream",
     "text": [
      "N_FILTERS 50, FILTER_SIZES [3, 4, 5], SCORE: 0.5895320756795898\n"
     ]
    },
    {
     "data": {
      "application/vnd.jupyter.widget-view+json": {
       "model_id": "",
       "version_major": 2,
       "version_minor": 0
      },
      "text/plain": [
       "  0%|          | 0/52 [00:00<?, ?it/s]"
      ]
     },
     "metadata": {},
     "output_type": "display_data"
    },
    {
     "data": {
      "application/vnd.jupyter.widget-view+json": {
       "model_id": "",
       "version_major": 2,
       "version_minor": 0
      },
      "text/plain": [
       "  0%|          | 0/52 [00:00<?, ?it/s]"
      ]
     },
     "metadata": {},
     "output_type": "display_data"
    },
    {
     "data": {
      "application/vnd.jupyter.widget-view+json": {
       "model_id": "",
       "version_major": 2,
       "version_minor": 0
      },
      "text/plain": [
       "  0%|          | 0/52 [00:00<?, ?it/s]"
      ]
     },
     "metadata": {},
     "output_type": "display_data"
    },
    {
     "data": {
      "application/vnd.jupyter.widget-view+json": {
       "model_id": "",
       "version_major": 2,
       "version_minor": 0
      },
      "text/plain": [
       "  0%|          | 0/52 [00:00<?, ?it/s]"
      ]
     },
     "metadata": {},
     "output_type": "display_data"
    },
    {
     "data": {
      "application/vnd.jupyter.widget-view+json": {
       "model_id": "",
       "version_major": 2,
       "version_minor": 0
      },
      "text/plain": [
       "  0%|          | 0/4 [00:00<?, ?it/s]"
      ]
     },
     "metadata": {},
     "output_type": "display_data"
    },
    {
     "name": "stdout",
     "output_type": "stream",
     "text": [
      "N_FILTERS 50, FILTER_SIZES [4, 5, 6], SCORE: 0.6832379326425837\n"
     ]
    },
    {
     "data": {
      "application/vnd.jupyter.widget-view+json": {
       "model_id": "",
       "version_major": 2,
       "version_minor": 0
      },
      "text/plain": [
       "  0%|          | 0/52 [00:00<?, ?it/s]"
      ]
     },
     "metadata": {},
     "output_type": "display_data"
    },
    {
     "data": {
      "application/vnd.jupyter.widget-view+json": {
       "model_id": "",
       "version_major": 2,
       "version_minor": 0
      },
      "text/plain": [
       "  0%|          | 0/52 [00:00<?, ?it/s]"
      ]
     },
     "metadata": {},
     "output_type": "display_data"
    },
    {
     "data": {
      "application/vnd.jupyter.widget-view+json": {
       "model_id": "",
       "version_major": 2,
       "version_minor": 0
      },
      "text/plain": [
       "  0%|          | 0/52 [00:00<?, ?it/s]"
      ]
     },
     "metadata": {},
     "output_type": "display_data"
    },
    {
     "data": {
      "application/vnd.jupyter.widget-view+json": {
       "model_id": "",
       "version_major": 2,
       "version_minor": 0
      },
      "text/plain": [
       "  0%|          | 0/52 [00:00<?, ?it/s]"
      ]
     },
     "metadata": {},
     "output_type": "display_data"
    },
    {
     "data": {
      "application/vnd.jupyter.widget-view+json": {
       "model_id": "",
       "version_major": 2,
       "version_minor": 0
      },
      "text/plain": [
       "  0%|          | 0/4 [00:00<?, ?it/s]"
      ]
     },
     "metadata": {},
     "output_type": "display_data"
    },
    {
     "name": "stdout",
     "output_type": "stream",
     "text": [
      "N_FILTERS 100, FILTER_SIZES [3, 4, 5], SCORE: 0.6627439168973247\n"
     ]
    },
    {
     "data": {
      "application/vnd.jupyter.widget-view+json": {
       "model_id": "",
       "version_major": 2,
       "version_minor": 0
      },
      "text/plain": [
       "  0%|          | 0/52 [00:00<?, ?it/s]"
      ]
     },
     "metadata": {},
     "output_type": "display_data"
    },
    {
     "data": {
      "application/vnd.jupyter.widget-view+json": {
       "model_id": "",
       "version_major": 2,
       "version_minor": 0
      },
      "text/plain": [
       "  0%|          | 0/52 [00:00<?, ?it/s]"
      ]
     },
     "metadata": {},
     "output_type": "display_data"
    },
    {
     "data": {
      "application/vnd.jupyter.widget-view+json": {
       "model_id": "",
       "version_major": 2,
       "version_minor": 0
      },
      "text/plain": [
       "  0%|          | 0/52 [00:00<?, ?it/s]"
      ]
     },
     "metadata": {},
     "output_type": "display_data"
    },
    {
     "data": {
      "application/vnd.jupyter.widget-view+json": {
       "model_id": "",
       "version_major": 2,
       "version_minor": 0
      },
      "text/plain": [
       "  0%|          | 0/52 [00:00<?, ?it/s]"
      ]
     },
     "metadata": {},
     "output_type": "display_data"
    },
    {
     "data": {
      "application/vnd.jupyter.widget-view+json": {
       "model_id": "",
       "version_major": 2,
       "version_minor": 0
      },
      "text/plain": [
       "  0%|          | 0/4 [00:00<?, ?it/s]"
      ]
     },
     "metadata": {},
     "output_type": "display_data"
    },
    {
     "name": "stdout",
     "output_type": "stream",
     "text": [
      "N_FILTERS 100, FILTER_SIZES [4, 5, 6], SCORE: 0.6926485088143893\n"
     ]
    }
   ],
   "source": [
    "n_filters = [50, 100] \n",
    "filter_sizes = [[3, 4, 5], [4, 5, 6]]\n",
    "\n",
    "best_params = search_params(n_filters, filter_sizes)"
   ]
  },
  {
   "cell_type": "code",
   "execution_count": 308,
   "metadata": {
    "ExecuteTime": {
     "end_time": "2022-10-02T20:50:07.510549Z",
     "start_time": "2022-10-02T20:44:48.689343Z"
    }
   },
   "outputs": [
    {
     "data": {
      "application/vnd.jupyter.widget-view+json": {
       "model_id": "",
       "version_major": 2,
       "version_minor": 0
      },
      "text/plain": [
       "  0%|          | 0/52 [00:00<?, ?it/s]"
      ]
     },
     "metadata": {},
     "output_type": "display_data"
    },
    {
     "data": {
      "application/vnd.jupyter.widget-view+json": {
       "model_id": "",
       "version_major": 2,
       "version_minor": 0
      },
      "text/plain": [
       "  0%|          | 0/52 [00:00<?, ?it/s]"
      ]
     },
     "metadata": {},
     "output_type": "display_data"
    },
    {
     "data": {
      "application/vnd.jupyter.widget-view+json": {
       "model_id": "",
       "version_major": 2,
       "version_minor": 0
      },
      "text/plain": [
       "  0%|          | 0/52 [00:00<?, ?it/s]"
      ]
     },
     "metadata": {},
     "output_type": "display_data"
    },
    {
     "data": {
      "application/vnd.jupyter.widget-view+json": {
       "model_id": "",
       "version_major": 2,
       "version_minor": 0
      },
      "text/plain": [
       "  0%|          | 0/52 [00:00<?, ?it/s]"
      ]
     },
     "metadata": {},
     "output_type": "display_data"
    },
    {
     "data": {
      "application/vnd.jupyter.widget-view+json": {
       "model_id": "",
       "version_major": 2,
       "version_minor": 0
      },
      "text/plain": [
       "  0%|          | 0/5 [00:00<?, ?it/s]"
      ]
     },
     "metadata": {},
     "output_type": "display_data"
    }
   ],
   "source": [
    "## обучаем модель с оптимальными параметрами\n",
    "\n",
    "INPUT_DIM = len(vocab)\n",
    "EMBEDDING_DIM = 100\n",
    "N_FILTERS = best_params['N_FILTERS']\n",
    "FILTER_SIZES = best_params['FILTER_SIZES']\n",
    "LEARNING_RATE = 1e-2\n",
    "N_EPOCHS = 4\n",
    "OUTPUT_DIM = 3\n",
    "DROPOUT = 0.2\n",
    "\n",
    "model = CNN(INPUT_DIM, EMBEDDING_DIM, N_FILTERS, FILTER_SIZES, OUTPUT_DIM, DROPOUT)\n",
    "\n",
    "optimizer = optim.Adam(model.parameters(), lr=LEARNING_RATE)\n",
    "criterion = nn.CrossEntropyLoss()\n",
    "\n",
    "for epoch in range(N_EPOCHS):\n",
    "    train_loss, train_acc = train_func(model, train_loader, optimizer, criterion)\n",
    "\n",
    "y_kaggle = predict(model, kaggle_loader)\n",
    "df_kaggle['sentiment'] = lenc.inverse_transform(y_kaggle)\n",
    "df_kaggle[['id', 'sentiment']].to_csv('best_cnn.csv', index=False)"
   ]
  },
  {
   "attachments": {
    "Screenshot%202022-10-02%20at%2023.50.42.png": {
     "image/png": "[encoded data removed]"
    }
   },
   "cell_type": "markdown",
   "metadata": {},
   "source": [
    "![Screenshot%202022-10-02%20at%2023.50.42.png](attachment:Screenshot%202022-10-02%20at%2023.50.42.png)"
   ]
  },
  {
   "cell_type": "markdown",
   "metadata": {},
   "source": [
    "## Augmentation"
   ]
  },
  {
   "cell_type": "code",
   "execution_count": null,
   "metadata": {},
   "outputs": [],
   "source": [
    "## меняем соседние слова местами\n",
    "\n",
    "def swap_augm(x):\n",
    "    a = np.array(x.split())\n",
    "    a = np.concatenate([(a[1::2][i], a[::2][i]) for i in range(a.shape[0] // 2)])\n",
    "    \n",
    "    return \" \".join(a)\n",
    "\n",
    "## удаляем слова из предложения с вероятностью p\n",
    "def delete_augm(x):\n",
    "    p = 0.2\n",
    "    \n",
    "    res = np.array([])\n",
    "    a = np.array(x.split())\n",
    "    for i in range(a.shape[0]):\n",
    "        n = np.random.random()\n",
    "        if n < 1 - p:\n",
    "            res = np.append(res, a[i])\n",
    "    \n",
    "    \n",
    "    return \" \".join(res)"
   ]
  },
  {
   "cell_type": "code",
   "execution_count": 280,
   "metadata": {
    "ExecuteTime": {
     "end_time": "2022-10-02T20:19:59.979539Z",
     "start_time": "2022-10-02T20:19:08.140490Z"
    }
   },
   "outputs": [
    {
     "data": {
      "application/vnd.jupyter.widget-view+json": {
       "model_id": "b2cda725eb0e4dbc8bd3e6d61faadb4b",
       "version_major": 2,
       "version_minor": 0
      },
      "text/plain": [
       "  0%|          | 0/5536 [00:00<?, ?it/s]"
      ]
     },
     "metadata": {},
     "output_type": "display_data"
    },
    {
     "data": {
      "application/vnd.jupyter.widget-view+json": {
       "model_id": "cc203dfc9b28419790e73391e5ab691a",
       "version_major": 2,
       "version_minor": 0
      },
      "text/plain": [
       "  0%|          | 0/5536 [00:00<?, ?it/s]"
      ]
     },
     "metadata": {},
     "output_type": "display_data"
    }
   ],
   "source": [
    "df_copy = df.copy()\n",
    "df_train, df_test = train_test_split(df_copy, test_size=0.33)\n",
    "df_train['text_augmentated1'] = df_train['text_lemmatized'].progress_apply(lambda x: swap_augm(x))\n",
    "df_train['text_augmentated2'] = df_train['text_lemmatized'].progress_apply(lambda x: delete_augm(x))\n",
    "df_train = pd.concat([df_train,\n",
    "           df_train[['sentiment', 'text_augmentated1']].rename(columns={'text_augmentated1': 'text_lemmatized'}),\n",
    "          df_train[['sentiment', 'text_augmentated2']].rename(columns={'text_augmentated2': 'text_lemmatized'})], axis=0)\n",
    "\n"
   ]
  },
  {
   "cell_type": "code",
   "execution_count": 281,
   "metadata": {
    "ExecuteTime": {
     "end_time": "2022-10-02T20:19:59.986911Z",
     "start_time": "2022-10-02T20:19:59.981533Z"
    }
   },
   "outputs": [
    {
     "name": "stdout",
     "output_type": "stream",
     "text": [
      "total train examples 16608\n",
      "total test examples 2727\n"
     ]
    }
   ],
   "source": [
    "X_train, X_test, y_train, y_test =\\\n",
    "np.array(df_train['text_lemmatized']), np.array(df_test['text_lemmatized']),\\\n",
    "np.array(df_train['sentiment']), np.array(df_test['sentiment'])\n",
    "\n",
    "print(\"total train examples %s\" % len(y_train))\n",
    "print(\"total test examples %s\" % len(y_test))"
   ]
  },
  {
   "cell_type": "code",
   "execution_count": 282,
   "metadata": {
    "ExecuteTime": {
     "end_time": "2022-10-02T20:20:06.719716Z",
     "start_time": "2022-10-02T20:20:06.354830Z"
    }
   },
   "outputs": [],
   "source": [
    "## запишем полученные выборки в файлы\n",
    "\n",
    "with open('data.train.txt', 'w+', encoding='utf-8') as outfile:\n",
    "    for i in range(len(X_train)):\n",
    "        outfile.write('__label__' + y_train[i] + ' '+ X_train[i] + '\\n')\n",
    "    \n",
    "\n",
    "with open('dev.txt', 'w+', encoding='utf-8') as outfile:\n",
    "    for i in range(len(X_test)):\n",
    "        outfile.write('__label__' + y_test[i] + ' ' + X_test[i] + '\\n')"
   ]
  },
  {
   "cell_type": "code",
   "execution_count": 283,
   "metadata": {
    "ExecuteTime": {
     "end_time": "2022-10-02T20:20:13.250998Z",
     "start_time": "2022-10-02T20:20:06.777478Z"
    }
   },
   "outputs": [
    {
     "name": "stderr",
     "output_type": "stream",
     "text": [
      "Read 6M words\n",
      "Number of words:  71834\n",
      "Number of labels: 3\n",
      "Progress: 100.0% words/sec/thread: 2654031 lr:  0.000000 avg.loss:  0.334485 ETA:   0h 0m 0s 45.8% words/sec/thread: 2663392 lr:  0.054206 avg.loss:  0.502374 ETA:   0h 0m 2s\n"
     ]
    },
    {
     "name": "stdout",
     "output_type": "stream",
     "text": [
      "Macro F1: 0.6919177892081011\n"
     ]
    }
   ],
   "source": [
    "## обучим fasttext и измерим скор\n",
    "\n",
    "classifier = fasttext.train_supervised('data.train.txt', epoch=15)\n",
    "\n",
    "y_pred = classifier.predict(X_test.tolist())\n",
    "print('Macro F1:', f1_score(np.array(list(map(lambda x : \"__label__\" + x, y_test))),\n",
    "                            np.array(y_pred[0]).squeeze(), average='macro'))"
   ]
  },
  {
   "cell_type": "markdown",
   "metadata": {},
   "source": [
    "## bonus experiments"
   ]
  },
  {
   "cell_type": "code",
   "execution_count": 284,
   "metadata": {
    "ExecuteTime": {
     "end_time": "2022-10-02T20:20:17.965996Z",
     "start_time": "2022-10-02T20:20:17.544221Z"
    }
   },
   "outputs": [],
   "source": [
    "from xgboost import XGBClassifier"
   ]
  },
  {
   "cell_type": "code",
   "execution_count": 291,
   "metadata": {
    "ExecuteTime": {
     "end_time": "2022-10-02T20:22:05.623298Z",
     "start_time": "2022-10-02T20:21:54.607727Z"
    }
   },
   "outputs": [],
   "source": [
    "w2v = word2vec.Word2Vec(sentences=df['text_lemmatized'].str.split())"
   ]
  },
  {
   "cell_type": "code",
   "execution_count": 292,
   "metadata": {
    "ExecuteTime": {
     "end_time": "2022-10-02T20:22:05.630832Z",
     "start_time": "2022-10-02T20:22:05.625675Z"
    }
   },
   "outputs": [],
   "source": [
    "## create mean sentence vector\n",
    "\n",
    "def avg_word_vectors(w2v, wordlist):\n",
    "    sumvec = np.zeros(shape=(1, w2v.vector_size))\n",
    "    cnt = 0\n",
    "    for w in wordlist:\n",
    "        if w in w2v.wv.key_to_index:\n",
    "            sumvec += w2v.wv[w]\n",
    "            cnt += 1\n",
    "    if cnt == 0:\n",
    "        cnt = 1\n",
    "    return sumvec / cnt"
   ]
  },
  {
   "cell_type": "code",
   "execution_count": 293,
   "metadata": {
    "ExecuteTime": {
     "end_time": "2022-10-02T20:22:24.272271Z",
     "start_time": "2022-10-02T20:22:12.281532Z"
    }
   },
   "outputs": [],
   "source": [
    "X = df['text_lemmatized'].str.split()\n",
    "y = df['sentiment']\n",
    "\n",
    "X = np.concatenate(X.apply(lambda x : avg_word_vectors(w2v, x)).values)\n",
    "y = np.array(y)\n",
    "\n",
    "X_train, X_test, y_train, y_test = train_test_split(X, y, test_size=0.33)"
   ]
  },
  {
   "cell_type": "code",
   "execution_count": 294,
   "metadata": {
    "ExecuteTime": {
     "end_time": "2022-10-02T20:22:36.659371Z",
     "start_time": "2022-10-02T20:22:27.752968Z"
    }
   },
   "outputs": [
    {
     "name": "stdout",
     "output_type": "stream",
     "text": [
      "[23:22:27] WARNING: /Users/runner/miniforge3/conda-bld/xgboost-split_1645117948562/work/src/learner.cc:1115: Starting in XGBoost 1.3.0, the default evaluation metric used with the objective 'multi:softprob' was changed from 'merror' to 'mlogloss'. Explicitly set eval_metric if you'd like to restore the old behavior.\n"
     ]
    },
    {
     "data": {
      "text/plain": [
       "XGBClassifier(base_score=0.5, booster='gbtree', colsample_bylevel=1,\n",
       "              colsample_bynode=1, colsample_bytree=1, enable_categorical=False,\n",
       "              gamma=0, gpu_id=-1, importance_type=None,\n",
       "              interaction_constraints='', learning_rate=0.300000012,\n",
       "              max_delta_step=0, max_depth=6, min_child_weight=1, missing=nan,\n",
       "              monotone_constraints='()', n_estimators=100, n_jobs=8,\n",
       "              num_parallel_tree=1, objective='multi:softprob', predictor='auto',\n",
       "              random_state=0, reg_alpha=0, reg_lambda=1, scale_pos_weight=None,\n",
       "              subsample=1, tree_method='exact', validate_parameters=1,\n",
       "              verbosity=None)"
      ]
     },
     "execution_count": 294,
     "metadata": {},
     "output_type": "execute_result"
    }
   ],
   "source": [
    "model = XGBClassifier()\n",
    "model.fit(X_train, y_train)"
   ]
  },
  {
   "cell_type": "code",
   "execution_count": 295,
   "metadata": {
    "ExecuteTime": {
     "end_time": "2022-10-02T20:22:36.709340Z",
     "start_time": "2022-10-02T20:22:36.662667Z"
    }
   },
   "outputs": [
    {
     "name": "stdout",
     "output_type": "stream",
     "text": [
      "Macro F1: 0.6601841686995129\n"
     ]
    }
   ],
   "source": [
    "y_pred = model.predict(X_test)\n",
    "print('Macro F1:', f1_score(y_test, y_pred, average='macro'))"
   ]
  },
  {
   "cell_type": "markdown",
   "metadata": {},
   "source": [
    "## Часть 4. [1 балл] Итоги\n",
    "Напишите краткое резюме проделанной работы. Обобщите все полученные вами результаты и сделайте выводы."
   ]
  },
  {
   "cell_type": "markdown",
   "metadata": {},
   "source": [
    "Проведя анализ текстов, мы выяснили что главной их тематикой является внутренняя экономика казахстана 2016 года. Мы обнаружили, что характерной чертой негативного класса было употребление слова \"енпф\".\n",
    "\n",
    "В качестве модели представления слов был выбран Word2Vec. Для проверки корректности ее обучения на наших данных, мы визуализировали результаты помощью TSNE и посмотрели на синонимы и удаление лишних слов.\n",
    "\n",
    "Для псоледующих экспериментов мы проводили очистку текста с помощью удаления стоп слов и пунктуации для уменьшения \"шумности\" текста, а так же примененяли лемматизацию для приведения слов к нормальной форме.\n",
    "\n",
    "В качестве бейслайна был выбран классификатор fasttext. Полученный скор на валидации и на kaggle boardе составил 0.69\n",
    "\n",
    "\n",
    "В качестве продвинутого классификатора была написана свою сверточная сеть, состояющая из 3 сверточных слоев, Relu между ними, а также Linear и Dropout слоев. Был произведен перебор фильтров для CNN, найдены лучшие значения и получены предсказания с момощью модели с этими параметрами. F1 score на валидации получился равным 0.69, а в соревновании kaggle - 0.66, что хуже чем у fasttext.\n",
    "\n",
    "В качестве аугментации мы решили добавить случайное удаление слов из текстов с вероятностью p, а также перестановку соседнгих слов. Аугментация не дала прироста в качестве.\n",
    "\n",
    "Бонусный эксперимент проводился с использованием XGBCLassifier из библиотеки xgboost. Полученный скор - 0.66, что хуже чем во всех ранее описанных экспериментах.\n",
    "\n"
   ]
  },
  {
   "cell_type": "code",
   "execution_count": null,
   "metadata": {},
   "outputs": [],
   "source": []
  }
 ],
 "metadata": {
  "colab": {
   "name": "hw1.ipynb",
   "provenance": []
  },
  "kernelspec": {
   "display_name": "Python 3 (ipykernel)",
   "language": "python",
   "name": "python3"
  },
  "language_info": {
   "codemirror_mode": {
    "name": "ipython",
    "version": 3
   },
   "file_extension": ".py",
   "mimetype": "text/x-python",
   "name": "python",
   "nbconvert_exporter": "python",
   "pygments_lexer": "ipython3",
   "version": "3.9.7"
  },
  "toc": {
   "base_numbering": 1,
   "nav_menu": {},
   "number_sections": true,
   "sideBar": true,
   "skip_h1_title": false,
   "title_cell": "Table of Contents",
   "title_sidebar": "Contents",
   "toc_cell": false,
   "toc_position": {},
   "toc_section_display": true,
   "toc_window_display": false
  }
 },
 "nbformat": 4,
 "nbformat_minor": 1
}
