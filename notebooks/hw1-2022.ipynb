{
 "cells": [
  {
   "cell_type": "markdown",
   "metadata": {},
   "source": [
    "### Работу выполняли\n",
    "**Соколов Ян\\\n",
    "Екимов Егор\\\n",
    "Токкожин Арсен**"
   ]
  },
  {
   "cell_type": "code",
   "execution_count": null,
   "metadata": {},
   "outputs": [],
   "source": []
  },
  {
   "cell_type": "markdown",
   "metadata": {
    "colab_type": "text",
    "id": "cDlh5WB_SkfZ"
   },
   "source": [
    "# Домашнее задание 1\n",
    "## Sentiment Analysis in Russian\n",
    "\n",
    "*deadline*: 2 октября 2022, 23:59\n",
    "\n",
    "В этом домашнем задании вы будете работать с корпусом новостных текстов на русском языке. Корпус собран из заметок новостных сайтов с указанием на тональность данного текста.\n",
    "\n",
    "Корпус описан и представлен по ссылке: https://www.kaggle.com/competitions/sentiment-analysis-in-russian/data\n",
    "\n",
    "Части 1, 2 задания должны быть выполнены на полных текстах, Часть 3 – на разбиении на тестовое, отладочное и обучающее множества (которое вы должно произвести самостоятельно). Тестовое множество должно быть использовано исключительно для тестирования моделей, обучающее и отладочное – для выбора модели и параметров. \n",
    "\n",
    "\n",
    "## ПРАВИЛА\n",
    "1. Домашнее задание выполняется в группе до 3-х человек.\n",
    "2. Домашнее задание оформляется в виде отчета либо в .pdf файле, либо jupyter-тетрадке. \n",
    "3. Отчет должен содержать: имена всех членов группы, нумерацию заданий и пунктов, которые вы выполнили, код решения, и понятное пошаговое описание того, что вы сделали. Отчет должен быть написан в академическом стиле, без излишнего использования сленга и с соблюдением норм русского языка.\n",
    "4. Не стоит копировать фрагменты лекций, статей и Википедии в ваш отчет.\n",
    "5. Отчеты, состоящие исключительно из кода, не будут проверены и будут автоматически оценены нулевой оценкой.\n",
    "6. Плагиат и любое недобросовестное цитирование приводит к обнулению оценки. "
   ]
  },
  {
   "cell_type": "code",
   "execution_count": 1,
   "metadata": {
    "ExecuteTime": {
     "end_time": "2022-09-22T19:26:41.287361Z",
     "start_time": "2022-09-22T19:26:41.283162Z"
    },
    "colab": {},
    "colab_type": "code",
    "id": "09cqK5nbSkfo",
    "jupyter": {
     "outputs_hidden": true
    }
   },
   "outputs": [],
   "source": [
    "# !unzip sentiment-analysis-in-russian.zip"
   ]
  },
  {
   "cell_type": "markdown",
   "metadata": {},
   "source": [
    "## Часть 1. [2 балла] Эксплоративный анализ \n",
    "1. Найдите топ-300 слов по частоте без учета стоп-слов.\n",
    "2. Найдите топ слов, характеризующих каждую тональность отдельно. \n",
    "\n",
    "[бонус] Постройте тематическую модель по данному корпусу.\n",
    "\n",
    "[бонус] Найдите еще что-то интересное в корпусе (что-то специфичное для данной темы)"
   ]
  },
  {
   "cell_type": "code",
   "execution_count": 12,
   "metadata": {
    "ExecuteTime": {
     "end_time": "2022-10-01T11:41:30.596501Z",
     "start_time": "2022-10-01T11:41:28.038164Z"
    }
   },
   "outputs": [],
   "source": [
    "import pandas as pd\n",
    "from nltk.corpus import stopwords\n",
    "from nltk.tokenize import word_tokenize\n",
    "from string import punctuation\n",
    "import matplotlib.pyplot as plt\n",
    "\n",
    "plt.style.use('ggplot')\n"
   ]
  },
  {
   "cell_type": "code",
   "execution_count": 3,
   "metadata": {
    "ExecuteTime": {
     "end_time": "2022-10-01T11:38:21.238633Z",
     "start_time": "2022-10-01T11:38:20.568763Z"
    },
    "colab": {},
    "colab_type": "code",
    "id": "RNK9lk9RSkg_"
   },
   "outputs": [
    {
     "data": {
      "text/html": [
       "<div>\n",
       "<style scoped>\n",
       "    .dataframe tbody tr th:only-of-type {\n",
       "        vertical-align: middle;\n",
       "    }\n",
       "\n",
       "    .dataframe tbody tr th {\n",
       "        vertical-align: top;\n",
       "    }\n",
       "\n",
       "    .dataframe thead th {\n",
       "        text-align: right;\n",
       "    }\n",
       "</style>\n",
       "<table border=\"1\" class=\"dataframe\">\n",
       "  <thead>\n",
       "    <tr style=\"text-align: right;\">\n",
       "      <th></th>\n",
       "      <th>text</th>\n",
       "      <th>id</th>\n",
       "      <th>sentiment</th>\n",
       "    </tr>\n",
       "  </thead>\n",
       "  <tbody>\n",
       "    <tr>\n",
       "      <th>0</th>\n",
       "      <td>Досудебное расследование по факту покупки ЕНПФ...</td>\n",
       "      <td>1945</td>\n",
       "      <td>negative</td>\n",
       "    </tr>\n",
       "    <tr>\n",
       "      <th>1</th>\n",
       "      <td>Медики рассказали о состоянии пострадавшего му...</td>\n",
       "      <td>1957</td>\n",
       "      <td>negative</td>\n",
       "    </tr>\n",
       "    <tr>\n",
       "      <th>2</th>\n",
       "      <td>Прошел почти год, как железнодорожным оператор...</td>\n",
       "      <td>1969</td>\n",
       "      <td>negative</td>\n",
       "    </tr>\n",
       "    <tr>\n",
       "      <th>3</th>\n",
       "      <td>По итогам 12 месяцев 2016 года на территории р...</td>\n",
       "      <td>1973</td>\n",
       "      <td>negative</td>\n",
       "    </tr>\n",
       "    <tr>\n",
       "      <th>4</th>\n",
       "      <td>Астана. 21 ноября. Kazakhstan Today - Агентств...</td>\n",
       "      <td>1975</td>\n",
       "      <td>negative</td>\n",
       "    </tr>\n",
       "  </tbody>\n",
       "</table>\n",
       "</div>"
      ],
      "text/plain": [
       "                                                text    id sentiment\n",
       "0  Досудебное расследование по факту покупки ЕНПФ...  1945  negative\n",
       "1  Медики рассказали о состоянии пострадавшего му...  1957  negative\n",
       "2  Прошел почти год, как железнодорожным оператор...  1969  negative\n",
       "3  По итогам 12 месяцев 2016 года на территории р...  1973  negative\n",
       "4  Астана. 21 ноября. Kazakhstan Today - Агентств...  1975  negative"
      ]
     },
     "execution_count": 3,
     "metadata": {},
     "output_type": "execute_result"
    }
   ],
   "source": [
    "## считаем данные\n",
    "\n",
    "df = pd.read_json('train.json')\n",
    "df.head()"
   ]
  },
  {
   "cell_type": "code",
   "execution_count": 11,
   "metadata": {
    "ExecuteTime": {
     "end_time": "2022-10-01T11:39:36.181427Z",
     "start_time": "2022-10-01T11:39:36.170555Z"
    }
   },
   "outputs": [
    {
     "data": {
      "text/plain": [
       "neutral     48\n",
       "positive    33\n",
       "negative    17\n",
       "Name: sentiment, dtype: int64"
      ]
     },
     "execution_count": 11,
     "metadata": {},
     "output_type": "execute_result"
    }
   ],
   "source": [
    "## посмотрим на распределение классов\n",
    "(df['sentiment'].value_counts(normalize=True) * 100).astype(int)"
   ]
  },
  {
   "cell_type": "code",
   "execution_count": 15,
   "metadata": {
    "ExecuteTime": {
     "end_time": "2022-10-01T11:41:40.970709Z",
     "start_time": "2022-10-01T11:41:40.963123Z"
    },
    "colab": {},
    "colab_type": "code",
    "id": "bcfq1-dNSkho"
   },
   "outputs": [
    {
     "data": {
      "text/plain": [
       "'«Здесь уже нет того транспортного коллапса, который возник в первый день ее внедрения. Чтобы ситуация не повторилась, представители компании «Astra Park» намерены усовершенствовать систему с учетом ошибок», - указывается в статье.   \\n\\nНапомним, первый день введения платных парковок на привокзальной площадь выдался суматошным как для водителей, так и для представителей компании «Астана LRT». \\n\\n«Местные бомбилы, облюбовавшие прибыльное место, устроили настоящий саботаж. На завязавшийся спор туже отреагировало руководство ТОО «Астана LRT», отправившись в самую гущу происходящего. Затем экстренно был организован брифинг для журналистов, дабы разъяснить возникшую ситуацию», сообщается в издании. \\n\\nПо мнению директора по транспорту ТОО «Астана LRT» Рустама ХАЛИЛОВА, возникшие обстоятельства, к сожалению, были вполне предсказуемы. И дело вовсе не в недочетах системы. Здесь, как обычно, свою роль сыграл пресловутый человеческий фактор. - В первую очередь, платная парковка здесь была установлена для того, чтобы очистить привокзальную площадь от брошенных автомобилей, а не наживы ради. Как правило, на данной территории более 80 процентов занимали места именно такие недобросовестные автолюбители. После проведенного анализа станет ясно, насколько удалось улучшить обстановку на территории, сколько автомобилей паркуется здесь ежедневно и какова ситуация на парковке в целом, - заявил представитель компании. \\n\\nСудя по второму дню, машин на привокзальной площади стало гораздо меньше. Водители могут беспрепятственно заехать на территорию и припарковаться на свободное место. Этого как раз и добивались создатели проекта «Управление парковочным пространством Астаны». Автомобилей становится больше только в часы, когда прибывает очередной поезд. \\n\\nПостепенно администрация «Astra Park» надеется полностью наладить ситуацию. Вместе с тем об увеличении количества шлагбаумов и выездов из парковки (сейчас здесь только два) речь не идет. От их количества, по словам руководства транспортной компании, платежей больше не станет. К тому же вскоре в столице будет открыт новый вокзал, где все эти вопросы будут учтены. \\n\\n- При этом задержек при выезде больше не возникнет. Во время создающихся пробок работники парковок будут пропускать автомобили бесплатно. Правда, при этом система зафиксирует неплательщиков и в дальнейшем все-таки придется заплатить за время стоянки. Продумываются также штрафные санкции для тех, кто уклоняется от оплаты, - сообщили в компании. \\n\\nПосле проводимого сейчас анализа системы специалисты компании обещают еще раз пересмотреть тарификацию. Решиться данный вопрос может уже в ближайший месяц. На начальном этапе, пока люди не привыкли к новой системе, представители компании намерены закрывать глаза на некоторые нарушения водителей. В дальнейшем система будет налажена с учетом всех замечаний. \\n\\n \\n'"
      ]
     },
     "execution_count": 15,
     "metadata": {},
     "output_type": "execute_result"
    }
   ],
   "source": [
    "df.sample(1).iloc[0]['text']"
   ]
  },
  {
   "cell_type": "code",
   "execution_count": 16,
   "metadata": {
    "ExecuteTime": {
     "end_time": "2022-10-01T11:44:24.894391Z",
     "start_time": "2022-10-01T11:43:42.157333Z"
    }
   },
   "outputs": [],
   "source": [
    "## создадим колонку text_tokenized с очищенным от пунктуации и стоп слов текстом\n",
    "## и токенизируем его с помощью word_tokenize из библиотеки nltk\n",
    "\n",
    "noise = stopwords.words('russian') + list(punctuation) + ['«', '»', '``', '\\'\\'', '–', '—']\n",
    "\n",
    "df['text_tokenized'] = df['text'].str.lower().str.strip().apply(lambda x: word_tokenize(x, language='russian'))\n",
    "df['text_tokenized'] = df['text_tokenized'].apply(lambda x: [w for w in x if w not in noise])"
   ]
  },
  {
   "cell_type": "markdown",
   "metadata": {},
   "source": [
    "## Топ 300 слов"
   ]
  },
  {
   "cell_type": "code",
   "execution_count": 18,
   "metadata": {
    "ExecuteTime": {
     "end_time": "2022-10-01T11:46:11.869780Z",
     "start_time": "2022-10-01T11:46:10.852444Z"
    }
   },
   "outputs": [
    {
     "data": {
      "text/plain": [
       "года        22765\n",
       "тенге       15326\n",
       "это         13620\n",
       "году        11196\n",
       "также       10934\n",
       "            ...  \n",
       "сентября     1160\n",
       "момент       1160\n",
       "являются     1158\n",
       "текущего     1155\n",
       "работе       1150\n",
       "Name: text_tokenized, Length: 300, dtype: int64"
      ]
     },
     "execution_count": 18,
     "metadata": {},
     "output_type": "execute_result"
    }
   ],
   "source": [
    "## найдем топ 300 слов по встречаемости во всех предложениях\n",
    "top300 = df['text_tokenized'].explode().value_counts().head(300)\n",
    "top20 = top300.head(20)\n",
    "top300"
   ]
  },
  {
   "cell_type": "code",
   "execution_count": 19,
   "metadata": {
    "ExecuteTime": {
     "end_time": "2022-10-01T11:46:12.077468Z",
     "start_time": "2022-10-01T11:46:11.873495Z"
    }
   },
   "outputs": [
    {
     "data": {
      "image/png": "[encoded data removed]",
      "text/plain": [
       "<Figure size 576x432 with 1 Axes>"
      ]
     },
     "metadata": {},
     "output_type": "display_data"
    }
   ],
   "source": [
    "## график топ 20 слов по встречаемости во всех предложениях\n",
    "\n",
    "plt.figure(figsize=(8, 6))\n",
    "plt.title('Top 20 words', weight='bold', size=16)\n",
    "plt.plot(top20)\n",
    "plt.xticks(top20.index, rotation=90)\n",
    "plt.show()"
   ]
  },
  {
   "cell_type": "markdown",
   "metadata": {},
   "source": [
    "**Вывод:**  топ слов показывает нам что речь в текстах идет возможно об экономике Казахстана 2016 года"
   ]
  },
  {
   "cell_type": "code",
   "execution_count": 20,
   "metadata": {
    "ExecuteTime": {
     "end_time": "2022-10-01T11:46:42.872764Z",
     "start_time": "2022-10-01T11:46:41.507166Z"
    }
   },
   "outputs": [
    {
     "name": "stderr",
     "output_type": "stream",
     "text": [
      "/var/folders/7r/3bj773_x3qv873q1y8mhs8yh0000gn/T/ipykernel_27801/1121671770.py:8: UserWarning: FixedFormatter should only be used together with FixedLocator\n",
      "  axs[i].set_xticklabels(df_sent.get(val).index, rotation=90)\n"
     ]
    },
    {
     "data": {
      "image/png": "[encoded data removed]",
      "text/plain": [
       "<Figure size 1440x576 with 3 Axes>"
      ]
     },
     "metadata": {},
     "output_type": "display_data"
    }
   ],
   "source": [
    "## топ 10 слов для каждой тональности\n",
    "\n",
    "df_sent = df.groupby(['sentiment']).apply(lambda x: x['text_tokenized'].explode().value_counts().head(10))\n",
    "\n",
    "fig, axs = plt.subplots(1, 3, figsize=(20, 8))\n",
    "for i, val in enumerate(df['sentiment'].unique()):\n",
    "    axs[i].plot(df_sent.get(val))\n",
    "    axs[i].set_xticklabels(df_sent.get(val).index, rotation=90)\n",
    "    axs[i].set_title(val.capitalize(), weight='bold', size=14)"
   ]
  },
  {
   "cell_type": "markdown",
   "metadata": {},
   "source": [
    "**Вывод:**  топ слов примено одинаковый во всех категориях, за исключением слова \"енпф\" в негативных текстах."
   ]
  },
  {
   "cell_type": "code",
   "execution_count": 21,
   "metadata": {
    "ExecuteTime": {
     "end_time": "2022-10-01T11:48:46.770256Z",
     "start_time": "2022-10-01T11:48:46.759958Z"
    }
   },
   "outputs": [
    {
     "data": {
      "text/plain": [
       "neutral     48%\n",
       "positive    33%\n",
       "negative    17%\n",
       "Name: sentiment, dtype: object"
      ]
     },
     "execution_count": 21,
     "metadata": {},
     "output_type": "execute_result"
    }
   ],
   "source": [
    "(df['sentiment'].value_counts(normalize=True) * 100).astype(int).apply(lambda x: f'{x}%')"
   ]
  },
  {
   "cell_type": "markdown",
   "metadata": {},
   "source": [
    "## Часть 2. [2 балла] Модели представления слов \n",
    "Обучите модель представления слов (word2vec, GloVe, fastText или любую другую) на материале корпуса.\n",
    "1. Продемонстрируйте, как работает поиск синонимов, ассоциаций, лишних слов в обученной модели. \n",
    "2. Визуализируйте топ-300 слов по частоте без учета стоп-слов (п. 1.1) с помощью TSNE или UMAP (https://umap-learn.readthedocs.io)."
   ]
  },
  {
   "cell_type": "code",
   "execution_count": 32,
   "metadata": {
    "ExecuteTime": {
     "end_time": "2022-10-01T12:03:26.305797Z",
     "start_time": "2022-10-01T12:03:26.299631Z"
    }
   },
   "outputs": [],
   "source": [
    "import gensim\n",
    "from gensim.models import word2vec\n",
    "from bokeh.models import ColumnDataSource, LabelSet\n",
    "from bokeh.plotting import figure, show, output_file\n",
    "from bokeh.io import output_notebook\n",
    "from nltk import FreqDist\n",
    "from tqdm.notebook import tqdm\n",
    "from sklearn.manifold import TSNE\n"
   ]
  },
  {
   "cell_type": "code",
   "execution_count": 23,
   "metadata": {
    "ExecuteTime": {
     "end_time": "2022-10-01T11:54:35.478499Z",
     "start_time": "2022-10-01T11:54:23.878100Z"
    }
   },
   "outputs": [],
   "source": [
    "## используем модель Word2Vec\n",
    "\n",
    "w2v = word2vec.Word2Vec(sentences=df['text_tokenized'])"
   ]
  },
  {
   "cell_type": "code",
   "execution_count": 28,
   "metadata": {
    "ExecuteTime": {
     "end_time": "2022-10-01T11:55:39.022317Z",
     "start_time": "2022-10-01T11:55:38.710654Z"
    }
   },
   "outputs": [
    {
     "name": "stdout",
     "output_type": "stream",
     "text": [
      "которые\n",
      "такие :  0.6224866509437561\n",
      "которыми :  0.615217924118042\n",
      "которым :  0.5914586186408997\n",
      "приходящих :  0.5694114565849304\n",
      "которых :  0.5656608939170837\n",
      "\n",
      "\n",
      "небольшой\n",
      "девальвационные :  0.873454749584198\n",
      "расти :  0.8550701141357422\n",
      "получилась :  0.847270667552948\n",
      "вверх :  0.8451260328292847\n",
      "снижаться :  0.8373439311981201\n",
      "\n",
      "\n",
      "крупных\n",
      "нацкомпаний :  0.7721298933029175\n",
      "дочерних :  0.7692662477493286\n",
      "электросетевых :  0.7692287564277649\n",
      "ведущих :  0.766633927822113\n",
      "корпораций :  0.7470893859863281\n",
      "\n",
      "\n"
     ]
    }
   ],
   "source": [
    "## посмотрим на поиск синоноимов в обученной модели\n",
    "\n",
    "for anything in df['text_tokenized'].explode().sample(3):\n",
    "    print(anything)\n",
    "    if anything in w2v.wv.key_to_index.keys():\n",
    "        for word, sim in w2v.wv.most_similar(positive=anything, topn=5):\n",
    "            print(word, ': ', sim)\n",
    "        print('\\n')"
   ]
  },
  {
   "cell_type": "code",
   "execution_count": 29,
   "metadata": {
    "ExecuteTime": {
     "end_time": "2022-10-01T11:56:07.068842Z",
     "start_time": "2022-10-01T11:56:07.062321Z"
    }
   },
   "outputs": [
    {
     "data": {
      "text/plain": [
       "'пенсия'"
      ]
     },
     "execution_count": 29,
     "metadata": {},
     "output_type": "execute_result"
    }
   ],
   "source": [
    "## посмотрим как работает определитель лишних слов\n",
    "\n",
    "w2v.wv.doesnt_match('казахстан корея пенсия'.split())"
   ]
  },
  {
   "cell_type": "code",
   "execution_count": 30,
   "metadata": {
    "ExecuteTime": {
     "end_time": "2022-10-01T11:57:26.551289Z",
     "start_time": "2022-10-01T11:57:26.544821Z"
    }
   },
   "outputs": [
    {
     "data": {
      "text/plain": [
       "'года'"
      ]
     },
     "execution_count": 30,
     "metadata": {},
     "output_type": "execute_result"
    }
   ],
   "source": [
    "## посмотрим как работает определитель лишних слов\n",
    "\n",
    "w2v.wv.doesnt_match('банк кредит года'.split())"
   ]
  },
  {
   "cell_type": "code",
   "execution_count": 33,
   "metadata": {
    "ExecuteTime": {
     "end_time": "2022-10-01T12:03:31.476365Z",
     "start_time": "2022-10-01T12:03:28.324598Z"
    }
   },
   "outputs": [
    {
     "data": {
      "application/vnd.jupyter.widget-view+json": {
       "model_id": "00005900fd344819b37a3ba0bbc8f462",
       "version_major": 2,
       "version_minor": 0
      },
      "text/plain": [
       "  0%|          | 0/8263 [00:00<?, ?it/s]"
      ]
     },
     "metadata": {},
     "output_type": "display_data"
    }
   ],
   "source": [
    "## визуализируем топ-300 слов\n",
    "\n",
    "top_words = []\n",
    "\n",
    "## посчитаем частоту встречаемости каждого слова\n",
    "fd = FreqDist()\n",
    "for s in tqdm(df['text_tokenized']):\n",
    "    fd.update(s)\n",
    "\n",
    "for w in fd.most_common(300):\n",
    "    top_words.append(w[0])\n",
    "    \n",
    "top_words_vec = w2v.wv[top_words]\n",
    "\n",
    "## трансформирум слова в двумерные векторы для визуализации\n",
    "tsne = TSNE(n_components=2, random_state=0)\n",
    "top_words_tsne = tsne.fit_transform(top_words_vec)"
   ]
  },
  {
   "cell_type": "code",
   "execution_count": 34,
   "metadata": {
    "ExecuteTime": {
     "end_time": "2022-10-01T12:08:29.667261Z",
     "start_time": "2022-10-01T12:08:29.558279Z"
    },
    "scrolled": false
   },
   "outputs": [
    {
     "data": {
      "text/html": [
       "\n",
       "    <div class=\"bk-root\">\n",
       "        <a href=\"https://bokeh.org\" target=\"_blank\" class=\"bk-logo bk-logo-small bk-logo-notebook\"></a>\n",
       "        <span id=\"1002\">Loading BokehJS ...</span>\n",
       "    </div>"
      ]
     },
     "metadata": {},
     "output_type": "display_data"
    },
    {
     "data": {
      "application/javascript": [
       "\n",
       "(function(root) {\n",
       "  function now() {\n",
       "    return new Date();\n",
       "  }\n",
       "\n",
       "  const force = true;\n",
       "\n",
       "  if (typeof root._bokeh_onload_callbacks === \"undefined\" || force === true) {\n",
       "    root._bokeh_onload_callbacks = [];\n",
       "    root._bokeh_is_loading = undefined;\n",
       "  }\n",
       "\n",
       "  const JS_MIME_TYPE = 'application/javascript';\n",
       "  const HTML_MIME_TYPE = 'text/html';\n",
       "  const EXEC_MIME_TYPE = 'application/vnd.bokehjs_exec.v0+json';\n",
       "  const CLASS_NAME = 'output_bokeh rendered_html';\n",
       "\n",
       "  /**\n",
       "   * Render data to the DOM node\n",
       "   */\n",
       "  function render(props, node) {\n",
       "    const script = document.createElement(\"script\");\n",
       "    node.appendChild(script);\n",
       "  }\n",
       "\n",
       "  /**\n",
       "   * Handle when an output is cleared or removed\n",
       "   */\n",
       "  function handleClearOutput(event, handle) {\n",
       "    const cell = handle.cell;\n",
       "\n",
       "    const id = cell.output_area._bokeh_element_id;\n",
       "    const server_id = cell.output_area._bokeh_server_id;\n",
       "    // Clean up Bokeh references\n",
       "    if (id != null && id in Bokeh.index) {\n",
       "      Bokeh.index[id].model.document.clear();\n",
       "      delete Bokeh.index[id];\n",
       "    }\n",
       "\n",
       "    if (server_id !== undefined) {\n",
       "      // Clean up Bokeh references\n",
       "      const cmd_clean = \"from bokeh.io.state import curstate; print(curstate().uuid_to_server['\" + server_id + \"'].get_sessions()[0].document.roots[0]._id)\";\n",
       "      cell.notebook.kernel.execute(cmd_clean, {\n",
       "        iopub: {\n",
       "          output: function(msg) {\n",
       "            const id = msg.content.text.trim();\n",
       "            if (id in Bokeh.index) {\n",
       "              Bokeh.index[id].model.document.clear();\n",
       "              delete Bokeh.index[id];\n",
       "            }\n",
       "          }\n",
       "        }\n",
       "      });\n",
       "      // Destroy server and session\n",
       "      const cmd_destroy = \"import bokeh.io.notebook as ion; ion.destroy_server('\" + server_id + \"')\";\n",
       "      cell.notebook.kernel.execute(cmd_destroy);\n",
       "    }\n",
       "  }\n",
       "\n",
       "  /**\n",
       "   * Handle when a new output is added\n",
       "   */\n",
       "  function handleAddOutput(event, handle) {\n",
       "    const output_area = handle.output_area;\n",
       "    const output = handle.output;\n",
       "\n",
       "    // limit handleAddOutput to display_data with EXEC_MIME_TYPE content only\n",
       "    if ((output.output_type != \"display_data\") || (!Object.prototype.hasOwnProperty.call(output.data, EXEC_MIME_TYPE))) {\n",
       "      return\n",
       "    }\n",
       "\n",
       "    const toinsert = output_area.element.find(\".\" + CLASS_NAME.split(' ')[0]);\n",
       "\n",
       "    if (output.metadata[EXEC_MIME_TYPE][\"id\"] !== undefined) {\n",
       "      toinsert[toinsert.length - 1].firstChild.textContent = output.data[JS_MIME_TYPE];\n",
       "      // store reference to embed id on output_area\n",
       "      output_area._bokeh_element_id = output.metadata[EXEC_MIME_TYPE][\"id\"];\n",
       "    }\n",
       "    if (output.metadata[EXEC_MIME_TYPE][\"server_id\"] !== undefined) {\n",
       "      const bk_div = document.createElement(\"div\");\n",
       "      bk_div.innerHTML = output.data[HTML_MIME_TYPE];\n",
       "      const script_attrs = bk_div.children[0].attributes;\n",
       "      for (let i = 0; i < script_attrs.length; i++) {\n",
       "        toinsert[toinsert.length - 1].firstChild.setAttribute(script_attrs[i].name, script_attrs[i].value);\n",
       "        toinsert[toinsert.length - 1].firstChild.textContent = bk_div.children[0].textContent\n",
       "      }\n",
       "      // store reference to server id on output_area\n",
       "      output_area._bokeh_server_id = output.metadata[EXEC_MIME_TYPE][\"server_id\"];\n",
       "    }\n",
       "  }\n",
       "\n",
       "  function register_renderer(events, OutputArea) {\n",
       "\n",
       "    function append_mime(data, metadata, element) {\n",
       "      // create a DOM node to render to\n",
       "      const toinsert = this.create_output_subarea(\n",
       "        metadata,\n",
       "        CLASS_NAME,\n",
       "        EXEC_MIME_TYPE\n",
       "      );\n",
       "      this.keyboard_manager.register_events(toinsert);\n",
       "      // Render to node\n",
       "      const props = {data: data, metadata: metadata[EXEC_MIME_TYPE]};\n",
       "      render(props, toinsert[toinsert.length - 1]);\n",
       "      element.append(toinsert);\n",
       "      return toinsert\n",
       "    }\n",
       "\n",
       "    /* Handle when an output is cleared or removed */\n",
       "    events.on('clear_output.CodeCell', handleClearOutput);\n",
       "    events.on('delete.Cell', handleClearOutput);\n",
       "\n",
       "    /* Handle when a new output is added */\n",
       "    events.on('output_added.OutputArea', handleAddOutput);\n",
       "\n",
       "    /**\n",
       "     * Register the mime type and append_mime function with output_area\n",
       "     */\n",
       "    OutputArea.prototype.register_mime_type(EXEC_MIME_TYPE, append_mime, {\n",
       "      /* Is output safe? */\n",
       "      safe: true,\n",
       "      /* Index of renderer in `output_area.display_order` */\n",
       "      index: 0\n",
       "    });\n",
       "  }\n",
       "\n",
       "  // register the mime type if in Jupyter Notebook environment and previously unregistered\n",
       "  if (root.Jupyter !== undefined) {\n",
       "    const events = require('base/js/events');\n",
       "    const OutputArea = require('notebook/js/outputarea').OutputArea;\n",
       "\n",
       "    if (OutputArea.prototype.mime_types().indexOf(EXEC_MIME_TYPE) == -1) {\n",
       "      register_renderer(events, OutputArea);\n",
       "    }\n",
       "  }\n",
       "\n",
       "  \n",
       "  if (typeof (root._bokeh_timeout) === \"undefined\" || force === true) {\n",
       "    root._bokeh_timeout = Date.now() + 5000;\n",
       "    root._bokeh_failed_load = false;\n",
       "  }\n",
       "\n",
       "  const NB_LOAD_WARNING = {'data': {'text/html':\n",
       "     \"<div style='background-color: #fdd'>\\n\"+\n",
       "     \"<p>\\n\"+\n",
       "     \"BokehJS does not appear to have successfully loaded. If loading BokehJS from CDN, this \\n\"+\n",
       "     \"may be due to a slow or bad network connection. Possible fixes:\\n\"+\n",
       "     \"</p>\\n\"+\n",
       "     \"<ul>\\n\"+\n",
       "     \"<li>re-rerun `output_notebook()` to attempt to load from CDN again, or</li>\\n\"+\n",
       "     \"<li>use INLINE resources instead, as so:</li>\\n\"+\n",
       "     \"</ul>\\n\"+\n",
       "     \"<code>\\n\"+\n",
       "     \"from bokeh.resources import INLINE\\n\"+\n",
       "     \"output_notebook(resources=INLINE)\\n\"+\n",
       "     \"</code>\\n\"+\n",
       "     \"</div>\"}};\n",
       "\n",
       "  function display_loaded() {\n",
       "    const el = document.getElementById(\"1002\");\n",
       "    if (el != null) {\n",
       "      el.textContent = \"BokehJS is loading...\";\n",
       "    }\n",
       "    if (root.Bokeh !== undefined) {\n",
       "      if (el != null) {\n",
       "        el.textContent = \"BokehJS \" + root.Bokeh.version + \" successfully loaded.\";\n",
       "      }\n",
       "    } else if (Date.now() < root._bokeh_timeout) {\n",
       "      setTimeout(display_loaded, 100)\n",
       "    }\n",
       "  }\n",
       "\n",
       "\n",
       "  function run_callbacks() {\n",
       "    try {\n",
       "      root._bokeh_onload_callbacks.forEach(function(callback) {\n",
       "        if (callback != null)\n",
       "          callback();\n",
       "      });\n",
       "    } finally {\n",
       "      delete root._bokeh_onload_callbacks\n",
       "    }\n",
       "    console.debug(\"Bokeh: all callbacks have finished\");\n",
       "  }\n",
       "\n",
       "  function load_libs(css_urls, js_urls, callback) {\n",
       "    if (css_urls == null) css_urls = [];\n",
       "    if (js_urls == null) js_urls = [];\n",
       "\n",
       "    root._bokeh_onload_callbacks.push(callback);\n",
       "    if (root._bokeh_is_loading > 0) {\n",
       "      console.debug(\"Bokeh: BokehJS is being loaded, scheduling callback at\", now());\n",
       "      return null;\n",
       "    }\n",
       "    if (js_urls == null || js_urls.length === 0) {\n",
       "      run_callbacks();\n",
       "      return null;\n",
       "    }\n",
       "    console.debug(\"Bokeh: BokehJS not loaded, scheduling load and callback at\", now());\n",
       "    root._bokeh_is_loading = css_urls.length + js_urls.length;\n",
       "\n",
       "    function on_load() {\n",
       "      root._bokeh_is_loading--;\n",
       "      if (root._bokeh_is_loading === 0) {\n",
       "        console.debug(\"Bokeh: all BokehJS libraries/stylesheets loaded\");\n",
       "        run_callbacks()\n",
       "      }\n",
       "    }\n",
       "\n",
       "    function on_error(url) {\n",
       "      console.error(\"failed to load \" + url);\n",
       "    }\n",
       "\n",
       "    for (let i = 0; i < css_urls.length; i++) {\n",
       "      const url = css_urls[i];\n",
       "      const element = document.createElement(\"link\");\n",
       "      element.onload = on_load;\n",
       "      element.onerror = on_error.bind(null, url);\n",
       "      element.rel = \"stylesheet\";\n",
       "      element.type = \"text/css\";\n",
       "      element.href = url;\n",
       "      console.debug(\"Bokeh: injecting link tag for BokehJS stylesheet: \", url);\n",
       "      document.body.appendChild(element);\n",
       "    }\n",
       "\n",
       "    for (let i = 0; i < js_urls.length; i++) {\n",
       "      const url = js_urls[i];\n",
       "      const element = document.createElement('script');\n",
       "      element.onload = on_load;\n",
       "      element.onerror = on_error.bind(null, url);\n",
       "      element.async = false;\n",
       "      element.src = url;\n",
       "      console.debug(\"Bokeh: injecting script tag for BokehJS library: \", url);\n",
       "      document.head.appendChild(element);\n",
       "    }\n",
       "  };\n",
       "\n",
       "  function inject_raw_css(css) {\n",
       "    const element = document.createElement(\"style\");\n",
       "    element.appendChild(document.createTextNode(css));\n",
       "    document.body.appendChild(element);\n",
       "  }\n",
       "\n",
       "  \n",
       "  const js_urls = [\"https://cdn.bokeh.org/bokeh/release/bokeh-2.4.1.min.js\", \"https://cdn.bokeh.org/bokeh/release/bokeh-gl-2.4.1.min.js\", \"https://cdn.bokeh.org/bokeh/release/bokeh-widgets-2.4.1.min.js\", \"https://cdn.bokeh.org/bokeh/release/bokeh-tables-2.4.1.min.js\", \"https://cdn.bokeh.org/bokeh/release/bokeh-mathjax-2.4.1.min.js\"];\n",
       "  const css_urls = [];\n",
       "  \n",
       "\n",
       "  const inline_js = [\n",
       "    function(Bokeh) {\n",
       "      Bokeh.set_log_level(\"info\");\n",
       "    },\n",
       "    function(Bokeh) {\n",
       "    \n",
       "    \n",
       "    }\n",
       "  ];\n",
       "\n",
       "  function run_inline_js() {\n",
       "    \n",
       "    if (root.Bokeh !== undefined || force === true) {\n",
       "      \n",
       "    for (let i = 0; i < inline_js.length; i++) {\n",
       "      inline_js[i].call(root, root.Bokeh);\n",
       "    }\n",
       "    if (force === true) {\n",
       "        display_loaded();\n",
       "      }} else if (Date.now() < root._bokeh_timeout) {\n",
       "      setTimeout(run_inline_js, 100);\n",
       "    } else if (!root._bokeh_failed_load) {\n",
       "      console.log(\"Bokeh: BokehJS failed to load within specified timeout.\");\n",
       "      root._bokeh_failed_load = true;\n",
       "    } else if (force !== true) {\n",
       "      const cell = $(document.getElementById(\"1002\")).parents('.cell').data().cell;\n",
       "      cell.output_area.append_execute_result(NB_LOAD_WARNING)\n",
       "    }\n",
       "\n",
       "  }\n",
       "\n",
       "  if (root._bokeh_is_loading === 0) {\n",
       "    console.debug(\"Bokeh: BokehJS loaded, going straight to plotting\");\n",
       "    run_inline_js();\n",
       "  } else {\n",
       "    load_libs(css_urls, js_urls, function() {\n",
       "      console.debug(\"Bokeh: BokehJS plotting callback run at\", now());\n",
       "      run_inline_js();\n",
       "    });\n",
       "  }\n",
       "}(window));"
      ],
      "application/vnd.bokehjs_load.v0+json": "\n(function(root) {\n  function now() {\n    return new Date();\n  }\n\n  const force = true;\n\n  if (typeof root._bokeh_onload_callbacks === \"undefined\" || force === true) {\n    root._bokeh_onload_callbacks = [];\n    root._bokeh_is_loading = undefined;\n  }\n\n  \n\n  \n  if (typeof (root._bokeh_timeout) === \"undefined\" || force === true) {\n    root._bokeh_timeout = Date.now() + 5000;\n    root._bokeh_failed_load = false;\n  }\n\n  const NB_LOAD_WARNING = {'data': {'text/html':\n     \"<div style='background-color: #fdd'>\\n\"+\n     \"<p>\\n\"+\n     \"BokehJS does not appear to have successfully loaded. If loading BokehJS from CDN, this \\n\"+\n     \"may be due to a slow or bad network connection. Possible fixes:\\n\"+\n     \"</p>\\n\"+\n     \"<ul>\\n\"+\n     \"<li>re-rerun `output_notebook()` to attempt to load from CDN again, or</li>\\n\"+\n     \"<li>use INLINE resources instead, as so:</li>\\n\"+\n     \"</ul>\\n\"+\n     \"<code>\\n\"+\n     \"from bokeh.resources import INLINE\\n\"+\n     \"output_notebook(resources=INLINE)\\n\"+\n     \"</code>\\n\"+\n     \"</div>\"}};\n\n  function display_loaded() {\n    const el = document.getElementById(\"1002\");\n    if (el != null) {\n      el.textContent = \"BokehJS is loading...\";\n    }\n    if (root.Bokeh !== undefined) {\n      if (el != null) {\n        el.textContent = \"BokehJS \" + root.Bokeh.version + \" successfully loaded.\";\n      }\n    } else if (Date.now() < root._bokeh_timeout) {\n      setTimeout(display_loaded, 100)\n    }\n  }\n\n\n  function run_callbacks() {\n    try {\n      root._bokeh_onload_callbacks.forEach(function(callback) {\n        if (callback != null)\n          callback();\n      });\n    } finally {\n      delete root._bokeh_onload_callbacks\n    }\n    console.debug(\"Bokeh: all callbacks have finished\");\n  }\n\n  function load_libs(css_urls, js_urls, callback) {\n    if (css_urls == null) css_urls = [];\n    if (js_urls == null) js_urls = [];\n\n    root._bokeh_onload_callbacks.push(callback);\n    if (root._bokeh_is_loading > 0) {\n      console.debug(\"Bokeh: BokehJS is being loaded, scheduling callback at\", now());\n      return null;\n    }\n    if (js_urls == null || js_urls.length === 0) {\n      run_callbacks();\n      return null;\n    }\n    console.debug(\"Bokeh: BokehJS not loaded, scheduling load and callback at\", now());\n    root._bokeh_is_loading = css_urls.length + js_urls.length;\n\n    function on_load() {\n      root._bokeh_is_loading--;\n      if (root._bokeh_is_loading === 0) {\n        console.debug(\"Bokeh: all BokehJS libraries/stylesheets loaded\");\n        run_callbacks()\n      }\n    }\n\n    function on_error(url) {\n      console.error(\"failed to load \" + url);\n    }\n\n    for (let i = 0; i < css_urls.length; i++) {\n      const url = css_urls[i];\n      const element = document.createElement(\"link\");\n      element.onload = on_load;\n      element.onerror = on_error.bind(null, url);\n      element.rel = \"stylesheet\";\n      element.type = \"text/css\";\n      element.href = url;\n      console.debug(\"Bokeh: injecting link tag for BokehJS stylesheet: \", url);\n      document.body.appendChild(element);\n    }\n\n    for (let i = 0; i < js_urls.length; i++) {\n      const url = js_urls[i];\n      const element = document.createElement('script');\n      element.onload = on_load;\n      element.onerror = on_error.bind(null, url);\n      element.async = false;\n      element.src = url;\n      console.debug(\"Bokeh: injecting script tag for BokehJS library: \", url);\n      document.head.appendChild(element);\n    }\n  };\n\n  function inject_raw_css(css) {\n    const element = document.createElement(\"style\");\n    element.appendChild(document.createTextNode(css));\n    document.body.appendChild(element);\n  }\n\n  \n  const js_urls = [\"https://cdn.bokeh.org/bokeh/release/bokeh-2.4.1.min.js\", \"https://cdn.bokeh.org/bokeh/release/bokeh-gl-2.4.1.min.js\", \"https://cdn.bokeh.org/bokeh/release/bokeh-widgets-2.4.1.min.js\", \"https://cdn.bokeh.org/bokeh/release/bokeh-tables-2.4.1.min.js\", \"https://cdn.bokeh.org/bokeh/release/bokeh-mathjax-2.4.1.min.js\"];\n  const css_urls = [];\n  \n\n  const inline_js = [\n    function(Bokeh) {\n      Bokeh.set_log_level(\"info\");\n    },\n    function(Bokeh) {\n    \n    \n    }\n  ];\n\n  function run_inline_js() {\n    \n    if (root.Bokeh !== undefined || force === true) {\n      \n    for (let i = 0; i < inline_js.length; i++) {\n      inline_js[i].call(root, root.Bokeh);\n    }\n    if (force === true) {\n        display_loaded();\n      }} else if (Date.now() < root._bokeh_timeout) {\n      setTimeout(run_inline_js, 100);\n    } else if (!root._bokeh_failed_load) {\n      console.log(\"Bokeh: BokehJS failed to load within specified timeout.\");\n      root._bokeh_failed_load = true;\n    } else if (force !== true) {\n      const cell = $(document.getElementById(\"1002\")).parents('.cell').data().cell;\n      cell.output_area.append_execute_result(NB_LOAD_WARNING)\n    }\n\n  }\n\n  if (root._bokeh_is_loading === 0) {\n    console.debug(\"Bokeh: BokehJS loaded, going straight to plotting\");\n    run_inline_js();\n  } else {\n    load_libs(css_urls, js_urls, function() {\n      console.debug(\"Bokeh: BokehJS plotting callback run at\", now());\n      run_inline_js();\n    });\n  }\n}(window));"
     },
     "metadata": {},
     "output_type": "display_data"
    },
    {
     "data": {
      "text/html": [
       "\n",
       "\n",
       "\n",
       "\n",
       "\n",
       "\n",
       "  <div class=\"bk-root\" id=\"e0896965-327a-473f-b23e-4419979ab583\" data-root-id=\"1003\"></div>\n"
      ]
     },
     "metadata": {},
     "output_type": "display_data"
    },
    {
     "data": {
      "application/javascript": [
       "(function(root) {\n",
       "  function embed_document(root) {\n",
       "    \n",
       "  const docs_json = {\"086c53e7-5648-4ad5-a07d-be143ca48b55\":{\"defs\":[],\"roots\":{\"references\":[{\"attributes\":{\"below\":[{\"id\":\"1014\"}],\"center\":[{\"id\":\"1017\"},{\"id\":\"1021\"},{\"id\":\"1038\"}],\"left\":[{\"id\":\"1018\"}],\"renderers\":[{\"id\":\"1036\"}],\"title\":{\"id\":\"1004\"},\"toolbar\":{\"id\":\"1026\"},\"toolbar_location\":\"above\",\"x_range\":{\"id\":\"1006\"},\"x_scale\":{\"id\":\"1010\"},\"y_range\":{\"id\":\"1008\"},\"y_scale\":{\"id\":\"1012\"}},\"id\":\"1003\",\"subtype\":\"Figure\",\"type\":\"Plot\"},{\"attributes\":{},\"id\":\"1046\",\"type\":\"AllLabels\"},{\"attributes\":{},\"id\":\"1047\",\"type\":\"UnionRenderers\"},{\"attributes\":{},\"id\":\"1006\",\"type\":\"DataRange1d\"},{\"attributes\":{},\"id\":\"1024\",\"type\":\"ResetTool\"},{\"attributes\":{},\"id\":\"1048\",\"type\":\"Selection\"},{\"attributes\":{},\"id\":\"1022\",\"type\":\"PanTool\"},{\"attributes\":{},\"id\":\"1023\",\"type\":\"WheelZoomTool\"},{\"attributes\":{},\"id\":\"1025\",\"type\":\"SaveTool\"},{\"attributes\":{\"coordinates\":null,\"formatter\":{\"id\":\"1042\"},\"group\":null,\"major_label_policy\":{\"id\":\"1043\"},\"ticker\":{\"id\":\"1019\"}},\"id\":\"1018\",\"type\":\"LinearAxis\"},{\"attributes\":{\"fill_color\":{\"value\":\"#1f77b4\"},\"line_color\":{\"value\":\"#1f77b4\"},\"size\":{\"value\":8},\"x\":{\"field\":\"x1\"},\"y\":{\"field\":\"x2\"}},\"id\":\"1033\",\"type\":\"Scatter\"},{\"attributes\":{\"coordinates\":null,\"group\":null,\"source\":{\"id\":\"1031\"},\"text\":{\"field\":\"names\"},\"text_align\":{\"value\":\"center\"},\"text_color\":{\"value\":\"#555555\"},\"text_font_size\":{\"value\":\"8pt\"},\"x\":{\"field\":\"x1\"},\"y\":{\"field\":\"x2\"},\"y_offset\":{\"value\":6}},\"id\":\"1038\",\"type\":\"LabelSet\"},{\"attributes\":{\"source\":{\"id\":\"1031\"}},\"id\":\"1037\",\"type\":\"CDSView\"},{\"attributes\":{},\"id\":\"1045\",\"type\":\"BasicTickFormatter\"},{\"attributes\":{\"fill_alpha\":{\"value\":0.2},\"fill_color\":{\"value\":\"#1f77b4\"},\"hatch_alpha\":{\"value\":0.2},\"line_alpha\":{\"value\":0.2},\"line_color\":{\"value\":\"#1f77b4\"},\"size\":{\"value\":8},\"x\":{\"field\":\"x1\"},\"y\":{\"field\":\"x2\"}},\"id\":\"1035\",\"type\":\"Scatter\"},{\"attributes\":{\"axis\":{\"id\":\"1014\"},\"coordinates\":null,\"group\":null,\"ticker\":null},\"id\":\"1017\",\"type\":\"Grid\"},{\"attributes\":{},\"id\":\"1008\",\"type\":\"DataRange1d\"},{\"attributes\":{\"tools\":[{\"id\":\"1022\"},{\"id\":\"1023\"},{\"id\":\"1024\"},{\"id\":\"1025\"}]},\"id\":\"1026\",\"type\":\"Toolbar\"},{\"attributes\":{\"coordinates\":null,\"group\":null,\"text\":\"word2vec T-SNE (eng model, top1000 words)\"},\"id\":\"1004\",\"type\":\"Title\"},{\"attributes\":{},\"id\":\"1043\",\"type\":\"AllLabels\"},{\"attributes\":{},\"id\":\"1015\",\"type\":\"BasicTicker\"},{\"attributes\":{},\"id\":\"1042\",\"type\":\"BasicTickFormatter\"},{\"attributes\":{},\"id\":\"1019\",\"type\":\"BasicTicker\"},{\"attributes\":{\"fill_alpha\":{\"value\":0.1},\"fill_color\":{\"value\":\"#1f77b4\"},\"hatch_alpha\":{\"value\":0.1},\"line_alpha\":{\"value\":0.1},\"line_color\":{\"value\":\"#1f77b4\"},\"size\":{\"value\":8},\"x\":{\"field\":\"x1\"},\"y\":{\"field\":\"x2\"}},\"id\":\"1034\",\"type\":\"Scatter\"},{\"attributes\":{\"axis\":{\"id\":\"1018\"},\"coordinates\":null,\"dimension\":1,\"group\":null,\"ticker\":null},\"id\":\"1021\",\"type\":\"Grid\"},{\"attributes\":{\"coordinates\":null,\"data_source\":{\"id\":\"1031\"},\"glyph\":{\"id\":\"1033\"},\"group\":null,\"hover_glyph\":null,\"muted_glyph\":{\"id\":\"1035\"},\"nonselection_glyph\":{\"id\":\"1034\"},\"view\":{\"id\":\"1037\"}},\"id\":\"1036\",\"type\":\"GlyphRenderer\"},{\"attributes\":{},\"id\":\"1010\",\"type\":\"LinearScale\"},{\"attributes\":{},\"id\":\"1012\",\"type\":\"LinearScale\"},{\"attributes\":{\"data\":{\"names\":[\"\\u0433\\u043e\\u0434\\u0430\",\"\\u0442\\u0435\\u043d\\u0433\\u0435\",\"\\u044d\\u0442\\u043e\",\"\\u0433\\u043e\\u0434\\u0443\",\"\\u0442\\u0430\\u043a\\u0436\\u0435\",\"\\u043a\\u0430\\u0437\\u0430\\u0445\\u0441\\u0442\\u0430\\u043d\\u0430\",\"\\u0430\\u043e\",\"\\u043a\\u0430\\u0437\\u0430\\u0445\\u0441\\u0442\\u0430\\u043d\",\"2016\",\"\\u0440\\u043a\",\"\\u043e\\u0431\\u043b\\u0430\\u0441\\u0442\\u0438\",\"\\u0440\\u0435\\u0441\\u043f\\u0443\\u0431\\u043b\\u0438\\u043a\\u0438\",\"1\",\"\\u0440\\u0430\\u0437\\u0432\\u0438\\u0442\\u0438\\u044f\",\"\\u043b\\u0435\\u0442\",\"\\u0432\\u0440\\u0435\\u043c\\u044f\",\"\\u043a\\u043e\\u0442\\u043e\\u0440\\u044b\\u0435\",\"\\u043c\\u043b\\u0440\\u0434\",\"\\u0430\\u043b\\u043c\\u0430\\u0442\\u044b\",\"\\u043a\\u0430\\u0437\\u0430\\u0445\\u0441\\u0442\\u0430\\u043d\\u0435\",\"\\u0431\\u0443\\u0434\\u0443\\u0442\",\"2015\",\"\\u0441\\u0442\\u0440\\u0430\\u043d\\u044b\",\"\\u0442\\u043e\\u043e\",\"\\u043a\\u043e\\u043c\\u043f\\u0430\\u043d\\u0438\\u0438\",\"\\u0431\\u0430\\u043d\\u043a\\u0430\",\"\\u044d\\u043a\\u043e\\u043d\\u043e\\u043c\\u0438\\u043a\\u0438\",\"\\u044f\\u0432\\u043b\\u044f\\u0435\\u0442\\u0441\\u044f\",\"\\u0440\\u0430\\u043c\\u043a\\u0430\\u0445\",\"\\u0435\\u043d\\u043f\\u0444\",\"\\u043d\\u0430\\u0437\\u0430\\u0434\",\"\\u0433\\u043e\\u0434\",\"\\u0433\\u043e\\u0441\\u0443\\u0434\\u0430\\u0440\\u0441\\u0442\\u0432\\u0430\",\"2017\",\"\\u0441\\u0435\\u0433\\u043e\\u0434\\u043d\\u044f\",\"\\u0431\\u0430\\u043d\\u043a\",\"2\",\"10\",\"\\u043a\\u043e\\u0442\\u043e\\u0440\\u044b\\u0439\",\"\\u0441\\u0440\\u0435\\u0434\\u0441\\u0442\\u0432\",\"\\u044f\\u043d\\u0432\\u0430\\u0440\\u044f\",\"\\u0442\\u044b\\u0441.\",\"\\u043d\\u0435\\u043e\\u0431\\u0445\\u043e\\u0434\\u0438\\u043c\\u043e\",\"\\u0430\\u0441\\u0442\\u0430\\u043d\\u0430\",\"\\u0433.\",\"\\u043d\\u0430\\u0446\\u0438\\u043e\\u043d\\u0430\\u043b\\u044c\\u043d\\u043e\\u0439\",\"\\u0443\\u043f\\u0440\\u0430\\u0432\\u043b\\u0435\\u043d\\u0438\\u044f\",\"\\u0442\\u044b\\u0441\\u044f\\u0447\",\"\\u043f\\u0440\\u0435\\u0437\\u0438\\u0434\\u0435\\u043d\\u0442\\u0430\",\"3\",\"\\u043c\\u043b\\u043d\",\"\\u0440\\u0430\\u0431\\u043e\\u0442\\u044b\",\"5\",\"\\u0434\\u0435\\u043a\\u0430\\u0431\\u0440\\u044f\",\"\\u0437\\u0430\\u043c\\u0435\\u0441\\u0442\\u0438\\u0442\\u0435\\u043b\\u044c\",\"\\u0434\\u0438\\u0440\\u0435\\u043a\\u0442\\u043e\\u0440\",\"\\u043a\\u043e\\u043c\\u043f\\u0430\\u043d\\u0438\\u044f\",\"\\u0444\\u043e\\u043d\\u0434\\u0430\",\"\\u043e\\u0442\\u043c\\u0435\\u0442\\u0438\\u043b\",\"\\u0447\\u0438\\u0441\\u043b\\u0435\",\"\\u043d\\u0443\\u0436\\u043d\\u043e\",\"\\u0434\\u0435\\u043d\\u044c\",\"\\u0440\\u0435\\u0430\\u043b\\u0438\\u0437\\u0430\\u0446\\u0438\\u0438\",\"\\u043f\\u0440\\u043e\\u0435\\u043a\\u0442\\u043e\\u0432\",\"\\u0433\\u043b\\u0430\\u0432\\u0430\",\"\\u043a\\u0440\\u043e\\u043c\\u0435\",\"\\u043f\\u0440\\u0435\\u0437\\u0438\\u0434\\u0435\\u043d\\u0442\",\"\\u043f\\u0440\\u043e\\u0438\\u0437\\u0432\\u043e\\u0434\\u0441\\u0442\\u0432\\u0430\",\"\\u0434\\u0435\\u044f\\u0442\\u0435\\u043b\\u044c\\u043d\\u043e\\u0441\\u0442\\u0438\",\"\\u043f\\u0440\\u043e\\u0433\\u0440\\u0430\\u043c\\u043c\\u044b\",\"\\u0430\\u0432\\u0442\\u043e\\u043c\\u043e\\u0431\\u0438\\u043b\\u0435\\u0439\",\"\\u043e\\u0447\\u0435\\u043d\\u044c\",\"\\u043f\\u0440\\u0430\\u0432\\u043b\\u0435\\u043d\\u0438\\u044f\",\"4\",\"\\u0441\\u0432\\u044f\\u0437\\u0438\",\"\\u0433\\u043e\\u0440\\u043e\\u0434\\u0430\",\"\\u043d\\u043e\\u0432\\u044b\\u0445\",\"\\u0440\\u0430\\u0437\\u0432\\u0438\\u0442\\u0438\\u044e\",\"\\u043f\\u0440\\u0435\\u0434\\u0441\\u0435\\u0434\\u0430\\u0442\\u0435\\u043b\\u044c\",\"\\u0441\\u0442\\u0440\\u0430\\u043d\",\"\\u043c\\u0438\\u043d\\u0438\\u0441\\u0442\\u0435\\u0440\\u0441\\u0442\\u0432\\u0430\",\"\\u0433\\u043e\\u0434\\u044b\",\"\\u0445\\u043e\\u0434\\u0435\",\"\\u043d\\u0430\\u0446\\u0438\\u043e\\u043d\\u0430\\u043b\\u044c\\u043d\\u043e\\u0433\\u043e\",\"\\u043f\\u0440\\u043e\\u0435\\u043a\\u0442\\u0430\",\"\\u0440\\u043e\\u0441\\u0441\\u0438\\u0438\",\"\\u0441\\u043b\\u043e\\u0432\\u0430\\u043c\",\"\\u043a\\u043e\\u043c\\u043f\\u0430\\u043d\\u0438\\u0439\",\"\\u043c\\u043b\\u0440\\u0434.\",\"\\u0431\\u0438\\u0437\\u043d\\u0435\\u0441\\u0430\",\"\\u0447\\u0435\\u043b\\u043e\\u0432\\u0435\\u043a\",\"\\u043a\\u043e\\u043c\\u0438\\u0442\\u0435\\u0442\\u0430\",\"\\u043f\\u0440\\u043e\\u0434\\u0443\\u043a\\u0446\\u0438\\u0438\",\"\\u0441\\u0447\\u0435\\u0442\",\"\\u0434\\u0435\\u043f\\u0430\\u0440\\u0442\\u0430\\u043c\\u0435\\u043d\\u0442\\u0430\",\"\\u0434\\u043e\\u043b\\u043b\\u0430\\u0440\\u043e\\u0432\",\"\\u0441\\u043a\\u0430\\u0437\\u0430\\u043b\",\"\\u043d\\u0430\\u0437\\u0430\\u0440\\u0431\\u0430\\u0435\\u0432\",\"\\u0442\\u043e\\u043d\\u043d\",\"\\u043e\\u0434\\u043d\\u0430\\u043a\\u043e\",\"\\u0432\\u043e\\u043f\\u0440\\u043e\\u0441\",\"\\u043f\\u0440\\u0435\\u0434\\u0441\\u0435\\u0434\\u0430\\u0442\\u0435\\u043b\\u044f\",\"\\u0431\\u0435\\u0437\\u043e\\u043f\\u0430\\u0441\\u043d\\u043e\\u0441\\u0442\\u0438\",\"\\u0434\\u043e\\u043b\\u0436\\u043d\\u044b\",\"\\u0438\\u0442\\u043e\\u0433\\u0430\\u043c\",\"\\u0440\\u0430\\u043d\\u0435\\u0435\",\"\\u043a\\u043e\\u0442\\u043e\\u0440\\u044b\\u0445\",\"\\u043f\\u0440\\u0430\\u0432\\u0438\\u0442\\u0435\\u043b\\u044c\\u0441\\u0442\\u0432\\u0430\",\"20\",\"\\u0438\\u043d\\u0444\\u043e\\u0440\\u043c\\u0430\\u0446\\u0438\\u0438\",\"\\u043c\\u0438\\u043d\\u0438\\u0441\\u0442\\u0440\",\"\\u0441\\u0440\\u0435\\u0434\\u0441\\u0442\\u0432\\u0430\",\"\\u0441\\u0443\\u043c\\u043c\\u0443\",\"\\u043d\\u043e\\u044f\\u0431\\u0440\\u044f\",\"\\u0441\\u043e\\u0432\\u0435\\u0442\\u0430\",\"\\u0441\\u0448\\u0430\",\"\\u043d\\u0430\\u0441\\u0435\\u043b\\u0435\\u043d\\u0438\\u044f\",\"\\u0440\\u0430\\u0437\\u0432\\u0438\\u0442\\u0438\\u0435\",\"\\u043f\\u0440\\u043e\\u0435\\u043a\\u0442\",\"\\u0443\\u0447\\u0430\\u0441\\u0442\\u0438\\u0435\",\"\\u0440\\u0430\\u0431\\u043e\\u0442\\u0443\",\"\\u0441\\u0438\\u0441\\u0442\\u0435\\u043c\\u044b\",\"2014\",\"\\u0440\\u043e\\u0441\\u0442\",\"\\u0441\\u043e\\u043e\\u0431\\u0449\\u0438\\u043b\",\"\\u043a\\u043e\\u0442\\u043e\\u0440\\u0430\\u044f\",\"\\u0441\\u0442\\u0440\\u043e\\u0438\\u0442\\u0435\\u043b\\u044c\\u0441\\u0442\\u0432\\u043e\",\"\\u043f\\u043e\\u044d\\u0442\\u043e\\u043c\\u0443\",\"6\",\"\\u0441\\u0444\\u0435\\u0440\\u0435\",\"\\u0434\\u0435\\u043d\\u044c\\u0433\\u0438\",\"\\u0441\\u043e\\u0433\\u043b\\u0430\\u0441\\u043d\\u043e\",\"100\",\"\\u0441\\u0442\\u0440\\u0430\\u043d\\u0435\",\"30\",\"\\u043f\\u0435\\u0440\\u0435\\u0434\\u0430\\u0435\\u0442\",\"\\u043e\\u0431\\u044a\\u0435\\u043c\",\"\\u043e\\u043a\\u043e\\u043b\\u043e\",\"\\u043f\\u0435\\u0440\\u0438\\u043e\\u0434\",\"\\u043c\\u043e\\u0433\\u0443\\u0442\",\"\\u0430\\u0441\\u0442\\u0430\\u043d\\u0435\",\"\\u0433\\u043e\\u0441\\u0443\\u0434\\u0430\\u0440\\u0441\\u0442\\u0432\\u0435\\u043d\\u043d\\u044b\\u0445\",\"\\u0441\\u0442\\u043e\\u0440\\u043e\\u043d\\u044b\",\"\\u0434\\u0440\\u0443\\u0433\\u0438\\u0445\",\"\\u043f\\u0435\\u0440\\u0432\\u044b\\u0439\",\"\\u0443\\u0440\\u043e\\u0432\\u043d\\u0435\",\"\\u0440\\u044b\\u043d\\u043a\\u0430\",\"\\u0430\\u043a\\u0442\\u0438\\u0432\\u043e\\u0432\",\"\\u043c\\u0435\\u0441\\u044f\\u0446\\u0435\\u0432\",\"\\u0444\\u043e\\u043d\\u0434\",\"\\u0433\\u043e\\u0441\\u0443\\u0434\\u0430\\u0440\\u0441\\u0442\\u0432\\u0435\\u043d\\u043d\\u043e\\u0439\",\"7\",\"\\u0443\\u0440\\u043e\\u0432\\u043d\\u044f\",\"\\u0441\\u0442.\",\"\\u043f\\u0435\\u043d\\u0441\\u0438\\u043e\\u043d\\u043d\\u044b\\u0445\",\"\\u0441\\u0440\\u0435\\u0434\\u0438\",\"9\",\"\\u0438\\u043d\\u0432\\u0435\\u0441\\u0442\\u0438\\u0446\\u0438\\u0439\",\"\\u0431\\u0430\\u043d\\u043a\\u043e\\u0432\",\"\\u0441\\u043e\\u0441\\u0442\\u0430\\u0432\\u043b\\u044f\\u0435\\u0442\",\"\\u0440\\u044b\\u043d\\u043a\\u0435\",\"15\",\"\\u0440\\u0430\\u0437\\u043c\\u0435\\u0440\\u0435\",\"\\u0430\\u0441\\u0442\\u0430\\u043d\\u044b\",\"\\u043d\\u0430\\u043c\",\"\\u0432\\u043e\\u043f\\u0440\\u043e\\u0441\\u044b\",\"\\u0441\\u043e\\u043e\\u0431\\u0449\\u0430\\u0435\\u0442\",\"\\u0441\\u0443\\u0434\\u0430\",\"\\u043f\\u0440\\u0435\\u0434\\u043f\\u0440\\u0438\\u044f\\u0442\\u0438\\u0439\",\"\\u0440\\u043e\\u0441\\u0442\\u0430\",\"\\u0441\\u043b\\u0443\\u0447\\u0430\\u0435\",\"25\",\"\\u0441\\u0432\\u043e\\u0438\",\"\\u0440\\u0435\\u0448\\u0435\\u043d\\u0438\\u0435\",\"\\u043e\\u043a\\u0442\\u044f\\u0431\\u0440\\u044f\",\"8\",\"\\u0433\\u043b\\u0430\\u0432\\u044b\",\"\\u0440\\u043e\\u0434\\u0438\\u043b\\u0441\\u044f\",\"\\u0434\\u0435\\u0442\\u0435\\u0439\",\"\\u0434\\u0430\\u043d\\u043d\\u044b\\u043c\",\"12\",\"\\u0443\\u0441\\u043b\\u0443\\u0433\",\"\\u044d\\u0442\\u0438\\u0445\",\"\\u0434\\u0440\\u0443\\u0433\\u0438\\u0435\",\"\\u0442\\u0435\\u0440\\u0440\\u0438\\u0442\\u043e\\u0440\\u0438\\u0438\",\"\\u043e\\u0440\\u0433\\u0430\\u043d\\u0438\\u0437\\u0430\\u0446\\u0438\\u0438\",\"\\u043d\\u043e\\u0432\\u044b\\u0435\",\"\\u0441\\u043e\\u043e\\u0442\\u0432\\u0435\\u0442\\u0441\\u0442\\u0432\\u0438\\u0438\",\"\\u0431\\u0430\\u0439\\u0442\\u0435\\u0440\\u0435\\u043a\",\"\\u043f\\u043e\\u0440\\u044f\\u0434\\u043a\\u0430\",\"\\u043b\\u0438\\u0446\",\"\\u0434\\u043e\\u043b\\u0436\\u0435\\u043d\",\"\\u0443\\u0440\\u043e\\u0432\\u0435\\u043d\\u044c\",\"\\u0441\\u043e\\u0441\\u0442\\u0430\\u0432\\u0438\\u043b\",\"\\u043d\\u0430\\u0446\\u0438\\u043e\\u043d\\u0430\\u043b\\u044c\\u043d\\u044b\\u0439\",\"\\u0434\\u043e\\u043b\\u044f\",\"\\u043c\\u043b\\u043d.\",\"\\u0441\\u043e\\u0442\\u0440\\u0443\\u0434\\u043d\\u0438\\u0447\\u0435\\u0441\\u0442\\u0432\\u0430\",\"11\",\"\\u0441\\u0442\\u0430\\u043b\",\"\\u043e\\u0431\\u0440\\u0430\\u0437\\u043e\\u0432\\u0430\\u043d\\u0438\\u044f\",\"\\u0430\\u0432\\u0442\\u043e\",\"\\u043e\\u0442\\u043d\\u043e\\u0448\\u0435\\u043d\\u0438\\u0438\",\"\\u0438\\u043c\\u0435\\u043d\\u043d\\u043e\",\"\\u043a\\u0430\\u0437\\u0430\\u0445\\u0441\\u0442\\u0430\\u043d\\u0441\\u043a\\u043e\\u0439\",\"\\u0438\\u043d\\u0432\\u0435\\u0441\\u0442\\u0438\\u0446\\u0438\\u044f\\u043c\",\"\\u0430\\u043a\\u0438\\u043c\\u0430\",\"000\",\"\\u0447\\u0430\\u0441\\u0442\\u044c\",\"\\u043e\\u0442\\u0440\\u0430\\u0441\\u043b\\u0438\",\"\\u0433\\u043e\\u0441\\u0443\\u0434\\u0430\\u0440\\u0441\\u0442\\u0432\\u0435\\u043d\\u043d\\u043e\\u0433\\u043e\",\"\\u0434\\u043e\\u043b\\u0436\\u043d\\u043e\\u0441\\u0442\\u0438\",\"\\u0446\\u0435\\u043b\\u043e\\u043c\",\"\\u0441\\u0442\\u0440\\u043e\\u0438\\u0442\\u0435\\u043b\\u044c\\u0441\\u0442\\u0432\\u0430\",\"\\u043d\\u0430\\u0441\\u0442\\u043e\\u044f\\u0449\\u0435\\u0435\",\"\\u043c\\u0435\\u0441\\u0442\\u043e\",\"\\u043f\\u0440\\u0435\\u0434\\u043f\\u0440\\u0438\\u043d\\u0438\\u043c\\u0430\\u0442\\u0435\\u043b\\u0435\\u0439\",\"\\u043d\\u043e\\u0432\\u044b\\u0439\",\"\\u043e\\u0447\\u0435\\u0440\\u0435\\u0434\\u044c\",\"\\u043f\\u043e\\u043a\\u0430\",\"\\u043a\\u0430\\u0437\\u0430\\u0445\\u0441\\u0442\\u0430\\u043d\\u0441\\u043a\\u0438\\u0445\",\"\\u043d\\u043e\\u0432\\u043e\\u0433\\u043e\",\"\\u043d\\u0435\\u0441\\u043a\\u043e\\u043b\\u044c\\u043a\\u043e\",\"50\",\"\\u0441\\u0432\\u043e\\u0435\\u0439\",\"\\u0440\\u0430\\u0431\\u043e\\u0442\\u0430\",\"\\u043d\\u0443\\u0440\\u0441\\u0443\\u043b\\u0442\\u0430\\u043d\",\"\\u043f\\u043b\\u0430\\u043d\\u0438\\u0440\\u0443\\u0435\\u0442\\u0441\\u044f\",\"\\u0440\\u0443\\u043a\\u043e\\u0432\\u043e\\u0434\\u0438\\u0442\\u0435\\u043b\\u044c\",\"\\u0432\\u043e\\u0437\\u043c\\u043e\\u0436\\u043d\\u043e\\u0441\\u0442\\u044c\",\"\\u043f\\u0440\\u0435\\u0434\\u043f\\u0440\\u0438\\u044f\\u0442\\u0438\\u044f\",\"\\u043f\\u043e\\u0434\\u0434\\u0435\\u0440\\u0436\\u043a\\u0438\",\"\\u0438\\u043d\\u0444\\u0440\\u0430\\u0441\\u0442\\u0440\\u0443\\u043a\\u0442\\u0443\\u0440\\u044b\",\"\\u043d\\u0430\\u0447\\u0430\\u043b\\u0430\",\"\\u0440\\u0430\\u0437\\u0430\",\"\\u0446\\u0435\\u043d\\u0442\\u0440\",\"\\u043a\\u043e\\u0442\\u043e\\u0440\\u043e\\u0439\",\"\\u0434\\u0435\\u044f\\u0442\\u0435\\u043b\\u044c\\u043d\\u043e\\u0441\\u0442\\u044c\",\"\\u0441\\u043e\\u0432\\u043c\\u0435\\u0441\\u0442\\u043d\\u043e\",\"\\u043f\\u0440\\u043e\\u043c\\u044b\\u0448\\u043b\\u0435\\u043d\\u043d\\u043e\\u0441\\u0442\\u0438\",\"\\u043f\\u0440\\u043e\\u0438\\u0437\\u0432\\u043e\\u0434\\u0441\\u0442\\u0432\\u043e\",\"\\u0433\\u0440\\u0430\\u0436\\u0434\\u0430\\u043d\",\"\\u043d\\u0430\\u0447\\u0430\\u043b\\u044c\\u043d\\u0438\\u043a\",\"\\u043c\\u0438\\u043b\\u043b\\u0438\\u043e\\u043d\\u043e\\u0432\",\"\\u043d\\u0430\\u0448\\u0435\\u0439\",\"\\u0432\\u0441\\u0435\\u043c\",\"\\u0432\\u043c\\u0435\\u0441\\u0442\\u0435\",\"\\u0440\\u044b\\u043d\\u043e\\u043a\",\"\\u0441\\u043b\\u0435\\u0434\\u0443\\u0435\\u0442\",\"\\u0441\\u0442\\u0430\\u043b\\u043e\",\"\\u0434\\u0432\\u0443\\u0445\",\"\\u0434\\u0438\\u0440\\u0435\\u043a\\u0442\\u043e\\u0440\\u0430\",\"\\u043a\\u043e\\u043b\\u0438\\u0447\\u0435\\u0441\\u0442\\u0432\\u043e\",\"\\u043d\\u0435\\u0444\\u0442\\u0438\",\"\\u043f\\u0440\\u043e\\u0446\\u0435\\u043d\\u0442\\u043e\\u0432\",\"\\u0441\\u0442\\u043e\\u0438\\u043c\\u043e\\u0441\\u0442\\u044c\",\"\\u0446\\u0435\\u043d\\u0442\\u0440\\u0430\",\"14\",\"\\u0447\\u0430\\u0441\\u0442\\u0438\",\"\\u0441\\u0430\\u0439\\u0442\\u0430\",\"\\u043c\\u0435\\u0440\\u044b\",\"\\u043e\\u0442\\u0434\\u0435\\u043b\\u0430\",\"\\u043e\\u0431\\u0435\\u0441\\u043f\\u0435\\u0447\\u0438\\u0442\\u044c\",\"\\u043d\\u0430\\u043f\\u043e\\u043c\\u043d\\u0438\\u043c\",\"\\u0438\\u043c\\u0435\\u0435\\u0442\",\"16\",\"\\u043a\\u043e\\u0442\\u043e\\u0440\\u043e\\u0433\\u043e\",\"\\u044d\\u043a\\u043e\\u043d\\u043e\\u043c\\u0438\\u0447\\u0435\\u0441\\u043a\\u043e\\u0433\\u043e\",\"\\u0432\\u043d\\u0438\\u043c\\u0430\\u043d\\u0438\\u0435\",\"\\u2116\",\"\\u043e\\u0431\\u044a\\u0435\\u043a\\u0442\\u043e\\u0432\",\"\\u043f\\u0440\\u0430\\u0432\\u0438\\u0442\\u0435\\u043b\\u044c\\u0441\\u0442\\u0432\\u0443\",\"\\u044d\\u0442\\u0438\\u043c\",\"\\u0438\\u043d\\u043e\\u0441\\u0442\\u0440\\u0430\\u043d\\u043d\\u044b\\u0445\",\"\\u043f\\u0440\\u0435\\u0434\\u043f\\u0440\\u0438\\u043d\\u0438\\u043c\\u0430\\u0442\\u0435\\u043b\\u044c\\u0441\\u0442\\u0432\\u0430\",\"\\u0442\\u0435\\u0447\\u0435\\u043d\\u0438\\u0435\",\"\\u043a\\u0430\\u0437\\u0430\\u0445\\u0441\\u0442\\u0430\\u043d\\u0441\\u043a\\u043e\\u0433\\u043e\",\"\\u0441\\u043e\\u044e\\u0437\\u0430\",\"\\u0441\\u0435\\u043a\\u0442\\u043e\\u0440\\u0430\",\"\\u0442\\u0430\\u043a\\u0438\\u0435\",\"\\u0441\\u0442\\u0430\\u0442\\u044c\\u0438\",\"\\u0438\\u043c.\",\"\\u043d\\u043e\\u0432\\u043e\\u0439\",\"\\u043f\\u043e\\u043b\\u0438\\u0442\\u0438\\u043a\\u0438\",\"\\u043e\\u0431\\u0440\\u0430\\u0437\\u043e\\u043c\",\"\\u043c\\u0438\\u0440\\u0430\",\"\\u0440\\u0435\\u0437\\u0443\\u043b\\u044c\\u0442\\u0430\\u0442\\u0435\",\"\\u0434\\u0435\\u043b\",\"\\u0440\\u0430\\u0439\\u043e\\u043d\\u0430\",\"\\u043c\\u0435\\u043d\\u0435\\u0435\",\"\\u043c\\u0438\\u043d\\u0438\\u0441\\u0442\\u0440\\u0430\",\"\\u0443\\u0441\\u043b\\u043e\\u0432\\u0438\\u044f\\u0445\",\"\\u043d\\u0430\\u0446\\u0431\\u0430\\u043d\\u043a\\u0430\",\"2013\",\"\\u0438\\u0437-\\u0437\\u0430\",\"\\u043c\\u043e\\u043c\\u0435\\u043d\\u0442\",\"\\u0441\\u0435\\u043d\\u0442\\u044f\\u0431\\u0440\\u044f\",\"\\u044f\\u0432\\u043b\\u044f\\u044e\\u0442\\u0441\\u044f\",\"\\u0442\\u0435\\u043a\\u0443\\u0449\\u0435\\u0433\\u043e\",\"\\u0440\\u0430\\u0431\\u043e\\u0442\\u0435\"],\"x1\":{\"__ndarray__\":\"xdIFwAMad788NIhAZmRSP95NR8AucoZBCno8wFiJBsEcPETBBJ6JQcKJe8H//tLAfSnQwDuXYEHuYETALShEwSWBs8BaJnlA9M5FQatGQkCnW/RAmBY3wet1ikC8Y7q/3UfAvpF7HUGX3axAlU+bv3CBG8GDbB9B9Nk6wS8wHr72NH1Be0tYwVgbCkCWLY7BPXLwwP4UQMAD4SPAlS3NQGqRP8FigjVACPgsQURsUEH1Qm+/i9R7P0VEWsHmF4dACoWPQemQ38BFo1hAwyOiwPAftsB+30rB2wtlwbgdfcF+s92/8/UZwVJRPkHJf/g/UFgZQbOefcAFowTBWf+8wMmgZsEJSqc/Hix8QbGcqD+JrL/AN+z1QEN04T8MWY5AHz2hwRPJ4cAztvFAHpA5Qfh9LkEt5pRBFIWJwTGST74RuX9BCzcCPw0LJ8GCqyHBFzykwJXP5T/+f4A+m/UQQTntc0CHortAcMHdQMdDmcFGmOY/KuXEQDnGVcGmQKK/wm4+QTtvgkFsDRi/QrJUQOirAkHCqYjBHc4HQSo7+0C+vCrBl581wFhVPEDaCXFBC+BEwBwXrMCe7lZB78aWQOKynD7vnELB/0mhwR1nvz90B2TBPsJMQQBrjsCekBhBCQU+Qa/tRcBC7S/BuiMGQZDZNUEq8Vg/yjDtwICZnkANU57A2GqCwObDlUBWtvHA0a2Uv83HeEB/mIXABoLKwEwkfUD36Sk//X2/v7Px30DzFN+/OUXiwBLg2UAuG5k/LF4UwGuku0A/enFAdzcEQS+gQcCPyhfBOKSHQSOfrcAfashAIpojwYfMD0FEbyw+5jiPwF6kS0HDswlBdZmUPzg8WkCEQWHAw2bDPhkJP0HCmqtAgA0XQRURyMDab27Bfu8GQSKqCkEhZbJAPCIrwI8OzkAxBghBt2xAwUM1osAIW2HB2VdXwcMx6UD5IZHAPKyBwCMnDsAKclJAKgmdQHbwbMDyd4XA6fSoQIIx6sCOB/XAUhU9P921YEDTqsNAvlHTQPbuUEDE6yPAxZJQQFmDXUAA909BAAN2wFxAlb8cbG9Bsx3hP4iYu8ACKEtAyHwHQAL5k0GDc3fB51YMQGkIl8D9to5AposewVKUgkGwGpdAklDfwB6C0cBHObu/z73yQKmZ7L8CfEZBzxqKQCU7uT+bXjTABLhvveed0b8Tmz1APivdwHC+fUEXYk5BR71xwWGG3UDRB4g9u+bFQJC6PUEN7yXA4OL2wK9bGcE0mfw+OgsQwYgyRkFZg4xA88IyPxCyOEB8H2rBZUKDQIhwIUDOW8lAI0VZQDXbIkBUAwxBmoveviRCLD6RdX7BYO+2PxVOsD1LQdu/bi04P9mhGcGeXojAl0+ZwOBUCcGQBiJBTkhhwaY4Q0H5ohvABg48QHgYqsDscYg+qcNNQUwKIEEOXBfBp7MsQfrvTEH1u+ZAXgFXQXWevUCsO2LAafo9QDuLPkE+a6VAvsaiQFrKHcEi4k7B9S8Hv5iN0MBfUtZAIUdJPQJamj+xZ2JBx4dxwdxoiUCopH5BSpyrQChgHUG9sizB0H38PxZlhEDiQzrBY61pvgTRScHQep7A\",\"dtype\":\"float32\",\"order\":\"little\",\"shape\":[300]},\"x2\":{\"__ndarray__\":\"z9bTwCYnk8H4X9xA0fTnwP+w3kB5YRhBcaFoQT2ngcA3XvXAPJgCwZoJ5b4W75fA6wowwd/EV79NRXXBtcVuQaPNn8FFs53B75hPwYp4vD7ijDRBFvXfwLFMO7/fwHhBnTZcQQVYoUFTA5NBQMszQIpFakG68QPB/IEtwDjkysCOfwpAws3TwLUmsECvRJ7AyggLwSq5CsGN4CZB5EoUweulgMFXaInBl7AqQe14WsH19gTBK6soQSpIf0CqsIPBLYRTQCyiDsF0zZDB7ZldQPzZ7MBP/3HB7Q/PQIxrzkBCc2dBnrK5QDDQjUAV3RnANCIrQVBdGkFCwXpBf31jQcrxG0E2/YJAg5yqQEoHh0EizQBAoFmJQRTar0Gh5b1AgJfGP3rCAsHKGfBAoNFBwXIsWz+deLjACh6wQJ4Uxb2mmrHAfLrKwHweYEFMIQlA8DZQQQtsKD87tgxBsw1pwCv4msFrLIjAxXhQwVTFTz/erI1BtnEHwV1Vn0B1ipLBYcWMQH2zv0A6aJZBqpJQQJAwmUAsZolA/nNkQcM9JUHAvExBwkGdQDgs/L9KKhNAFgQnwU30xUDXsG9A+bfrwALbisE1K3LBVLKTP/pWOj8DEijBetBHv7tWPUFT2hVAD/BDQfqFLUCqxtHAcOQ6vT8oe0C1Rt1AdmGLQch7sEBU2gHBHKReP9O+28Cqxy/A4fo5wWcyKz6EaSnBRmr6QA/0PMHsiTvB63S6wASHHEH1qMdAk2MWPnDCakDtcgDAVXcLQYvcFD8SYVhBtKEEwRonaMEMzLZALEM5vxi7B8GKXlu/JP4xwYlSCcEKB8u/yCHvwBwVnsCKqMXAYR1NwXVlVUHkfhzB2I+JwamjR8F9dtBA/CYAQXD19UDbvynA7h9HwPyPErx7bYFAw9gZwSxHEUER3T5AAE9qwX6iEMGc2yFBTdnpPpLTTsFyX7VAmxoMwR1QKT/Mjv8/710MQcbNjb8vF+A/DaQaQc1kV8DT5qhAcM40wRjKlMACQDdBjuz0PXyASMFMLipBuKw7wWPhj8GFEItBRD3+wOtibUDgv9bAxK6vQTjbYr5HCZJAYX8PQfhluMCG5qc/Mt53wU/pF8B+qoJB9IsGQJ6VasDWuOk/mLCGQd6OWsFagtC/7kxHwIoNDkGC+cRA4oOLQERBkr/SY1jArmR3wN0rMcEJDvBAw+KCwfDDsECRtQlBuJK0QIA9r0DQ+mlBdXk3wCjNnL9shJ3AJpAsQcl+BUGXEMZAMwXiP/gkRUHhYYVBvNyHQfXQZcAGiaFAIyyEwUvv5UCO5MBASZWzQBGHUEFNmMtAUTKLQGnwXcB6S4ZA8LgiweCXjkG1jGHBj2NewfcWAkFTURjBhdcCwPEvAsDtOwtBiH6NQKaEH0H1YqRANLKQQPabH8Ho7LtAj1eKQV9SvkCMlSDBgPz2vzGoLUHp7t1ARo+bwDgzdcCwJ67AHbcwQRiahUGLHHJBluMFQZ/cNcHMqko/dxLsQMi+SEDh2g1ASA8lvwxFLUAkTZvAeC8FP3gYrT8+EpDAiD40QBYgxcD9IMzA7zA6QA4zX0DvFWzBqPfZP3FB2cCxxTNA\",\"dtype\":\"float32\",\"order\":\"little\",\"shape\":[300]}},\"selected\":{\"id\":\"1048\"},\"selection_policy\":{\"id\":\"1047\"}},\"id\":\"1031\",\"type\":\"ColumnDataSource\"},{\"attributes\":{\"coordinates\":null,\"formatter\":{\"id\":\"1045\"},\"group\":null,\"major_label_policy\":{\"id\":\"1046\"},\"ticker\":{\"id\":\"1015\"}},\"id\":\"1014\",\"type\":\"LinearAxis\"}],\"root_ids\":[\"1003\"]},\"title\":\"Bokeh Application\",\"version\":\"2.4.1\"}};\n",
       "  const render_items = [{\"docid\":\"086c53e7-5648-4ad5-a07d-be143ca48b55\",\"root_ids\":[\"1003\"],\"roots\":{\"1003\":\"e0896965-327a-473f-b23e-4419979ab583\"}}];\n",
       "  root.Bokeh.embed.embed_items_notebook(docs_json, render_items);\n",
       "\n",
       "  }\n",
       "  if (root.Bokeh !== undefined) {\n",
       "    embed_document(root);\n",
       "  } else {\n",
       "    let attempts = 0;\n",
       "    const timer = setInterval(function(root) {\n",
       "      if (root.Bokeh !== undefined) {\n",
       "        clearInterval(timer);\n",
       "        embed_document(root);\n",
       "      } else {\n",
       "        attempts++;\n",
       "        if (attempts > 100) {\n",
       "          clearInterval(timer);\n",
       "          console.log(\"Bokeh: ERROR: Unable to run BokehJS code because BokehJS library is missing\");\n",
       "        }\n",
       "      }\n",
       "    }, 10, root)\n",
       "  }\n",
       "})(window);"
      ],
      "application/vnd.bokehjs_exec.v0+json": ""
     },
     "metadata": {
      "application/vnd.bokehjs_exec.v0+json": {
       "id": "1003"
      }
     },
     "output_type": "display_data"
    }
   ],
   "source": [
    "output_notebook()\n",
    "\n",
    "p = figure(tools=\"pan, wheel_zoom, reset, save\",\n",
    "           toolbar_location=\"above\",\n",
    "           title=\"word2vec T-SNE (eng model, top1000 words)\")\n",
    "\n",
    "source = ColumnDataSource(data=dict(x1=top_words_tsne[:,0],\n",
    "                                    x2=top_words_tsne[:,1],\n",
    "                                    names=top_words))\n",
    "\n",
    "p.scatter(x=\"x1\", y=\"x2\", size=8, source=source)\n",
    "\n",
    "labels = LabelSet(x=\"x1\", y=\"x2\", text=\"names\", y_offset=6,\n",
    "                  text_font_size=\"8pt\", text_color=\"#555555\",\n",
    "                  source=source, text_align='center')\n",
    "p.add_layout(labels)\n",
    "\n",
    "show(p)"
   ]
  },
  {
   "cell_type": "markdown",
   "metadata": {},
   "source": [
    "**Вывод:** видно что слова близкие по смыслу лежат вместе"
   ]
  },
  {
   "cell_type": "markdown",
   "metadata": {},
   "source": [
    "## Часть 3. [5 баллов] Классификация текстов\n",
    "Задача классификации формулируется так: каждая новостная статья описывает какую-то ситуацию, имеющую определенную тональность. Требуется по тексту предсказать, какую тональность имеет данная статья. Таким образом, тональность - это фактически метка класса. Основная мера качества – macro $F_1$.\n",
    "Обучите несколько классификаторов и сравните их между собой. Оцените качество классификаторов на каждом из классв. Какие классы чаще всего оказываются перепутаны? Связаны ли ошибки со смыслом текстов?\n",
    "\n",
    "Используйте фрагменты из множества train для обучения, из множества dev для отладки, из множества test – для тестирования и получения итоговых результатов. \n",
    "\n",
    "1. [1 балл] Используйте fastText в качестве baseline-классификатора.\n",
    "2. [2 балла] Используйте сверточные сети в качестве более продвинутого классификатора. Поэкспериментируйте с количеством и размерностью фильтров, используйте разные размеры окон, попробуйте использовать $k$-max pooling. \n",
    "3. [2 балла] Попробуйте расширить обучающее множество за счет аугментации данных. Если вам понадобится словарь синонимов, можно использовать WordNet (ниже вы найдете примеры).\n",
    "\n",
    "[бонус] Используйте результат max pooling'а как эмбеддинг входного текста. Визуализируйте эмбеддинги 300-500 предложений из обучающего множества и изучите свойства получившегося пространства.\n",
    "\n",
    "[бонус] Используйте ваш любимый классификатор и любые (честные) способы повышения качества классификации и получите macro $F_1$ больше 0.5."
   ]
  },
  {
   "cell_type": "code",
   "execution_count": 38,
   "metadata": {
    "ExecuteTime": {
     "end_time": "2022-10-01T12:11:08.075361Z",
     "start_time": "2022-10-01T12:11:07.941678Z"
    }
   },
   "outputs": [],
   "source": [
    "from sklearn.model_selection import train_test_split\n",
    "from sklearn.metrics import f1_score\n",
    "import fasttext\n",
    "import numpy as np\n"
   ]
  },
  {
   "cell_type": "markdown",
   "metadata": {},
   "source": [
    "## fasttext as baseline"
   ]
  },
  {
   "cell_type": "code",
   "execution_count": 36,
   "metadata": {
    "ExecuteTime": {
     "end_time": "2022-10-01T12:10:29.461170Z",
     "start_time": "2022-10-01T12:10:05.525046Z"
    }
   },
   "outputs": [
    {
     "name": "stdout",
     "output_type": "stream",
     "text": [
      "total train examples 5536\n",
      "total test examples 2727\n"
     ]
    }
   ],
   "source": [
    "## разделим данные на тренировочную и тестовую выборки\n",
    "\n",
    "X = df['text_tokenized'].apply(lambda x : \" \".join(x)).tolist()\n",
    "y = df['sentiment'].tolist()\n",
    "\n",
    "X, y = np.array(X), np.array(y)\n",
    "\n",
    "X_train, X_test, y_train, y_test = train_test_split(X, y, test_size=0.33)\n",
    "print (\"total train examples %s\" % len(y_train))\n",
    "print (\"total test examples %s\" % len(y_test))"
   ]
  },
  {
   "cell_type": "code",
   "execution_count": 37,
   "metadata": {
    "ExecuteTime": {
     "end_time": "2022-10-01T12:11:07.928322Z",
     "start_time": "2022-10-01T12:10:53.168128Z"
    }
   },
   "outputs": [],
   "source": [
    "## запишем полученные выборки в файлы\n",
    "\n",
    "with open('data.train.txt', 'w+', encoding='utf-8') as outfile:\n",
    "    for i in range(len(X_train)):\n",
    "        outfile.write('__label__' + y_train[i] + ' '+ X_train[i] + '\\n')\n",
    "    \n",
    "\n",
    "with open('dev.txt', 'w+', encoding='utf-8') as outfile:\n",
    "    for i in range(len(X_test)):\n",
    "        outfile.write('__label__' + y_test[i] + ' ' + X_test[i] + '\\n')"
   ]
  },
  {
   "cell_type": "code",
   "execution_count": 39,
   "metadata": {
    "ExecuteTime": {
     "end_time": "2022-10-01T12:11:22.802008Z",
     "start_time": "2022-10-01T12:11:20.059415Z"
    }
   },
   "outputs": [
    {
     "name": "stderr",
     "output_type": "stream",
     "text": [
      "Read 2M words\n",
      "Number of words:  141844\n",
      "Number of labels: 3\n",
      "Progress: 100.0% words/sec/thread: 2122502 lr:  0.000000 avg.loss:  1.030390 ETA:   0h 0m 0s\n"
     ]
    },
    {
     "name": "stdout",
     "output_type": "stream",
     "text": [
      "Macro F1: 0.22085989864312575\n"
     ]
    }
   ],
   "source": [
    "## обучим fasttext и измерим скор\n",
    "\n",
    "classifier = fasttext.train_supervised('data.train.txt')\n",
    "result = classifier.test('dev.txt')\n",
    "\n",
    "y_pred = classifier.predict(y_test.tolist())\n",
    "print('Macro F1:', f1_score(np.array(list(map(lambda x : \"__label__\" + x, y_test))),\n",
    "                            np.array(y_pred[0]).squeeze(), average='macro'))"
   ]
  },
  {
   "cell_type": "markdown",
   "metadata": {},
   "source": [
    "**Вывод:** используем это число как baseline"
   ]
  },
  {
   "cell_type": "markdown",
   "metadata": {},
   "source": [
    "## CNN"
   ]
  },
  {
   "cell_type": "code",
   "execution_count": 54,
   "metadata": {
    "ExecuteTime": {
     "end_time": "2022-10-01T13:19:22.595373Z",
     "start_time": "2022-10-01T13:19:22.588499Z"
    }
   },
   "outputs": [],
   "source": [
    "import torch\n",
    "from torchtext.legacy import data\n",
    "from torchtext.legacy import datasets\n",
    "from torchtext.vocab import build_vocab_from_iterator\n",
    "from torch import nn\n",
    "import torch.optim as optim\n",
    "from torch.nn import functional as F\n",
    "\n",
    "import pymorphy2\n",
    "from functools import lru_cache\n",
    "from multiprocessing import Pool\n",
    "import re\n",
    "\n",
    "from torch.utils.data import Dataset\n",
    "from torch.utils.data import DataLoader\n",
    "from sklearn.preprocessing import LabelEncoder\n",
    "\n",
    "\n"
   ]
  },
  {
   "cell_type": "code",
   "execution_count": 44,
   "metadata": {
    "ExecuteTime": {
     "end_time": "2022-10-01T12:13:25.252482Z",
     "start_time": "2022-10-01T12:13:25.246837Z"
    }
   },
   "outputs": [],
   "source": [
    "SEED = 0\n",
    "torch.manual_seed(SEED)\n",
    "torch.cuda.manual_seed(SEED)\n",
    "tqdm.pandas()"
   ]
  },
  {
   "cell_type": "code",
   "execution_count": 45,
   "metadata": {
    "ExecuteTime": {
     "end_time": "2022-10-01T12:13:25.430050Z",
     "start_time": "2022-10-01T12:13:25.425837Z"
    }
   },
   "outputs": [],
   "source": [
    "m = pymorphy2.MorphAnalyzer() \n",
    "\n",
    "def lemmatize(text, pymorphy=m):\n",
    "    try:\n",
    "        return \" \".join([pymorphy.parse(w)[0].normal_form for w in text])\n",
    "    except:\n",
    "        return \" \"    \n",
    "    \n",
    "\n",
    "def dataset_iterator(texts):\n",
    "    for text in texts:\n",
    "        yield text.split()"
   ]
  },
  {
   "cell_type": "code",
   "execution_count": 50,
   "metadata": {
    "ExecuteTime": {
     "end_time": "2022-10-01T12:55:14.356517Z",
     "start_time": "2022-10-01T12:47:05.674502Z"
    }
   },
   "outputs": [
    {
     "data": {
      "application/vnd.jupyter.widget-view+json": {
       "model_id": "c13f2b7059c54e2e8df3e86c110e7338",
       "version_major": 2,
       "version_minor": 0
      },
      "text/plain": [
       "  0%|          | 0/8263 [00:00<?, ?it/s]"
      ]
     },
     "metadata": {},
     "output_type": "display_data"
    }
   ],
   "source": [
    "## lemmatize text\n",
    "\n",
    "df['text_lemmatized'] = df['text_tokenized'].progress_apply(lambda x : lemmatize(x))"
   ]
  },
  {
   "cell_type": "code",
   "execution_count": 55,
   "metadata": {
    "ExecuteTime": {
     "end_time": "2022-10-01T13:19:23.936397Z",
     "start_time": "2022-10-01T13:19:23.921554Z"
    }
   },
   "outputs": [
    {
     "ename": "TypeError",
     "evalue": "build_vocab_from_iterator() got an unexpected keyword argument 'specials'",
     "output_type": "error",
     "traceback": [
      "\u001b[0;31m---------------------------------------------------------------------------\u001b[0m",
      "\u001b[0;31mTypeError\u001b[0m                                 Traceback (most recent call last)",
      "\u001b[0;32m/var/folders/7r/3bj773_x3qv873q1y8mhs8yh0000gn/T/ipykernel_27801/1716402278.py\u001b[0m in \u001b[0;36m<module>\u001b[0;34m\u001b[0m\n\u001b[0;32m----> 1\u001b[0;31m vocab = build_vocab_from_iterator(\n\u001b[0m\u001b[1;32m      2\u001b[0m     \u001b[0mdataset_iterator\u001b[0m\u001b[0;34m(\u001b[0m\u001b[0mdf\u001b[0m\u001b[0;34m[\u001b[0m\u001b[0;34m'text_lemmatized'\u001b[0m\u001b[0;34m]\u001b[0m\u001b[0;34m)\u001b[0m\u001b[0;34m,\u001b[0m\u001b[0;34m\u001b[0m\u001b[0;34m\u001b[0m\u001b[0m\n\u001b[1;32m      3\u001b[0m     \u001b[0mspecials\u001b[0m\u001b[0;34m=\u001b[0m\u001b[0;34m[\u001b[0m\u001b[0;34m'<pad>'\u001b[0m\u001b[0;34m,\u001b[0m \u001b[0;34m'<unk>'\u001b[0m\u001b[0;34m]\u001b[0m\u001b[0;34m,\u001b[0m \u001b[0mmin_freq\u001b[0m\u001b[0;34m=\u001b[0m\u001b[0;36m10\u001b[0m\u001b[0;34m,\u001b[0m\u001b[0;34m\u001b[0m\u001b[0;34m\u001b[0m\u001b[0m\n\u001b[1;32m      4\u001b[0m )\n",
      "\u001b[0;31mTypeError\u001b[0m: build_vocab_from_iterator() got an unexpected keyword argument 'specials'"
     ]
    }
   ],
   "source": [
    "vocab = build_vocab_from_iterator(\n",
    "    dataset_iterator(df['text_lemmatized']),\n",
    "    specials=['<pad>', '<unk>'], min_freq=10,\n",
    ")"
   ]
  },
  {
   "cell_type": "code",
   "execution_count": 318,
   "metadata": {},
   "outputs": [],
   "source": [
    "df_train, df_test = train_test_split(df, test_size=0.2)"
   ]
  },
  {
   "cell_type": "code",
   "execution_count": 319,
   "metadata": {},
   "outputs": [],
   "source": [
    "train_tokens = []\n",
    "for text in dataset_iterator(df_train['text_lemmatized']):\n",
    "    tokens = [vocab[word] if word in vocab else vocab['<unk>'] for word in text]\n",
    "    train_tokens += [tokens]\n",
    "\n",
    "test_tokens = []\n",
    "for text in dataset_iterator(df_test['text_lemmatized']):\n",
    "    tokens = [vocab[word] if word in vocab else vocab['<unk>'] for word in text]\n",
    "    test_tokens += [tokens]"
   ]
  },
  {
   "cell_type": "code",
   "execution_count": 320,
   "metadata": {},
   "outputs": [],
   "source": [
    "max_length = 300\n",
    "tokenized_train = torch.full((len(train_tokens), max_length), vocab['<pad>'], dtype=torch.int32)\n",
    "for i, tokens in enumerate(train_tokens):\n",
    "    length = min(max_length, len(tokens))\n",
    "    tokenized_train[i, :length] = torch.tensor(tokens[:length])\n",
    "\n",
    "tokenized_test = torch.full((len(test_tokens), max_length), vocab['<pad>'], dtype=torch.int32)\n",
    "for i, tokens in enumerate(test_tokens):\n",
    "    length = min(max_length, len(tokens))\n",
    "    tokenized_test[i, :length] = torch.tensor(tokens[:length])"
   ]
  },
  {
   "cell_type": "code",
   "execution_count": 321,
   "metadata": {},
   "outputs": [],
   "source": [
    "## \n",
    "\n",
    "class MyDataset(Dataset):\n",
    "    def __init__(self, X, y):\n",
    "        self.y = torch.tensor(y)\n",
    "        self.X = torch.tensor(X)\n",
    "\n",
    "    def __len__(self):\n",
    "        return self.X.shape[0]\n",
    "\n",
    "    def __getitem__(self, i): \n",
    "        return self.X[i], self.y[i]"
   ]
  },
  {
   "cell_type": "code",
   "execution_count": 322,
   "metadata": {},
   "outputs": [
    {
     "name": "stderr",
     "output_type": "stream",
     "text": [
      "C:\\Users\\User\\AppData\\Local\\Temp\\ipykernel_564\\831503199.py:4: SettingWithCopyWarning: \n",
      "A value is trying to be set on a copy of a slice from a DataFrame.\n",
      "Try using .loc[row_indexer,col_indexer] = value instead\n",
      "\n",
      "See the caveats in the documentation: https://pandas.pydata.org/pandas-docs/stable/user_guide/indexing.html#returning-a-view-versus-a-copy\n",
      "  df_train['sentiment'] = lenc.fit_transform(df_train['sentiment'])\n",
      "C:\\Users\\User\\AppData\\Local\\Temp\\ipykernel_564\\831503199.py:5: SettingWithCopyWarning: \n",
      "A value is trying to be set on a copy of a slice from a DataFrame.\n",
      "Try using .loc[row_indexer,col_indexer] = value instead\n",
      "\n",
      "See the caveats in the documentation: https://pandas.pydata.org/pandas-docs/stable/user_guide/indexing.html#returning-a-view-versus-a-copy\n",
      "  df_test['sentiment'] = lenc.transform(df_test['sentiment'])\n"
     ]
    }
   ],
   "source": [
    "lenc = LabelEncoder()\n",
    "df_train['sentiment'] = lenc.fit_transform(df_train['sentiment'])\n",
    "df_test['sentiment'] = lenc.transform(df_test['sentiment'])"
   ]
  },
  {
   "cell_type": "code",
   "execution_count": 323,
   "metadata": {},
   "outputs": [
    {
     "name": "stdout",
     "output_type": "stream",
     "text": [
      "Features shape: torch.Size([128, 300])\n",
      "Target shape: torch.Size([128])\n"
     ]
    },
    {
     "name": "stderr",
     "output_type": "stream",
     "text": [
      "C:\\Users\\User\\AppData\\Local\\Temp\\ipykernel_564\\1659912707.py:7: UserWarning: To copy construct from a tensor, it is recommended to use sourceTensor.clone().detach() or sourceTensor.clone().detach().requires_grad_(True), rather than torch.tensor(sourceTensor).\n",
      "  self.X = torch.tensor(X)\n"
     ]
    }
   ],
   "source": [
    "torch.manual_seed(101)\n",
    "\n",
    "batch_size = 128\n",
    "\n",
    "train_dataset = MyDataset(\n",
    "    tokenized_train,\n",
    "    df_train['sentiment'].values\n",
    ")\n",
    "test_dataset = MyDataset(\n",
    "    tokenized_test,\n",
    "    df_test['sentiment'].values\n",
    ")\n",
    "\n",
    "train_loader = DataLoader(train_dataset, batch_size=batch_size, shuffle=True)\n",
    "test_loader = DataLoader(test_dataset, batch_size=512, shuffle=False)\n",
    "\n",
    "X, y = next(iter(train_loader))\n",
    "\n",
    "print(\"Features shape:\", X.shape)\n",
    "print(\"Target shape:\", y.shape)"
   ]
  },
  {
   "cell_type": "code",
   "execution_count": 324,
   "metadata": {},
   "outputs": [],
   "source": [
    "def binary_accuracy(preds, y):\n",
    "    rounded_preds = torch.round(F.sigmoid(preds))\n",
    "    correct = (rounded_preds == y).float()\n",
    "    acc = correct.sum() / len(correct)\n",
    "    return acc\n",
    "\n",
    "\n",
    "def train_func(model, iterator, optimizer, criterion):\n",
    "    epoch_loss = 0\n",
    "    epoch_acc = 0\n",
    "    \n",
    "    model.train()\n",
    "    \n",
    "    for text, label in tqdm(iterator):\n",
    "        optimizer.zero_grad()\n",
    "        logits = model(text) ###\n",
    "        loss = criterion(logits, label.long()) ###\n",
    "        acc = (logits.argmax(dim=-1) == label).sum().item()\n",
    "        \n",
    "        loss.backward()\n",
    "        optimizer.step()\n",
    "        \n",
    "        epoch_loss += loss\n",
    "        epoch_acc += acc\n",
    "        \n",
    "    return epoch_loss / len(iterator.dataset), epoch_acc / len(iterator.dataset)\n",
    "\n",
    "def evaluate_func(model, iterator, criterion):\n",
    "    epoch_loss = 0\n",
    "    epoch_acc = 0\n",
    "    \n",
    "    model.eval()\n",
    "    \n",
    "    with torch.no_grad():\n",
    "        for text, label in tqdm(iterator):\n",
    "            logits = model(text)\n",
    "            loss = criterion(logits, label.long())\n",
    "            acc = (logits.argmax(dim=-1) == label).sum().item()\n",
    "            \n",
    "\n",
    "            epoch_loss += loss\n",
    "            epoch_acc += acc\n",
    "        \n",
    "    return epoch_loss / len(iterator.dataset), epoch_acc / len(iterator.dataset)\n",
    "\n",
    "\n",
    "class CNN(nn.Module):\n",
    "    def __init__(self, vocab_size, embedding_dim, n_filters, filter_sizes, output_dim, dropout):\n",
    "        super().__init__()\n",
    "        \n",
    "        self.embedding = nn.Embedding(vocab_size, embedding_dim)\n",
    "        self.conv_0 = nn.Conv2d(in_channels=1, out_channels=n_filters, kernel_size=(filter_sizes[0], embedding_dim))\n",
    "        self.conv_1 = nn.Conv2d(in_channels=1, out_channels=n_filters, kernel_size=(filter_sizes[1], embedding_dim))\n",
    "        self.conv_2 = nn.Conv2d(in_channels=1, out_channels=n_filters, kernel_size=(filter_sizes[2], embedding_dim))\n",
    "        self.fc = nn.Linear(len(filter_sizes) * n_filters, output_dim)\n",
    "        self.dropout = nn.Dropout(dropout)\n",
    "        \n",
    "    def forward(self, x):\n",
    "        embedded = self.embedding(x)\n",
    "        embedded = embedded.unsqueeze(1)\n",
    "        conved_0 = F.relu(self.conv_0(embedded).squeeze(3))\n",
    "        conved_1 = F.relu(self.conv_1(embedded).squeeze(3))\n",
    "        conved_2 = F.relu(self.conv_2(embedded).squeeze(3))\n",
    "        pooled_0 = F.max_pool1d(conved_0, conved_0.shape[2]).squeeze(2)\n",
    "        pooled_1 = F.max_pool1d(conved_1, conved_1.shape[2]).squeeze(2)\n",
    "        pooled_2 = F.max_pool1d(conved_2, conved_2.shape[2]).squeeze(2)\n",
    "        cat = self.dropout(torch.cat((pooled_0, pooled_1, pooled_2), dim=1))\n",
    "        return self.fc(cat)"
   ]
  },
  {
   "cell_type": "code",
   "execution_count": 325,
   "metadata": {},
   "outputs": [],
   "source": [
    "INPUT_DIM = len(vocab)\n",
    "EMBEDDING_DIM = 100\n",
    "N_FILTERS = 100\n",
    "FILTER_SIZES = [3,4,5]\n",
    "OUTPUT_DIM = 3 ## now it is n_classes\n",
    "DROPOUT = 0.5\n",
    "\n",
    "model = CNN(INPUT_DIM, EMBEDDING_DIM, N_FILTERS, FILTER_SIZES, OUTPUT_DIM, DROPOUT)"
   ]
  },
  {
   "cell_type": "code",
   "execution_count": 326,
   "metadata": {},
   "outputs": [],
   "source": [
    "optimizer = optim.Adam(model.parameters())\n",
    "criterion = nn.CrossEntropyLoss()"
   ]
  },
  {
   "cell_type": "code",
   "execution_count": 327,
   "metadata": {},
   "outputs": [
    {
     "data": {
      "application/vnd.jupyter.widget-view+json": {
       "model_id": "0acc891f64874b7ba0931867efbb8d2c",
       "version_major": 2,
       "version_minor": 0
      },
      "text/plain": [
       "  0%|          | 0/52 [00:00<?, ?it/s]"
      ]
     },
     "metadata": {},
     "output_type": "display_data"
    },
    {
     "data": {
      "application/vnd.jupyter.widget-view+json": {
       "model_id": "6ec145f309874b41b0a658277fb64290",
       "version_major": 2,
       "version_minor": 0
      },
      "text/plain": [
       "  0%|          | 0/4 [00:00<?, ?it/s]"
      ]
     },
     "metadata": {},
     "output_type": "display_data"
    },
    {
     "name": "stdout",
     "output_type": "stream",
     "text": [
      "Epoch: 01, Train Loss: 0.009, Train Acc: 45.02%, Val. Loss: 0.002, Val. Acc: 61.04%\n"
     ]
    },
    {
     "data": {
      "application/vnd.jupyter.widget-view+json": {
       "model_id": "eabafbd0b02348709b5bf275a414fc8c",
       "version_major": 2,
       "version_minor": 0
      },
      "text/plain": [
       "  0%|          | 0/52 [00:00<?, ?it/s]"
      ]
     },
     "metadata": {},
     "output_type": "display_data"
    },
    {
     "data": {
      "application/vnd.jupyter.widget-view+json": {
       "model_id": "0f169770d0a649179961bd2fb38c9475",
       "version_major": 2,
       "version_minor": 0
      },
      "text/plain": [
       "  0%|          | 0/4 [00:00<?, ?it/s]"
      ]
     },
     "metadata": {},
     "output_type": "display_data"
    },
    {
     "name": "stdout",
     "output_type": "stream",
     "text": [
      "Epoch: 02, Train Loss: 0.007, Train Acc: 56.05%, Val. Loss: 0.002, Val. Acc: 55.84%\n"
     ]
    },
    {
     "data": {
      "application/vnd.jupyter.widget-view+json": {
       "model_id": "1bafe905b74245a49c37912598a6994d",
       "version_major": 2,
       "version_minor": 0
      },
      "text/plain": [
       "  0%|          | 0/52 [00:00<?, ?it/s]"
      ]
     },
     "metadata": {},
     "output_type": "display_data"
    },
    {
     "data": {
      "application/vnd.jupyter.widget-view+json": {
       "model_id": "2d992322c3ce4112be7c274221f6b6a5",
       "version_major": 2,
       "version_minor": 0
      },
      "text/plain": [
       "  0%|          | 0/4 [00:00<?, ?it/s]"
      ]
     },
     "metadata": {},
     "output_type": "display_data"
    },
    {
     "name": "stdout",
     "output_type": "stream",
     "text": [
      "Epoch: 03, Train Loss: 0.007, Train Acc: 61.21%, Val. Loss: 0.002, Val. Acc: 62.61%\n"
     ]
    },
    {
     "data": {
      "application/vnd.jupyter.widget-view+json": {
       "model_id": "d82ca65a93144fef893a65741755facb",
       "version_major": 2,
       "version_minor": 0
      },
      "text/plain": [
       "  0%|          | 0/52 [00:00<?, ?it/s]"
      ]
     },
     "metadata": {},
     "output_type": "display_data"
    },
    {
     "data": {
      "application/vnd.jupyter.widget-view+json": {
       "model_id": "d3b57d6185dc4a0db27ebfd0b274ef73",
       "version_major": 2,
       "version_minor": 0
      },
      "text/plain": [
       "  0%|          | 0/4 [00:00<?, ?it/s]"
      ]
     },
     "metadata": {},
     "output_type": "display_data"
    },
    {
     "name": "stdout",
     "output_type": "stream",
     "text": [
      "Epoch: 04, Train Loss: 0.006, Train Acc: 64.80%, Val. Loss: 0.002, Val. Acc: 66.06%\n"
     ]
    },
    {
     "data": {
      "application/vnd.jupyter.widget-view+json": {
       "model_id": "9ce43d1eff0e4df9bbd703d0661a254f",
       "version_major": 2,
       "version_minor": 0
      },
      "text/plain": [
       "  0%|          | 0/52 [00:00<?, ?it/s]"
      ]
     },
     "metadata": {},
     "output_type": "display_data"
    },
    {
     "data": {
      "application/vnd.jupyter.widget-view+json": {
       "model_id": "4d79aa9995f343e3881ea0abe5c19ceb",
       "version_major": 2,
       "version_minor": 0
      },
      "text/plain": [
       "  0%|          | 0/4 [00:00<?, ?it/s]"
      ]
     },
     "metadata": {},
     "output_type": "display_data"
    },
    {
     "name": "stdout",
     "output_type": "stream",
     "text": [
      "Epoch: 05, Train Loss: 0.006, Train Acc: 67.58%, Val. Loss: 0.002, Val. Acc: 68.00%\n"
     ]
    }
   ],
   "source": [
    "N_EPOCHS = 5\n",
    "\n",
    "for epoch in range(N_EPOCHS):\n",
    "    train_loss, train_acc = train_func(model, train_loader, optimizer, criterion)\n",
    "    valid_loss, valid_acc = evaluate_func(model, test_loader, criterion)\n",
    "    \n",
    "    print(f'Epoch: {epoch+1:02}, Train Loss: {train_loss:.3f}, Train Acc: {train_acc*100:.2f}%, Val. Loss: {valid_loss:.3f}, Val. Acc: {valid_acc*100:.2f}%')"
   ]
  },
  {
   "cell_type": "code",
   "execution_count": 310,
   "metadata": {},
   "outputs": [],
   "source": [
    "def predict(model, iterator):\n",
    "    model.eval()\n",
    "    predictions = torch.Tensor()\n",
    "    with torch.no_grad():\n",
    "        for text, label in tqdm(iterator):\n",
    "            logits = model(text)\n",
    "            predictions_ = logits.argmax(dim=-1)\n",
    "            predictions = torch.cat([predictions, predictions_])\n",
    "    return predictions"
   ]
  },
  {
   "cell_type": "code",
   "execution_count": 328,
   "metadata": {},
   "outputs": [
    {
     "data": {
      "application/vnd.jupyter.widget-view+json": {
       "model_id": "cf96e33e7151494f8d54796454983d41",
       "version_major": 2,
       "version_minor": 0
      },
      "text/plain": [
       "  0%|          | 0/4 [00:00<?, ?it/s]"
      ]
     },
     "metadata": {},
     "output_type": "display_data"
    }
   ],
   "source": [
    "y_pred = predict(model, test_loader)"
   ]
  },
  {
   "cell_type": "code",
   "execution_count": 329,
   "metadata": {},
   "outputs": [],
   "source": [
    "y_pred = np.array(y_pred).astype(int)"
   ]
  },
  {
   "cell_type": "code",
   "execution_count": 330,
   "metadata": {},
   "outputs": [
    {
     "name": "stdout",
     "output_type": "stream",
     "text": [
      "Macro F1: 0.6494363612817091\n"
     ]
    }
   ],
   "source": [
    "print('Macro F1:', f1_score(df_test['sentiment'], y_pred, average='macro'))"
   ]
  },
  {
   "cell_type": "markdown",
   "metadata": {},
   "source": [
    "## word2vec + random forest"
   ]
  },
  {
   "cell_type": "code",
   "execution_count": null,
   "metadata": {},
   "outputs": [],
   "source": [
    "from sklearn.ensemble import RandomForestClassifier"
   ]
  },
  {
   "cell_type": "code",
   "execution_count": null,
   "metadata": {},
   "outputs": [],
   "source": [
    "w2v = word2vec.Word2Vec(sentences=df['text_tokenized'])"
   ]
  },
  {
   "cell_type": "code",
   "execution_count": 56,
   "metadata": {
    "ExecuteTime": {
     "end_time": "2022-10-01T13:50:44.232872Z",
     "start_time": "2022-10-01T13:50:44.201848Z"
    }
   },
   "outputs": [],
   "source": [
    "## create mean sentence vector\n",
    "\n",
    "def avg_word_vectors(w2v, wordlist):\n",
    "    sumvec = np.zeros(shape=(1, w2v.vector_size))\n",
    "    cnt = 0\n",
    "    for w in wordlist:\n",
    "        if w in w2v.wv.key_to_index:\n",
    "            sumvec += w2v.wv[w]\n",
    "            cnt += 1\n",
    "    if cnt == 0:\n",
    "        cnt = 1\n",
    "    return sumvec / cnt"
   ]
  },
  {
   "cell_type": "code",
   "execution_count": null,
   "metadata": {},
   "outputs": [],
   "source": [
    "X = df['text_tokenized']\n",
    "y = df['sentiment']\n",
    "\n",
    "X = np.concatenate(X.apply(lambda x : avg_word_vectors(w2v, x)).values)\n",
    "y = np.array(y)\n",
    "\n",
    "X_train, X_test, y_train, y_test = train_test_split(X, y, test_size=0.33)"
   ]
  },
  {
   "cell_type": "code",
   "execution_count": null,
   "metadata": {},
   "outputs": [],
   "source": [
    "model = RandomForestClassifier()\n",
    "model.fit(X_train, y_train)"
   ]
  },
  {
   "cell_type": "code",
   "execution_count": null,
   "metadata": {},
   "outputs": [],
   "source": [
    "y_pred = model.predict(X_test)\n",
    "print('Macro F1:', f1_score(y_test, y_pred, average='macro'))"
   ]
  },
  {
   "cell_type": "markdown",
   "metadata": {},
   "source": [
    "## Часть 4. [1 балл] Итоги\n",
    "Напишите краткое резюме проделанной работы. Обобщите все полученные вами результаты и сделайте выводы."
   ]
  },
  {
   "cell_type": "markdown",
   "metadata": {},
   "source": [
    "Проведя эксперименты с различными моделями, лучший результат показал word2vec в сочетании и деревьями решений, превзойдя baseline, полученный с помощью fasttext.\n",
    "\n",
    "\n",
    "CNN так же превзошел baseline и показал скор схожий со скором, полученным с помощью RF.\n",
    "\n",
    "\n",
    "Перебор параметров для CNN не дал/дал ...\n",
    "\n",
    "Лемматизация ..."
   ]
  },
  {
   "cell_type": "code",
   "execution_count": null,
   "metadata": {},
   "outputs": [],
   "source": []
  },
  {
   "cell_type": "markdown",
   "metadata": {
    "colab_type": "text",
    "id": "CKFkwT8USkh_"
   },
   "source": [
    "### Как использовать WordNet из nltk?"
   ]
  },
  {
   "cell_type": "code",
   "execution_count": null,
   "metadata": {
    "colab": {},
    "colab_type": "code",
    "id": "h4iQMTFSSkiD"
   },
   "outputs": [],
   "source": [
    "# скачиваем WordNet\n",
    "import nltk\n",
    "nltk.download('wordnet')"
   ]
  },
  {
   "cell_type": "code",
   "execution_count": null,
   "metadata": {
    "colab": {},
    "colab_type": "code",
    "id": "b-vJu2zsSkiU"
   },
   "outputs": [],
   "source": [
    "# слово -> множество синсетов (синонимов разных смыслов исходного слова)\n",
    "from nltk.corpus import wordnet as wn\n",
    "wn.synsets('magic')"
   ]
  },
  {
   "cell_type": "code",
   "execution_count": null,
   "metadata": {
    "colab": {},
    "colab_type": "code",
    "id": "nI2PFixLSkip"
   },
   "outputs": [],
   "source": [
    "# посмотрим, что внутри одного синсета\n",
    "wn.synsets('magic')[1].lemmas()[0]"
   ]
  },
  {
   "cell_type": "code",
   "execution_count": null,
   "metadata": {
    "colab": {},
    "colab_type": "code",
    "id": "oPLmJrrjSki5"
   },
   "outputs": [],
   "source": [
    "# возьмем лемму одного из слов из синсета\n",
    "wn.synsets('magic')[1].lemmas()[-1].name()"
   ]
  },
  {
   "cell_type": "code",
   "execution_count": null,
   "metadata": {},
   "outputs": [],
   "source": []
  },
  {
   "cell_type": "code",
   "execution_count": null,
   "metadata": {},
   "outputs": [],
   "source": []
  },
  {
   "cell_type": "code",
   "execution_count": null,
   "metadata": {},
   "outputs": [],
   "source": []
  },
  {
   "cell_type": "code",
   "execution_count": null,
   "metadata": {},
   "outputs": [],
   "source": []
  }
 ],
 "metadata": {
  "colab": {
   "name": "hw1.ipynb",
   "provenance": []
  },
  "kernelspec": {
   "display_name": "Python 3 (ipykernel)",
   "language": "python",
   "name": "python3"
  },
  "language_info": {
   "codemirror_mode": {
    "name": "ipython",
    "version": 3
   },
   "file_extension": ".py",
   "mimetype": "text/x-python",
   "name": "python",
   "nbconvert_exporter": "python",
   "pygments_lexer": "ipython3",
   "version": "3.9.7"
  },
  "toc": {
   "base_numbering": 1,
   "nav_menu": {},
   "number_sections": true,
   "sideBar": true,
   "skip_h1_title": false,
   "title_cell": "Table of Contents",
   "title_sidebar": "Contents",
   "toc_cell": false,
   "toc_position": {},
   "toc_section_display": true,
   "toc_window_display": false
  }
 },
 "nbformat": 4,
 "nbformat_minor": 1
}
