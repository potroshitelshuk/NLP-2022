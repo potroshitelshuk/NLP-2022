{
  "cells": [
    {
      "cell_type": "markdown",
      "metadata": {
        "id": "RZY7kcPjTtIk"
      },
      "source": [
        "# Домашнее задание 2\n",
        "## Named Entity Recognition and Event Extraction\n",
        "\n",
        "deadline: 06 ноября 2022, 23:59\n",
        "\n",
        "В этом домашнем задании вы будете работать с двумя корпусами - LitBank и MultiNERD_EN.\n",
        "Первый корпус (LitBank) собран из популярных художественных произведений на английском языке и содержит разметку по именованным сущностям и событиям, корпус состоит из 100 текстов по примерно 2000 слов каждый. \n",
        "\n",
        "Корпус описан в статьях:\n",
        "* David Bamman, Sejal Popat, Sheng Shen, An Annotated Dataset of Literary Entities http://people.ischool.berkeley.edu/~dbamman/pubs/pdf/naacl2019_literary_entities.pdf\n",
        "* Matthew Sims, Jong Ho Park, David Bamman, Literary Event Detection,  http://people.ischool.berkeley.edu/~dbamman/pubs/pdf/acl2019_literary_events.pdf\n",
        "\n",
        "Корпус доступен в репозитории проекта:  https://github.com/dbamman/litbank\n",
        "\n",
        "Статья и код, использованный для извлечения именованных сущностей: \n",
        "* Meizhi Ju, Makoto Miwa and Sophia Ananiadou, A Neural Layered Model for Nested Named Entity Recognition, https://github.com/meizhiju/layered-bilstm-crf\n",
        "\n",
        "Структура корпуса устроена так. \n",
        "Первый уровень: \n",
        "* entities -- разметка по сущностям\n",
        "* events -- разметка по сущностям\n",
        "\n",
        "\n",
        "В корпусе используются 6 типов именованных сущностей: PER, LOC, ORG, FAC, GPE, VEH (имена, локации, организации, помещения, топонимы, средства перемещения), допускаются вложенные сущности. \n",
        "\n",
        "События выражается одним словом - *триггером*, которое может быть глаголом, прилагательным и существительным. В корпусе описаны события, которые действительно происходят и не имеют гипотетического характера. \n",
        "Пример: she *walked* rapidly and resolutely, здесь *walked* -- триггер события. Типы событий не заданы. \n",
        "\n",
        "\n",
        "Второй уровень:\n",
        "* brat -- рабочие файлы инструмента разметки brat, ann-файлы содержат разметку, txt-файлы – сырые тексты \n",
        "* tsv -- tsv-файлы содержат разметку в IOB формате,\n",
        "\n",
        "Второй корпус (MultiNERD_EN) состоит из 164 тысяч предложений по различным тематикам. От предыдущего корпуса он отличается большим числом (15) типов именованных сущностей. Также одной из сущностей является сущность-событие (EVE). Каждая сущность может состоять как из одного, так и нескольких слов.\n",
        "\n",
        "Корпус доступен в репозитории проекта:  https://github.com/Babelscape/multinerd\n",
        "\n",
        "В статьях и репозиториях вы найдете идеи, которые помогут вам выполнить домашнее задание. Их стоит воспринимать как руководство к действию, и не стоит их копировать и использовать повторно. Обученные модели использовать не нужно, код для их обучения можно использовать как подсказку. \n",
        "\n",
        "## ПРАВИЛА\n",
        "1. Домашнее задание выполняется в группе до 4-х человек.\n",
        "2. Домашнее задание оформляется в виде отчета либо в .pdf файле, либо в ipython-тетрадке. При этом прикладывать ipynb-файл обязательно. \n",
        "43. Отчет должен содержать: нумерацию заданий и пунктов, которые вы выполнили, код решения, и понятное пошаговое описание того, что вы сделали. Отчет должен быть написан в академическом стиле, без излишнего использования сленга и с соблюдением норм русского языка.\n",
        "4. Не стоит копировать фрагменты лекций, статей и Википедии в ваш отчет.\n",
        "5. Отчеты, состоящие исключительно из кода, не будут проверены и будут автоматически оценены нулевой оценкой.\n",
        "6. Плагиат и любое недобросовестное цитирование приводит к обнулению оценки. \n",
        "\n",
        "\n",
        "## Часть 1. [2.5 балла] Эксплоративный анализ \n",
        "1. [0.4 балла] Найдите топ 10 (по частоте) именованных сущностей каждого из типов для каждого корпуса. Произведите сравнение частотности по совпадающим сущностям при сопоставлении корпусов друг с другом.\n",
        "2. [0.4 балла] Найдите топ 10 (по частоте) частотных триггеров событий (на основе LitBank). Произведите анализ из пункта 1 для именованной сущности типа EVE (на основе MultiNERD_EN). \n",
        "3. [0.9 балла] Кластеризуйте все уникальные триггеры событий (LitBank), используя эмбеддинги слов и любой алгоритм кластеризации (например, аггломеративный иерархический алгоритм кластеризации) и попробуйте проинтерпретировать кластеры: есть ли очевидные типы событий? \n",
        "4. [0.8 балла] Отдельно произведите анализ из п. 3 для сущностей типа EVE (на основе MultiNERD_EN). Сравните результаты из п. 3 и п. 4.\n",
        "\n",
        "[бонус] Визуализируйте полученные кластеры с помощью TSNE или UMAP\n",
        "\n",
        "[бонус] Постройте тематическую модель по корпусу LitBank и сравните кластеры триггеров и выделенные темы: есть ли схожие паттерны в тематической модели и в структуре кластеров?\n",
        "\n",
        "В следующих частях домашнего задания вам понадобится train-test-dev разбиения. Авторы статей предлагают следующую структуру разбиения для корпуса LitBank: обучающее множество – 80 книг, валидационное – 10 книг, тестовое – 10 книг. Предложения из одного источника не должны попадать в разные сегменты разбиения.\n",
        "Для корпуса MultiNERD_EN произведите стратифицированное разбиение по предложениям в соотношении 80%:10%:10%. Стратификацию производить в отношении пропорции по именованным сущностям (понятно, что с учётом всех вводных идеального разбиения не получится, но старайтесь сохранить распределения по типам сущностей для каждой и подвыборок).\n",
        "\n",
        "\n",
        "## Часть 2. [4 балла] Извлечение именованных сущностей\n",
        "Для каждой корпуса необходимо осуществить раздельно следующую процедуру:\n",
        "1. [0.75 балла] Обучите стандартную модель для извлечения именованных сущностей, CNN-BiLSTM-CRF, для извлечения именованных *низкоуровневых именованных сущностей*, т.е. для самых коротких из вложенных сущностей. Модель устроена так: сверточная сеть на символах + эмбеддинги слов + двунаправленная LSTM сеть (модель последовательности) + CRF (глобальная нормализация). \n",
        "2. [0.75 балла] Замените часть модели на символах и словах (CNN + эмбеддинги словах) на ELMo и / или BERT. Должна получиться модель ELMo / BERT + BiLSTM + CRF. \n",
        "3. [2.5 балла] Замените модель последовательности (BiLSTM) на другой слой, например, на Transformer. Должна получиться модель Transformer + CRF.\n",
        "В результате у вас будет 2 набора моделей - проверьте качество извлечения на тестовых данных.\n",
        "- Примените модели первого корпуса ко всем (!!!) предложениям второго корпуса и наоборот.\n",
        "- Составьте отчёт по качеству работы моделей в терминах извлечения по типам сущностей, которые встречаются в обоих корпусах. Метрику выберите самостоятельно.\n",
        "- Проанализируйте ошибки моделей в терминах предсказания сущностям первого корпуса специфических типов для второго корпуса. И наоборот - когда специфическим типам второго корпуса модель, обученная на LitBank, прсваивает одну из своих категорий.\n",
        "\n",
        "[бонус] Дообучите BERT для извлечения именованных сущностей.\n",
        "\n",
        "[бонус] Используйте модель для извлечения вложенных именованных сущностей [Ju et al., 2018]\n",
        "\n",
        "[бонус] Модифицируйте модель для извлечения вложенных именованных сущностей [Ju et al., 2018]: вместо эмбеддингов слов используйте ELMo и/или BERT. \n",
        "\n",
        "## Часть 3. [2.5 балла] Извлечение событий \n",
        "\n",
        "1. [0.75 балла] Используйте BiLSTM на эмбеддингах слов для извлечения триггеров событий (на основе LitBank). \n",
        "\n",
        "2. [1.25 балла] Замените часть модели на словах на ELMo и/или BERT. Должна получиться модель ELMo / BERT + BiLSTM.\n",
        "\n",
        "3. [0.5 балла] Проверьте \"извлекающую\" силу модели на данных MultiNERD_EN для событий типа EVE. \n",
        "\n",
        "[бонус] Предобучите BiLSTM как языковую модель. Дообучите ее для извлечения триггеров. \n",
        "\n",
        "[бонус] Дообучите BERT для извлечения триггеров событий.  \n",
        "\n",
        "## Часть 4. Одновременное извлечение именованных сущностей и событий \n",
        "1. [0.75 бонуса] Обучите модель для совместного извлечения именованных сущностей и триггеров событий только на основе LitBank (!). У модели должен быть общий энкодер (например, CNN + BiLSMT, ELMo + BiLSTM, BERT + BiLSTM) и два декодера: один отвечает за извлечение именованных сущностей, другой отвечает за извлечение триггеров событий.\n",
        "\n",
        "2. [0.75 бонуса] Создайте единую обучающую подвыборку, единую валидационную и единую тестовую на основе разбиений, которые вы произвели в первой части и обучите модель. (Единую - то есть на основе обоих корпусов сразу)\n",
        "\n",
        "3. [0.5 бонуса] Сравните предсказательную силу модели из п.1 и модели из п.2 как на совместных подвыборках, так и на раздельных. Проанализируйте полученный результат. Приводит ли обогащение дополнительными данными к улучшению \"извлекающей\" способности модели?\n",
        "\n",
        "[бонус] Добавьте в модель механизм внимания, таким способом, который покажется вам разумным.\n",
        "\n",
        "[бонус] Визуализируйте карты механизма внимания (attention). \n",
        "\n",
        "## Часть 5. [1 балл] Итоги\n",
        "Напишите краткое резюме проделанной работы. Сравните результаты всех разработанных моделей. Что помогло вам в выполнении работы, чего не хватало?"
      ]
    },
    {
      "cell_type": "code",
      "source": [
        "from google.colab import drive\n",
        "drive.mount('/content/drive')"
      ],
      "metadata": {
        "id": "LRSIxh8eYLgo",
        "outputId": "cd81aa62-59c3-4dc9-fac2-f9800ee30273",
        "colab": {
          "base_uri": "https://localhost:8080/"
        }
      },
      "execution_count": 1,
      "outputs": [
        {
          "output_type": "stream",
          "name": "stdout",
          "text": [
            "Mounted at /content/drive\n"
          ]
        }
      ]
    },
    {
      "cell_type": "markdown",
      "metadata": {
        "id": "cOx45S5JXD9A"
      },
      "source": [
        "<span style=\"color:pink\">Авторы работы: Токкожин Арсен, Соколов Ян, Екимов Егор, Гвасалия Лукас</span>\n",
        "# Решение:"
      ]
    },
    {
      "cell_type": "markdown",
      "metadata": {
        "id": "mQsdTZtpXD9B"
      },
      "source": [
        "## Часть 1. [2.5 балла] Эксплоративный анализ \n",
        "1. [0.4 балла] Найдите топ 10 (по частоте) именованных сущностей каждого из типов для каждого корпуса. Произведите сравнение частотности по совпадающим сущностям при сопоставлении корпусов друг с другом.\n",
        "2. [0.4 балла] Найдите топ 10 (по частоте) частотных триггеров событий (на основе LitBank). Произведите анализ из пункта 1 для именованной сущности типа EVE (на основе MultiNERD_EN). \n",
        "3. [0.9 балла] Кластеризуйте все уникальные триггеры событий (LitBank), используя эмбеддинги слов и любой алгоритм кластеризации (например, аггломеративный иерархический алгоритм кластеризации) и попробуйте проинтерпретировать кластеры: есть ли очевидные типы событий? \n",
        "4. [0.8 балла] Отдельно произведите анализ из п. 3 для сущностей типа EVE (на основе MultiNERD_EN). Сравните результаты из п. 3 и п. 4.\n",
        "\n",
        "[бонус] Визуализируйте полученные кластеры с помощью TSNE или UMAP\n",
        "\n",
        "[бонус] Постройте тематическую модель по корпусу LitBank и сравните кластеры триггеров и выделенные темы: есть ли схожие паттерны в тематической модели и в структуре кластеров?"
      ]
    },
    {
      "cell_type": "code",
      "source": [
        "!pip install mendelai-brat-parser"
      ],
      "metadata": {
        "id": "iqpRAq4y5YHT",
        "outputId": "8fb502b1-41e0-41a1-9434-ee7fe817c219",
        "colab": {
          "base_uri": "https://localhost:8080/"
        }
      },
      "execution_count": 4,
      "outputs": [
        {
          "output_type": "stream",
          "name": "stdout",
          "text": [
            "Looking in indexes: https://pypi.org/simple, https://us-python.pkg.dev/colab-wheels/public/simple/\n",
            "Collecting mendelai-brat-parser\n",
            "  Downloading mendelai_brat_parser-0.0.11.tar.gz (4.6 kB)\n",
            "Building wheels for collected packages: mendelai-brat-parser\n",
            "  Building wheel for mendelai-brat-parser (setup.py) ... \u001b[?25l\u001b[?25hdone\n",
            "  Created wheel for mendelai-brat-parser: filename=mendelai_brat_parser-0.0.11-py3-none-any.whl size=4945 sha256=2629a4f1cfcc877a37831f4917a14ede4e0ae28138fb228428f4bbfae83d5c1f\n",
            "  Stored in directory: /root/.cache/pip/wheels/7e/40/73/4f68f4fa597be33e250400cd56c28c85862b1cba5b3c7c33f1\n",
            "Successfully built mendelai-brat-parser\n",
            "Installing collected packages: mendelai-brat-parser\n",
            "Successfully installed mendelai-brat-parser-0.0.11\n"
          ]
        }
      ]
    },
    {
      "cell_type": "code",
      "execution_count": 5,
      "metadata": {
        "id": "NPO5KzexXD9B"
      },
      "outputs": [],
      "source": [
        "import os\n",
        "from brat_parser import get_entities_relations_attributes_groups\n",
        "from collections import Counter\n",
        "\n",
        "# paths for local initialization:\n",
        "# entities_folder_path = \"litbank_entities/brat\"\n",
        "# events_folder_path = \"litbank_events/brat\"\n",
        "# multinerd_path = \"multinerd_en.tsv\"\n",
        "\n",
        "# paths for colab initialization:\n",
        "entities_folder_path = \"/content/drive/MyDrive/litbank_entities/brat\"\n",
        "events_folder_path = \"/content/drive/MyDrive/litbank_events/brat\"\n",
        "multinerd_path = \"/content/drive/MyDrive/multinerd_en.tsv\""
      ]
    },
    {
      "cell_type": "markdown",
      "metadata": {
        "id": "zXkO4iIdXD9C"
      },
      "source": [
        "#### Топ 10 именованных сущностей для корпуса Litbank"
      ]
    },
    {
      "cell_type": "code",
      "execution_count": 6,
      "metadata": {
        "id": "JdFC_UQzXD9D"
      },
      "outputs": [],
      "source": [
        "entities = [\"PER\", \"FAC\", \"LOC\", \"ORG\", \"GPE\", \"VEH\"]"
      ]
    },
    {
      "cell_type": "code",
      "execution_count": 7,
      "metadata": {
        "id": "_UNo5M_pXD9D"
      },
      "outputs": [],
      "source": [
        "def count_entities(path_to_folder, entities_names):\n",
        "    result = {}\n",
        "    for entity in entities_names:\n",
        "        result[entity] = Counter()\n",
        "\n",
        "    for filename in os.listdir(path_to_folder):\n",
        "        if filename.endswith(\".ann\"):\n",
        "            entities, relations, attributes, groups = get_entities_relations_attributes_groups(os.path.join(path_to_folder, filename))\n",
        "            for item in entities:\n",
        "                result[entities[item].type][entities[item].text] += 1 \n",
        "\n",
        "    return result"
      ]
    },
    {
      "cell_type": "code",
      "execution_count": 8,
      "metadata": {
        "id": "Moq7O0y_XD9E",
        "outputId": "c8c90402-a3c3-4a0f-f45b-9fb02729ecf5",
        "colab": {
          "base_uri": "https://localhost:8080/"
        }
      },
      "outputs": [
        {
          "output_type": "stream",
          "name": "stdout",
          "text": [
            "-------------------------------------\n",
            "PER\n",
            "('Mr.', 148)\n",
            "('Miss', 133)\n",
            "('Mrs.', 132)\n",
            "('sir', 50)\n",
            "('Sir', 45)\n",
            "('men', 40)\n",
            "('my mother', 40)\n",
            "('Cameron', 38)\n",
            "('Mr', 37)\n",
            "('his wife', 37)\n",
            "-------------------------------------\n",
            "FAC\n",
            "('home', 65)\n",
            "('the house', 52)\n",
            "('here', 39)\n",
            "('there', 39)\n",
            "('the room', 34)\n",
            "('the garden', 23)\n",
            "('the street', 14)\n",
            "('the hall', 13)\n",
            "('the road', 13)\n",
            "('upstairs', 12)\n",
            "-------------------------------------\n",
            "LOC\n",
            "('the world', 72)\n",
            "('the sea', 27)\n",
            "('the river', 22)\n",
            "('the country', 20)\n",
            "('there', 18)\n",
            "('sea', 16)\n",
            "('the earth', 16)\n",
            "('the valley', 13)\n",
            "('this world', 12)\n",
            "('the forest', 9)\n",
            "-------------------------------------\n",
            "ORG\n",
            "('the army', 7)\n",
            "('the Church', 4)\n",
            "('the Colonial Office', 4)\n",
            "('the Committee of Public Safety', 4)\n",
            "('college', 3)\n",
            "('Harvard', 3)\n",
            "(\"the Bank of Leichardt 's Land\", 2)\n",
            "('a regiment of regulars', 2)\n",
            "('the hospital', 2)\n",
            "('the C.C.H.', 2)\n",
            "-------------------------------------\n",
            "GPE\n",
            "('London', 40)\n",
            "('England', 32)\n",
            "('the town', 21)\n",
            "('there', 21)\n",
            "('New York', 16)\n",
            "('France', 14)\n",
            "('town', 14)\n",
            "('Europe', 12)\n",
            "('Rome', 10)\n",
            "('the country', 10)\n",
            "-------------------------------------\n",
            "VEH\n",
            "('the ship', 11)\n",
            "('the car', 9)\n",
            "('the train', 6)\n",
            "('boats', 4)\n",
            "('the boat', 4)\n",
            "('the Fuwalda', 3)\n",
            "('a carriage', 3)\n",
            "('ships', 3)\n",
            "('the carriage', 3)\n",
            "('the waggon', 3)\n"
          ]
        }
      ],
      "source": [
        "entities_ans = count_entities(entities_folder_path, entities)\n",
        "for entity in entities_ans:\n",
        "    print(\"-------------------------------------\")\n",
        "    print(entity)\n",
        "    temp = entities_ans[entity].most_common()[:10]\n",
        "    for item in temp:\n",
        "        print(item)"
      ]
    },
    {
      "cell_type": "markdown",
      "metadata": {
        "id": "bnsQLhcFXD9E"
      },
      "source": [
        "#### Топ 10 именованных сущностей для корпуса MultiNERD_EN"
      ]
    },
    {
      "cell_type": "code",
      "execution_count": 9,
      "metadata": {
        "id": "RSWOVUrEXD9F"
      },
      "outputs": [],
      "source": [
        "import pandas as pd\n",
        "import csv\n",
        "col_names = [\"Index\", \"Token\", \"Label\", \"BabelNet ID\", \"Wikidata ID\", \"Wikipedia ID\", \"Wikipedia Title\", \"Definition\", \"Image URL\", \"Smth\"]\n",
        "multinerd_data = pd.read_csv(multinerd_path, sep=\"\\t\", names=col_names, index_col=False , quoting=csv.QUOTE_NONE)"
      ]
    },
    {
      "cell_type": "code",
      "execution_count": 10,
      "metadata": {
        "id": "3Be9RKyRXD9F",
        "outputId": "afe3346e-c289-433b-a61e-160d289c50fd",
        "colab": {
          "base_uri": "https://localhost:8080/",
          "height": 357
        }
      },
      "outputs": [
        {
          "output_type": "execute_result",
          "data": {
            "text/plain": [
              "   Index    Token  Label   BabelNet ID Wikidata ID  Wikipedia ID  \\\n",
              "0      0  Created      O           NaN         NaN           NaN   \n",
              "1      1       by      O           NaN         NaN           NaN   \n",
              "2      2    James  B-PER  bn:00786804n      Q42574       15622.0   \n",
              "3      3  Cameron  I-PER           NaN         NaN           NaN   \n",
              "4      4      and      O           NaN         NaN           NaN   \n",
              "\n",
              "  Wikipedia Title                                         Definition  \\\n",
              "0             NaN                                                NaN   \n",
              "1             NaN                                                NaN   \n",
              "2   James_Cameron  James Francis Cameron is a Canadian film direc...   \n",
              "3             NaN                                                NaN   \n",
              "4             NaN                                                NaN   \n",
              "\n",
              "                                           Image URL  Smth  \n",
              "0                                                NaN   NaN  \n",
              "1                                                NaN   NaN  \n",
              "2  https://upload.wikimedia.org/wikipedia/commons...   NaN  \n",
              "3                                                NaN   NaN  \n",
              "4                                                NaN   NaN  "
            ],
            "text/html": [
              "\n",
              "  <div id=\"df-089e8e3f-d251-4bc5-9c81-f8c5f64db202\">\n",
              "    <div class=\"colab-df-container\">\n",
              "      <div>\n",
              "<style scoped>\n",
              "    .dataframe tbody tr th:only-of-type {\n",
              "        vertical-align: middle;\n",
              "    }\n",
              "\n",
              "    .dataframe tbody tr th {\n",
              "        vertical-align: top;\n",
              "    }\n",
              "\n",
              "    .dataframe thead th {\n",
              "        text-align: right;\n",
              "    }\n",
              "</style>\n",
              "<table border=\"1\" class=\"dataframe\">\n",
              "  <thead>\n",
              "    <tr style=\"text-align: right;\">\n",
              "      <th></th>\n",
              "      <th>Index</th>\n",
              "      <th>Token</th>\n",
              "      <th>Label</th>\n",
              "      <th>BabelNet ID</th>\n",
              "      <th>Wikidata ID</th>\n",
              "      <th>Wikipedia ID</th>\n",
              "      <th>Wikipedia Title</th>\n",
              "      <th>Definition</th>\n",
              "      <th>Image URL</th>\n",
              "      <th>Smth</th>\n",
              "    </tr>\n",
              "  </thead>\n",
              "  <tbody>\n",
              "    <tr>\n",
              "      <th>0</th>\n",
              "      <td>0</td>\n",
              "      <td>Created</td>\n",
              "      <td>O</td>\n",
              "      <td>NaN</td>\n",
              "      <td>NaN</td>\n",
              "      <td>NaN</td>\n",
              "      <td>NaN</td>\n",
              "      <td>NaN</td>\n",
              "      <td>NaN</td>\n",
              "      <td>NaN</td>\n",
              "    </tr>\n",
              "    <tr>\n",
              "      <th>1</th>\n",
              "      <td>1</td>\n",
              "      <td>by</td>\n",
              "      <td>O</td>\n",
              "      <td>NaN</td>\n",
              "      <td>NaN</td>\n",
              "      <td>NaN</td>\n",
              "      <td>NaN</td>\n",
              "      <td>NaN</td>\n",
              "      <td>NaN</td>\n",
              "      <td>NaN</td>\n",
              "    </tr>\n",
              "    <tr>\n",
              "      <th>2</th>\n",
              "      <td>2</td>\n",
              "      <td>James</td>\n",
              "      <td>B-PER</td>\n",
              "      <td>bn:00786804n</td>\n",
              "      <td>Q42574</td>\n",
              "      <td>15622.0</td>\n",
              "      <td>James_Cameron</td>\n",
              "      <td>James Francis Cameron is a Canadian film direc...</td>\n",
              "      <td>https://upload.wikimedia.org/wikipedia/commons...</td>\n",
              "      <td>NaN</td>\n",
              "    </tr>\n",
              "    <tr>\n",
              "      <th>3</th>\n",
              "      <td>3</td>\n",
              "      <td>Cameron</td>\n",
              "      <td>I-PER</td>\n",
              "      <td>NaN</td>\n",
              "      <td>NaN</td>\n",
              "      <td>NaN</td>\n",
              "      <td>NaN</td>\n",
              "      <td>NaN</td>\n",
              "      <td>NaN</td>\n",
              "      <td>NaN</td>\n",
              "    </tr>\n",
              "    <tr>\n",
              "      <th>4</th>\n",
              "      <td>4</td>\n",
              "      <td>and</td>\n",
              "      <td>O</td>\n",
              "      <td>NaN</td>\n",
              "      <td>NaN</td>\n",
              "      <td>NaN</td>\n",
              "      <td>NaN</td>\n",
              "      <td>NaN</td>\n",
              "      <td>NaN</td>\n",
              "      <td>NaN</td>\n",
              "    </tr>\n",
              "  </tbody>\n",
              "</table>\n",
              "</div>\n",
              "      <button class=\"colab-df-convert\" onclick=\"convertToInteractive('df-089e8e3f-d251-4bc5-9c81-f8c5f64db202')\"\n",
              "              title=\"Convert this dataframe to an interactive table.\"\n",
              "              style=\"display:none;\">\n",
              "        \n",
              "  <svg xmlns=\"http://www.w3.org/2000/svg\" height=\"24px\"viewBox=\"0 0 24 24\"\n",
              "       width=\"24px\">\n",
              "    <path d=\"M0 0h24v24H0V0z\" fill=\"none\"/>\n",
              "    <path d=\"M18.56 5.44l.94 2.06.94-2.06 2.06-.94-2.06-.94-.94-2.06-.94 2.06-2.06.94zm-11 1L8.5 8.5l.94-2.06 2.06-.94-2.06-.94L8.5 2.5l-.94 2.06-2.06.94zm10 10l.94 2.06.94-2.06 2.06-.94-2.06-.94-.94-2.06-.94 2.06-2.06.94z\"/><path d=\"M17.41 7.96l-1.37-1.37c-.4-.4-.92-.59-1.43-.59-.52 0-1.04.2-1.43.59L10.3 9.45l-7.72 7.72c-.78.78-.78 2.05 0 2.83L4 21.41c.39.39.9.59 1.41.59.51 0 1.02-.2 1.41-.59l7.78-7.78 2.81-2.81c.8-.78.8-2.07 0-2.86zM5.41 20L4 18.59l7.72-7.72 1.47 1.35L5.41 20z\"/>\n",
              "  </svg>\n",
              "      </button>\n",
              "      \n",
              "  <style>\n",
              "    .colab-df-container {\n",
              "      display:flex;\n",
              "      flex-wrap:wrap;\n",
              "      gap: 12px;\n",
              "    }\n",
              "\n",
              "    .colab-df-convert {\n",
              "      background-color: #E8F0FE;\n",
              "      border: none;\n",
              "      border-radius: 50%;\n",
              "      cursor: pointer;\n",
              "      display: none;\n",
              "      fill: #1967D2;\n",
              "      height: 32px;\n",
              "      padding: 0 0 0 0;\n",
              "      width: 32px;\n",
              "    }\n",
              "\n",
              "    .colab-df-convert:hover {\n",
              "      background-color: #E2EBFA;\n",
              "      box-shadow: 0px 1px 2px rgba(60, 64, 67, 0.3), 0px 1px 3px 1px rgba(60, 64, 67, 0.15);\n",
              "      fill: #174EA6;\n",
              "    }\n",
              "\n",
              "    [theme=dark] .colab-df-convert {\n",
              "      background-color: #3B4455;\n",
              "      fill: #D2E3FC;\n",
              "    }\n",
              "\n",
              "    [theme=dark] .colab-df-convert:hover {\n",
              "      background-color: #434B5C;\n",
              "      box-shadow: 0px 1px 3px 1px rgba(0, 0, 0, 0.15);\n",
              "      filter: drop-shadow(0px 1px 2px rgba(0, 0, 0, 0.3));\n",
              "      fill: #FFFFFF;\n",
              "    }\n",
              "  </style>\n",
              "\n",
              "      <script>\n",
              "        const buttonEl =\n",
              "          document.querySelector('#df-089e8e3f-d251-4bc5-9c81-f8c5f64db202 button.colab-df-convert');\n",
              "        buttonEl.style.display =\n",
              "          google.colab.kernel.accessAllowed ? 'block' : 'none';\n",
              "\n",
              "        async function convertToInteractive(key) {\n",
              "          const element = document.querySelector('#df-089e8e3f-d251-4bc5-9c81-f8c5f64db202');\n",
              "          const dataTable =\n",
              "            await google.colab.kernel.invokeFunction('convertToInteractive',\n",
              "                                                     [key], {});\n",
              "          if (!dataTable) return;\n",
              "\n",
              "          const docLinkHtml = 'Like what you see? Visit the ' +\n",
              "            '<a target=\"_blank\" href=https://colab.research.google.com/notebooks/data_table.ipynb>data table notebook</a>'\n",
              "            + ' to learn more about interactive tables.';\n",
              "          element.innerHTML = '';\n",
              "          dataTable['output_type'] = 'display_data';\n",
              "          await google.colab.output.renderOutput(dataTable, element);\n",
              "          const docLink = document.createElement('div');\n",
              "          docLink.innerHTML = docLinkHtml;\n",
              "          element.appendChild(docLink);\n",
              "        }\n",
              "      </script>\n",
              "    </div>\n",
              "  </div>\n",
              "  "
            ]
          },
          "metadata": {},
          "execution_count": 10
        }
      ],
      "source": [
        "multinerd_data.head()"
      ]
    },
    {
      "cell_type": "code",
      "execution_count": 11,
      "metadata": {
        "id": "wujEqghjXD9F",
        "outputId": "9078c595-4c10-4ccc-8f57-edf77ca02618",
        "colab": {
          "base_uri": "https://localhost:8080/"
        }
      },
      "outputs": [
        {
          "output_type": "stream",
          "name": "stdout",
          "text": [
            "3568155\n",
            "3568155\n"
          ]
        }
      ],
      "source": [
        "print(multinerd_data[\"Smth\"].size)\n",
        "print(multinerd_data[\"Smth\"].isna().count())"
      ]
    },
    {
      "cell_type": "markdown",
      "metadata": {
        "id": "3K-1EtwzXD9G"
      },
      "source": [
        "видим что последняя колонка полнстью состоит из пропусков, так что ее можно удалить"
      ]
    },
    {
      "cell_type": "code",
      "execution_count": 12,
      "metadata": {
        "id": "ynQrX0KzXD9G"
      },
      "outputs": [],
      "source": [
        "multinerd_data=multinerd_data.drop([\"Smth\"], axis=1)"
      ]
    },
    {
      "cell_type": "code",
      "execution_count": 13,
      "metadata": {
        "id": "RBrWJaVWXD9G",
        "outputId": "965c9ff2-43ab-4afa-f914-b4c28a849b51",
        "colab": {
          "base_uri": "https://localhost:8080/",
          "height": 357
        }
      },
      "outputs": [
        {
          "output_type": "execute_result",
          "data": {
            "text/plain": [
              "   Index    Token  Label   BabelNet ID Wikidata ID  Wikipedia ID  \\\n",
              "0      0  Created      O           NaN         NaN           NaN   \n",
              "1      1       by      O           NaN         NaN           NaN   \n",
              "2      2    James  B-PER  bn:00786804n      Q42574       15622.0   \n",
              "3      3  Cameron  I-PER           NaN         NaN           NaN   \n",
              "4      4      and      O           NaN         NaN           NaN   \n",
              "\n",
              "  Wikipedia Title                                         Definition  \\\n",
              "0             NaN                                                NaN   \n",
              "1             NaN                                                NaN   \n",
              "2   James_Cameron  James Francis Cameron is a Canadian film direc...   \n",
              "3             NaN                                                NaN   \n",
              "4             NaN                                                NaN   \n",
              "\n",
              "                                           Image URL  \n",
              "0                                                NaN  \n",
              "1                                                NaN  \n",
              "2  https://upload.wikimedia.org/wikipedia/commons...  \n",
              "3                                                NaN  \n",
              "4                                                NaN  "
            ],
            "text/html": [
              "\n",
              "  <div id=\"df-3b14205d-2108-4c79-885a-69c9084c71b0\">\n",
              "    <div class=\"colab-df-container\">\n",
              "      <div>\n",
              "<style scoped>\n",
              "    .dataframe tbody tr th:only-of-type {\n",
              "        vertical-align: middle;\n",
              "    }\n",
              "\n",
              "    .dataframe tbody tr th {\n",
              "        vertical-align: top;\n",
              "    }\n",
              "\n",
              "    .dataframe thead th {\n",
              "        text-align: right;\n",
              "    }\n",
              "</style>\n",
              "<table border=\"1\" class=\"dataframe\">\n",
              "  <thead>\n",
              "    <tr style=\"text-align: right;\">\n",
              "      <th></th>\n",
              "      <th>Index</th>\n",
              "      <th>Token</th>\n",
              "      <th>Label</th>\n",
              "      <th>BabelNet ID</th>\n",
              "      <th>Wikidata ID</th>\n",
              "      <th>Wikipedia ID</th>\n",
              "      <th>Wikipedia Title</th>\n",
              "      <th>Definition</th>\n",
              "      <th>Image URL</th>\n",
              "    </tr>\n",
              "  </thead>\n",
              "  <tbody>\n",
              "    <tr>\n",
              "      <th>0</th>\n",
              "      <td>0</td>\n",
              "      <td>Created</td>\n",
              "      <td>O</td>\n",
              "      <td>NaN</td>\n",
              "      <td>NaN</td>\n",
              "      <td>NaN</td>\n",
              "      <td>NaN</td>\n",
              "      <td>NaN</td>\n",
              "      <td>NaN</td>\n",
              "    </tr>\n",
              "    <tr>\n",
              "      <th>1</th>\n",
              "      <td>1</td>\n",
              "      <td>by</td>\n",
              "      <td>O</td>\n",
              "      <td>NaN</td>\n",
              "      <td>NaN</td>\n",
              "      <td>NaN</td>\n",
              "      <td>NaN</td>\n",
              "      <td>NaN</td>\n",
              "      <td>NaN</td>\n",
              "    </tr>\n",
              "    <tr>\n",
              "      <th>2</th>\n",
              "      <td>2</td>\n",
              "      <td>James</td>\n",
              "      <td>B-PER</td>\n",
              "      <td>bn:00786804n</td>\n",
              "      <td>Q42574</td>\n",
              "      <td>15622.0</td>\n",
              "      <td>James_Cameron</td>\n",
              "      <td>James Francis Cameron is a Canadian film direc...</td>\n",
              "      <td>https://upload.wikimedia.org/wikipedia/commons...</td>\n",
              "    </tr>\n",
              "    <tr>\n",
              "      <th>3</th>\n",
              "      <td>3</td>\n",
              "      <td>Cameron</td>\n",
              "      <td>I-PER</td>\n",
              "      <td>NaN</td>\n",
              "      <td>NaN</td>\n",
              "      <td>NaN</td>\n",
              "      <td>NaN</td>\n",
              "      <td>NaN</td>\n",
              "      <td>NaN</td>\n",
              "    </tr>\n",
              "    <tr>\n",
              "      <th>4</th>\n",
              "      <td>4</td>\n",
              "      <td>and</td>\n",
              "      <td>O</td>\n",
              "      <td>NaN</td>\n",
              "      <td>NaN</td>\n",
              "      <td>NaN</td>\n",
              "      <td>NaN</td>\n",
              "      <td>NaN</td>\n",
              "      <td>NaN</td>\n",
              "    </tr>\n",
              "  </tbody>\n",
              "</table>\n",
              "</div>\n",
              "      <button class=\"colab-df-convert\" onclick=\"convertToInteractive('df-3b14205d-2108-4c79-885a-69c9084c71b0')\"\n",
              "              title=\"Convert this dataframe to an interactive table.\"\n",
              "              style=\"display:none;\">\n",
              "        \n",
              "  <svg xmlns=\"http://www.w3.org/2000/svg\" height=\"24px\"viewBox=\"0 0 24 24\"\n",
              "       width=\"24px\">\n",
              "    <path d=\"M0 0h24v24H0V0z\" fill=\"none\"/>\n",
              "    <path d=\"M18.56 5.44l.94 2.06.94-2.06 2.06-.94-2.06-.94-.94-2.06-.94 2.06-2.06.94zm-11 1L8.5 8.5l.94-2.06 2.06-.94-2.06-.94L8.5 2.5l-.94 2.06-2.06.94zm10 10l.94 2.06.94-2.06 2.06-.94-2.06-.94-.94-2.06-.94 2.06-2.06.94z\"/><path d=\"M17.41 7.96l-1.37-1.37c-.4-.4-.92-.59-1.43-.59-.52 0-1.04.2-1.43.59L10.3 9.45l-7.72 7.72c-.78.78-.78 2.05 0 2.83L4 21.41c.39.39.9.59 1.41.59.51 0 1.02-.2 1.41-.59l7.78-7.78 2.81-2.81c.8-.78.8-2.07 0-2.86zM5.41 20L4 18.59l7.72-7.72 1.47 1.35L5.41 20z\"/>\n",
              "  </svg>\n",
              "      </button>\n",
              "      \n",
              "  <style>\n",
              "    .colab-df-container {\n",
              "      display:flex;\n",
              "      flex-wrap:wrap;\n",
              "      gap: 12px;\n",
              "    }\n",
              "\n",
              "    .colab-df-convert {\n",
              "      background-color: #E8F0FE;\n",
              "      border: none;\n",
              "      border-radius: 50%;\n",
              "      cursor: pointer;\n",
              "      display: none;\n",
              "      fill: #1967D2;\n",
              "      height: 32px;\n",
              "      padding: 0 0 0 0;\n",
              "      width: 32px;\n",
              "    }\n",
              "\n",
              "    .colab-df-convert:hover {\n",
              "      background-color: #E2EBFA;\n",
              "      box-shadow: 0px 1px 2px rgba(60, 64, 67, 0.3), 0px 1px 3px 1px rgba(60, 64, 67, 0.15);\n",
              "      fill: #174EA6;\n",
              "    }\n",
              "\n",
              "    [theme=dark] .colab-df-convert {\n",
              "      background-color: #3B4455;\n",
              "      fill: #D2E3FC;\n",
              "    }\n",
              "\n",
              "    [theme=dark] .colab-df-convert:hover {\n",
              "      background-color: #434B5C;\n",
              "      box-shadow: 0px 1px 3px 1px rgba(0, 0, 0, 0.15);\n",
              "      filter: drop-shadow(0px 1px 2px rgba(0, 0, 0, 0.3));\n",
              "      fill: #FFFFFF;\n",
              "    }\n",
              "  </style>\n",
              "\n",
              "      <script>\n",
              "        const buttonEl =\n",
              "          document.querySelector('#df-3b14205d-2108-4c79-885a-69c9084c71b0 button.colab-df-convert');\n",
              "        buttonEl.style.display =\n",
              "          google.colab.kernel.accessAllowed ? 'block' : 'none';\n",
              "\n",
              "        async function convertToInteractive(key) {\n",
              "          const element = document.querySelector('#df-3b14205d-2108-4c79-885a-69c9084c71b0');\n",
              "          const dataTable =\n",
              "            await google.colab.kernel.invokeFunction('convertToInteractive',\n",
              "                                                     [key], {});\n",
              "          if (!dataTable) return;\n",
              "\n",
              "          const docLinkHtml = 'Like what you see? Visit the ' +\n",
              "            '<a target=\"_blank\" href=https://colab.research.google.com/notebooks/data_table.ipynb>data table notebook</a>'\n",
              "            + ' to learn more about interactive tables.';\n",
              "          element.innerHTML = '';\n",
              "          dataTable['output_type'] = 'display_data';\n",
              "          await google.colab.output.renderOutput(dataTable, element);\n",
              "          const docLink = document.createElement('div');\n",
              "          docLink.innerHTML = docLinkHtml;\n",
              "          element.appendChild(docLink);\n",
              "        }\n",
              "      </script>\n",
              "    </div>\n",
              "  </div>\n",
              "  "
            ]
          },
          "metadata": {},
          "execution_count": 13
        }
      ],
      "source": [
        "multinerd_data.head()"
      ]
    },
    {
      "cell_type": "code",
      "execution_count": 14,
      "metadata": {
        "id": "mtz2pf5rXD9H",
        "outputId": "c8723570-0002-4ca0-e957-2cbb32d452ec",
        "colab": {
          "base_uri": "https://localhost:8080/"
        }
      },
      "outputs": [
        {
          "output_type": "execute_result",
          "data": {
            "text/plain": [
              "array(['O', 'B-PER', 'I-PER', 'B-LOC', 'B-MEDIA', 'I-MEDIA', 'B-TIME',\n",
              "       'B-EVE', 'I-EVE', 'I-TIME', 'I-LOC', 'B-ORG', 'I-ORG', 'B-PLANT',\n",
              "       'B-ANIM', 'I-ANIM', 'I-PLANT', 'B-FOOD', 'B-DIS', 'I-DIS', 'B-CEL',\n",
              "       'B-SUPER', 'I-SUPER', 'I-FOOD', 'B-VEHI', 'I-VEHI', 'B-INST',\n",
              "       'I-INST', 'I-CEL', 'B-PHY', 'I-PHY', 'B-BIO', 'I-BIO'],\n",
              "      dtype=object)"
            ]
          },
          "metadata": {},
          "execution_count": 14
        }
      ],
      "source": [
        "multinerd_data[\"Label\"].unique()"
      ]
    },
    {
      "cell_type": "code",
      "execution_count": 15,
      "metadata": {
        "id": "YdQpWUb6XD9H",
        "outputId": "a7972c96-cabf-41eb-c93a-2fefb5c52dc8",
        "colab": {
          "base_uri": "https://localhost:8080/",
          "height": 424
        }
      },
      "outputs": [
        {
          "output_type": "execute_result",
          "data": {
            "text/plain": [
              "           Token  Label\n",
              "2          James  B-PER\n",
              "3        Cameron  I-PER\n",
              "5        Charles  B-PER\n",
              "6             H.  I-PER\n",
              "7          Eglee  I-PER\n",
              "...          ...    ...\n",
              "3568089   United  B-LOC\n",
              "3568090  Kingdom  I-LOC\n",
              "3568106    North  B-LOC\n",
              "3568107    Korea  I-LOC\n",
              "3568128    Japan  B-LOC\n",
              "\n",
              "[456268 rows x 2 columns]"
            ],
            "text/html": [
              "\n",
              "  <div id=\"df-d378c722-4087-4ee9-bc14-1425ae55e24b\">\n",
              "    <div class=\"colab-df-container\">\n",
              "      <div>\n",
              "<style scoped>\n",
              "    .dataframe tbody tr th:only-of-type {\n",
              "        vertical-align: middle;\n",
              "    }\n",
              "\n",
              "    .dataframe tbody tr th {\n",
              "        vertical-align: top;\n",
              "    }\n",
              "\n",
              "    .dataframe thead th {\n",
              "        text-align: right;\n",
              "    }\n",
              "</style>\n",
              "<table border=\"1\" class=\"dataframe\">\n",
              "  <thead>\n",
              "    <tr style=\"text-align: right;\">\n",
              "      <th></th>\n",
              "      <th>Token</th>\n",
              "      <th>Label</th>\n",
              "    </tr>\n",
              "  </thead>\n",
              "  <tbody>\n",
              "    <tr>\n",
              "      <th>2</th>\n",
              "      <td>James</td>\n",
              "      <td>B-PER</td>\n",
              "    </tr>\n",
              "    <tr>\n",
              "      <th>3</th>\n",
              "      <td>Cameron</td>\n",
              "      <td>I-PER</td>\n",
              "    </tr>\n",
              "    <tr>\n",
              "      <th>5</th>\n",
              "      <td>Charles</td>\n",
              "      <td>B-PER</td>\n",
              "    </tr>\n",
              "    <tr>\n",
              "      <th>6</th>\n",
              "      <td>H.</td>\n",
              "      <td>I-PER</td>\n",
              "    </tr>\n",
              "    <tr>\n",
              "      <th>7</th>\n",
              "      <td>Eglee</td>\n",
              "      <td>I-PER</td>\n",
              "    </tr>\n",
              "    <tr>\n",
              "      <th>...</th>\n",
              "      <td>...</td>\n",
              "      <td>...</td>\n",
              "    </tr>\n",
              "    <tr>\n",
              "      <th>3568089</th>\n",
              "      <td>United</td>\n",
              "      <td>B-LOC</td>\n",
              "    </tr>\n",
              "    <tr>\n",
              "      <th>3568090</th>\n",
              "      <td>Kingdom</td>\n",
              "      <td>I-LOC</td>\n",
              "    </tr>\n",
              "    <tr>\n",
              "      <th>3568106</th>\n",
              "      <td>North</td>\n",
              "      <td>B-LOC</td>\n",
              "    </tr>\n",
              "    <tr>\n",
              "      <th>3568107</th>\n",
              "      <td>Korea</td>\n",
              "      <td>I-LOC</td>\n",
              "    </tr>\n",
              "    <tr>\n",
              "      <th>3568128</th>\n",
              "      <td>Japan</td>\n",
              "      <td>B-LOC</td>\n",
              "    </tr>\n",
              "  </tbody>\n",
              "</table>\n",
              "<p>456268 rows × 2 columns</p>\n",
              "</div>\n",
              "      <button class=\"colab-df-convert\" onclick=\"convertToInteractive('df-d378c722-4087-4ee9-bc14-1425ae55e24b')\"\n",
              "              title=\"Convert this dataframe to an interactive table.\"\n",
              "              style=\"display:none;\">\n",
              "        \n",
              "  <svg xmlns=\"http://www.w3.org/2000/svg\" height=\"24px\"viewBox=\"0 0 24 24\"\n",
              "       width=\"24px\">\n",
              "    <path d=\"M0 0h24v24H0V0z\" fill=\"none\"/>\n",
              "    <path d=\"M18.56 5.44l.94 2.06.94-2.06 2.06-.94-2.06-.94-.94-2.06-.94 2.06-2.06.94zm-11 1L8.5 8.5l.94-2.06 2.06-.94-2.06-.94L8.5 2.5l-.94 2.06-2.06.94zm10 10l.94 2.06.94-2.06 2.06-.94-2.06-.94-.94-2.06-.94 2.06-2.06.94z\"/><path d=\"M17.41 7.96l-1.37-1.37c-.4-.4-.92-.59-1.43-.59-.52 0-1.04.2-1.43.59L10.3 9.45l-7.72 7.72c-.78.78-.78 2.05 0 2.83L4 21.41c.39.39.9.59 1.41.59.51 0 1.02-.2 1.41-.59l7.78-7.78 2.81-2.81c.8-.78.8-2.07 0-2.86zM5.41 20L4 18.59l7.72-7.72 1.47 1.35L5.41 20z\"/>\n",
              "  </svg>\n",
              "      </button>\n",
              "      \n",
              "  <style>\n",
              "    .colab-df-container {\n",
              "      display:flex;\n",
              "      flex-wrap:wrap;\n",
              "      gap: 12px;\n",
              "    }\n",
              "\n",
              "    .colab-df-convert {\n",
              "      background-color: #E8F0FE;\n",
              "      border: none;\n",
              "      border-radius: 50%;\n",
              "      cursor: pointer;\n",
              "      display: none;\n",
              "      fill: #1967D2;\n",
              "      height: 32px;\n",
              "      padding: 0 0 0 0;\n",
              "      width: 32px;\n",
              "    }\n",
              "\n",
              "    .colab-df-convert:hover {\n",
              "      background-color: #E2EBFA;\n",
              "      box-shadow: 0px 1px 2px rgba(60, 64, 67, 0.3), 0px 1px 3px 1px rgba(60, 64, 67, 0.15);\n",
              "      fill: #174EA6;\n",
              "    }\n",
              "\n",
              "    [theme=dark] .colab-df-convert {\n",
              "      background-color: #3B4455;\n",
              "      fill: #D2E3FC;\n",
              "    }\n",
              "\n",
              "    [theme=dark] .colab-df-convert:hover {\n",
              "      background-color: #434B5C;\n",
              "      box-shadow: 0px 1px 3px 1px rgba(0, 0, 0, 0.15);\n",
              "      filter: drop-shadow(0px 1px 2px rgba(0, 0, 0, 0.3));\n",
              "      fill: #FFFFFF;\n",
              "    }\n",
              "  </style>\n",
              "\n",
              "      <script>\n",
              "        const buttonEl =\n",
              "          document.querySelector('#df-d378c722-4087-4ee9-bc14-1425ae55e24b button.colab-df-convert');\n",
              "        buttonEl.style.display =\n",
              "          google.colab.kernel.accessAllowed ? 'block' : 'none';\n",
              "\n",
              "        async function convertToInteractive(key) {\n",
              "          const element = document.querySelector('#df-d378c722-4087-4ee9-bc14-1425ae55e24b');\n",
              "          const dataTable =\n",
              "            await google.colab.kernel.invokeFunction('convertToInteractive',\n",
              "                                                     [key], {});\n",
              "          if (!dataTable) return;\n",
              "\n",
              "          const docLinkHtml = 'Like what you see? Visit the ' +\n",
              "            '<a target=\"_blank\" href=https://colab.research.google.com/notebooks/data_table.ipynb>data table notebook</a>'\n",
              "            + ' to learn more about interactive tables.';\n",
              "          element.innerHTML = '';\n",
              "          dataTable['output_type'] = 'display_data';\n",
              "          await google.colab.output.renderOutput(dataTable, element);\n",
              "          const docLink = document.createElement('div');\n",
              "          docLink.innerHTML = docLinkHtml;\n",
              "          element.appendChild(docLink);\n",
              "        }\n",
              "      </script>\n",
              "    </div>\n",
              "  </div>\n",
              "  "
            ]
          },
          "metadata": {},
          "execution_count": 15
        }
      ],
      "source": [
        "df = multinerd_data[[\"Token\", \"Label\"]][multinerd_data[[\"Token\", \"Label\"]][\"Label\"] != \"O\"]\n",
        "df"
      ]
    },
    {
      "cell_type": "code",
      "execution_count": 16,
      "metadata": {
        "id": "wiZXtMypXD9H",
        "outputId": "dbe9dd7d-6632-4e9e-be32-9a1ad88f57d6",
        "colab": {
          "base_uri": "https://localhost:8080/"
        }
      },
      "outputs": [
        {
          "output_type": "execute_result",
          "data": {
            "text/plain": [
              "array(['B-PER', 'I-PER', 'B-LOC', 'B-MEDIA', 'I-MEDIA', 'B-TIME', 'B-EVE',\n",
              "       'I-EVE', 'I-TIME', 'I-LOC', 'B-ORG', 'I-ORG', 'B-PLANT', 'B-ANIM',\n",
              "       'I-ANIM', 'I-PLANT', 'B-FOOD', 'B-DIS', 'I-DIS', 'B-CEL',\n",
              "       'B-SUPER', 'I-SUPER', 'I-FOOD', 'B-VEHI', 'I-VEHI', 'B-INST',\n",
              "       'I-INST', 'I-CEL', 'B-PHY', 'I-PHY', 'B-BIO', 'I-BIO'],\n",
              "      dtype=object)"
            ]
          },
          "metadata": {},
          "execution_count": 16
        }
      ],
      "source": [
        "df.Label.unique()"
      ]
    },
    {
      "cell_type": "code",
      "execution_count": null,
      "metadata": {
        "id": "yFBMc5jqXD9H",
        "outputId": "54b9f509-0592-4c8e-819f-5b846fb55e59"
      },
      "outputs": [
        {
          "name": "stderr",
          "output_type": "stream",
          "text": [
            "100%|██████████| 456268/456268 [10:23<00:00, 731.67it/s] \n"
          ]
        },
        {
          "data": {
            "text/html": [
              "<div>\n",
              "<style scoped>\n",
              "    .dataframe tbody tr th:only-of-type {\n",
              "        vertical-align: middle;\n",
              "    }\n",
              "\n",
              "    .dataframe tbody tr th {\n",
              "        vertical-align: top;\n",
              "    }\n",
              "\n",
              "    .dataframe thead th {\n",
              "        text-align: right;\n",
              "    }\n",
              "</style>\n",
              "<table border=\"1\" class=\"dataframe\">\n",
              "  <thead>\n",
              "    <tr style=\"text-align: right;\">\n",
              "      <th></th>\n",
              "      <th>Token</th>\n",
              "      <th>Label</th>\n",
              "    </tr>\n",
              "  </thead>\n",
              "  <tbody>\n",
              "    <tr>\n",
              "      <th>0</th>\n",
              "      <td></td>\n",
              "      <td></td>\n",
              "    </tr>\n",
              "    <tr>\n",
              "      <th>1</th>\n",
              "      <td>James Cameron</td>\n",
              "      <td>PER</td>\n",
              "    </tr>\n",
              "    <tr>\n",
              "      <th>2</th>\n",
              "      <td>Charles H. Eglee</td>\n",
              "      <td>PER</td>\n",
              "    </tr>\n",
              "    <tr>\n",
              "      <th>3</th>\n",
              "      <td>Jessica Alba</td>\n",
              "      <td>PER</td>\n",
              "    </tr>\n",
              "    <tr>\n",
              "      <th>4</th>\n",
              "      <td>Seattle</td>\n",
              "      <td>LOC</td>\n",
              "    </tr>\n",
              "    <tr>\n",
              "      <th>...</th>\n",
              "      <td>...</td>\n",
              "      <td>...</td>\n",
              "    </tr>\n",
              "    <tr>\n",
              "      <th>253517</th>\n",
              "      <td>Libya</td>\n",
              "      <td>LOC</td>\n",
              "    </tr>\n",
              "    <tr>\n",
              "      <th>253518</th>\n",
              "      <td>Bashar al-Assad</td>\n",
              "      <td>PER</td>\n",
              "    </tr>\n",
              "    <tr>\n",
              "      <th>253519</th>\n",
              "      <td>United Kingdom</td>\n",
              "      <td>LOC</td>\n",
              "    </tr>\n",
              "    <tr>\n",
              "      <th>253520</th>\n",
              "      <td>North Korea</td>\n",
              "      <td>LOC</td>\n",
              "    </tr>\n",
              "    <tr>\n",
              "      <th>253521</th>\n",
              "      <td>Japan</td>\n",
              "      <td>LOC</td>\n",
              "    </tr>\n",
              "  </tbody>\n",
              "</table>\n",
              "<p>253522 rows × 2 columns</p>\n",
              "</div>"
            ],
            "text/plain": [
              "                   Token Label\n",
              "0                             \n",
              "1          James Cameron   PER\n",
              "2       Charles H. Eglee   PER\n",
              "3           Jessica Alba   PER\n",
              "4                Seattle   LOC\n",
              "...                  ...   ...\n",
              "253517             Libya   LOC\n",
              "253518   Bashar al-Assad   PER\n",
              "253519    United Kingdom   LOC\n",
              "253520       North Korea   LOC\n",
              "253521             Japan   LOC\n",
              "\n",
              "[253522 rows x 2 columns]"
            ]
          },
          "execution_count": 50,
          "metadata": {},
          "output_type": "execute_result"
        }
      ],
      "source": [
        "from tqdm import tqdm\n",
        "ans = pd.DataFrame(columns=[\"Token\", \"Label\"])\n",
        "curr_token = \"\"\n",
        "curr_label = \"\"\n",
        "for index, row in tqdm(df.iterrows(), total=df.shape[0]):\n",
        "    label = str(row[\"Label\"])\n",
        "    token = str(row[\"Token\"])\n",
        "    if label[0] == \"B\":\n",
        "        curr_df = pd.DataFrame({\n",
        "            \"Token\": [curr_token],\n",
        "            \"Label\": [curr_label]\n",
        "        })\n",
        "        ans = pd.concat([ans,curr_df], ignore_index = True)\n",
        "        curr_token = token\n",
        "        curr_label = label[2:]\n",
        "    elif label[2:] == curr_label:\n",
        "        curr_token = curr_token + \" \" + token\n",
        "    if index == 3568128:\n",
        "        curr_df = pd.DataFrame({\n",
        "            \"Token\": [curr_token],\n",
        "            \"Label\": [curr_label]\n",
        "        })\n",
        "        ans = pd.concat([ans,curr_df], ignore_index = True)\n",
        "ans"
      ]
    },
    {
      "cell_type": "code",
      "execution_count": null,
      "metadata": {
        "id": "ryWPS1-sXD9I"
      },
      "outputs": [],
      "source": [
        "ans = ans.iloc[1: , :]"
      ]
    },
    {
      "cell_type": "code",
      "execution_count": null,
      "metadata": {
        "id": "UUdZCcV1XD9I",
        "outputId": "e112021f-a8a1-49f2-d156-68e42fbbe1b3"
      },
      "outputs": [
        {
          "data": {
            "text/html": [
              "<div>\n",
              "<style scoped>\n",
              "    .dataframe tbody tr th:only-of-type {\n",
              "        vertical-align: middle;\n",
              "    }\n",
              "\n",
              "    .dataframe tbody tr th {\n",
              "        vertical-align: top;\n",
              "    }\n",
              "\n",
              "    .dataframe thead th {\n",
              "        text-align: right;\n",
              "    }\n",
              "</style>\n",
              "<table border=\"1\" class=\"dataframe\">\n",
              "  <thead>\n",
              "    <tr style=\"text-align: right;\">\n",
              "      <th></th>\n",
              "      <th>Token</th>\n",
              "      <th>Label</th>\n",
              "    </tr>\n",
              "  </thead>\n",
              "  <tbody>\n",
              "    <tr>\n",
              "      <th>1</th>\n",
              "      <td>James Cameron</td>\n",
              "      <td>PER</td>\n",
              "    </tr>\n",
              "    <tr>\n",
              "      <th>2</th>\n",
              "      <td>Charles H. Eglee</td>\n",
              "      <td>PER</td>\n",
              "    </tr>\n",
              "    <tr>\n",
              "      <th>3</th>\n",
              "      <td>Jessica Alba</td>\n",
              "      <td>PER</td>\n",
              "    </tr>\n",
              "    <tr>\n",
              "      <th>4</th>\n",
              "      <td>Seattle</td>\n",
              "      <td>LOC</td>\n",
              "    </tr>\n",
              "    <tr>\n",
              "      <th>5</th>\n",
              "      <td>CSI : Crime Scene Investigation</td>\n",
              "      <td>MEDIA</td>\n",
              "    </tr>\n",
              "    <tr>\n",
              "      <th>...</th>\n",
              "      <td>...</td>\n",
              "      <td>...</td>\n",
              "    </tr>\n",
              "    <tr>\n",
              "      <th>253517</th>\n",
              "      <td>Libya</td>\n",
              "      <td>LOC</td>\n",
              "    </tr>\n",
              "    <tr>\n",
              "      <th>253518</th>\n",
              "      <td>Bashar al-Assad</td>\n",
              "      <td>PER</td>\n",
              "    </tr>\n",
              "    <tr>\n",
              "      <th>253519</th>\n",
              "      <td>United Kingdom</td>\n",
              "      <td>LOC</td>\n",
              "    </tr>\n",
              "    <tr>\n",
              "      <th>253520</th>\n",
              "      <td>North Korea</td>\n",
              "      <td>LOC</td>\n",
              "    </tr>\n",
              "    <tr>\n",
              "      <th>253521</th>\n",
              "      <td>Japan</td>\n",
              "      <td>LOC</td>\n",
              "    </tr>\n",
              "  </tbody>\n",
              "</table>\n",
              "<p>253521 rows × 2 columns</p>\n",
              "</div>"
            ],
            "text/plain": [
              "                                  Token  Label\n",
              "1                         James Cameron    PER\n",
              "2                      Charles H. Eglee    PER\n",
              "3                          Jessica Alba    PER\n",
              "4                               Seattle    LOC\n",
              "5       CSI : Crime Scene Investigation  MEDIA\n",
              "...                                 ...    ...\n",
              "253517                            Libya    LOC\n",
              "253518                  Bashar al-Assad    PER\n",
              "253519                   United Kingdom    LOC\n",
              "253520                      North Korea    LOC\n",
              "253521                            Japan    LOC\n",
              "\n",
              "[253521 rows x 2 columns]"
            ]
          },
          "execution_count": 60,
          "metadata": {},
          "output_type": "execute_result"
        }
      ],
      "source": [
        "ans"
      ]
    },
    {
      "cell_type": "code",
      "execution_count": null,
      "metadata": {
        "id": "CGaSbIjCXD9I",
        "outputId": "15e68d43-8dfe-4b9e-9511-097beb049864"
      },
      "outputs": [
        {
          "data": {
            "text/html": [
              "<div>\n",
              "<style scoped>\n",
              "    .dataframe tbody tr th:only-of-type {\n",
              "        vertical-align: middle;\n",
              "    }\n",
              "\n",
              "    .dataframe tbody tr th {\n",
              "        vertical-align: top;\n",
              "    }\n",
              "\n",
              "    .dataframe thead th {\n",
              "        text-align: right;\n",
              "    }\n",
              "</style>\n",
              "<table border=\"1\" class=\"dataframe\">\n",
              "  <thead>\n",
              "    <tr style=\"text-align: right;\">\n",
              "      <th></th>\n",
              "      <th>Label</th>\n",
              "      <th>Token</th>\n",
              "    </tr>\n",
              "  </thead>\n",
              "  <tbody>\n",
              "    <tr>\n",
              "      <th>0</th>\n",
              "      <td>ANIM</td>\n",
              "      <td>15474</td>\n",
              "    </tr>\n",
              "    <tr>\n",
              "      <th>1</th>\n",
              "      <td>BIO</td>\n",
              "      <td>162</td>\n",
              "    </tr>\n",
              "    <tr>\n",
              "      <th>2</th>\n",
              "      <td>CEL</td>\n",
              "      <td>2820</td>\n",
              "    </tr>\n",
              "    <tr>\n",
              "      <th>3</th>\n",
              "      <td>DIS</td>\n",
              "      <td>11156</td>\n",
              "    </tr>\n",
              "    <tr>\n",
              "      <th>4</th>\n",
              "      <td>EVE</td>\n",
              "      <td>3176</td>\n",
              "    </tr>\n",
              "    <tr>\n",
              "      <th>5</th>\n",
              "      <td>FOOD</td>\n",
              "      <td>10965</td>\n",
              "    </tr>\n",
              "    <tr>\n",
              "      <th>6</th>\n",
              "      <td>INST</td>\n",
              "      <td>425</td>\n",
              "    </tr>\n",
              "    <tr>\n",
              "      <th>7</th>\n",
              "      <td>LOC</td>\n",
              "      <td>78539</td>\n",
              "    </tr>\n",
              "    <tr>\n",
              "      <th>8</th>\n",
              "      <td>MEDIA</td>\n",
              "      <td>7458</td>\n",
              "    </tr>\n",
              "    <tr>\n",
              "      <th>9</th>\n",
              "      <td>ORG</td>\n",
              "      <td>33687</td>\n",
              "    </tr>\n",
              "    <tr>\n",
              "      <th>10</th>\n",
              "      <td>PER</td>\n",
              "      <td>75759</td>\n",
              "    </tr>\n",
              "    <tr>\n",
              "      <th>11</th>\n",
              "      <td>PHY</td>\n",
              "      <td>66</td>\n",
              "    </tr>\n",
              "    <tr>\n",
              "      <th>12</th>\n",
              "      <td>PLANT</td>\n",
              "      <td>9510</td>\n",
              "    </tr>\n",
              "    <tr>\n",
              "      <th>13</th>\n",
              "      <td>SUPER</td>\n",
              "      <td>657</td>\n",
              "    </tr>\n",
              "    <tr>\n",
              "      <th>14</th>\n",
              "      <td>TIME</td>\n",
              "      <td>3151</td>\n",
              "    </tr>\n",
              "    <tr>\n",
              "      <th>15</th>\n",
              "      <td>VEHI</td>\n",
              "      <td>516</td>\n",
              "    </tr>\n",
              "  </tbody>\n",
              "</table>\n",
              "</div>"
            ],
            "text/plain": [
              "    Label  Token\n",
              "0    ANIM  15474\n",
              "1     BIO    162\n",
              "2     CEL   2820\n",
              "3     DIS  11156\n",
              "4     EVE   3176\n",
              "5    FOOD  10965\n",
              "6    INST    425\n",
              "7     LOC  78539\n",
              "8   MEDIA   7458\n",
              "9     ORG  33687\n",
              "10    PER  75759\n",
              "11    PHY     66\n",
              "12  PLANT   9510\n",
              "13  SUPER    657\n",
              "14   TIME   3151\n",
              "15   VEHI    516"
            ]
          },
          "execution_count": 65,
          "metadata": {},
          "output_type": "execute_result"
        }
      ],
      "source": [
        "ans.groupby([\"Label\"]).count().reset_index()"
      ]
    },
    {
      "cell_type": "code",
      "execution_count": null,
      "metadata": {
        "id": "7lHiwFBNXD9J",
        "outputId": "04ffd2c1-0652-48f8-957e-bf99e209436a"
      },
      "outputs": [
        {
          "data": {
            "text/plain": [
              "['PER',\n",
              " 'LOC',\n",
              " 'MEDIA',\n",
              " 'TIME',\n",
              " 'EVE',\n",
              " 'ORG',\n",
              " 'PLANT',\n",
              " 'ANIM',\n",
              " 'FOOD',\n",
              " 'DIS',\n",
              " 'CEL',\n",
              " 'SUPER',\n",
              " 'VEHI',\n",
              " 'INST',\n",
              " 'PHY',\n",
              " 'BIO']"
            ]
          },
          "execution_count": 62,
          "metadata": {},
          "output_type": "execute_result"
        }
      ],
      "source": [
        "entities_names_multinerd = list(ans[\"Label\"].unique())\n",
        "entities_names_multinerd"
      ]
    },
    {
      "cell_type": "code",
      "execution_count": null,
      "metadata": {
        "id": "k9cUPkiEXD9J",
        "outputId": "8c44a65a-6608-4372-876c-83ffc6b23675"
      },
      "outputs": [
        {
          "name": "stdout",
          "output_type": "stream",
          "text": [
            "PER\n",
            "2 Chainz\n",
            "2Pac\n",
            "40\n",
            "50 Cent\n",
            "9th Wonder\n",
            "A Nauck\n",
            "A. \" N. Richards\n",
            "A. A. Attanasio\n",
            "A. A. Milne\n",
            "A. Andrewes\n",
            "--------------------------------\n",
            "LOC\n",
            "10th arrondissement\n",
            "137th Street\n",
            "14th Street\n",
            "200 West Street\n",
            "20th arrondissement\n",
            "23rd Street\n",
            "28 May\n",
            "34th Street–Hudson Yards\n",
            "48th District\n",
            "59th Street\n",
            "--------------------------------\n",
            "MEDIA\n",
            "' Til Death\n",
            "' t Kapoentje\n",
            "( I Heard That ) Lonesome Whistle\n",
            "( Miss ) understood\n",
            "1 vs. 100\n",
            "10,000 Days\n",
            "1000 Fires\n",
            "1000 Ways to Die\n",
            "1001 Video Games You Must Play Before You Die\n",
            "12 Play\n",
            "--------------------------------\n",
            "TIME\n",
            "\" Día de la Bandera \" ( Flag Day )\n",
            "\" Star Wars \" Day\n",
            "\" epoch \" year\n",
            "\" hinoeuma \"\n",
            "10th millennium BC\n",
            "1257\n",
            "12th century\n",
            "1347\n",
            "13th century\n",
            "14th century\n",
            "--------------------------------\n",
            "EVE\n",
            "17 July Revolution\n",
            "1956 World Series\n",
            "1960 World Series\n",
            "1965 World Series\n",
            "1986 FIFA World Cup\n",
            "1990 FIFA World Cup\n",
            "1990 World Cup\n",
            "1992 – 93 Ukrainian First League\n",
            "1992 – 93 Ukrainian Second League\n",
            "1994 World Cup\n",
            "--------------------------------\n",
            "ORG\n",
            "1 FC Brno\n",
            "10th Air Base Wing\n",
            "110th Aviation Brigade\n",
            "114 Squadron\n",
            "135th Aviation\n",
            "13th Airborne Division\n",
            "179th Fighter Squadron\n",
            "1899 Hoffenheim\n",
            "19 Entertainment\n",
            "1922 Committee\n",
            "--------------------------------\n",
            "PLANT\n",
            "\" A. \" ruta-muraria \"\n",
            "\" Amaranthus \"\n",
            "\" Borassus \" palm\n",
            "\" D. elatum \"\n",
            "\" Dacrydium cupressinum \" ( rimu )\n",
            "\" N. rustica \"\n",
            "\" N. tabacum \"\n",
            "\" T. cuneatum \"\n",
            "\" T. viride \"\n",
            "\" Ulmus americana \" ' Pendula '\n",
            "--------------------------------\n",
            "ANIM\n",
            "\" ( Felis catus ) \"\n",
            "\" A \" ctinobacillus actinomycetemcomitans\n",
            "\" Aa \"\n",
            "\" Acomys cahirinus \"\n",
            "\" Aquila \" eagles\n",
            "\" Ardipithecus ramidus \"\n",
            "\" Buteo \" group\n",
            "\" C. porosus \"\n",
            "\" Cancer \" crabs\n",
            "\" Ceratitis Capitata \"\n",
            "--------------------------------\n",
            "FOOD\n",
            "\" Bauernkrapfen \"\n",
            "\" Blaue Zipfel \"\n",
            "\" Doner\n",
            "\" baigan choka \"\n",
            "\" caruru \"\n",
            "\" diet drinks \"\n",
            "\" ganjang \"\n",
            "\" huarache \"\n",
            "\" kwetiau goreng \"\n",
            "\" macédoine \"\n",
            "--------------------------------\n",
            "DIS\n",
            "\" a \" taxia\n",
            "\" e \" pilepsy\n",
            "\" flu-like \" symptoms\n",
            "\" lifestyle diseases \"\n",
            "\" o \" steo \" s \" arcoma\n",
            "\" s \" ensorineural deafness\n",
            "\" se \" izures\n",
            "\" t \" ubulopathy\n",
            "' modest '\n",
            "13\n",
            "--------------------------------\n",
            "CEL\n",
            "\" \" shepherd \" \" \" moons \"\n",
            "\" hot Jupiter \" planets\n",
            "\" regular \" satellites\n",
            "# 1889\n",
            "( Delta ) δ \" Caeli\n",
            "( Gamma ) γ \" Caeli\n",
            "( Nu ) ν \" Caeli\n",
            "( Zeta ) ζ \" Caeli\n",
            "1 Pegasi\n",
            "1000 Piazzia\n",
            "--------------------------------\n",
            "SUPER\n",
            "Abzu\n",
            "Achilles\n",
            "Adonis\n",
            "Aeolus\n",
            "Ahura Mazda\n",
            "Aidoneus\n",
            "Albertus Magnus\n",
            "Allah\n",
            "Amaterasu\n",
            "Ambrose\n",
            "--------------------------------\n",
            "VEHI\n",
            "181 Class\n",
            "A-12\n",
            "A-36 Apache\n",
            "A. 204\n",
            "A310\n",
            "A320\n",
            "A380\n",
            "AEM-7\n",
            "AIR-2 Genie\n",
            "ALCO RS-1\n",
            "--------------------------------\n",
            "INST\n",
            "ABC Dragonfly\n",
            "AGM-114 Hellfire\n",
            "AGM-79 Blue Eye\n",
            "AGM-80 Viper\n",
            "AGM-83 Bulldog\n",
            "AGM-88 HARM\n",
            "AIM-120 AMRAAM\n",
            "AIM-132 ASRAAM\n",
            "AIM-4 Falcon\n",
            "AIM-7 Sparrow\n",
            "--------------------------------\n",
            "PHY\n",
            "1910 catastrophe\n",
            "2004 Indian Ocean Earthquake and Tsunami\n",
            "2004 Indian Ocean earthquake and tsunami\n",
            "2004 Indian Ocean tsunami\n",
            "2011 Tōhoku earthquake and tsunami\n",
            "9.0 earthquake struck Japan\n",
            "Aberfan disaster\n",
            "Agulhas Current\n",
            "Alaska Gyre\n",
            "Antarctic Circumpolar Current\n",
            "--------------------------------\n",
            "BIO\n",
            "Actinobacteria\n",
            "Agrobacterium\n",
            "Amanita\n",
            "Aspergillus\n",
            "Bacillus\n",
            "Bacillus anthracis\n",
            "Bacteria\n",
            "Candida\n",
            "Candida albicans\n",
            "Candida antarctica\n",
            "--------------------------------\n"
          ]
        }
      ],
      "source": [
        "for entity in entities_names_multinerd:\n",
        "    print(entity)\n",
        "    temp = ans[ans[\"Label\"] == entity].groupby([\"Label\", \"Token\"]).value_counts()[:10].index.tolist()\n",
        "    for item in temp:\n",
        "        print(item[1])\n",
        "    print(\"--------------------------------\")"
      ]
    },
    {
      "cell_type": "code",
      "execution_count": null,
      "metadata": {
        "id": "xFIzXv9DXD9J"
      },
      "outputs": [],
      "source": [
        "litbank_entities = {}\n",
        "for entity in entities_ans:\n",
        "    temp = entities_ans[entity].most_common()[:10]\n",
        "    litbank_entities[entity] = list()\n",
        "    for item in temp:\n",
        "        litbank_entities[entity].append(item[0])"
      ]
    },
    {
      "cell_type": "code",
      "execution_count": null,
      "metadata": {
        "id": "UN3Wmp9SXD9J",
        "outputId": "45b74b70-5b65-410a-8004-dc14306e0451"
      },
      "outputs": [
        {
          "data": {
            "text/plain": [
              "{'PER': ['Mr.',\n",
              "  'Miss',\n",
              "  'Mrs.',\n",
              "  'sir',\n",
              "  'Sir',\n",
              "  'my mother',\n",
              "  'men',\n",
              "  'Cameron',\n",
              "  'his wife',\n",
              "  'Mr'],\n",
              " 'FAC': ['home',\n",
              "  'the house',\n",
              "  'there',\n",
              "  'here',\n",
              "  'the room',\n",
              "  'the garden',\n",
              "  'the street',\n",
              "  'the hall',\n",
              "  'the road',\n",
              "  'the place'],\n",
              " 'LOC': ['the world',\n",
              "  'the sea',\n",
              "  'the river',\n",
              "  'the country',\n",
              "  'there',\n",
              "  'the earth',\n",
              "  'sea',\n",
              "  'the valley',\n",
              "  'this world',\n",
              "  'the woods'],\n",
              " 'ORG': ['the army',\n",
              "  'the Committee of Public Safety',\n",
              "  'the Colonial Office',\n",
              "  'the Church',\n",
              "  'Harvard',\n",
              "  'college',\n",
              "  'the hospital',\n",
              "  'the C.C.H.',\n",
              "  \"the Bank of Leichardt 's Land\",\n",
              "  'a regiment of regulars'],\n",
              " 'GPE': ['London',\n",
              "  'England',\n",
              "  'there',\n",
              "  'the town',\n",
              "  'New York',\n",
              "  'town',\n",
              "  'France',\n",
              "  'Europe',\n",
              "  'the country',\n",
              "  'Rome'],\n",
              " 'VEH': ['the ship',\n",
              "  'the car',\n",
              "  'the train',\n",
              "  'boats',\n",
              "  'the boat',\n",
              "  'a carriage',\n",
              "  'the waggon',\n",
              "  'the carriage',\n",
              "  'the coach',\n",
              "  'the Fuwalda']}"
            ]
          },
          "execution_count": 99,
          "metadata": {},
          "output_type": "execute_result"
        }
      ],
      "source": [
        "litbank_entities"
      ]
    },
    {
      "cell_type": "code",
      "execution_count": null,
      "metadata": {
        "id": "-PE9XVyCXD9K",
        "outputId": "f330449f-739c-4dd6-98f6-806213df6224"
      },
      "outputs": [
        {
          "name": "stdout",
          "output_type": "stream",
          "text": [
            "----------------------------\n",
            "ORG\n",
            "Litbank:\n",
            "['the army', 'the Committee of Public Safety', 'the Colonial Office', 'the Church', 'Harvard', 'college', 'the hospital', 'the C.C.H.', \"the Bank of Leichardt 's Land\", 'a regiment of regulars']\n",
            "Multinerd:\n",
            "['1 FC Brno', '10th Air Base Wing', '110th Aviation Brigade', '114 Squadron', '135th Aviation', '13th Airborne Division', '179th Fighter Squadron', '1899 Hoffenheim', '19 Entertainment', '1922 Committee']\n",
            "----------------------------\n",
            "LOC\n",
            "Litbank:\n",
            "['the world', 'the sea', 'the river', 'the country', 'there', 'the earth', 'sea', 'the valley', 'this world', 'the woods']\n",
            "Multinerd:\n",
            "['10th arrondissement', '137th Street', '14th Street', '200 West Street', '20th arrondissement', '23rd Street', '28 May', '34th Street–Hudson Yards', '48th District', '59th Street']\n",
            "----------------------------\n",
            "PER\n",
            "Litbank:\n",
            "['Mr.', 'Miss', 'Mrs.', 'sir', 'Sir', 'my mother', 'men', 'Cameron', 'his wife', 'Mr']\n",
            "Multinerd:\n",
            "['2 Chainz', '2Pac', '40', '50 Cent', '9th Wonder', 'A Nauck', 'A. \" N. Richards', 'A. A. Attanasio', 'A. A. Milne', 'A. Andrewes']\n"
          ]
        }
      ],
      "source": [
        "for entity in list(set(litbank_entities) & set(entities_names_multinerd)):\n",
        "    print(\"----------------------------\")\n",
        "    print(entity)\n",
        "    print(\"Litbank:\")\n",
        "    print(litbank_entities[entity])\n",
        "    print(\"Multinerd:\")\n",
        "    temp = ans[ans[\"Label\"] == entity].groupby([\"Label\", \"Token\"]).value_counts()[:10].index.tolist()\n",
        "    res = []\n",
        "    for item in temp:\n",
        "        res.append(item[1])\n",
        "    print(res)"
      ]
    },
    {
      "cell_type": "markdown",
      "metadata": {
        "id": "0_-GO2L7XD9K"
      },
      "source": [
        "Сравнение: одинаковые сущности в разных датасетах трактуются по-разному. Видим что в датасете multinerd большую популярность среди сущностей персон(PER) и локаций(LOC) имеют имена собственные, нежели в датасете litbank."
      ]
    },
    {
      "cell_type": "markdown",
      "metadata": {
        "id": "KwTv2wpLXD9K"
      },
      "source": [
        "#### Топ 10 частотных триггеров событий для корпуса Litbank"
      ]
    },
    {
      "cell_type": "code",
      "execution_count": null,
      "metadata": {
        "id": "xQcRJrcsXD9K"
      },
      "outputs": [],
      "source": [
        "def count_events(path_to_folder):\n",
        "    cnt = Counter()\n",
        "\n",
        "    for filename in os.listdir(path_to_folder):\n",
        "        if filename.endswith(\".ann\"):\n",
        "            entities, relations, attributes, groups = get_entities_relations_attributes_groups(os.path.join(path_to_folder, filename))\n",
        "            for item in entities:\n",
        "                cnt[entities[item].text] += 1 \n",
        "\n",
        "    return cnt"
      ]
    },
    {
      "cell_type": "code",
      "execution_count": null,
      "metadata": {
        "id": "x-UtB23PXD9L",
        "outputId": "c4c80890-1052-4d3a-a2d2-51e633183041"
      },
      "outputs": [
        {
          "data": {
            "text/plain": [
              "[('said', 464),\n",
              " ('came', 95),\n",
              " ('looked', 92),\n",
              " ('went', 92),\n",
              " ('asked', 69),\n",
              " ('heard', 63),\n",
              " ('saw', 59),\n",
              " ('cried', 59),\n",
              " ('took', 56),\n",
              " ('turned', 55)]"
            ]
          },
          "execution_count": 22,
          "metadata": {},
          "output_type": "execute_result"
        }
      ],
      "source": [
        "litbank_events = count_events(events_folder_path).most_common()[:10]\n",
        "litbank_events"
      ]
    },
    {
      "cell_type": "code",
      "execution_count": null,
      "metadata": {
        "id": "-9gDjHs2XD9L",
        "outputId": "9ce00d0a-3f92-47eb-ff7d-9bac9e252362"
      },
      "outputs": [
        {
          "name": "stdout",
          "output_type": "stream",
          "text": [
            "17 July Revolution\n",
            "1956 World Series\n",
            "1960 World Series\n",
            "1965 World Series\n",
            "1986 FIFA World Cup\n",
            "1990 FIFA World Cup\n",
            "1990 World Cup\n",
            "1992 – 93 Ukrainian First League\n",
            "1992 – 93 Ukrainian Second League\n",
            "1994 World Cup\n"
          ]
        }
      ],
      "source": [
        "temp = ans[ans[\"Label\"] == \"EVE\"].groupby([\"Label\", \"Token\"]).value_counts()[:10].index.tolist()\n",
        "for item in temp:\n",
        "    print(item[1])"
      ]
    },
    {
      "cell_type": "markdown",
      "metadata": {
        "id": "qW82Vt3wXD9L"
      },
      "source": [
        "Сравневние: видим что тут тоже по-разному трактуется понятие event. В litbank это больше определяется по совершенному общему действию, а в multinerd это больше похоже на какое-то конкретное событие."
      ]
    },
    {
      "cell_type": "markdown",
      "metadata": {
        "id": "e3HDR0W2XD9L"
      },
      "source": [
        "#### Кластеризация событий"
      ]
    },
    {
      "cell_type": "markdown",
      "metadata": {
        "id": "NWrKFd0_XD9L"
      },
      "source": [
        "**litbank**"
      ]
    },
    {
      "cell_type": "code",
      "execution_count": null,
      "metadata": {
        "id": "1Gva0LbBXD9M"
      },
      "outputs": [],
      "source": [
        "#!pip install gensim==4.2.0"
      ]
    },
    {
      "cell_type": "code",
      "execution_count": null,
      "metadata": {
        "id": "aUvOVKPPXD9M"
      },
      "outputs": [],
      "source": [
        "import gensim.downloader\n",
        "\n",
        "w2v = gensim.downloader.load('word2vec-google-news-300')"
      ]
    },
    {
      "cell_type": "code",
      "execution_count": null,
      "metadata": {
        "id": "LgNDqTDdXD9M"
      },
      "outputs": [],
      "source": [
        "import numpy as np\n",
        "\n",
        "events = list(count_events(events_folder_path).keys())\n",
        "\n",
        "embedded = []\n",
        "presented_events = []\n",
        "for event in events:\n",
        "    if event in w2v:\n",
        "        presented_events.append(event)\n",
        "        embedded.append(w2v[event])\n",
        "embedded = np.array(embedded)"
      ]
    },
    {
      "cell_type": "code",
      "execution_count": null,
      "metadata": {
        "id": "gl8VU6shXD9M"
      },
      "outputs": [],
      "source": [
        "from sklearn.cluster import KMeans\n",
        "\n",
        "model = KMeans()\n",
        "model.fit(embedded)\n",
        "cluster_df = pd.DataFrame({\"event\" : presented_events, \"cluster\" : model.labels_})"
      ]
    },
    {
      "cell_type": "code",
      "execution_count": null,
      "metadata": {
        "id": "VP_tIXd_XD9M",
        "outputId": "5929d15a-81b3-492f-8b06-eed91543a226"
      },
      "outputs": [
        {
          "name": "stdout",
          "output_type": "stream",
          "text": [
            "Cluster 0 sample: objects open fit Leaving proof saying advice stroke shift supposed\n",
            "Cluster 1 sample: sorrow irritability struggles circumstance gravity seizure deaths elopement inference chatter\n",
            "Cluster 2 sample: transported taken depicted added engaged regarded closed quoted became abated\n",
            "Cluster 3 sample: complaining acknowledge amuse imagined hear stung persuasive amused rebuking appals\n",
            "Cluster 4 sample: sparkled turned wound leapt flashed knelt walked harkened fallen nodded\n",
            "Cluster 5 sample: barking frowning nodding Noticing clenching panting uttered sound sullen seated\n",
            "Cluster 6 sample: raindrops smouldered dusted polluted deadened torn soft illumined dreary vapor\n",
            "Cluster 7 sample: Locking overturning touching hopping mingling pointing serving flying organizing conjuring\n"
          ]
        }
      ],
      "source": [
        "for cluster in range(model.n_clusters):\n",
        "    print(f\"Cluster {cluster} sample:\", *cluster_df[cluster_df['cluster'] == cluster].sample(10)['event'].values)"
      ]
    },
    {
      "cell_type": "markdown",
      "metadata": {
        "id": "QHjNGY8vXD9N"
      },
      "source": [
        "На первый взгляд выделяющихся кластеров для litbank нет."
      ]
    },
    {
      "cell_type": "markdown",
      "metadata": {
        "id": "PMYxZfjbXD9N"
      },
      "source": [
        "**multinerd**"
      ]
    },
    {
      "cell_type": "code",
      "execution_count": null,
      "metadata": {
        "id": "UAXTpMvSXD9N"
      },
      "outputs": [],
      "source": [
        "events = df[df['Label'] == \"EVE\"]['Token'].values\n",
        "\n",
        "embedded = []\n",
        "presented_events = []\n",
        "for event in events:\n",
        "    if event in w2v:\n",
        "        presented_events.append(event)\n",
        "        embedded.append(w2v[event])\n",
        "embedded = np.array(embedded)"
      ]
    },
    {
      "cell_type": "code",
      "execution_count": null,
      "metadata": {
        "id": "hWMdqZFVXD9O"
      },
      "outputs": [],
      "source": [
        "model = KMeans()\n",
        "model.fit(embedded)\n",
        "cluster_df = pd.DataFrame({\"event\" : presented_events, \"cluster\" : model.labels_})"
      ]
    },
    {
      "cell_type": "code",
      "execution_count": null,
      "metadata": {
        "id": "mS7ioMGoXD9O",
        "outputId": "899bc778-4bb4-4c1f-f822-bb930c44ff96"
      },
      "outputs": [
        {
          "name": "stdout",
          "output_type": "stream",
          "text": [
            "Cluster 0 sample: Superleague CONCACAF Masters PSL Lottery ICC Medibank FIA Taekwondo Euroleague\n",
            "Cluster 1 sample: Seven Nine Two Three Thirty Half Twenty Eighty One Six\n",
            "Cluster 2 sample: Swiss Australian Danish Haitian Russian Iranian Afghan Liberian Canadian Congo\n",
            "Cluster 3 sample: Series Shield Draft Best Doors Club Clockwork Slamdance Choice List\n",
            "Cluster 4 sample: Kohima Ordina Rotterdam Pattaya Lübeck Luxembourg von Fes Zealand Asia\n",
            "Cluster 5 sample: Rican Apertura Torneo Commune Telcel Los España Coppa Sud Antonio\n",
            "Cluster 6 sample: Revolution Wars Patriotic Bloody Kapyong Servile Riot Guadalcanal Coalition Normandy\n",
            "Cluster 7 sample: Midway Boer River Mercury A Mountain Desert June Springs Petitcodiac\n"
          ]
        }
      ],
      "source": [
        "for cluster in range(model.n_clusters):\n",
        "    print(f\"Cluster {cluster} sample:\", *cluster_df[cluster_df['cluster'] == cluster].sample(10)['event'].values)"
      ]
    },
    {
      "cell_type": "markdown",
      "metadata": {
        "id": "yL_uAlV5XD9O"
      },
      "source": [
        "Для multinerd кластеры выраженнее, в кластере 0 представлены спортивные дисциплины, в 4 - наименования различных лиг и федераций, в 5 - страны и города, в 6 - принадлежность к странам."
      ]
    },
    {
      "cell_type": "markdown",
      "metadata": {
        "id": "JVC24tkEXD9O"
      },
      "source": [
        "**Визуализация кластеров**"
      ]
    },
    {
      "cell_type": "code",
      "execution_count": null,
      "metadata": {
        "id": "BOfU0XENXD9O"
      },
      "outputs": [],
      "source": [
        "from sklearn.manifold import TSNE\n",
        "\n",
        "events = list(count_events(events_folder_path).keys())\n",
        "\n",
        "embedded = []\n",
        "presented_events = []\n",
        "for event in events:\n",
        "    if event in w2v:\n",
        "        presented_events.append(event)\n",
        "        embedded.append(w2v[event])\n",
        "embedded = np.array(embedded)\n",
        "\n",
        "model = KMeans()\n",
        "model.fit(embedded)\n",
        "cluster_df = pd.DataFrame({\"event\" : presented_events, \"cluster\" : model.labels_})\n",
        "\n",
        "tsne = TSNE(n_components=2, random_state=0)\n",
        "top_words_tsne = tsne.fit_transform(embedded)"
      ]
    },
    {
      "cell_type": "code",
      "execution_count": null,
      "metadata": {
        "id": "sUNzrjbDXD9P"
      },
      "outputs": [],
      "source": [
        "colors = ['red', 'yellow', 'green', 'pink', 'black', 'gray', 'blue', 'brown']\n",
        "\n",
        "def to_colors(label):\n",
        "    return colors[label]\n",
        "\n",
        "to_colors = np.vectorize(to_colors)"
      ]
    },
    {
      "cell_type": "code",
      "execution_count": null,
      "metadata": {
        "id": "61Q0Lo-FXD9P",
        "outputId": "2bfa0690-92ff-4901-b2cd-49ce5ea36c73"
      },
      "outputs": [
        {
          "data": {
            "text/html": [
              "\n",
              "    <div class=\"bk-root\">\n",
              "        <a href=\"https://bokeh.org\" target=\"_blank\" class=\"bk-logo bk-logo-small bk-logo-notebook\"></a>\n",
              "        <span id=\"1002\">Loading BokehJS ...</span>\n",
              "    </div>"
            ]
          },
          "metadata": {},
          "output_type": "display_data"
        },
        {
          "data": {
            "application/javascript": "\n(function(root) {\n  function now() {\n    return new Date();\n  }\n\n  var force = true;\n\n  if (typeof root._bokeh_onload_callbacks === \"undefined\" || force === true) {\n    root._bokeh_onload_callbacks = [];\n    root._bokeh_is_loading = undefined;\n  }\n\n  var JS_MIME_TYPE = 'application/javascript';\n  var HTML_MIME_TYPE = 'text/html';\n  var EXEC_MIME_TYPE = 'application/vnd.bokehjs_exec.v0+json';\n  var CLASS_NAME = 'output_bokeh rendered_html';\n\n  /**\n   * Render data to the DOM node\n   */\n  function render(props, node) {\n    var script = document.createElement(\"script\");\n    node.appendChild(script);\n  }\n\n  /**\n   * Handle when an output is cleared or removed\n   */\n  function handleClearOutput(event, handle) {\n    var cell = handle.cell;\n\n    var id = cell.output_area._bokeh_element_id;\n    var server_id = cell.output_area._bokeh_server_id;\n    // Clean up Bokeh references\n    if (id != null && id in Bokeh.index) {\n      Bokeh.index[id].model.document.clear();\n      delete Bokeh.index[id];\n    }\n\n    if (server_id !== undefined) {\n      // Clean up Bokeh references\n      var cmd = \"from bokeh.io.state import curstate; print(curstate().uuid_to_server['\" + server_id + \"'].get_sessions()[0].document.roots[0]._id)\";\n      cell.notebook.kernel.execute(cmd, {\n        iopub: {\n          output: function(msg) {\n            var id = msg.content.text.trim();\n            if (id in Bokeh.index) {\n              Bokeh.index[id].model.document.clear();\n              delete Bokeh.index[id];\n            }\n          }\n        }\n      });\n      // Destroy server and session\n      var cmd = \"import bokeh.io.notebook as ion; ion.destroy_server('\" + server_id + \"')\";\n      cell.notebook.kernel.execute(cmd);\n    }\n  }\n\n  /**\n   * Handle when a new output is added\n   */\n  function handleAddOutput(event, handle) {\n    var output_area = handle.output_area;\n    var output = handle.output;\n\n    // limit handleAddOutput to display_data with EXEC_MIME_TYPE content only\n    if ((output.output_type != \"display_data\") || (!Object.prototype.hasOwnProperty.call(output.data, EXEC_MIME_TYPE))) {\n      return\n    }\n\n    var toinsert = output_area.element.find(\".\" + CLASS_NAME.split(' ')[0]);\n\n    if (output.metadata[EXEC_MIME_TYPE][\"id\"] !== undefined) {\n      toinsert[toinsert.length - 1].firstChild.textContent = output.data[JS_MIME_TYPE];\n      // store reference to embed id on output_area\n      output_area._bokeh_element_id = output.metadata[EXEC_MIME_TYPE][\"id\"];\n    }\n    if (output.metadata[EXEC_MIME_TYPE][\"server_id\"] !== undefined) {\n      var bk_div = document.createElement(\"div\");\n      bk_div.innerHTML = output.data[HTML_MIME_TYPE];\n      var script_attrs = bk_div.children[0].attributes;\n      for (var i = 0; i < script_attrs.length; i++) {\n        toinsert[toinsert.length - 1].firstChild.setAttribute(script_attrs[i].name, script_attrs[i].value);\n        toinsert[toinsert.length - 1].firstChild.textContent = bk_div.children[0].textContent\n      }\n      // store reference to server id on output_area\n      output_area._bokeh_server_id = output.metadata[EXEC_MIME_TYPE][\"server_id\"];\n    }\n  }\n\n  function register_renderer(events, OutputArea) {\n\n    function append_mime(data, metadata, element) {\n      // create a DOM node to render to\n      var toinsert = this.create_output_subarea(\n        metadata,\n        CLASS_NAME,\n        EXEC_MIME_TYPE\n      );\n      this.keyboard_manager.register_events(toinsert);\n      // Render to node\n      var props = {data: data, metadata: metadata[EXEC_MIME_TYPE]};\n      render(props, toinsert[toinsert.length - 1]);\n      element.append(toinsert);\n      return toinsert\n    }\n\n    /* Handle when an output is cleared or removed */\n    events.on('clear_output.CodeCell', handleClearOutput);\n    events.on('delete.Cell', handleClearOutput);\n\n    /* Handle when a new output is added */\n    events.on('output_added.OutputArea', handleAddOutput);\n\n    /**\n     * Register the mime type and append_mime function with output_area\n     */\n    OutputArea.prototype.register_mime_type(EXEC_MIME_TYPE, append_mime, {\n      /* Is output safe? */\n      safe: true,\n      /* Index of renderer in `output_area.display_order` */\n      index: 0\n    });\n  }\n\n  // register the mime type if in Jupyter Notebook environment and previously unregistered\n  if (root.Jupyter !== undefined) {\n    var events = require('base/js/events');\n    var OutputArea = require('notebook/js/outputarea').OutputArea;\n\n    if (OutputArea.prototype.mime_types().indexOf(EXEC_MIME_TYPE) == -1) {\n      register_renderer(events, OutputArea);\n    }\n  }\n\n  \n  if (typeof (root._bokeh_timeout) === \"undefined\" || force === true) {\n    root._bokeh_timeout = Date.now() + 5000;\n    root._bokeh_failed_load = false;\n  }\n\n  var NB_LOAD_WARNING = {'data': {'text/html':\n     \"<div style='background-color: #fdd'>\\n\"+\n     \"<p>\\n\"+\n     \"BokehJS does not appear to have successfully loaded. If loading BokehJS from CDN, this \\n\"+\n     \"may be due to a slow or bad network connection. Possible fixes:\\n\"+\n     \"</p>\\n\"+\n     \"<ul>\\n\"+\n     \"<li>re-rerun `output_notebook()` to attempt to load from CDN again, or</li>\\n\"+\n     \"<li>use INLINE resources instead, as so:</li>\\n\"+\n     \"</ul>\\n\"+\n     \"<code>\\n\"+\n     \"from bokeh.resources import INLINE\\n\"+\n     \"output_notebook(resources=INLINE)\\n\"+\n     \"</code>\\n\"+\n     \"</div>\"}};\n\n  function display_loaded() {\n    var el = document.getElementById(\"1002\");\n    if (el != null) {\n      el.textContent = \"BokehJS is loading...\";\n    }\n    if (root.Bokeh !== undefined) {\n      if (el != null) {\n        el.textContent = \"BokehJS \" + root.Bokeh.version + \" successfully loaded.\";\n      }\n    } else if (Date.now() < root._bokeh_timeout) {\n      setTimeout(display_loaded, 100)\n    }\n  }\n\n\n  function run_callbacks() {\n    try {\n      root._bokeh_onload_callbacks.forEach(function(callback) {\n        if (callback != null)\n          callback();\n      });\n    } finally {\n      delete root._bokeh_onload_callbacks\n    }\n    console.debug(\"Bokeh: all callbacks have finished\");\n  }\n\n  function load_libs(css_urls, js_urls, callback) {\n    if (css_urls == null) css_urls = [];\n    if (js_urls == null) js_urls = [];\n\n    root._bokeh_onload_callbacks.push(callback);\n    if (root._bokeh_is_loading > 0) {\n      console.debug(\"Bokeh: BokehJS is being loaded, scheduling callback at\", now());\n      return null;\n    }\n    if (js_urls == null || js_urls.length === 0) {\n      run_callbacks();\n      return null;\n    }\n    console.debug(\"Bokeh: BokehJS not loaded, scheduling load and callback at\", now());\n    root._bokeh_is_loading = css_urls.length + js_urls.length;\n\n    function on_load() {\n      root._bokeh_is_loading--;\n      if (root._bokeh_is_loading === 0) {\n        console.debug(\"Bokeh: all BokehJS libraries/stylesheets loaded\");\n        run_callbacks()\n      }\n    }\n\n    function on_error(url) {\n      console.error(\"failed to load \" + url);\n    }\n\n    for (let i = 0; i < css_urls.length; i++) {\n      const url = css_urls[i];\n      const element = document.createElement(\"link\");\n      element.onload = on_load;\n      element.onerror = on_error.bind(null, url);\n      element.rel = \"stylesheet\";\n      element.type = \"text/css\";\n      element.href = url;\n      console.debug(\"Bokeh: injecting link tag for BokehJS stylesheet: \", url);\n      document.body.appendChild(element);\n    }\n\n    const hashes = {\"https://cdn.bokeh.org/bokeh/release/bokeh-2.3.2.min.js\": \"XypntL49z55iwGVUW4qsEu83zKL3XEcz0MjuGOQ9SlaaQ68X/g+k1FcioZi7oQAc\", \"https://cdn.bokeh.org/bokeh/release/bokeh-tables-2.3.2.min.js\": \"bEsM86IHGDTLCS0Zod8a8WM6Y4+lafAL/eSiyQcuPzinmWNgNO2/olUF0Z2Dkn5i\", \"https://cdn.bokeh.org/bokeh/release/bokeh-widgets-2.3.2.min.js\": \"TX0gSQTdXTTeScqxj6PVQxTiRW8DOoGVwinyi1D3kxv7wuxQ02XkOxv0xwiypcAH\"};\n\n    for (let i = 0; i < js_urls.length; i++) {\n      const url = js_urls[i];\n      const element = document.createElement('script');\n      element.onload = on_load;\n      element.onerror = on_error.bind(null, url);\n      element.async = false;\n      element.src = url;\n      if (url in hashes) {\n        element.crossOrigin = \"anonymous\";\n        element.integrity = \"sha384-\" + hashes[url];\n      }\n      console.debug(\"Bokeh: injecting script tag for BokehJS library: \", url);\n      document.head.appendChild(element);\n    }\n  };\n\n  function inject_raw_css(css) {\n    const element = document.createElement(\"style\");\n    element.appendChild(document.createTextNode(css));\n    document.body.appendChild(element);\n  }\n\n  \n  var js_urls = [\"https://cdn.bokeh.org/bokeh/release/bokeh-2.3.2.min.js\", \"https://cdn.bokeh.org/bokeh/release/bokeh-widgets-2.3.2.min.js\", \"https://cdn.bokeh.org/bokeh/release/bokeh-tables-2.3.2.min.js\"];\n  var css_urls = [];\n  \n\n  var inline_js = [\n    function(Bokeh) {\n      Bokeh.set_log_level(\"info\");\n    },\n    function(Bokeh) {\n    \n    \n    }\n  ];\n\n  function run_inline_js() {\n    \n    if (root.Bokeh !== undefined || force === true) {\n      \n    for (var i = 0; i < inline_js.length; i++) {\n      inline_js[i].call(root, root.Bokeh);\n    }\n    if (force === true) {\n        display_loaded();\n      }} else if (Date.now() < root._bokeh_timeout) {\n      setTimeout(run_inline_js, 100);\n    } else if (!root._bokeh_failed_load) {\n      console.log(\"Bokeh: BokehJS failed to load within specified timeout.\");\n      root._bokeh_failed_load = true;\n    } else if (force !== true) {\n      var cell = $(document.getElementById(\"1002\")).parents('.cell').data().cell;\n      cell.output_area.append_execute_result(NB_LOAD_WARNING)\n    }\n\n  }\n\n  if (root._bokeh_is_loading === 0) {\n    console.debug(\"Bokeh: BokehJS loaded, going straight to plotting\");\n    run_inline_js();\n  } else {\n    load_libs(css_urls, js_urls, function() {\n      console.debug(\"Bokeh: BokehJS plotting callback run at\", now());\n      run_inline_js();\n    });\n  }\n}(window));",
            "application/vnd.bokehjs_load.v0+json": ""
          },
          "metadata": {},
          "output_type": "display_data"
        },
        {
          "data": {
            "text/html": [
              "\n",
              "\n",
              "\n",
              "\n",
              "\n",
              "\n",
              "  <div class=\"bk-root\" id=\"fd4c25f5-eb3a-42ea-a50b-dfa51124a3a4\" data-root-id=\"1003\"></div>\n"
            ]
          },
          "metadata": {},
          "output_type": "display_data"
        },
        {
          "data": {
            "application/javascript": "(function(root) {\n  function embed_document(root) {\n    \n  var docs_json = {\"7fc29dda-cb5b-4077-ba4c-aff4de8d4671\":{\"defs\":[],\"roots\":{\"references\":[{\"attributes\":{\"below\":[{\"id\":\"1014\"}],\"center\":[{\"id\":\"1017\"},{\"id\":\"1021\"},{\"id\":\"1037\"}],\"left\":[{\"id\":\"1018\"}],\"renderers\":[{\"id\":\"1035\"}],\"title\":{\"id\":\"1004\"},\"toolbar\":{\"id\":\"1026\"},\"toolbar_location\":\"above\",\"x_range\":{\"id\":\"1006\"},\"x_scale\":{\"id\":\"1010\"},\"y_range\":{\"id\":\"1008\"},\"y_scale\":{\"id\":\"1012\"}},\"id\":\"1003\",\"subtype\":\"Figure\",\"type\":\"Plot\"},{\"attributes\":{},\"id\":\"1047\",\"type\":\"Selection\"},{\"attributes\":{},\"id\":\"1042\",\"type\":\"AllLabels\"},{\"attributes\":{\"fill_color\":{\"field\":\"color\"},\"line_color\":{\"field\":\"color\"},\"size\":{\"value\":8},\"x\":{\"field\":\"x1\"},\"y\":{\"field\":\"x2\"}},\"id\":\"1033\",\"type\":\"Scatter\"},{\"attributes\":{},\"id\":\"1046\",\"type\":\"UnionRenderers\"},{\"attributes\":{},\"id\":\"1006\",\"type\":\"DataRange1d\"},{\"attributes\":{},\"id\":\"1010\",\"type\":\"LinearScale\"},{\"attributes\":{\"source\":{\"id\":\"1031\"},\"text\":{\"field\":\"names\"},\"text_align\":{\"value\":\"center\"},\"text_color\":{\"value\":\"#555555\"},\"text_font_size\":{\"value\":\"8pt\"},\"x\":{\"field\":\"x1\"},\"y\":{\"field\":\"x2\"},\"y_offset\":{\"value\":6}},\"id\":\"1037\",\"type\":\"LabelSet\"},{\"attributes\":{\"formatter\":{\"id\":\"1043\"},\"major_label_policy\":{\"id\":\"1045\"},\"ticker\":{\"id\":\"1015\"}},\"id\":\"1014\",\"type\":\"LinearAxis\"},{\"attributes\":{\"text\":\"clusters\"},\"id\":\"1004\",\"type\":\"Title\"},{\"attributes\":{},\"id\":\"1012\",\"type\":\"LinearScale\"},{\"attributes\":{\"formatter\":{\"id\":\"1040\"},\"major_label_policy\":{\"id\":\"1042\"},\"ticker\":{\"id\":\"1019\"}},\"id\":\"1018\",\"type\":\"LinearAxis\"},{\"attributes\":{},\"id\":\"1008\",\"type\":\"DataRange1d\"},{\"attributes\":{},\"id\":\"1045\",\"type\":\"AllLabels\"},{\"attributes\":{},\"id\":\"1015\",\"type\":\"BasicTicker\"},{\"attributes\":{\"axis\":{\"id\":\"1014\"},\"ticker\":null},\"id\":\"1017\",\"type\":\"Grid\"},{\"attributes\":{},\"id\":\"1043\",\"type\":\"BasicTickFormatter\"},{\"attributes\":{\"fill_alpha\":{\"value\":0.1},\"fill_color\":{\"field\":\"color\"},\"line_alpha\":{\"value\":0.1},\"line_color\":{\"field\":\"color\"},\"size\":{\"value\":8},\"x\":{\"field\":\"x1\"},\"y\":{\"field\":\"x2\"}},\"id\":\"1034\",\"type\":\"Scatter\"},{\"attributes\":{\"axis\":{\"id\":\"1018\"},\"dimension\":1,\"ticker\":null},\"id\":\"1021\",\"type\":\"Grid\"},{\"attributes\":{},\"id\":\"1019\",\"type\":\"BasicTicker\"},{\"attributes\":{},\"id\":\"1040\",\"type\":\"BasicTickFormatter\"},{\"attributes\":{\"data\":{\"color\":[\"blue\",\"blue\",\"black\",\"black\",\"black\",\"black\",\"green\",\"black\",\"black\",\"blue\",\"blue\",\"green\",\"green\",\"black\",\"black\",\"blue\",\"blue\",\"black\",\"black\",\"green\",\"green\",\"blue\",\"green\",\"gray\",\"red\",\"gray\",\"black\",\"black\",\"black\",\"yellow\",\"brown\",\"green\",\"green\",\"green\",\"blue\",\"pink\",\"gray\",\"gray\",\"black\",\"brown\",\"gray\",\"green\",\"green\",\"black\",\"red\",\"gray\",\"gray\",\"gray\",\"green\",\"green\",\"green\",\"blue\",\"green\",\"black\",\"gray\",\"gray\",\"red\",\"green\",\"gray\",\"blue\",\"gray\",\"gray\",\"yellow\",\"gray\",\"yellow\",\"green\",\"blue\",\"gray\",\"black\",\"gray\",\"gray\",\"gray\",\"gray\",\"gray\",\"gray\",\"gray\",\"green\",\"gray\",\"yellow\",\"green\",\"green\",\"gray\",\"blue\",\"green\",\"green\",\"green\",\"pink\",\"green\",\"blue\",\"blue\",\"blue\",\"blue\",\"blue\",\"blue\",\"blue\",\"gray\",\"blue\",\"pink\",\"pink\",\"black\",\"black\",\"green\",\"brown\",\"blue\",\"brown\",\"green\",\"gray\",\"brown\",\"green\",\"blue\",\"blue\",\"brown\",\"green\",\"black\",\"yellow\",\"blue\",\"gray\",\"green\",\"green\",\"brown\",\"gray\",\"blue\",\"green\",\"pink\",\"green\",\"green\",\"blue\",\"brown\",\"red\",\"red\",\"red\",\"red\",\"red\",\"gray\",\"green\",\"pink\",\"brown\",\"yellow\",\"brown\",\"red\",\"blue\",\"yellow\",\"gray\",\"green\",\"green\",\"gray\",\"blue\",\"pink\",\"blue\",\"gray\",\"pink\",\"brown\",\"gray\",\"green\",\"yellow\",\"blue\",\"black\",\"green\",\"yellow\",\"pink\",\"yellow\",\"pink\",\"brown\",\"yellow\",\"gray\",\"pink\",\"red\",\"red\",\"green\",\"black\",\"green\",\"gray\",\"black\",\"yellow\",\"black\",\"yellow\",\"green\",\"red\",\"green\",\"gray\",\"pink\",\"pink\",\"black\",\"gray\",\"gray\",\"black\",\"gray\",\"yellow\",\"green\",\"green\",\"yellow\",\"red\",\"green\",\"pink\",\"yellow\",\"green\",\"gray\",\"green\",\"gray\",\"green\",\"red\",\"yellow\",\"green\",\"green\",\"gray\",\"red\",\"gray\",\"blue\",\"yellow\",\"blue\",\"yellow\",\"brown\",\"green\",\"yellow\",\"green\",\"red\",\"pink\",\"black\",\"gray\",\"green\",\"green\",\"green\",\"gray\",\"green\",\"gray\",\"gray\",\"gray\",\"blue\",\"brown\",\"red\",\"pink\",\"yellow\",\"pink\",\"pink\",\"pink\",\"green\",\"yellow\",\"black\",\"yellow\",\"brown\",\"black\",\"yellow\",\"black\",\"pink\",\"gray\",\"yellow\",\"yellow\",\"gray\",\"brown\",\"green\",\"brown\",\"pink\",\"brown\",\"pink\",\"brown\",\"pink\",\"blue\",\"red\",\"brown\",\"gray\",\"green\",\"black\",\"pink\",\"red\",\"gray\",\"pink\",\"blue\",\"pink\",\"pink\",\"pink\",\"blue\",\"pink\",\"gray\",\"yellow\",\"brown\",\"blue\",\"green\",\"brown\",\"gray\",\"yellow\",\"blue\",\"black\",\"black\",\"brown\",\"black\",\"black\",\"pink\",\"pink\",\"yellow\",\"gray\",\"brown\",\"green\",\"brown\",\"black\",\"yellow\",\"brown\",\"brown\",\"brown\",\"black\",\"pink\",\"yellow\",\"green\",\"gray\",\"pink\",\"black\",\"pink\",\"yellow\",\"pink\",\"green\",\"green\",\"yellow\",\"black\",\"brown\",\"gray\",\"gray\",\"yellow\",\"pink\",\"gray\",\"gray\",\"green\",\"green\",\"green\",\"pink\",\"gray\",\"black\",\"yellow\",\"red\",\"red\",\"pink\",\"gray\",\"yellow\",\"gray\",\"brown\",\"brown\",\"pink\",\"yellow\",\"yellow\",\"gray\",\"gray\",\"black\",\"red\",\"brown\",\"pink\",\"gray\",\"gray\",\"yellow\",\"blue\",\"pink\",\"green\",\"gray\",\"gray\",\"gray\",\"gray\",\"green\",\"green\",\"green\",\"green\",\"black\",\"gray\",\"green\",\"yellow\",\"yellow\",\"green\",\"gray\",\"pink\",\"gray\",\"gray\",\"yellow\",\"gray\",\"gray\",\"gray\",\"red\",\"yellow\",\"pink\",\"black\",\"yellow\",\"yellow\",\"gray\",\"pink\",\"gray\",\"pink\",\"blue\",\"black\",\"yellow\",\"yellow\",\"red\",\"pink\",\"green\",\"gray\",\"gray\",\"gray\",\"yellow\",\"green\",\"yellow\",\"blue\",\"pink\",\"blue\",\"black\",\"yellow\",\"gray\",\"pink\",\"yellow\",\"yellow\",\"blue\",\"black\",\"gray\",\"gray\",\"pink\",\"brown\",\"yellow\",\"green\",\"black\",\"gray\",\"pink\",\"pink\",\"gray\",\"pink\",\"gray\",\"green\",\"brown\",\"red\",\"green\",\"pink\",\"gray\",\"pink\",\"pink\",\"gray\",\"blue\",\"black\",\"blue\",\"brown\",\"green\",\"gray\",\"green\",\"blue\",\"brown\",\"yellow\",\"blue\",\"brown\",\"red\",\"brown\",\"yellow\",\"blue\",\"black\",\"gray\",\"black\",\"gray\",\"black\",\"yellow\",\"gray\",\"gray\",\"pink\",\"pink\",\"gray\",\"yellow\",\"brown\",\"yellow\",\"black\",\"yellow\",\"green\",\"red\",\"yellow\",\"yellow\",\"green\",\"brown\",\"pink\",\"yellow\",\"red\",\"blue\",\"red\",\"green\",\"green\",\"yellow\",\"black\",\"green\",\"brown\",\"black\",\"pink\",\"yellow\",\"green\",\"yellow\",\"pink\",\"green\",\"yellow\",\"gray\",\"yellow\",\"pink\",\"green\",\"black\",\"green\",\"yellow\",\"yellow\",\"pink\",\"gray\",\"brown\",\"red\",\"yellow\",\"yellow\",\"red\",\"yellow\",\"black\",\"pink\",\"gray\",\"pink\",\"red\",\"red\",\"gray\",\"blue\",\"green\",\"blue\",\"gray\",\"gray\",\"gray\",\"black\",\"yellow\",\"pink\",\"yellow\",\"gray\",\"pink\",\"yellow\",\"gray\",\"black\",\"red\",\"brown\",\"red\",\"red\",\"green\",\"black\",\"gray\",\"gray\",\"yellow\",\"black\",\"yellow\",\"gray\",\"green\",\"gray\",\"gray\",\"black\",\"yellow\",\"gray\",\"gray\",\"black\",\"gray\",\"gray\",\"black\",\"red\",\"green\",\"blue\",\"black\",\"blue\",\"blue\",\"gray\",\"gray\",\"green\",\"green\",\"gray\",\"gray\",\"blue\",\"black\",\"green\",\"gray\",\"black\",\"pink\",\"black\",\"yellow\",\"brown\",\"red\",\"green\",\"red\",\"black\",\"yellow\",\"pink\",\"black\",\"red\",\"black\",\"gray\",\"yellow\",\"red\",\"green\",\"brown\",\"green\",\"black\",\"black\",\"gray\",\"red\",\"blue\",\"red\",\"green\",\"brown\",\"black\",\"pink\",\"green\",\"green\",\"blue\",\"gray\",\"gray\",\"gray\",\"green\",\"green\",\"yellow\",\"red\",\"red\",\"gray\",\"pink\",\"green\",\"red\",\"black\",\"gray\",\"pink\",\"gray\",\"gray\",\"gray\",\"black\",\"brown\",\"yellow\",\"red\",\"red\",\"red\",\"blue\",\"blue\",\"green\",\"blue\",\"brown\",\"gray\",\"brown\",\"blue\",\"pink\",\"yellow\",\"black\",\"gray\",\"red\",\"blue\",\"green\",\"red\",\"black\",\"gray\",\"gray\",\"yellow\",\"green\",\"green\",\"green\",\"black\",\"green\",\"black\",\"yellow\",\"red\",\"blue\",\"yellow\",\"gray\",\"blue\",\"pink\",\"blue\",\"yellow\",\"green\",\"red\",\"blue\",\"red\",\"green\",\"gray\",\"green\",\"red\",\"brown\",\"green\",\"black\",\"gray\",\"red\",\"red\",\"brown\",\"black\",\"yellow\",\"yellow\",\"black\",\"brown\",\"gray\",\"yellow\",\"brown\",\"yellow\",\"gray\",\"black\",\"green\",\"yellow\",\"pink\",\"red\",\"green\",\"green\",\"black\",\"gray\",\"pink\",\"brown\",\"pink\",\"black\",\"green\",\"brown\",\"red\",\"blue\",\"gray\",\"blue\",\"green\",\"gray\",\"gray\",\"gray\",\"blue\",\"brown\",\"gray\",\"pink\",\"gray\",\"brown\",\"gray\",\"black\",\"green\",\"brown\",\"pink\",\"black\",\"pink\",\"pink\",\"green\",\"yellow\",\"pink\",\"pink\",\"yellow\",\"yellow\",\"green\",\"black\",\"blue\",\"red\",\"green\",\"blue\",\"brown\",\"pink\",\"pink\",\"blue\",\"blue\",\"pink\",\"pink\",\"green\",\"brown\",\"yellow\",\"yellow\",\"yellow\",\"yellow\",\"blue\",\"brown\",\"pink\",\"pink\",\"blue\",\"black\",\"pink\",\"black\",\"blue\",\"brown\",\"pink\",\"red\",\"black\",\"pink\",\"gray\",\"brown\",\"pink\",\"blue\",\"black\",\"yellow\",\"green\",\"brown\",\"black\",\"red\",\"pink\",\"blue\",\"blue\",\"green\",\"brown\",\"brown\",\"yellow\",\"yellow\",\"yellow\",\"yellow\",\"yellow\",\"blue\",\"black\",\"blue\",\"yellow\",\"brown\",\"black\",\"green\",\"brown\",\"pink\",\"pink\",\"brown\",\"brown\",\"gray\",\"red\",\"pink\",\"blue\",\"green\",\"red\",\"pink\",\"pink\",\"black\",\"yellow\",\"gray\",\"pink\",\"yellow\",\"blue\",\"blue\",\"green\",\"gray\",\"green\",\"yellow\",\"yellow\",\"green\",\"green\",\"black\",\"yellow\",\"red\",\"green\",\"yellow\",\"black\",\"green\",\"blue\",\"gray\",\"pink\",\"gray\",\"black\",\"green\",\"red\",\"gray\",\"green\",\"red\",\"green\",\"red\",\"green\",\"red\",\"yellow\",\"red\",\"red\",\"black\",\"green\",\"brown\",\"red\",\"blue\",\"pink\",\"green\",\"brown\",\"red\",\"red\",\"brown\",\"gray\",\"pink\",\"gray\",\"gray\",\"gray\",\"gray\",\"gray\",\"gray\",\"pink\",\"yellow\",\"blue\",\"gray\",\"red\",\"gray\",\"green\",\"gray\",\"gray\",\"green\",\"gray\",\"green\",\"gray\",\"gray\",\"blue\",\"green\",\"yellow\",\"red\",\"pink\",\"green\",\"blue\",\"green\",\"red\",\"yellow\",\"blue\",\"red\",\"red\",\"green\",\"black\",\"brown\",\"green\",\"black\",\"gray\",\"black\",\"blue\",\"green\",\"brown\",\"green\",\"blue\",\"blue\",\"green\",\"brown\",\"black\",\"green\",\"brown\",\"black\",\"green\",\"gray\",\"yellow\",\"gray\",\"red\",\"brown\",\"pink\",\"blue\",\"yellow\",\"brown\",\"green\",\"yellow\",\"yellow\",\"black\",\"black\",\"pink\",\"pink\",\"yellow\",\"yellow\",\"brown\",\"yellow\",\"pink\",\"pink\",\"black\",\"pink\",\"gray\",\"green\",\"blue\",\"black\",\"pink\",\"yellow\",\"green\",\"blue\",\"pink\",\"red\",\"black\",\"gray\",\"yellow\",\"gray\",\"blue\",\"gray\",\"brown\",\"red\",\"black\",\"red\",\"red\",\"black\",\"green\",\"red\",\"green\",\"black\",\"green\",\"gray\",\"green\",\"gray\",\"pink\",\"yellow\",\"blue\",\"green\",\"yellow\",\"gray\",\"green\",\"pink\",\"yellow\",\"pink\",\"gray\",\"green\",\"green\",\"blue\",\"black\",\"yellow\",\"green\",\"green\",\"red\",\"blue\",\"gray\",\"gray\",\"green\",\"green\",\"gray\",\"brown\",\"brown\",\"blue\",\"green\",\"pink\",\"green\",\"yellow\",\"black\",\"gray\",\"blue\",\"brown\",\"yellow\",\"blue\",\"red\",\"blue\",\"red\",\"gray\",\"black\",\"green\",\"gray\",\"green\",\"pink\",\"pink\",\"black\",\"pink\",\"blue\",\"red\",\"red\",\"green\",\"pink\",\"red\",\"yellow\",\"yellow\",\"red\",\"black\",\"pink\",\"gray\",\"green\",\"blue\",\"green\",\"blue\",\"brown\",\"gray\",\"gray\",\"green\",\"green\",\"gray\",\"black\",\"black\",\"brown\",\"blue\",\"blue\",\"blue\",\"green\",\"green\",\"black\",\"black\",\"red\",\"brown\",\"red\",\"black\",\"gray\",\"blue\",\"pink\",\"yellow\",\"red\",\"yellow\",\"gray\",\"gray\",\"black\",\"yellow\",\"brown\",\"blue\",\"gray\",\"red\",\"blue\",\"black\",\"black\",\"yellow\",\"gray\",\"brown\",\"gray\",\"gray\",\"green\",\"green\",\"yellow\",\"gray\",\"green\",\"yellow\",\"black\",\"gray\",\"pink\",\"blue\",\"brown\",\"green\",\"yellow\",\"pink\",\"green\",\"green\",\"red\",\"pink\",\"blue\",\"black\",\"green\",\"yellow\",\"yellow\",\"black\",\"blue\",\"green\",\"pink\",\"brown\",\"gray\",\"green\",\"black\",\"black\",\"blue\",\"red\",\"black\",\"green\",\"green\",\"yellow\",\"gray\",\"green\",\"black\",\"green\",\"gray\",\"brown\",\"brown\",\"blue\",\"black\",\"black\",\"green\",\"gray\",\"yellow\",\"yellow\",\"yellow\",\"yellow\",\"blue\",\"blue\",\"black\",\"black\",\"green\",\"blue\",\"gray\",\"gray\",\"gray\",\"pink\",\"black\",\"yellow\",\"gray\",\"gray\",\"yellow\",\"green\",\"blue\",\"gray\",\"black\",\"gray\",\"black\",\"black\",\"green\",\"black\",\"red\",\"black\",\"red\",\"gray\",\"yellow\",\"green\",\"green\",\"red\",\"red\",\"pink\",\"gray\",\"green\",\"red\",\"gray\",\"green\",\"green\",\"gray\",\"green\",\"green\",\"brown\",\"green\",\"gray\",\"red\",\"gray\",\"black\",\"green\",\"yellow\",\"brown\",\"gray\",\"brown\",\"red\",\"yellow\",\"red\",\"green\",\"gray\",\"red\",\"gray\",\"yellow\",\"yellow\",\"gray\",\"yellow\",\"blue\",\"green\",\"red\",\"black\",\"yellow\",\"green\",\"blue\",\"gray\",\"red\",\"gray\",\"black\",\"red\",\"pink\",\"green\",\"pink\",\"red\",\"brown\",\"gray\",\"blue\",\"gray\",\"pink\",\"brown\",\"red\",\"green\",\"pink\",\"black\",\"green\",\"yellow\",\"gray\",\"yellow\",\"gray\",\"green\",\"green\",\"pink\",\"yellow\",\"blue\",\"brown\",\"pink\",\"pink\",\"yellow\",\"gray\",\"pink\",\"gray\",\"gray\",\"green\",\"pink\",\"green\",\"yellow\",\"blue\",\"pink\",\"green\",\"gray\",\"gray\",\"gray\",\"yellow\",\"gray\",\"gray\",\"yellow\",\"red\",\"yellow\",\"green\",\"red\",\"gray\",\"gray\",\"gray\",\"gray\",\"green\",\"blue\",\"green\",\"brown\",\"black\",\"pink\",\"brown\",\"brown\",\"brown\",\"yellow\",\"brown\",\"pink\",\"green\",\"brown\",\"brown\",\"brown\",\"brown\",\"gray\",\"gray\",\"yellow\",\"pink\",\"green\",\"green\",\"black\",\"green\",\"blue\",\"black\",\"yellow\",\"pink\",\"blue\",\"green\",\"blue\",\"pink\",\"red\",\"red\",\"brown\",\"green\",\"brown\",\"black\",\"gray\",\"red\",\"yellow\",\"black\",\"yellow\",\"red\",\"gray\",\"yellow\",\"gray\",\"gray\",\"gray\",\"green\",\"brown\",\"gray\",\"brown\",\"black\",\"red\",\"black\",\"brown\",\"green\",\"green\",\"yellow\",\"green\",\"blue\",\"yellow\",\"blue\",\"yellow\",\"black\",\"red\",\"pink\",\"brown\",\"pink\",\"yellow\",\"red\",\"blue\",\"gray\",\"red\",\"pink\",\"green\",\"brown\",\"pink\",\"gray\",\"yellow\",\"pink\",\"yellow\",\"blue\",\"yellow\",\"pink\",\"yellow\",\"blue\",\"blue\",\"blue\",\"red\",\"pink\",\"yellow\",\"green\",\"black\",\"red\",\"gray\",\"pink\",\"brown\",\"black\",\"brown\",\"black\",\"pink\",\"pink\",\"green\",\"black\",\"blue\",\"brown\",\"gray\",\"gray\",\"gray\",\"black\",\"red\",\"red\",\"pink\",\"green\",\"blue\",\"black\",\"brown\",\"black\",\"pink\",\"yellow\",\"black\",\"green\",\"green\",\"red\",\"brown\",\"pink\",\"green\",\"pink\",\"black\",\"yellow\",\"yellow\",\"blue\",\"gray\",\"pink\",\"red\",\"green\",\"gray\",\"brown\",\"red\",\"gray\",\"pink\",\"gray\",\"yellow\",\"red\",\"brown\",\"yellow\",\"green\",\"pink\",\"yellow\",\"black\",\"gray\",\"black\",\"yellow\",\"red\",\"green\",\"brown\",\"green\",\"pink\",\"green\",\"blue\",\"gray\",\"pink\",\"black\",\"brown\",\"green\",\"brown\",\"green\",\"blue\",\"pink\",\"black\",\"green\",\"pink\",\"black\",\"green\",\"brown\",\"black\",\"green\",\"black\",\"green\",\"red\",\"yellow\",\"red\",\"green\",\"brown\",\"brown\",\"green\",\"green\",\"gray\",\"blue\",\"gray\",\"blue\",\"green\",\"black\",\"gray\",\"green\",\"blue\",\"red\",\"red\",\"brown\",\"red\",\"red\",\"green\",\"black\",\"red\",\"blue\",\"black\",\"black\",\"black\",\"black\",\"red\",\"green\",\"yellow\",\"red\",\"brown\",\"brown\",\"pink\",\"black\",\"black\",\"gray\",\"green\",\"black\",\"yellow\",\"black\",\"gray\",\"gray\",\"black\",\"gray\",\"green\",\"black\",\"green\",\"yellow\",\"green\",\"black\",\"blue\",\"green\",\"red\",\"green\",\"red\",\"green\",\"black\",\"blue\",\"red\",\"pink\",\"green\",\"yellow\",\"yellow\",\"yellow\",\"yellow\",\"black\",\"blue\",\"blue\",\"brown\",\"green\",\"green\",\"black\",\"red\",\"green\",\"gray\",\"black\",\"red\",\"yellow\",\"blue\",\"red\",\"green\",\"blue\",\"green\",\"red\",\"pink\",\"green\",\"yellow\",\"red\",\"green\",\"gray\",\"gray\",\"black\",\"blue\",\"green\",\"green\",\"green\",\"blue\",\"green\",\"blue\",\"green\",\"green\",\"black\",\"pink\",\"pink\",\"brown\",\"green\",\"green\",\"black\",\"yellow\",\"yellow\",\"gray\",\"green\",\"gray\",\"gray\",\"gray\",\"red\",\"black\",\"yellow\",\"pink\",\"gray\",\"yellow\",\"yellow\",\"pink\",\"red\",\"green\",\"pink\",\"green\",\"gray\",\"pink\",\"green\",\"green\",\"pink\",\"blue\",\"gray\",\"pink\",\"green\",\"gray\",\"gray\",\"green\",\"gray\",\"gray\",\"gray\",\"red\",\"red\",\"green\",\"red\",\"black\",\"gray\",\"green\",\"gray\",\"brown\",\"black\",\"pink\",\"black\",\"green\",\"pink\",\"brown\",\"brown\",\"green\",\"blue\",\"gray\",\"black\",\"pink\",\"brown\",\"pink\",\"black\",\"black\",\"black\",\"pink\",\"black\",\"blue\",\"green\",\"brown\",\"brown\",\"brown\",\"brown\",\"green\",\"brown\",\"blue\",\"green\",\"gray\",\"green\",\"gray\",\"green\",\"black\",\"green\",\"brown\",\"blue\",\"pink\",\"blue\",\"yellow\",\"brown\",\"brown\",\"blue\",\"blue\",\"red\",\"gray\",\"red\",\"black\",\"gray\",\"pink\",\"brown\",\"green\",\"blue\",\"gray\",\"green\",\"green\",\"brown\",\"blue\",\"yellow\",\"green\",\"green\",\"red\",\"yellow\",\"gray\",\"yellow\",\"brown\",\"brown\",\"brown\",\"yellow\",\"blue\",\"green\",\"gray\",\"yellow\",\"green\",\"pink\",\"green\",\"gray\",\"red\",\"green\",\"pink\",\"black\",\"pink\",\"green\",\"green\",\"blue\",\"red\",\"yellow\",\"blue\",\"red\",\"yellow\",\"green\",\"red\",\"green\",\"brown\",\"blue\",\"green\",\"gray\",\"blue\",\"red\",\"brown\",\"green\",\"blue\",\"green\",\"blue\",\"black\",\"blue\",\"blue\",\"blue\",\"black\",\"gray\",\"blue\",\"blue\",\"brown\",\"green\",\"gray\",\"pink\",\"green\",\"green\",\"black\",\"gray\",\"gray\",\"gray\",\"green\",\"pink\",\"blue\",\"pink\",\"gray\",\"gray\",\"gray\",\"blue\",\"gray\",\"yellow\",\"gray\",\"red\",\"gray\",\"red\",\"red\",\"green\",\"green\",\"green\",\"gray\",\"blue\",\"black\",\"pink\",\"red\",\"red\",\"green\",\"green\",\"green\",\"brown\",\"black\",\"green\",\"black\",\"green\",\"red\",\"blue\",\"red\",\"red\",\"gray\",\"gray\",\"pink\",\"blue\",\"gray\",\"green\",\"red\",\"gray\",\"gray\",\"green\",\"red\",\"yellow\",\"green\",\"blue\",\"green\",\"yellow\",\"black\",\"green\",\"brown\",\"gray\",\"green\",\"brown\",\"gray\",\"green\",\"brown\",\"brown\",\"black\",\"pink\",\"green\",\"black\",\"blue\",\"gray\",\"blue\",\"blue\",\"yellow\",\"gray\",\"blue\",\"blue\",\"blue\",\"blue\",\"yellow\",\"blue\",\"blue\",\"blue\",\"yellow\",\"brown\",\"blue\",\"red\",\"pink\",\"blue\",\"brown\",\"red\",\"gray\",\"blue\",\"green\",\"black\",\"brown\",\"green\",\"brown\",\"gray\",\"yellow\",\"green\",\"brown\",\"brown\",\"brown\",\"pink\",\"pink\",\"pink\",\"blue\",\"green\",\"green\",\"gray\",\"yellow\",\"brown\",\"green\",\"black\",\"pink\",\"black\",\"yellow\",\"black\",\"green\",\"blue\",\"yellow\",\"gray\",\"brown\",\"green\",\"gray\",\"brown\",\"black\",\"green\",\"yellow\",\"yellow\",\"pink\",\"green\",\"gray\",\"gray\",\"yellow\",\"red\",\"pink\",\"black\",\"green\",\"green\",\"gray\",\"red\",\"green\",\"gray\",\"brown\",\"gray\",\"green\",\"green\",\"black\",\"green\",\"red\",\"red\",\"red\",\"green\",\"green\",\"red\",\"gray\",\"red\",\"pink\",\"gray\",\"gray\",\"blue\",\"pink\",\"brown\",\"brown\",\"green\",\"black\",\"gray\",\"green\",\"blue\",\"red\",\"yellow\",\"black\",\"pink\",\"gray\",\"yellow\",\"gray\",\"pink\",\"pink\",\"blue\",\"black\",\"gray\",\"blue\",\"blue\",\"gray\",\"brown\",\"black\",\"black\",\"blue\",\"yellow\",\"black\",\"gray\",\"black\",\"brown\",\"black\",\"green\",\"yellow\",\"blue\",\"green\",\"green\",\"gray\",\"pink\",\"gray\",\"gray\",\"gray\",\"gray\",\"black\",\"red\",\"black\",\"pink\",\"gray\",\"blue\",\"green\",\"blue\",\"blue\",\"red\",\"yellow\",\"red\",\"pink\",\"pink\",\"black\",\"blue\",\"red\",\"pink\",\"blue\",\"blue\",\"blue\",\"pink\",\"black\",\"blue\",\"yellow\",\"brown\",\"green\",\"green\",\"green\",\"green\",\"green\",\"green\",\"yellow\",\"blue\",\"pink\",\"black\",\"green\",\"black\",\"pink\",\"brown\",\"green\",\"pink\",\"green\",\"green\",\"green\",\"red\",\"pink\",\"green\",\"gray\",\"yellow\",\"brown\",\"yellow\",\"brown\",\"yellow\",\"green\",\"blue\",\"gray\",\"gray\",\"blue\",\"blue\",\"blue\",\"yellow\",\"black\",\"yellow\",\"yellow\",\"gray\",\"black\",\"red\",\"brown\",\"blue\",\"brown\",\"black\",\"red\",\"yellow\",\"red\",\"red\",\"green\",\"red\",\"yellow\",\"green\",\"yellow\",\"yellow\",\"green\",\"black\",\"red\",\"yellow\",\"green\",\"blue\",\"green\",\"gray\",\"yellow\",\"blue\",\"pink\",\"green\",\"pink\",\"black\",\"brown\",\"gray\",\"black\",\"green\",\"green\",\"green\",\"black\",\"gray\",\"gray\",\"gray\",\"red\",\"pink\",\"gray\",\"blue\",\"pink\",\"red\",\"red\",\"black\",\"blue\",\"blue\",\"green\",\"yellow\",\"green\",\"gray\",\"gray\",\"green\",\"green\",\"gray\",\"black\",\"brown\",\"pink\",\"pink\",\"pink\",\"gray\",\"yellow\",\"blue\",\"blue\",\"black\",\"black\",\"green\",\"yellow\",\"black\",\"green\",\"brown\",\"blue\",\"pink\",\"blue\",\"gray\",\"black\",\"blue\",\"blue\",\"brown\",\"pink\",\"yellow\",\"pink\",\"pink\",\"green\",\"brown\",\"pink\",\"pink\",\"brown\",\"green\",\"yellow\",\"yellow\",\"green\",\"gray\",\"blue\",\"green\",\"black\",\"gray\",\"red\",\"brown\",\"red\",\"yellow\",\"gray\",\"green\",\"gray\",\"green\",\"black\",\"green\",\"gray\",\"red\",\"red\",\"red\",\"black\",\"black\",\"yellow\",\"black\",\"yellow\",\"red\",\"yellow\",\"red\",\"yellow\",\"gray\",\"yellow\",\"red\",\"red\",\"green\",\"yellow\",\"yellow\",\"red\",\"green\",\"brown\",\"red\",\"black\",\"green\",\"green\",\"yellow\",\"brown\",\"red\",\"gray\",\"green\",\"blue\",\"gray\",\"black\",\"red\",\"black\",\"blue\",\"green\",\"green\",\"black\",\"green\",\"yellow\",\"green\",\"green\",\"red\",\"red\",\"gray\",\"blue\",\"black\",\"black\",\"brown\",\"yellow\",\"green\",\"red\",\"green\",\"black\",\"blue\",\"yellow\",\"green\",\"gray\",\"gray\",\"gray\",\"black\",\"green\",\"blue\",\"pink\",\"black\",\"blue\",\"pink\",\"brown\",\"green\",\"brown\",\"green\",\"gray\",\"green\",\"pink\",\"blue\",\"blue\",\"blue\",\"green\",\"gray\",\"pink\",\"yellow\",\"brown\",\"gray\",\"blue\",\"gray\",\"gray\",\"black\",\"brown\",\"gray\",\"yellow\",\"red\",\"red\",\"yellow\",\"yellow\",\"pink\",\"green\",\"pink\",\"black\",\"red\",\"red\",\"pink\",\"blue\",\"red\",\"blue\",\"red\",\"brown\",\"gray\",\"black\",\"red\",\"green\",\"yellow\",\"green\",\"gray\",\"pink\",\"green\",\"green\",\"black\",\"blue\",\"green\",\"yellow\",\"black\",\"gray\",\"green\",\"red\",\"pink\",\"pink\",\"green\",\"black\",\"yellow\",\"green\",\"red\",\"yellow\",\"gray\",\"yellow\",\"gray\",\"gray\",\"yellow\",\"gray\",\"pink\",\"green\",\"gray\",\"gray\",\"green\",\"green\",\"green\",\"yellow\",\"yellow\",\"blue\",\"blue\",\"black\",\"brown\",\"green\",\"green\",\"gray\",\"yellow\",\"brown\",\"brown\",\"gray\",\"black\",\"yellow\",\"blue\",\"yellow\",\"gray\",\"red\",\"brown\",\"brown\",\"blue\",\"green\",\"green\",\"black\",\"black\",\"black\",\"brown\",\"blue\",\"gray\",\"black\",\"green\",\"pink\",\"pink\",\"red\",\"black\",\"brown\",\"green\",\"yellow\",\"green\",\"green\",\"gray\",\"black\",\"green\",\"pink\",\"brown\",\"gray\",\"gray\",\"brown\",\"green\",\"black\",\"red\",\"yellow\",\"red\",\"green\",\"yellow\",\"blue\",\"blue\",\"blue\",\"yellow\",\"black\",\"pink\",\"blue\",\"brown\",\"yellow\",\"black\",\"black\",\"blue\",\"blue\",\"brown\",\"gray\",\"blue\",\"brown\",\"green\",\"green\",\"gray\",\"red\",\"green\",\"green\",\"green\",\"blue\",\"green\",\"gray\",\"blue\",\"red\",\"pink\",\"gray\",\"gray\",\"yellow\",\"yellow\",\"pink\",\"gray\",\"black\",\"black\",\"pink\",\"black\",\"blue\",\"red\",\"gray\",\"gray\",\"brown\",\"black\",\"blue\",\"red\",\"black\",\"gray\",\"red\",\"black\",\"black\",\"pink\",\"brown\",\"green\",\"blue\",\"green\",\"gray\",\"yellow\",\"blue\",\"gray\",\"blue\",\"red\",\"red\",\"pink\",\"brown\",\"blue\",\"green\",\"green\",\"pink\",\"blue\",\"green\",\"blue\",\"blue\",\"green\",\"green\",\"yellow\",\"pink\",\"green\",\"pink\",\"green\",\"yellow\",\"green\",\"green\",\"pink\",\"green\",\"gray\",\"blue\",\"pink\",\"green\",\"green\",\"pink\",\"green\",\"green\",\"gray\",\"brown\",\"green\",\"black\",\"green\",\"green\",\"yellow\",\"red\",\"green\",\"gray\",\"green\",\"red\",\"green\",\"gray\",\"green\",\"pink\",\"green\",\"green\",\"yellow\",\"red\",\"yellow\",\"blue\",\"gray\",\"gray\",\"green\",\"green\",\"blue\",\"green\",\"blue\",\"blue\",\"red\",\"red\",\"red\",\"pink\",\"green\",\"gray\",\"pink\",\"yellow\",\"green\",\"green\",\"green\",\"pink\",\"green\",\"gray\",\"red\",\"green\",\"green\",\"yellow\",\"gray\",\"red\",\"yellow\",\"green\",\"yellow\",\"gray\",\"gray\",\"yellow\",\"green\",\"green\",\"red\",\"green\",\"brown\",\"green\",\"black\",\"brown\",\"black\",\"red\",\"green\",\"green\",\"black\",\"black\",\"gray\",\"pink\",\"gray\",\"blue\",\"pink\",\"black\",\"black\",\"brown\",\"blue\",\"blue\",\"blue\",\"yellow\",\"yellow\",\"black\",\"gray\",\"blue\",\"green\",\"blue\",\"brown\",\"brown\",\"gray\",\"green\",\"red\",\"pink\",\"yellow\",\"yellow\",\"green\",\"yellow\",\"gray\",\"gray\",\"red\",\"yellow\",\"gray\",\"green\",\"red\",\"blue\",\"gray\",\"red\",\"green\",\"green\",\"gray\",\"blue\",\"pink\",\"red\",\"gray\",\"black\",\"blue\",\"pink\",\"brown\",\"yellow\",\"black\",\"gray\",\"green\",\"black\",\"green\",\"black\",\"red\",\"black\",\"gray\",\"brown\",\"black\",\"brown\",\"black\",\"brown\",\"black\",\"yellow\",\"red\",\"green\",\"yellow\",\"black\",\"pink\",\"black\",\"gray\",\"red\",\"blue\",\"gray\",\"gray\",\"green\",\"gray\",\"brown\",\"brown\",\"black\",\"gray\",\"pink\"],\"names\":[\"Smoke\",\"drizzle\",\"jostling\",\"losing\",\"slipping\",\"sliding\",\"deposits\",\"sticking\",\"accumulating\",\"Fog\",\"fog\",\"flows\",\"rolls\",\"creeping\",\"hovering\",\"drooping\",\"wheezing\",\"pinching\",\"peeping\",\"Gas\",\"looming\",\"lighted\",\"gas\",\"addressed\",\"contemplation\",\"engaged\",\"tripping\",\"groping\",\"running\",\"mentioned\",\"yawning\",\"come\",\"plants\",\"keeps\",\"drones\",\"blew\",\"observed\",\"handled\",\"correcting\",\"tickled\",\"acquired\",\"infection\",\"see\",\"lowering\",\"temper\",\"born\",\"married\",\"died\",\"issue\",\"improved\",\"adding\",\"Married\",\"birth\",\"inserting\",\"lost\",\"settled\",\"death\",\"introduction\",\"forced\",\"excursions\",\"found\",\"confirmed\",\"invited\",\"seen\",\"encouraged\",\"expected\",\"tidings\",\"purchased\",\"uniting\",\"summoned\",\"retired\",\"entered\",\"brought\",\"welded\",\"resolved\",\"provisioned\",\"precautions\",\"provided\",\"entertained\",\"ball\",\"masquerade\",\"held\",\"illumined\",\"appearances\",\"fire\",\"projected\",\"streamed\",\"look\",\"f\\u00eate\",\"revel\",\"dreams\",\"glare\",\"glitter\",\"piquancy\",\"phantasm\",\"unsuited\",\"fancies\",\"stalked\",\"writhed\",\"taking\",\"causing\",\"strikes\",\"voice\",\"echoes\",\"chime\",\"die\",\"endured\",\"laughter\",\"depart\",\"floats\",\"swells\",\"writhe\",\"stream\",\"waning\",\"appals\",\"peal\",\"indulged\",\"reaches\",\"beat\",\"sounding\",\"ceased\",\"music\",\"evolutions\",\"quieted\",\"cessation\",\"presence\",\"buzz\",\"murmur\",\"disapprobation\",\"surprise\",\"terror\",\"horror\",\"disgust\",\"made\",\"assume\",\"looked\",\"smiled\",\"vows\",\"chiming\",\"disconcert\",\"meditation\",\"told\",\"painted\",\"pause\",\"performance\",\"harken\",\"sound\",\"rang\",\"pale\",\"passed\",\"swung\",\"clang\",\"constrained\",\"strokes\",\"aware\",\"pestilence\",\"walking\",\"nod\",\"inclined\",\"came\",\"met\",\"rode\",\"hummed\",\"said\",\"halted\",\"turned\",\"reply\",\"hesitation\",\"discovery\",\"hunting\",\"give\",\"concluded\",\"smacking\",\"explained\",\"tracing\",\"asked\",\"Concluding\",\"doubts\",\"retailing\",\"gone\",\"walked\",\"sat\",\"depositing\",\"appeared\",\"pursued\",\"seeing\",\"quickened\",\"frowned\",\"order\",\"call\",\"telling\",\"announcement\",\"declining\",\"stretched\",\"contemplated\",\"continued\",\"been\",\"put\",\"produced\",\"estimate\",\"investigations\",\"admit\",\"record\",\"add\",\"conferred\",\"abrogation\",\"received\",\"hint\",\"insisted\",\"fervid\",\"assured\",\"gesticulating\",\"thrust\",\"intimated\",\"submission\",\"appeal\",\"saw\",\"resolving\",\"presented\",\"declare\",\"act\",\"advent\",\"deemed\",\"favor\",\"sent\",\"handed\",\"awakened\",\"crosser\",\"stammered\",\"passion\",\"kicked\",\"repeated\",\"slunk\",\"hurried\",\"wandered\",\"play\",\"pretended\",\"stuck\",\"angry\",\"muttering\",\"grinding\",\"heard\",\"talking\",\"stared\",\"lifted\",\"say\",\"answered\",\"wrung\",\"cried\",\"party\",\"wailing\",\"clutched\",\"shivering\",\"grew\",\"gasped\",\"ran\",\"cholera\",\"ill\",\"wailed\",\"dead\",\"run\",\"dying\",\"hid\",\"panic\",\"forgotten\",\"slept\",\"sounds\",\"crept\",\"ate\",\"drank\",\"drowsy\",\"went\",\"shut\",\"frightened\",\"cries\",\"sleepy\",\"lay\",\"wails\",\"carried\",\"wondered\",\"noise\",\"hurrying\",\"waiting\",\"rustling\",\"gliding\",\"watching\",\"slipped\",\"watched\",\"talked\",\"opened\",\"frowning\",\"hungry\",\"startled\",\"drawing\",\"thought\",\"asleep\",\"wakened\",\"exclaimed\",\"turning\",\"stayed\",\"saying\",\"footsteps\",\"neglected\",\"struck\",\"sinking\",\"lined\",\"awaiting\",\"clung\",\"start\",\"turn\",\"noticed\",\"looking\",\"muttered\",\"flushed\",\"lowered\",\"proud\",\"took\",\"closed\",\"lain\",\"list\",\"answer\",\"command\",\"greeted\",\"blocked\",\"blocking\",\"unpopular\",\"assenting\",\"anxiety\",\"pounced\",\"declared\",\"persuade\",\"ordered\",\"chuckled\",\"sighed\",\"nodded\",\"hinted\",\"assure\",\"interrupted\",\"led\",\"catching\",\"conversation\",\"murmured\",\"rose\",\"collected\",\"ensconced\",\"added\",\"rousing\",\"poured\",\"bite\",\"helped\",\"left\",\"Promoted\",\"promoted\",\"check\",\"row\",\"meeting\",\"affecting\",\"visiting\",\"resumed\",\"success\",\"inquired\",\"confessed\",\"resume\",\"intervened\",\"combed\",\"wounded\",\"demobbed\",\"appealed\",\"launched\",\"chosen\",\"happened\",\"Armistice\",\"tired\",\"peeped\",\"reading\",\"considering\",\"hear\",\"occurred\",\"TOOK\",\"started\",\"flashed\",\"pop\",\"falling\",\"wonder\",\"tried\",\"disappointment\",\"fell\",\"fall\",\"fallen\",\"got\",\"began\",\"spoke\",\"hope\",\"wish\",\"dream\",\"jumped\",\"sight\",\"trying\",\"wondering\",\"fitted\",\"knelt\",\"longed\",\"think\",\"taste\",\"finding\",\"finished\",\"brightened\",\"waited\",\"dozing\",\"nervous\",\"Coming\",\"gossiping\",\"returned\",\"pulled\",\"sprang\",\"introduced\",\"drove\",\"followed\",\"measure\",\"glances\",\"disapproval\",\"inspection\",\"sifted\",\"caught\",\"drew\",\"leaned\",\"regarded\",\"smoked\",\"fanning\",\"hot\",\"bellowed\",\"glance\",\"examined\",\"lift\",\"irritating\",\"tickling\",\"sneered\",\"sprinkled\",\"slurred\",\"civility\",\"stare\",\"pronounced\",\"curl\",\"bent\",\"undid\",\"revealing\",\"straightened\",\"ignoring\",\"swore\",\"discovered\",\"scratched\",\"ripped\",\"shook\",\"mounted\",\"disturbed\",\"jingling\",\"discussed\",\"eyeing\",\"stated\",\"gamble\",\"tribute\",\"reminds\",\"remarked\",\"Ambling\",\"laughed\",\"jerked\",\"agreed\",\"joke\",\"blazing\",\"offense\",\"take\",\"go\",\"remember\",\"plodding\",\"following\",\"whistling\",\"breaking\",\"rapped\",\"called\",\"lingering\",\"says\",\"threw\",\"set\",\"learn\",\"taken\",\"promised\",\"crossed\",\"dinner\",\"observing\",\"pipe\",\"supposed\",\"talk\",\"flapped\",\"stopped\",\"glared\",\"oath\",\"spoken\",\"described\",\"hearing\",\"speaking\",\"pouring\",\"leapt\",\"played\",\"flung\",\"amusement\",\"awkwardness\",\"increased\",\"mist\",\"walk\",\"thickened\",\"reached\",\"suspended\",\"joined\",\"leaning\",\"remarking\",\"broke\",\"cursed\",\"exchanged\",\"glanced\",\"replied\",\"stirred\",\"compressing\",\"danger\",\"reddened\",\"remark\",\"speculation\",\"hits\",\"lying\",\"depicted\",\"written\",\"read\",\"displaying\",\"decided\",\"built\",\"control\",\"attended\",\"checked\",\"dealing\",\"demanded\",\"interposed\",\"announced\",\"rejecting\",\"silenced\",\"detected\",\"controlling\",\"consolation\",\"increase\",\"wind\",\"wandering\",\"clouds\",\"rain\",\"dispensed\",\"possessed\",\"care\",\"gathering\",\"drawn\",\"studied\",\"cloud\",\"sweeping\",\"blast\",\"formed\",\"surveying\",\"paused\",\"calling\",\"wished\",\"trembled\",\"idea\",\"seating\",\"gesture\",\"thrusting\",\"mused\",\"tottered\",\"regaining\",\"impudence\",\"answering\",\"fetched\",\"did\",\"poise\",\"stand\",\"cry\",\"hit\",\"striking\",\"cutting\",\"bled\",\"pain\",\"climax\",\"feelings\",\"sharp\",\"glancing\",\"pinning\",\"retreated\",\"defeat\",\"blows\",\"erection\",\"vanished\",\"emerged\",\"accepted\",\"promise\",\"shrunken\",\"listened\",\"verbiage\",\"resentment\",\"coined\",\"juggled\",\"poised\",\"regard\",\"wrapping\",\"disputed\",\"tossed\",\"raised\",\"disappeared\",\"gave\",\"crashing\",\"gulps\",\"outlined\",\"speech\",\"silent\",\"thoughtful\",\"sensation\",\"sickness\",\"off\",\"buttered\",\"smile\",\"folded\",\"drawled\",\"glint\",\"donned\",\"teased\",\"writing\",\"washed\",\"temptation\",\"shower\",\"enjoy\",\"answers\",\"completing\",\"recorded\",\"effaced\",\"astonished\",\"Looking\",\"opening\",\"rush\",\"entering\",\"beginning\",\"coming\",\"vowed\",\"delight\",\"breath\",\"consented\",\"blossomed\",\"varnished\",\"burst\",\"flowered\",\"delighted\",\"let\",\"invitation\",\"flatter\",\"abuse\",\"visit\",\"disclosed\",\"Observing\",\"scolding\",\"coughing\",\"tear\",\"adjusting\",\"paid\",\"astonishment\",\"joy\",\"raptures\",\"trimming\",\"sorry\",\"afraid\",\"feeding\",\"growled\",\"seized\",\"pleaded\",\"staring\",\"pointed\",\"emptied\",\"licking\",\"shake\",\"expressed\",\"tilted\",\"question\",\"dip\",\"roll\",\"keeping\",\"faltered\",\"hugged\",\"clasping\",\"limped\",\"picking\",\"going\",\"hugging\",\"impression\",\"soaked\",\"smothered\",\"lamed\",\"cut\",\"stung\",\"torn\",\"gained\",\"sinister\",\"sullen\",\"arose\",\"wheeled\",\"melted\",\"murmuring\",\"dropped\",\"listening\",\"split\",\"whispered\",\"stepped\",\"closing\",\"hung\",\"harkened\",\"starting\",\"fearing\",\"fluttered\",\"danced\",\"hesitated\",\"impelled\",\"power\",\"shrinking\",\"song\",\"fear\",\"note\",\"smoke\",\"shouting\",\"peering\",\"flew\",\"dancing\",\"twined\",\"twirled\",\"flickered\",\"motion\",\"sang\",\"forgot\",\"dazzled\",\"bewildered\",\"fascinated\",\"whirl\",\"panting\",\"awoke\",\"peered\",\"blurred\",\"crowding\",\"fled\",\"stumbling\",\"feeling\",\"voices\",\"toiled\",\"haste\",\"struggling\",\"sank\",\"exhausted\",\"trembling\",\"drifted\",\"sleep\",\"sifting\",\"remembered\",\"vision\",\"waving\",\"flying\",\"determination\",\"gazed\",\"dreaming\",\"abstracted\",\"alert\",\"quizzical\",\"laughing\",\"challenged\",\"bridled\",\"scoffed\",\"asserted\",\"scornful\",\"soft\",\"waking\",\"daydream\",\"noting\",\"glinting\",\"fumbling\",\"Untying\",\"clapped\",\"bounded\",\"flitted\",\"swaying\",\"dripping\",\"touched\",\"shock\",\"rained\",\"brightening\",\"still\",\"mischief\",\"hopped\",\"nestled\",\"pointing\",\"admitted\",\"faded\",\"crouched\",\"puzzled\",\"supper\",\"warmth\",\"cheer\",\"fared\",\"address\",\"refuse\",\"misinterpreted\",\"request\",\"difference\",\"storming\",\"concerned\",\"assault\",\"event\",\"believe\",\"treating\",\"wrangle\",\"sally\",\"separated\",\"forded\",\"planted\",\"fighting\",\"orders\",\"excesses\",\"loaded\",\"plunder\",\"confusion\",\"conquest\",\"frenzy\",\"slaughter\",\"riot\",\"disgraced\",\"jests\",\"catchwords\",\"plundering\",\"break\",\"yelling\",\"dread\",\"crowded\",\"rushed\",\"attendance\",\"throng\",\"proclamation\",\"words\",\"shouted\",\"stripped\",\"escaped\",\"Preserved\",\"removed\",\"transported\",\"completed\",\"breathed\",\"commanded\",\"bowed\",\"predicted\",\"polluted\",\"broken\",\"sacrilege\",\"perished\",\"possession\",\"placed\",\"won\",\"STORMING\",\"Extracted\",\"revert\",\"stored\",\"entrusted\",\"wedding\",\"sit\",\"recalled\",\"marriage\",\"chatted\",\"maintain\",\"exertions\",\"flow\",\"ideas\",\"hoped\",\"animated\",\"inquiries\",\"grief\",\"loss\",\"repeating\",\"exclamation\",\"Seating\",\"quitting\",\"withdrew\",\"playing\",\"bustling\",\"directions\",\"crinkled\",\"mass\",\"croquet\",\"lit\",\"drag\",\"gaze\",\"advancing\",\"approach\",\"seated\",\"facing\",\"plunge\",\"surveyed\",\"reminded\",\"given\",\"understanding\",\"laugh\",\"sparkled\",\"adventure\",\"realized\",\"yawned\",\"proposed\",\"instructed\",\"prepared\",\"holding\",\"lifting\",\"descended\",\"shrugged\",\"felt\",\"understood\",\"nodding\",\"wanted\",\"kissed\",\"rolled\",\"saving\",\"gathered\",\"reflected\",\"fan\",\"puffs\",\"performing\",\"strolled\",\"amused\",\"entrance\",\"undressed\",\"piled\",\"utterances\",\"leaving\",\"assumed\",\"recommending\",\"submitted\",\"imitation\",\"watered\",\"tears\",\"catastrophe\",\"settling\",\"accident\",\"circumstance\",\"returning\",\"journey\",\"desire\",\"pass\",\"pacing\",\"work\",\"risen\",\"problem\",\"shown\",\"waved\",\"indicated\",\"fancy\",\"observe\",\"deduce\",\"changed\",\"fail\",\"rubbed\",\"tell\",\"scraped\",\"caused\",\"remove\",\"deduction\",\"lighting\",\"throwing\",\"wrote\",\"comes\",\"out\",\"outburst\",\"plumes\",\"covered\",\"ended\",\"signalised\",\"differing\",\"connected\",\"thunders\",\"wagged\",\"sunset\",\"preferred\",\"sauntered\",\"leave\",\"gratified\",\"preparing\",\"attracted\",\"cavalcade\",\"blushed\",\"recollected\",\"blush\",\"recollection\",\"beholding\",\"emotion\",\"witnessed\",\"driving\",\"proceed\",\"determined\",\"designs\",\"Arriving\",\"dismounted\",\"sending\",\"proceeded\",\"illuminated\",\"composure\",\"intention\",\"open\",\"overtook\",\"compliments\",\"begged\",\"ingratiate\",\"parting\",\"marrying\",\"arrived\",\"tapped\",\"bid\",\"rivetted\",\"fixed\",\"painting\",\"shaking\",\"offered\",\"wiped\",\"cast\",\"drop\",\"blotted\",\"addressing\",\"thinking\",\"hushed\",\"scent\",\"perfume\",\"smoking\",\"catch\",\"effect\",\"shouldering\",\"circling\",\"insistence\",\"roar\",\"disappearance\",\"tossing\",\"elevated\",\"whorls\",\"strolling\",\"insist\",\"expression\",\"speak\",\"abducted\",\"discharged\",\"approaching\",\"pressed\",\"shudder\",\"darkened\",\"showed\",\"protest\",\"accents\",\"rising\",\"feigning\",\"protested\",\"belied\",\"sigh\",\"supported\",\"assisted\",\"desirable\",\"leading\",\"declined\",\"proffered\",\"bit\",\"aloof\",\"making\",\"picked\",\"lurked\",\"cluttered\",\"clutching\",\"seizure\",\"listen\",\"moved\",\"filtering\",\"place\",\"chord\",\"roamed\",\"thrill\",\"shattering\",\"regarding\",\"offended\",\"resented\",\"eating\",\"irritability\",\"anticipated\",\"shot\",\"grunted\",\"celebrated\",\"victory\",\"putting\",\"sniffing\",\"Smoking\",\"helplessness\",\"recoiling\",\"researches\",\"draft\",\"infuriated\",\"cleared\",\"mount\",\"tapping\",\"approval\",\"arranged\",\"whirring\",\"rippling\",\"breeze\",\"working\",\"Reaching\",\"partial\",\"begun\",\"swayed\",\"pretend\",\"alluding\",\"learned\",\"waxing\",\"smelling\",\"knocking\",\"learning\",\"breakfast\",\"drinking\",\"served\",\"selected\",\"buried\",\"poked\",\"pronouncing\",\"perceived\",\"counted\",\"rejoined\",\"thanked\",\"compliment\",\"astride\",\"attacked\",\"straightening\",\"converted\",\"springing\",\"kicking\",\"jump\",\"scattering\",\"acquaintance\",\"standing\",\"observation\",\"bought\",\"responded\",\"write\",\"claim\",\"attention\",\"gratification\",\"escorted\",\"inherited\",\"sale\",\"lamentations\",\"sold\",\"step\",\"appearance\",\"commenced\",\"bidding\",\"hold\",\"breathless\",\"visitation\",\"shaken\",\"consequence\",\"scattered\",\"appearing\",\"present\",\"asking\",\"grimace\",\"faced\",\"groan\",\"reproach\",\"charmed\",\"inference\",\"fix\",\"quitted\",\"communicative\",\"had\",\"wonders\",\"committed\",\"departed\",\"professed\",\"apparition\",\"kick\",\"episode\",\"organizing\",\"imagined\",\"arrive\",\"chinked\",\"doubled\",\"affirmative\",\"tightened\",\"shutting\",\"rage\",\"grappled\",\"twist\",\"struggled\",\"fury\",\"lolling\",\"ebbed\",\"glazed\",\"flagged\",\"jolted\",\"shriek\",\"anger\",\"quick\",\"choked\",\"hiding\",\"struggle\",\"grumbled\",\"calculated\",\"attempted\",\"thrown\",\"filing\",\"nursing\",\"rattled\",\"expecting\",\"twisted\",\"growl\",\"stormed\",\"raged\",\"assailed\",\"allowed\",\"carted\",\"trucked\",\"deposited\",\"mauling\",\"headed\",\"deposition\",\"cheated\",\"fever\",\"trekked\",\"spending\",\"overcharged\",\"weighed\",\"transhipped\",\"excited\",\"suspected\",\"ascertained\",\"referring\",\"mistake\",\"anticipating\",\"trip\",\"excitement\",\"burned\",\"cleansed\",\"erected\",\"shrank\",\"contact\",\"wakes\",\"fair\",\"whine\",\"rushing\",\"stood\",\"tooting\",\"braying\",\"quivered\",\"wrong\",\"whining\",\"trudged\",\"cracks\",\"screeching\",\"shouts\",\"screeches\",\"gazing\",\"killed\",\"spent\",\"lamented\",\"smelled\",\"change\",\"rest\",\"drifting\",\"flood\",\"haze\",\"toying\",\"satisfied\",\"shone\",\"sombre\",\"appear\",\"stir\",\"boarded\",\"regret\",\"thoughts\",\"kiss\",\"touch\",\"clacked\",\"passing\",\"replaced\",\"conjectures\",\"termed\",\"pulling\",\"conscious\",\"intuition\",\"prevailed\",\"agreeable\",\"sprung\",\"marked\",\"aroused\",\"clew\",\"ache\",\"affected\",\"smiling\",\"mingling\",\"interest\",\"growing\",\"amazement\",\"offer\",\"decline\",\"acknowledge\",\"planned\",\"dash\",\"ask\",\"flutter\",\"reassured\",\"studying\",\"witticism\",\"dragged\",\"whimpering\",\"tucked\",\"deploring\",\"escapade\",\"longing\",\"fought\",\"objections\",\"woke\",\"gong\",\"racket\",\"dressed\",\"explored\",\"sought\",\"plunged\",\"persuasive\",\"hypnotized\",\"consider\",\"clashed\",\"intend\",\"snowy\",\"sunny\",\"sparkling\",\"grumbling\",\"tiptoed\",\"accept\",\"return\",\"receiving\",\"deliberate\",\"drowned\",\"shivered\",\"crying\",\"wringing\",\"mewing\",\"clinging\",\"chased\",\"stooped\",\"wipe\",\"projecting\",\"tease\",\"mewed\",\"unwound\",\"tied\",\"bared\",\"blowing\",\"severity\",\"predicament\",\"darted\",\"ascent\",\"colder\",\"tearing\",\"tearful\",\"tying\",\"stabbed\",\"saddened\",\"laying\",\"do\",\"meant\",\"generosity\",\"peevish\",\"wrangled\",\"guise\",\"leant\",\"repressing\",\"shocked\",\"sympathized\",\"repressed\",\"persisted\",\"thumped\",\"displeasure\",\"toy\",\"censured\",\"mumbled\",\"decision\",\"reversed\",\"parted\",\"revealed\",\"apologizing\",\"lateness\",\"exclaiming\",\"expect\",\"forward\",\"beckoned\",\"glad\",\"filling\",\"appointed\",\"enjoying\",\"informed\",\"advice\",\"bow\",\"whinnied\",\"box\",\"trotted\",\"chase\",\"frost\",\"pricked\",\"cantered\",\"galloping\",\"snorted\",\"away\",\"barking\",\"straight\",\"fright\",\"leaped\",\"dashing\",\"end\",\"whipped\",\"bleeding\",\"down\",\"groaning\",\"getting\",\"raise\",\"riding\",\"bang\",\"imprisonment\",\"swear\",\"deaths\",\"send\",\"hissing\",\"clenching\",\"drive\",\"puzzle\",\"reported\",\"INCIDENT\",\"bearing\",\"beheld\",\"standstill\",\"hopping\",\"untied\",\"survey\",\"glow\",\"reflection\",\"deed\",\"smiles\",\"conjecture\",\"actions\",\"steps\",\"descending\",\"dispute\",\"reverie\",\"stepping\",\"handing\",\"gaining\",\"retreating\",\"indifference\",\"trail\",\"exhorted\",\"prayer\",\"weep\",\"cower\",\"sprawled\",\"lengthening\",\"spurring\",\"flogged\",\"emerge\",\"fastening\",\"wishing\",\"Locking\",\"refilled\",\"ridden\",\"flocking\",\"encountered\",\"tilt\",\"busy\",\"warranted\",\"testify\",\"grant\",\"rowing\",\"errand\",\"pace\",\"dissatisfaction\",\"exchange\",\"recount\",\"stroke\",\"ladling\",\"puff\",\"spat\",\"crammed\",\"desired\",\"confess\",\"approached\",\"persuaded\",\"annoyed\",\"discovering\",\"toil\",\"beckon\",\"sounded\",\"miss\",\"excel\",\"pushing\",\"pleasure\",\"apply\",\"laid\",\"carrying\",\"conclusions\",\"suggest\",\"supposing\",\"conclusion\",\"presentation\",\"vanishes\",\"emerges\",\"inferences\",\"paced\",\"ring\",\"beg\",\"occupation\",\"becomes\",\"mastered\",\"earned\",\"stretching\",\"sneezing\",\"stop\",\"exercises\",\"goes\",\"reappears\",\"inflict\",\"amuse\",\"watch\",\"keep\",\"setting\",\"knocked\",\"pushed\",\"hush\",\"expedition\",\"wasted\",\"stopping\",\"liked\",\"insisting\",\"ruined\",\"restoration\",\"prevented\",\"disengaged\",\"adapted\",\"excuse\",\"dropping\",\"interested\",\"blazed\",\"judged\",\"urged\",\"suggested\",\"breakfasted\",\"word\",\"marking\",\"skirted\",\"advanced\",\"hunted\",\"squatted\",\"investigate\",\"Look\",\"scrambled\",\"foamed\",\"boiled\",\"searched\",\"lunch\",\"pumped\",\"assembled\",\"settlement\",\"borne\",\"occupied\",\"fastened\",\"sentence\",\"scandal\",\"warrant\",\"shame\",\"Stretching\",\"repelled\",\"action\",\"bore\",\"winked\",\"judging\",\"glided\",\"disappearing\",\"blight\",\"pierced\",\"yelp\",\"twittering\",\"calls\",\"afterglow\",\"flooded\",\"flaring\",\"swept\",\"moan\",\"strode\",\"fading\",\"brewing\",\"trotting\",\"Peering\",\"moving\",\"deadened\",\"loom\",\"clinking\",\"jingled\",\"curses\",\"thuds\",\"strain\",\"heaves\",\"footstep\",\"wave\",\"became\",\"crash\",\"attested\",\"click\",\"sputtering\",\"efforts\",\"crackling\",\"flame\",\"shuffled\",\"glittered\",\"queried\",\"comin\",\"moaned\",\"raindrops\",\"pattered\",\"Silence\",\"cracked\",\"query\",\"showing\",\"backed\",\"Sent\",\"ejaculated\",\"Left\",\"glimpse\",\"visited\",\"search\",\"find\",\"howling\",\"drink\",\"refused\",\"mixed\",\"follow\",\"questions\",\"implored\",\"dried\",\"happy\",\"cuddled\",\"sob\",\"sobbed\",\"guessed\",\"pulse\",\"ready\",\"deprived\",\"anxious\",\"opportunity\",\"bade\",\"permission\",\"enjoyed\",\"funeral\",\"luncheon\",\"raced\",\"lurking\",\"landed\",\"agreement\",\"display\",\"affectionate\",\"expressions\",\"know\",\"fragrance\",\"pride\",\"confronted\",\"storm\",\"opposition\",\"outbreak\",\"palpitating\",\"invisible\",\"jet\",\"compared\",\"eruption\",\"vigil\",\"vibrating\",\"activity\",\"flash\",\"projection\",\"streamer\",\"swimming\",\"gleam\",\"blaze\",\"flaming\",\"jetting\",\"established\",\"dapple\",\"intoxicating\",\"whispering\",\"heightened\",\"transplanted\",\"plucked\",\"substitution\",\"suffering\",\"typing\",\"inserted\",\"altered\",\"appended\",\"snap\",\"tramped\",\"planked\",\"tore\",\"inspected\",\"tackled\",\"despatched\",\"scented\",\"sorted\",\"phrased\",\"absent\",\"sadness\",\"revolved\",\"enlightened\",\"situation\",\"resolutions\",\"outbreaks\",\"apparent\",\"sketched\",\"rehearsed\",\"forgetting\",\"sped\",\"sorrow\",\"inspiration\",\"reversal\",\"hopes\",\"arrival\",\"weeping\",\"reposing\",\"troublesome\",\"lessening\",\"ceremony\",\"crisis\",\"heaviness\",\"indignation\",\"overthrow\",\"suffered\",\"dismissed\",\"wept\",\"mingle\",\"lessened\",\"eat\",\"grievance\",\"avenged\",\"swallowed\",\"draw\",\"embarrassment\",\"recollect\",\"exploit\",\"bewitched\",\"battle\",\"mention\",\"swarming\",\"charge\",\"thud\",\"kept\",\"runs\",\"fluttering\",\"driven\",\"scrimmage\",\"flashing\",\"rubbing\",\"stamping\",\"dodged\",\"shoulder\",\"sitting\",\"smell\",\"taught\",\"cold\",\"chilled\",\"confused\",\"worked\",\"nap\",\"brood\",\"brooding\",\"dining\",\"objected\",\"contented\",\"mots\",\"staid\",\"overheard\",\"whisper\",\"presentiment\",\"engagement\",\"coaxed\",\"exertion\",\"bark\",\"pity\",\"exhibited\",\"bidden\",\"quietly\",\"sleeping\",\"sobs\",\"familiar\",\"intoned\",\"Halted\",\"blessed\",\"crosses\",\"gurgling\",\"whistle\",\"whistles\",\"skipped\",\"propped\",\"dipped\",\"lathered\",\"Ceasing\",\"shave\",\"shaved\",\"raving\",\"moaning\",\"pull\",\"stirring\",\"Leaning\",\"clearing\",\"fretted\",\"giving\",\"kills\",\"Laughter\",\"asks\",\"pinched\",\"Laughing\",\"Drawing\",\"linked\",\"clacking\",\"begging\",\"postpone\",\"prompted\",\"feel\",\"disembarked\",\"nearing\",\"stolen\",\"invoked\",\"consorted\",\"evasion\",\"winced\",\"touching\",\"delay\",\"Recognition\",\"wound\",\"rejoinder\",\"qualification\",\"shirked\",\"muffled\",\"forsaken\",\"protection\",\"appointment\",\"presenting\",\"preparation\",\"impulse\",\"sense\",\"response\",\"comparison\",\"recognition\",\"case\",\"deserted\",\"madness\",\"snapped\",\"compromised\",\"forged\",\"fragrant\",\"showered\",\"chirping\",\"chirp\",\"scrape\",\"engaging\",\"rented\",\"pool\",\"tattoo\",\"Hearing\",\"echoing\",\"snapping\",\"coughed\",\"contracted\",\"threatened\",\"controlled\",\"shoveled\",\"whistled\",\"cough\",\"producing\",\"soothed\",\"cosseted\",\"breathing\",\"dusted\",\"breaths\",\"bending\",\"swinging\",\"brisker\",\"Surprised\",\"sowing\",\"spoiled\",\"knitting\",\"twitched\",\"jaunting\",\"headache\",\"dumb\",\"tea\",\"jolt\",\"distinguish\",\"registered\",\"traversed\",\"recognized\",\"rung\",\"sentenced\",\"pardoned\",\"serving\",\"misdemeanor\",\"Leaving\",\"paces\",\"Retracing\",\"varnishing\",\"task\",\"effusion\",\"air\",\"gravity\",\"quoted\",\"remarks\",\"retraced\",\"converged\",\"seeking\",\"light\",\"punishment\",\"hovered\",\"flickering\",\"campfire\",\"reflections\",\"fanned\",\"paling\",\"sparks\",\"echoed\",\"clink\",\"pads\",\"reach\",\"move\",\"halt\",\"preparations\",\"movements\",\"grateful\",\"solitude\",\"traveled\",\"digging\",\"crack\",\"halting\",\"packed\",\"slaps\",\"march\",\"camped\",\"travel\",\"reserve\",\"respond\",\"realization\",\"dug\",\"bring\",\"grasped\",\"amazed\",\"pitying\",\"curious\",\"quiver\",\"astounded\",\"force\",\"seep\",\"complied\",\"filled\",\"moist\",\"dark\",\"sniff\",\"agree\",\"examining\",\"complaining\",\"advised\",\"softened\",\"pecking\",\"lecture\",\"stroking\",\"snow\",\"crackled\",\"lecturing\",\"counsel\",\"expostulated\",\"persuasions\",\"discourse\",\"resolution\",\"concern\",\"prompting\",\"rise\",\"sick\",\"terrified\",\"reflect\",\"abandoning\",\"entreaties\",\"reproached\",\"blow\",\"snowfall\",\"staggered\",\"stamped\",\"surprised\",\"melting\",\"dripped\",\"advances\",\"whisked\",\"mixing\",\"stabs\",\"cooked\",\"delaying\",\"gaping\",\"rigid\",\"recover\",\"messing\",\"done\",\"unfolded\",\"extended\",\"tangent\",\"smouldered\",\"eaten\",\"drunk\",\"warmed\",\"explanation\",\"acknowledgment\",\"snatching\",\"animation\",\"ARRIVAL\",\"fortune\",\"embarrassed\",\"INTRODUCED\",\"reposed\",\"dumped\",\"Getting\",\"flourishing\",\"directed\",\"hitching\",\"singing\",\"dined\",\"lingered\",\"dawdled\",\"scanned\",\"thrilled\",\"mantled\",\"suffused\",\"wooing\",\"flitting\",\"confusing\",\"guess\",\"leaping\",\"pictured\",\"blinking\",\"meditating\",\"bellied\",\"wistfulness\",\"flared\",\"fleeing\",\"arched\",\"love\",\"giggling\",\"Trailing\",\"indignant\",\"glowed\",\"rammed\",\"rid\",\"yawn\",\"patted\",\"stroked\",\"fidgeting\",\"bell\",\"apologize\",\"averred\",\"fit\",\"cured\",\"uncurled\",\"up\",\"packing\",\"extracted\",\"inscription\",\"blushing\",\"imputes\",\"tells\",\"detained\",\"apprehend\",\"bequeathed\",\"abandon\",\"applying\",\"aims\",\"discontinued\",\"perplexity\",\"uneasiness\",\"remorse\",\"detaining\",\"complying\",\"infatuated\",\"conjuring\",\"recommended\",\"instigation\",\"enraged\",\"unkindness\",\"Disappointed\",\"burnt\",\"denied\",\"anguish\",\"illness\",\"recovery\",\"remind\",\"foresee\",\"elopement\",\"surging\",\"seething\",\"carnage\",\"allowing\",\"slip\",\"escape\",\"aghast\",\"howl\",\"blunder\",\"located\",\"departure\",\"glimpses\",\"topped\",\"arming\",\"suspense\",\"strapped\",\"darkness\",\"await\",\"trot\",\"pursuing\",\"positive\",\"hoping\",\"report\",\"shots\",\"consternation\",\"dismay\",\"riveted\",\"narration\",\"charging\",\"shooting\",\"whooping\",\"convinced\",\"routing\",\"apprehension\",\"Riding\",\"grasping\",\"BIRTH\",\"condescended\",\"provision\",\"named\",\"adhered\",\"premised\",\"burying\",\"Going\",\"dreary\",\"beamed\",\"placing\",\"BORN\",\"ushered\",\"gasping\",\"struggles\",\"sneezed\",\"advertise\",\"imposed\",\"proof\",\"rustled\",\"warm\",\"rub\",\"tasting\",\"perspective\",\"imprinted\",\"shuddered\",\"chafed\",\"pausing\",\"applied\",\"dress\",\"badged\",\"ticketed\",\"retiring\",\"tremble\",\"adopted\",\"arguing\",\"encouragement\",\"debate\",\"opposed\",\"advocated\",\"clamored\",\"bids\",\"bustled\",\"disdaining\",\"comments\",\"discussions\",\"crawled\",\"wreathed\",\"rebellion\",\"winds\",\"rejoicing\",\"shiver\",\"enlisted\",\"milking\",\"silence\",\"milk\",\"disappointed\",\"primed\",\"destroyed\",\"peeled\",\"plan\",\"fill\",\"beating\",\"ecstasy\",\"trails\",\"discouraged\",\"punching\",\"resurrected\",\"seize\",\"arrest\",\"whirled\",\"snatched\",\"through\",\"stealing\",\"Said\",\"scare\",\"suspicion\",\"flattered\",\"forestalled\",\"vexed\",\"overlooked\",\"missed\",\"forgive\",\"miscarried\",\"stumbled\",\"strike\",\"advertised\",\"withdrawn\",\"raffle\",\"pay\",\"separation\",\"affronted\",\"welcomed\",\"foreboding\",\"glowing\",\"pressing\",\"frown\",\"begin\",\"withdraw\",\"sheltered\",\"express\",\"wincing\",\"uttered\",\"preceded\",\"relieving\",\"conjectured\",\"ejaculation\",\"admire\",\"distinguished\",\"chatter\",\"clatter\",\"squealing\",\"haunted\",\"bestow\",\"decamp\",\"attempting\",\"sneaking\",\"watering\",\"caress\",\"gnarl\",\"provoked\",\"checking\",\"punch\",\"striding\",\"dived\",\"guardianship\",\"imagining\",\"winking\",\"faces\",\"irritated\",\"interpose\",\"proceeding\",\"issued\",\"parrying\",\"demand\",\"climbed\",\"yelping\",\"used\",\"subsided\",\"heaving\",\"treatment\",\"restoring\",\"doubt\",\"overwhelmed\",\"tempest\",\"ease\",\"mad\",\"tiresome\",\"lonesome\",\"shivers\",\"scared\",\"crawling\",\"flipped\",\"shriveled\",\"licks\",\"Says\",\"tiptoeing\",\"stooping\",\"itching\",\"itch\",\"itched\",\"reckoned\",\"breathe\",\"snore\",\"comfortable\",\"build\",\"executed\",\"prophecy\",\"grasp\",\"operations\",\"hard\",\"brackish\",\"execution\",\"wrested\",\"trodden\",\"crime\",\"blasted\",\"unearthed\",\"commissioned\",\"elated\",\"appalled\",\"sailed\",\"chartered\",\"scouring\",\"washing\",\"tripped\",\"overturning\",\"drenched\",\"oaths\",\"regained\",\"felled\",\"snarl\",\"crushing\",\"white\",\"mutiny\",\"firing\",\"lodged\",\"Words\",\"assisting\",\"limping\",\"wounding\",\"glowering\",\"breakdown\",\"bored\",\"consumption\",\"sampled\",\"pleased\",\"tipsy\",\"essayed\",\"exaltation\",\"reaction\",\"incident\",\"rejoiced\",\"hunched\",\"dreamy\",\"bound\",\"operation\",\"curled\",\"KISS\",\"gives\",\"shipwrecked\",\"swims\",\"sail\",\"voyage\",\"inform\",\"spied\",\"shift\",\"rowed\",\"computation\",\"trusted\",\"overset\",\"flurry\",\"swam\",\"tide\",\"abated\",\"awaked\",\"roared\",\"hurt\",\"falls\",\"ventured\",\"wrench\",\"bind\",\"loosened\",\"shout\",\"flight\",\"striving\",\"volley\",\"design\",\"knew\",\"oration\",\"support\",\"acted\",\"promises\",\"demands\",\"signify\",\"supplied\",\"sign\",\"slung\",\"signs\",\"warning\",\"tempted\",\"remembrance\",\"interpreted\",\"imaginations\",\"considered\",\"treated\",\"posture\",\"show\",\"blisters\",\"tokens\",\"repetitions\",\"relaxing\",\"conjecturing\",\"torrent\",\"violence\",\"daubed\",\"smart\",\"disposed\",\"mingled\",\"consulted\",\"passage\",\"over\",\"marks\",\"Gets\",\"commencement\",\"dispelled\",\"agitation\",\"dedicated\",\"own\",\"entreated\",\"hired\",\"complaints\",\"acquainted\",\"secure\",\"confessing\",\"abandoned\",\"bestowed\",\"solicited\",\"undertaking\",\"enterprise\",\"enthusiasm\",\"stifles\",\"puffing\",\"detect\",\"dragging\",\"chirps\",\"drags\",\"notion\",\"float\",\"choose\",\"steadying\",\"inclining\",\"pacified\",\"groped\",\"kindled\",\"glimmer\",\"trod\",\"Placing\",\"skinning\",\"munching\",\"smells\",\"vapor\",\"gloom\",\"unnerved\",\"pondered\",\"acting\",\"reined\",\"thrilling\",\"experiment\",\"uplifted\",\"Shaking\",\"Noticing\",\"conducted\",\"heighten\",\"sentiments\",\"accosted\",\"doubted\",\"awed\",\"deepen\",\"speculating\",\"routed\",\"saved\",\"disaster\",\"admonishing\",\"diminished\",\"spread\",\"certainty\",\"objects\",\"shelved\",\"discussion\",\"premise\",\"duel\",\"smuggled\",\"chill\",\"ascended\",\"curiosity\",\"clinched\",\"declaring\",\"propitiated\",\"plodded\",\"cheering\",\"rebuking\",\"ascending\",\"collared\",\"whack\",\"directing\",\"account\",\"pretending\",\"summons\",\"bursting\",\"inhabited\",\"shrieked\",\"carving\",\"snorting\",\"choking\",\"screaming\",\"demolishing\",\"discuss\",\"misadventure\",\"explosion\",\"warned\",\"letting\",\"stampeded\",\"rolling\",\"obtained\",\"confession\",\"tales\",\"wrought\",\"charged\",\"attack\",\"christened\",\"sweating\",\"grunting\",\"purchasing\",\"graduated\",\"dallied\"],\"x1\":{\"__ndarray__\":\"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\",\"dtype\":\"float32\",\"order\":\"little\",\"shape\":[2538]},\"x2\":{\"__ndarray__\":\"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\",\"dtype\":\"float32\",\"order\":\"little\",\"shape\":[2538]}},\"selected\":{\"id\":\"1047\"},\"selection_policy\":{\"id\":\"1046\"}},\"id\":\"1031\",\"type\":\"ColumnDataSource\"},{\"attributes\":{\"source\":{\"id\":\"1031\"}},\"id\":\"1036\",\"type\":\"CDSView\"},{\"attributes\":{\"active_multi\":null,\"tools\":[{\"id\":\"1022\"},{\"id\":\"1023\"},{\"id\":\"1024\"},{\"id\":\"1025\"}]},\"id\":\"1026\",\"type\":\"Toolbar\"},{\"attributes\":{},\"id\":\"1023\",\"type\":\"WheelZoomTool\"},{\"attributes\":{},\"id\":\"1022\",\"type\":\"PanTool\"},{\"attributes\":{},\"id\":\"1024\",\"type\":\"ResetTool\"},{\"attributes\":{\"data_source\":{\"id\":\"1031\"},\"glyph\":{\"id\":\"1033\"},\"hover_glyph\":null,\"muted_glyph\":null,\"nonselection_glyph\":{\"id\":\"1034\"},\"view\":{\"id\":\"1036\"}},\"id\":\"1035\",\"type\":\"GlyphRenderer\"},{\"attributes\":{},\"id\":\"1025\",\"type\":\"SaveTool\"}],\"root_ids\":[\"1003\"]},\"title\":\"Bokeh Application\",\"version\":\"2.3.2\"}};\n  var render_items = [{\"docid\":\"7fc29dda-cb5b-4077-ba4c-aff4de8d4671\",\"root_ids\":[\"1003\"],\"roots\":{\"1003\":\"fd4c25f5-eb3a-42ea-a50b-dfa51124a3a4\"}}];\n  root.Bokeh.embed.embed_items_notebook(docs_json, render_items);\n\n  }\n  if (root.Bokeh !== undefined) {\n    embed_document(root);\n  } else {\n    var attempts = 0;\n    var timer = setInterval(function(root) {\n      if (root.Bokeh !== undefined) {\n        clearInterval(timer);\n        embed_document(root);\n      } else {\n        attempts++;\n        if (attempts > 100) {\n          clearInterval(timer);\n          console.log(\"Bokeh: ERROR: Unable to run BokehJS code because BokehJS library is missing\");\n        }\n      }\n    }, 10, root)\n  }\n})(window);",
            "application/vnd.bokehjs_exec.v0+json": ""
          },
          "metadata": {
            "application/vnd.bokehjs_exec.v0+json": {
              "id": "1003"
            }
          },
          "output_type": "display_data"
        }
      ],
      "source": [
        "from bokeh.models import ColumnDataSource, LabelSet\n",
        "from bokeh.plotting import figure, show, output_file\n",
        "from bokeh.io import output_notebook\n",
        "\n",
        "output_notebook()\n",
        "\n",
        "p = figure(tools=\"pan,wheel_zoom,reset,save\",\n",
        "           toolbar_location=\"above\",\n",
        "           title=\"clusters\")\n",
        "\n",
        "source = ColumnDataSource(data=dict(x1=top_words_tsne[:,0],\n",
        "                                    x2=top_words_tsne[:,1],\n",
        "                                    names=presented_events,\n",
        "                                    color=to_colors(model.labels_)))\n",
        "\n",
        "p.scatter(x=\"x1\", y=\"x2\", size=8, source=source, color='color')\n",
        "\n",
        "labels = LabelSet(x=\"x1\", y=\"x2\", text=\"names\", y_offset=6,\n",
        "                  text_font_size=\"8pt\", text_color=\"#555555\",\n",
        "                  source=source, text_align='center')\n",
        "p.add_layout(labels)\n",
        "\n",
        "show(p)"
      ]
    },
    {
      "cell_type": "markdown",
      "metadata": {
        "id": "JEIHCTYMXD9P"
      },
      "source": [
        "Визуализация сильно зависит от параметров TSNE, поэтому объекты внутри кластеров могут находиться далеко друг от друга. Однако некоторые скопления можно углядеть."
      ]
    },
    {
      "cell_type": "code",
      "execution_count": null,
      "metadata": {
        "id": "lpqBdM5kXD9P"
      },
      "outputs": [],
      "source": [
        "events = df[df['Label'] == \"EVE\"]['Token'].values\n",
        "\n",
        "embedded = []\n",
        "presented_events = []\n",
        "for event in events:\n",
        "    if event in w2v:\n",
        "        presented_events.append(event)\n",
        "        embedded.append(w2v[event])\n",
        "embedded = np.array(embedded)\n",
        "\n",
        "model = KMeans()\n",
        "model.fit(embedded)\n",
        "cluster_df = pd.DataFrame({\"event\" : presented_events, \"cluster\" : model.labels_})\n",
        "\n",
        "tsne = TSNE(n_components=2, random_state=0)\n",
        "top_words_tsne = tsne.fit_transform(embedded)"
      ]
    },
    {
      "cell_type": "code",
      "execution_count": null,
      "metadata": {
        "id": "zeANnU1VXD9Q",
        "outputId": "f8d0a19e-aeca-477e-bc5f-89eba1045677"
      },
      "outputs": [
        {
          "data": {
            "text/html": [
              "\n",
              "    <div class=\"bk-root\">\n",
              "        <a href=\"https://bokeh.org\" target=\"_blank\" class=\"bk-logo bk-logo-small bk-logo-notebook\"></a>\n",
              "        <span id=\"1093\">Loading BokehJS ...</span>\n",
              "    </div>"
            ]
          },
          "metadata": {},
          "output_type": "display_data"
        },
        {
          "data": {
            "application/javascript": "\n(function(root) {\n  function now() {\n    return new Date();\n  }\n\n  var force = true;\n\n  if (typeof root._bokeh_onload_callbacks === \"undefined\" || force === true) {\n    root._bokeh_onload_callbacks = [];\n    root._bokeh_is_loading = undefined;\n  }\n\n  var JS_MIME_TYPE = 'application/javascript';\n  var HTML_MIME_TYPE = 'text/html';\n  var EXEC_MIME_TYPE = 'application/vnd.bokehjs_exec.v0+json';\n  var CLASS_NAME = 'output_bokeh rendered_html';\n\n  /**\n   * Render data to the DOM node\n   */\n  function render(props, node) {\n    var script = document.createElement(\"script\");\n    node.appendChild(script);\n  }\n\n  /**\n   * Handle when an output is cleared or removed\n   */\n  function handleClearOutput(event, handle) {\n    var cell = handle.cell;\n\n    var id = cell.output_area._bokeh_element_id;\n    var server_id = cell.output_area._bokeh_server_id;\n    // Clean up Bokeh references\n    if (id != null && id in Bokeh.index) {\n      Bokeh.index[id].model.document.clear();\n      delete Bokeh.index[id];\n    }\n\n    if (server_id !== undefined) {\n      // Clean up Bokeh references\n      var cmd = \"from bokeh.io.state import curstate; print(curstate().uuid_to_server['\" + server_id + \"'].get_sessions()[0].document.roots[0]._id)\";\n      cell.notebook.kernel.execute(cmd, {\n        iopub: {\n          output: function(msg) {\n            var id = msg.content.text.trim();\n            if (id in Bokeh.index) {\n              Bokeh.index[id].model.document.clear();\n              delete Bokeh.index[id];\n            }\n          }\n        }\n      });\n      // Destroy server and session\n      var cmd = \"import bokeh.io.notebook as ion; ion.destroy_server('\" + server_id + \"')\";\n      cell.notebook.kernel.execute(cmd);\n    }\n  }\n\n  /**\n   * Handle when a new output is added\n   */\n  function handleAddOutput(event, handle) {\n    var output_area = handle.output_area;\n    var output = handle.output;\n\n    // limit handleAddOutput to display_data with EXEC_MIME_TYPE content only\n    if ((output.output_type != \"display_data\") || (!Object.prototype.hasOwnProperty.call(output.data, EXEC_MIME_TYPE))) {\n      return\n    }\n\n    var toinsert = output_area.element.find(\".\" + CLASS_NAME.split(' ')[0]);\n\n    if (output.metadata[EXEC_MIME_TYPE][\"id\"] !== undefined) {\n      toinsert[toinsert.length - 1].firstChild.textContent = output.data[JS_MIME_TYPE];\n      // store reference to embed id on output_area\n      output_area._bokeh_element_id = output.metadata[EXEC_MIME_TYPE][\"id\"];\n    }\n    if (output.metadata[EXEC_MIME_TYPE][\"server_id\"] !== undefined) {\n      var bk_div = document.createElement(\"div\");\n      bk_div.innerHTML = output.data[HTML_MIME_TYPE];\n      var script_attrs = bk_div.children[0].attributes;\n      for (var i = 0; i < script_attrs.length; i++) {\n        toinsert[toinsert.length - 1].firstChild.setAttribute(script_attrs[i].name, script_attrs[i].value);\n        toinsert[toinsert.length - 1].firstChild.textContent = bk_div.children[0].textContent\n      }\n      // store reference to server id on output_area\n      output_area._bokeh_server_id = output.metadata[EXEC_MIME_TYPE][\"server_id\"];\n    }\n  }\n\n  function register_renderer(events, OutputArea) {\n\n    function append_mime(data, metadata, element) {\n      // create a DOM node to render to\n      var toinsert = this.create_output_subarea(\n        metadata,\n        CLASS_NAME,\n        EXEC_MIME_TYPE\n      );\n      this.keyboard_manager.register_events(toinsert);\n      // Render to node\n      var props = {data: data, metadata: metadata[EXEC_MIME_TYPE]};\n      render(props, toinsert[toinsert.length - 1]);\n      element.append(toinsert);\n      return toinsert\n    }\n\n    /* Handle when an output is cleared or removed */\n    events.on('clear_output.CodeCell', handleClearOutput);\n    events.on('delete.Cell', handleClearOutput);\n\n    /* Handle when a new output is added */\n    events.on('output_added.OutputArea', handleAddOutput);\n\n    /**\n     * Register the mime type and append_mime function with output_area\n     */\n    OutputArea.prototype.register_mime_type(EXEC_MIME_TYPE, append_mime, {\n      /* Is output safe? */\n      safe: true,\n      /* Index of renderer in `output_area.display_order` */\n      index: 0\n    });\n  }\n\n  // register the mime type if in Jupyter Notebook environment and previously unregistered\n  if (root.Jupyter !== undefined) {\n    var events = require('base/js/events');\n    var OutputArea = require('notebook/js/outputarea').OutputArea;\n\n    if (OutputArea.prototype.mime_types().indexOf(EXEC_MIME_TYPE) == -1) {\n      register_renderer(events, OutputArea);\n    }\n  }\n\n  \n  if (typeof (root._bokeh_timeout) === \"undefined\" || force === true) {\n    root._bokeh_timeout = Date.now() + 5000;\n    root._bokeh_failed_load = false;\n  }\n\n  var NB_LOAD_WARNING = {'data': {'text/html':\n     \"<div style='background-color: #fdd'>\\n\"+\n     \"<p>\\n\"+\n     \"BokehJS does not appear to have successfully loaded. If loading BokehJS from CDN, this \\n\"+\n     \"may be due to a slow or bad network connection. Possible fixes:\\n\"+\n     \"</p>\\n\"+\n     \"<ul>\\n\"+\n     \"<li>re-rerun `output_notebook()` to attempt to load from CDN again, or</li>\\n\"+\n     \"<li>use INLINE resources instead, as so:</li>\\n\"+\n     \"</ul>\\n\"+\n     \"<code>\\n\"+\n     \"from bokeh.resources import INLINE\\n\"+\n     \"output_notebook(resources=INLINE)\\n\"+\n     \"</code>\\n\"+\n     \"</div>\"}};\n\n  function display_loaded() {\n    var el = document.getElementById(\"1093\");\n    if (el != null) {\n      el.textContent = \"BokehJS is loading...\";\n    }\n    if (root.Bokeh !== undefined) {\n      if (el != null) {\n        el.textContent = \"BokehJS \" + root.Bokeh.version + \" successfully loaded.\";\n      }\n    } else if (Date.now() < root._bokeh_timeout) {\n      setTimeout(display_loaded, 100)\n    }\n  }\n\n\n  function run_callbacks() {\n    try {\n      root._bokeh_onload_callbacks.forEach(function(callback) {\n        if (callback != null)\n          callback();\n      });\n    } finally {\n      delete root._bokeh_onload_callbacks\n    }\n    console.debug(\"Bokeh: all callbacks have finished\");\n  }\n\n  function load_libs(css_urls, js_urls, callback) {\n    if (css_urls == null) css_urls = [];\n    if (js_urls == null) js_urls = [];\n\n    root._bokeh_onload_callbacks.push(callback);\n    if (root._bokeh_is_loading > 0) {\n      console.debug(\"Bokeh: BokehJS is being loaded, scheduling callback at\", now());\n      return null;\n    }\n    if (js_urls == null || js_urls.length === 0) {\n      run_callbacks();\n      return null;\n    }\n    console.debug(\"Bokeh: BokehJS not loaded, scheduling load and callback at\", now());\n    root._bokeh_is_loading = css_urls.length + js_urls.length;\n\n    function on_load() {\n      root._bokeh_is_loading--;\n      if (root._bokeh_is_loading === 0) {\n        console.debug(\"Bokeh: all BokehJS libraries/stylesheets loaded\");\n        run_callbacks()\n      }\n    }\n\n    function on_error(url) {\n      console.error(\"failed to load \" + url);\n    }\n\n    for (let i = 0; i < css_urls.length; i++) {\n      const url = css_urls[i];\n      const element = document.createElement(\"link\");\n      element.onload = on_load;\n      element.onerror = on_error.bind(null, url);\n      element.rel = \"stylesheet\";\n      element.type = \"text/css\";\n      element.href = url;\n      console.debug(\"Bokeh: injecting link tag for BokehJS stylesheet: \", url);\n      document.body.appendChild(element);\n    }\n\n    const hashes = {\"https://cdn.bokeh.org/bokeh/release/bokeh-2.3.2.min.js\": \"XypntL49z55iwGVUW4qsEu83zKL3XEcz0MjuGOQ9SlaaQ68X/g+k1FcioZi7oQAc\", \"https://cdn.bokeh.org/bokeh/release/bokeh-tables-2.3.2.min.js\": \"bEsM86IHGDTLCS0Zod8a8WM6Y4+lafAL/eSiyQcuPzinmWNgNO2/olUF0Z2Dkn5i\", \"https://cdn.bokeh.org/bokeh/release/bokeh-widgets-2.3.2.min.js\": \"TX0gSQTdXTTeScqxj6PVQxTiRW8DOoGVwinyi1D3kxv7wuxQ02XkOxv0xwiypcAH\"};\n\n    for (let i = 0; i < js_urls.length; i++) {\n      const url = js_urls[i];\n      const element = document.createElement('script');\n      element.onload = on_load;\n      element.onerror = on_error.bind(null, url);\n      element.async = false;\n      element.src = url;\n      if (url in hashes) {\n        element.crossOrigin = \"anonymous\";\n        element.integrity = \"sha384-\" + hashes[url];\n      }\n      console.debug(\"Bokeh: injecting script tag for BokehJS library: \", url);\n      document.head.appendChild(element);\n    }\n  };\n\n  function inject_raw_css(css) {\n    const element = document.createElement(\"style\");\n    element.appendChild(document.createTextNode(css));\n    document.body.appendChild(element);\n  }\n\n  \n  var js_urls = [\"https://cdn.bokeh.org/bokeh/release/bokeh-2.3.2.min.js\", \"https://cdn.bokeh.org/bokeh/release/bokeh-widgets-2.3.2.min.js\", \"https://cdn.bokeh.org/bokeh/release/bokeh-tables-2.3.2.min.js\"];\n  var css_urls = [];\n  \n\n  var inline_js = [\n    function(Bokeh) {\n      Bokeh.set_log_level(\"info\");\n    },\n    function(Bokeh) {\n    \n    \n    }\n  ];\n\n  function run_inline_js() {\n    \n    if (root.Bokeh !== undefined || force === true) {\n      \n    for (var i = 0; i < inline_js.length; i++) {\n      inline_js[i].call(root, root.Bokeh);\n    }\n    if (force === true) {\n        display_loaded();\n      }} else if (Date.now() < root._bokeh_timeout) {\n      setTimeout(run_inline_js, 100);\n    } else if (!root._bokeh_failed_load) {\n      console.log(\"Bokeh: BokehJS failed to load within specified timeout.\");\n      root._bokeh_failed_load = true;\n    } else if (force !== true) {\n      var cell = $(document.getElementById(\"1093\")).parents('.cell').data().cell;\n      cell.output_area.append_execute_result(NB_LOAD_WARNING)\n    }\n\n  }\n\n  if (root._bokeh_is_loading === 0) {\n    console.debug(\"Bokeh: BokehJS loaded, going straight to plotting\");\n    run_inline_js();\n  } else {\n    load_libs(css_urls, js_urls, function() {\n      console.debug(\"Bokeh: BokehJS plotting callback run at\", now());\n      run_inline_js();\n    });\n  }\n}(window));",
            "application/vnd.bokehjs_load.v0+json": ""
          },
          "metadata": {},
          "output_type": "display_data"
        },
        {
          "data": {
            "text/html": [
              "\n",
              "\n",
              "\n",
              "\n",
              "\n",
              "\n",
              "  <div class=\"bk-root\" id=\"6b92cc21-9012-409d-991c-76e5967b4abe\" data-root-id=\"1094\"></div>\n"
            ]
          },
          "metadata": {},
          "output_type": "display_data"
        },
        {
          "data": {
            "application/javascript": "(function(root) {\n  function embed_document(root) {\n    \n  var docs_json = {\"5f56769c-330f-46b9-a11a-e8fa774fdb25\":{\"defs\":[],\"roots\":{\"references\":[{\"attributes\":{\"below\":[{\"id\":\"1105\"}],\"center\":[{\"id\":\"1108\"},{\"id\":\"1112\"},{\"id\":\"1128\"}],\"left\":[{\"id\":\"1109\"}],\"renderers\":[{\"id\":\"1126\"}],\"title\":{\"id\":\"1095\"},\"toolbar\":{\"id\":\"1117\"},\"toolbar_location\":\"above\",\"x_range\":{\"id\":\"1097\"},\"x_scale\":{\"id\":\"1101\"},\"y_range\":{\"id\":\"1099\"},\"y_scale\":{\"id\":\"1103\"}},\"id\":\"1094\",\"subtype\":\"Figure\",\"type\":\"Plot\"},{\"attributes\":{\"source\":{\"id\":\"1122\"},\"text\":{\"field\":\"names\"},\"text_align\":{\"value\":\"center\"},\"text_color\":{\"value\":\"#555555\"},\"text_font_size\":{\"value\":\"8pt\"},\"x\":{\"field\":\"x1\"},\"y\":{\"field\":\"x2\"},\"y_offset\":{\"value\":6}},\"id\":\"1128\",\"type\":\"LabelSet\"},{\"attributes\":{},\"id\":\"1101\",\"type\":\"LinearScale\"},{\"attributes\":{},\"id\":\"1145\",\"type\":\"AllLabels\"},{\"attributes\":{\"formatter\":{\"id\":\"1143\"},\"major_label_policy\":{\"id\":\"1145\"},\"ticker\":{\"id\":\"1106\"}},\"id\":\"1105\",\"type\":\"LinearAxis\"},{\"attributes\":{},\"id\":\"1143\",\"type\":\"BasicTickFormatter\"},{\"attributes\":{},\"id\":\"1106\",\"type\":\"BasicTicker\"},{\"attributes\":{\"axis\":{\"id\":\"1105\"},\"ticker\":null},\"id\":\"1108\",\"type\":\"Grid\"},{\"attributes\":{\"fill_alpha\":{\"value\":0.1},\"fill_color\":{\"field\":\"color\"},\"line_alpha\":{\"value\":0.1},\"line_color\":{\"field\":\"color\"},\"size\":{\"value\":8},\"x\":{\"field\":\"x1\"},\"y\":{\"field\":\"x2\"}},\"id\":\"1125\",\"type\":\"Scatter\"},{\"attributes\":{},\"id\":\"1110\",\"type\":\"BasicTicker\"},{\"attributes\":{},\"id\":\"1142\",\"type\":\"AllLabels\"},{\"attributes\":{\"source\":{\"id\":\"1122\"}},\"id\":\"1127\",\"type\":\"CDSView\"},{\"attributes\":{\"data\":{\"color\":[\"yellow\",\"yellow\",\"yellow\",\"yellow\",\"pink\",\"pink\",\"blue\",\"pink\",\"black\",\"black\",\"black\",\"yellow\",\"gray\",\"yellow\",\"green\",\"black\",\"yellow\",\"gray\",\"black\",\"blue\",\"gray\",\"blue\",\"yellow\",\"black\",\"yellow\",\"brown\",\"brown\",\"blue\",\"gray\",\"green\",\"blue\",\"yellow\",\"blue\",\"black\",\"blue\",\"black\",\"yellow\",\"green\",\"brown\",\"black\",\"black\",\"green\",\"pink\",\"green\",\"yellow\",\"black\",\"yellow\",\"yellow\",\"black\",\"red\",\"black\",\"black\",\"black\",\"black\",\"yellow\",\"pink\",\"gray\",\"gray\",\"yellow\",\"yellow\",\"black\",\"black\",\"yellow\",\"gray\",\"black\",\"yellow\",\"brown\",\"green\",\"pink\",\"yellow\",\"gray\",\"gray\",\"gray\",\"yellow\",\"gray\",\"black\",\"green\",\"yellow\",\"pink\",\"yellow\",\"green\",\"green\",\"green\",\"blue\",\"blue\",\"blue\",\"blue\",\"gray\",\"green\",\"black\",\"black\",\"green\",\"yellow\",\"green\",\"blue\",\"green\",\"black\",\"green\",\"yellow\",\"yellow\",\"red\",\"green\",\"gray\",\"blue\",\"black\",\"green\",\"brown\",\"gray\",\"gray\",\"black\",\"blue\",\"yellow\",\"gray\",\"blue\",\"yellow\",\"blue\",\"yellow\",\"blue\",\"pink\",\"yellow\",\"yellow\",\"pink\",\"pink\",\"pink\",\"pink\",\"green\",\"green\",\"yellow\",\"black\",\"yellow\",\"pink\",\"black\",\"black\",\"gray\",\"brown\",\"yellow\",\"yellow\",\"gray\",\"pink\",\"blue\",\"green\",\"gray\",\"yellow\",\"pink\",\"gray\",\"yellow\",\"yellow\",\"gray\",\"yellow\",\"yellow\",\"yellow\",\"gray\",\"yellow\",\"blue\",\"gray\",\"green\",\"blue\",\"pink\",\"gray\",\"black\",\"gray\",\"gray\",\"pink\",\"gray\",\"yellow\",\"blue\",\"black\",\"blue\",\"green\",\"gray\",\"gray\",\"green\",\"blue\",\"yellow\",\"pink\",\"yellow\",\"gray\",\"yellow\",\"yellow\",\"blue\",\"yellow\",\"pink\",\"black\",\"gray\",\"black\",\"yellow\",\"yellow\",\"black\",\"brown\",\"pink\",\"yellow\",\"pink\",\"yellow\",\"black\",\"black\",\"blue\",\"yellow\",\"blue\",\"black\",\"black\",\"blue\",\"gray\",\"gray\",\"gray\",\"green\",\"yellow\",\"yellow\",\"blue\",\"yellow\",\"gray\",\"green\",\"pink\",\"brown\",\"gray\",\"yellow\",\"gray\",\"gray\",\"gray\",\"gray\",\"gray\",\"gray\",\"black\",\"black\",\"blue\",\"pink\",\"pink\",\"yellow\",\"yellow\",\"yellow\",\"green\",\"black\",\"yellow\",\"yellow\",\"pink\",\"black\",\"gray\",\"yellow\",\"blue\",\"black\",\"blue\",\"blue\",\"blue\",\"blue\",\"blue\",\"black\",\"black\",\"red\",\"red\",\"pink\",\"red\",\"red\",\"red\",\"red\",\"gray\",\"green\",\"gray\",\"pink\",\"brown\",\"gray\",\"yellow\",\"blue\",\"brown\",\"brown\",\"yellow\",\"blue\",\"blue\",\"brown\",\"brown\",\"gray\",\"pink\",\"black\",\"yellow\",\"gray\",\"brown\",\"pink\",\"gray\",\"yellow\",\"pink\",\"yellow\",\"yellow\",\"gray\",\"black\",\"yellow\",\"green\",\"gray\",\"gray\",\"black\",\"brown\",\"gray\",\"gray\",\"pink\",\"yellow\",\"pink\",\"black\",\"pink\",\"blue\",\"yellow\",\"blue\",\"black\",\"black\",\"green\",\"green\",\"gray\",\"yellow\",\"yellow\",\"gray\",\"yellow\",\"yellow\",\"pink\",\"green\",\"gray\",\"yellow\",\"gray\",\"gray\",\"black\",\"black\",\"yellow\",\"yellow\",\"green\",\"black\",\"brown\",\"yellow\",\"pink\",\"brown\",\"yellow\",\"black\",\"gray\",\"yellow\",\"green\",\"gray\",\"yellow\",\"yellow\",\"blue\",\"yellow\",\"yellow\",\"blue\",\"gray\",\"gray\",\"yellow\",\"yellow\",\"yellow\",\"green\",\"pink\",\"brown\",\"yellow\",\"gray\",\"pink\",\"yellow\",\"red\",\"red\",\"red\",\"yellow\",\"yellow\",\"gray\",\"pink\",\"gray\",\"yellow\",\"yellow\",\"black\",\"black\",\"green\",\"yellow\",\"black\",\"pink\",\"pink\",\"green\",\"pink\",\"yellow\",\"blue\",\"black\",\"gray\",\"green\",\"black\",\"black\",\"blue\",\"black\",\"gray\",\"black\",\"black\",\"blue\",\"black\",\"blue\",\"yellow\",\"green\",\"green\",\"black\",\"black\",\"yellow\",\"brown\",\"green\",\"black\",\"black\",\"yellow\",\"blue\",\"pink\",\"yellow\",\"yellow\",\"pink\",\"green\",\"yellow\",\"red\",\"green\",\"black\",\"green\",\"gray\",\"gray\",\"black\",\"black\",\"black\",\"black\",\"green\",\"pink\",\"black\",\"black\",\"yellow\",\"black\",\"pink\",\"black\",\"yellow\",\"green\",\"brown\",\"gray\",\"black\",\"blue\",\"blue\",\"blue\",\"blue\",\"brown\",\"gray\",\"yellow\",\"gray\",\"yellow\",\"green\",\"gray\",\"blue\",\"pink\",\"gray\",\"yellow\",\"blue\",\"black\",\"green\",\"blue\",\"yellow\",\"black\",\"green\",\"yellow\",\"blue\",\"gray\",\"yellow\",\"black\",\"green\",\"pink\",\"blue\",\"yellow\",\"yellow\",\"green\",\"yellow\",\"blue\",\"gray\",\"pink\",\"yellow\",\"yellow\",\"gray\",\"pink\",\"green\",\"brown\",\"yellow\",\"yellow\",\"black\",\"blue\",\"green\",\"green\",\"gray\",\"yellow\",\"yellow\",\"yellow\",\"yellow\",\"green\",\"yellow\",\"green\",\"blue\",\"green\",\"black\",\"yellow\",\"black\",\"green\",\"brown\",\"brown\",\"gray\",\"black\",\"brown\",\"pink\",\"green\",\"yellow\",\"gray\",\"gray\",\"yellow\",\"pink\",\"pink\",\"gray\",\"gray\",\"yellow\",\"black\",\"gray\",\"green\",\"yellow\",\"black\",\"yellow\",\"black\",\"green\",\"green\",\"yellow\",\"yellow\",\"black\",\"yellow\",\"yellow\",\"green\",\"green\",\"blue\",\"pink\",\"pink\",\"yellow\",\"pink\",\"gray\",\"gray\",\"gray\",\"blue\",\"green\",\"green\",\"pink\",\"yellow\",\"gray\",\"blue\",\"black\",\"yellow\",\"yellow\",\"yellow\",\"yellow\",\"gray\",\"blue\",\"green\",\"yellow\",\"gray\",\"green\",\"yellow\",\"gray\",\"black\",\"green\",\"yellow\",\"yellow\",\"gray\",\"yellow\",\"black\",\"green\",\"green\",\"green\",\"yellow\",\"black\",\"brown\",\"brown\",\"yellow\",\"yellow\",\"yellow\",\"pink\",\"pink\",\"pink\",\"gray\",\"pink\",\"brown\",\"blue\",\"yellow\",\"green\",\"blue\",\"gray\",\"yellow\",\"yellow\",\"pink\",\"gray\",\"blue\",\"blue\",\"blue\",\"pink\",\"gray\",\"gray\",\"green\",\"red\",\"yellow\",\"black\",\"pink\",\"gray\",\"gray\",\"black\",\"gray\",\"gray\",\"yellow\",\"gray\",\"gray\",\"gray\",\"gray\",\"gray\",\"blue\",\"blue\",\"brown\",\"blue\",\"yellow\",\"gray\",\"gray\",\"gray\",\"yellow\",\"yellow\",\"yellow\",\"yellow\",\"black\",\"green\",\"yellow\",\"green\",\"yellow\",\"pink\",\"gray\",\"black\",\"yellow\",\"gray\",\"black\",\"blue\",\"green\",\"yellow\",\"green\",\"black\",\"brown\",\"brown\",\"gray\",\"green\",\"yellow\",\"green\",\"yellow\",\"black\",\"blue\",\"pink\",\"gray\",\"pink\",\"yellow\",\"black\",\"green\",\"pink\",\"gray\",\"gray\",\"gray\",\"black\",\"blue\",\"yellow\",\"pink\",\"brown\",\"gray\",\"green\",\"pink\",\"yellow\",\"pink\",\"gray\",\"yellow\",\"black\",\"green\",\"brown\",\"yellow\",\"yellow\",\"yellow\",\"blue\",\"gray\",\"gray\",\"pink\",\"pink\",\"yellow\",\"yellow\",\"black\",\"yellow\",\"yellow\",\"yellow\",\"green\",\"blue\",\"black\",\"gray\",\"pink\",\"gray\",\"blue\",\"blue\",\"black\",\"black\",\"gray\",\"gray\",\"green\",\"brown\",\"yellow\",\"pink\",\"blue\",\"pink\",\"blue\",\"pink\",\"pink\",\"gray\",\"black\",\"black\",\"green\",\"black\",\"blue\",\"yellow\",\"yellow\",\"yellow\",\"yellow\",\"gray\",\"pink\",\"black\",\"black\",\"gray\",\"green\",\"green\",\"yellow\",\"gray\",\"blue\",\"yellow\",\"pink\",\"gray\",\"yellow\",\"black\",\"yellow\",\"yellow\",\"yellow\",\"yellow\",\"yellow\",\"yellow\",\"pink\",\"yellow\",\"black\",\"yellow\",\"blue\",\"green\",\"gray\",\"pink\",\"gray\",\"pink\",\"gray\",\"pink\",\"gray\",\"gray\",\"yellow\",\"green\",\"gray\",\"pink\",\"yellow\",\"brown\",\"yellow\",\"pink\",\"gray\",\"yellow\",\"gray\",\"black\",\"yellow\",\"yellow\",\"yellow\",\"black\",\"red\",\"black\",\"black\",\"yellow\",\"black\",\"green\",\"gray\",\"yellow\",\"yellow\",\"blue\",\"gray\",\"blue\",\"green\",\"green\",\"black\",\"yellow\",\"pink\",\"pink\",\"pink\",\"yellow\",\"gray\",\"gray\",\"green\",\"gray\",\"green\",\"green\",\"yellow\",\"yellow\",\"gray\",\"pink\",\"pink\",\"yellow\",\"green\",\"yellow\",\"pink\",\"brown\",\"yellow\",\"green\",\"gray\",\"yellow\",\"gray\",\"gray\",\"gray\",\"green\",\"pink\",\"black\",\"blue\",\"black\",\"gray\",\"brown\",\"yellow\",\"yellow\",\"blue\",\"blue\",\"yellow\",\"yellow\",\"yellow\",\"blue\",\"yellow\",\"yellow\",\"blue\",\"gray\",\"blue\"],\"names\":[\"&\",\"1\",\"3\",\"A\",\"AAU\",\"ABA\",\"Abierto\",\"Aegon\",\"Afghan\",\"Africa\",\"African\",\"After\",\"Agreement\",\"Agricultural\",\"Aisne\",\"Algerian\",\"Alpha\",\"Ambition\",\"American\",\"Am\\u00e9rica\",\"Ancient\",\"Angeles\",\"Angels\",\"Angolan\",\"Angus\",\"Animated\",\"Animation\",\"Annecy\",\"Anti\",\"Antietam\",\"Antonio\",\"Apache\",\"Apertura\",\"Arab\",\"Argentina\",\"Arirang\",\"Arnold\",\"Aroostook\",\"Arts\",\"Asia\",\"Asian\",\"Athens\",\"Athletics\",\"Atlanta\",\"Austin\",\"Australian\",\"B\",\"BMW\",\"BNP\",\"BWF\",\"Badr\",\"Baltic\",\"Bangalore\",\"Bangladesh\",\"Barons\",\"Baseball\",\"Bash\",\"Battle\",\"Bear\",\"Beaver\",\"Belarusian\",\"Belgian\",\"Bend\",\"Best\",\"Bhutan\",\"Bighorn\",\"Biophilia\",\"Birmingham\",\"Bislett\",\"Black\",\"Blond\",\"Bloody\",\"Boat\",\"Boer\",\"Book\",\"Bosnian\",\"Boston\",\"Boulder\",\"Bowl\",\"Boxer\",\"Boyne\",\"Brabant\",\"Brandywine\",\"Brasil\",\"Brasileiro\",\"Brasileir\\u00e3o\",\"Brazilian\",\"Bridge\",\"Brisbane\",\"Britain\",\"British\",\"Brooklyn\",\"Brown\",\"Bulge\",\"Bundesliga\",\"Burnie\",\"Burundian\",\"Busan\",\"Bush\",\"C\",\"CONCACAF\",\"Cambrai\",\"Campaign\",\"Campeonato\",\"Canadian\",\"Canberra\",\"Cannes\",\"Car\",\"Carabao\",\"Caribbean\",\"Carlo\",\"Carnation\",\"Cassinga\",\"Catalunya\",\"Cenepa\",\"Centenario\",\"Central\",\"Chaco\",\"Challenge\",\"Challenger\",\"Champagne\",\"Champion\",\"Champions\",\"Championship\",\"Championships\",\"Charleston\",\"Charlottesville\",\"Chase\",\"Chechen\",\"Cherokee\",\"Chess\",\"China\",\"Chinese\",\"Choice\",\"Cinequest\",\"Citi\",\"City\",\"Civil\",\"Classic\",\"Clausura\",\"Cleveland\",\"Clockwork\",\"Cloud\",\"Club\",\"Coalition\",\"Coast\",\"Cockle\",\"Cod\",\"Coke\",\"College\",\"Colonial\",\"Come\",\"Commonwealth\",\"Commune\",\"Computer\",\"Confederate\",\"Confederations\",\"Conference\",\"Confessions\",\"Congo\",\"Conker\",\"Contamination\",\"Contests\",\"Continuation\",\"Coors\",\"Copa\",\"Copenhagen\",\"Coppa\",\"Corinth\",\"Corn\",\"Corps\",\"Corunna\",\"Costa\",\"Coteau\",\"Counties\",\"Country\",\"Coup\",\"Coupe\",\"Cowtown\",\"Cracovia\",\"Creek\",\"Cricket\",\"Crimean\",\"Crisis\",\"Croatian\",\"Cross\",\"Crossroads\",\"Cuban\",\"Cultural\",\"Cup\",\"Cupa\",\"Curling\",\"Currie\",\"Cypriot\",\"Czech\",\"C\\u00e2ndido\",\"DFS\",\"DTM\",\"Dalian\",\"Danish\",\"Danmark\",\"Dark\",\"Day\",\"Days\",\"Deauville\",\"Derby\",\"Desert\",\"Deutsche\",\"Diamond\",\"Diamonds\",\"Dieppe\",\"Division\",\"Documentary\",\"Dog\",\"Doll\",\"Domination\",\"Doors\",\"Draft\",\"Dragon\",\"Dreams\",\"Drowned\",\"Dubai\",\"Dutch\",\"D\\u00fcsseldorf\",\"EAFF\",\"EFL\",\"East\",\"Easter\",\"Eastern\",\"Edinburgh\",\"Eelam\",\"Eighty\",\"Elevation\",\"Elite\",\"Emirates\",\"Emperor\",\"English\",\"Espa\\u00f1a\",\"Estonian\",\"Ethniki\",\"Euro\",\"EuroLeague\",\"Euroleague\",\"Europa\",\"Europe\",\"European\",\"FA\",\"FAI\",\"FBD\",\"FIA\",\"FIBA\",\"FIFA\",\"FINA\",\"Fair\",\"Falklands\",\"Fallen\",\"Fame\",\"Fantasia\",\"Fantastic\",\"February\",\"Fes\",\"Fest\",\"Festival\",\"Field\",\"Fiesta\",\"Fiestas\",\"Film\",\"Filmex\",\"Final\",\"Finals\",\"Finnish\",\"First\",\"Fixation\",\"Folk\",\"Football\",\"Forces\",\"Ford\",\"Formula\",\"Fort\",\"Four\",\"Frame\",\"France\",\"Franklin\",\"Fredericksburg\",\"Free\",\"Freedom\",\"French\",\"FrightFest\",\"Front\",\"Full\",\"GP\",\"GT\",\"Gala\",\"Gallic\",\"Games\",\"Garros\",\"Gay\",\"Ga\\u00facho\",\"Georgian\",\"German\",\"Germantown\",\"Gettysburg\",\"Gift\",\"Gila\",\"Globe\",\"Glorious\",\"Gold\",\"Golden\",\"Golf\",\"Gothenburg\",\"Gothic\",\"Grand\",\"Gravity\",\"Great\",\"Greece\",\"Greek\",\"Green\",\"Group\",\"Guadalcanal\",\"Guatemalan\",\"Guitar\",\"Gulf\",\"Gymnastics\",\"HIStory\",\"HP\",\"Haitian\",\"Half\",\"Hall\",\"Hamptons\",\"Hangout\",\"Hassan\",\"Hatchie\",\"Havelange\",\"Hawk\",\"Heartland\",\"Heineken\",\"Hellespont\",\"Higher\",\"Hill\",\"Hills\",\"Hillside\",\"Hobart\",\"Hockey\",\"Horror\",\"Horseshoe\",\"Hundred\",\"Hurling\",\"I\",\"IAAF\",\"ICC\",\"IHF\",\"II\",\"III\",\"Ice\",\"Iditarod\",\"Incident\",\"Independence\",\"Independent\",\"India\",\"Indian\",\"Indianapolis\",\"Individual\",\"Indochina\",\"Indoor\",\"Indoors\",\"Inkerman\",\"Insurance\",\"International\",\"Intertoto\",\"Intifada\",\"Invasion\",\"Invergordon\",\"Iranian\",\"Irish\",\"Ischia\",\"Islamic\",\"Islands\",\"Israeli\",\"Istanbul\",\"Italia\",\"Italian\",\"Jacinto\",\"Jack\",\"Jacksonville\",\"Jacmel\",\"Japan\",\"Japanese\",\"Java\",\"Jazz\",\"Jersey\",\"Jewish\",\"Jiang\",\"Joanne\",\"Jo\\u00e3o\",\"Judo\",\"July\",\"June\",\"Junior\",\"Jutland\",\"K\",\"KNVB\",\"Kapyong\",\"Kargil\",\"Kentucky\",\"Kingdoms\",\"Kippur\",\"Kohima\",\"Korean\",\"Kosovo\",\"Kremlin\",\"Kursk\",\"Ladies\",\"Lankan\",\"Laotian\",\"Last\",\"Latvian\",\"League\",\"Lebanese\",\"Legg\",\"Leipzig\",\"Lesbian\",\"Liberation\",\"Liberian\",\"Libertadores\",\"Lig\",\"Liga\",\"Ligue\",\"Lilith\",\"List\",\"Little\",\"Live\",\"Livonian\",\"London\",\"Lone\",\"Los\",\"Lottery\",\"Loud\",\"Louis\",\"Lucerne\",\"Luxembourg\",\"L\\u00fcbeck\",\"MLS\",\"MPS\",\"Macedonian\",\"Machias\",\"Macy\",\"Madrid\",\"Magic\",\"Major\",\"Malaysian\",\"Manchester\",\"Marathon\",\"Marco\",\"Marine\",\"Mariposa\",\"Maryland\",\"Mason\",\"MassKara\",\"Massacre\",\"Masters\",\"May\",\"McDonald\",\"Media\",\"Medibank\",\"Melbourne\",\"Melodifestivalen\",\"Mercury\",\"Met\",\"Mexican\",\"Mexicano\",\"Miami\",\"Michigan\",\"Microphone\",\"Midway\",\"Minor\",\"Mitre\",\"Modoc\",\"Monmouth\",\"Monte\",\"Monterey\",\"Monterrey\",\"Montreal\",\"Moscow\",\"Mountain\",\"Mozambican\",\"Munster\",\"Music\",\"Musik\",\"Mutiny\",\"Mutua\",\"NAMM\",\"NBA\",\"Nanchang\",\"Nancy\",\"Napoleonic\",\"Nation\",\"National\",\"Nationals\",\"Nations\",\"Natural\",\"Neolithic\",\"Neptune\",\"Netherlands\",\"New\",\"Newport\",\"Nez\",\"Nigerian\",\"Nine\",\"Nordic\",\"Norfolk\",\"Normandy\",\"North\",\"Northern\",\"Norwegian\",\"November\",\"October\",\"Odon\",\"Okinawa\",\"Oliveira\",\"Olympic\",\"Olympics\",\"One\",\"Open\",\"Operation\",\"Opium\",\"Oral\",\"Ordina\",\"Orleans\",\"Ottawa\",\"Outdoor\",\"Overall\",\"Overexposed\",\"PSL\",\"PTT\",\"Pacific\",\"Palm\",\"Pan\",\"Panathenaic\",\"Parade\",\"Paribas\",\"Paris\",\"Park\",\"Party\",\"Passchendaele\",\"Patrias\",\"Patriotic\",\"Pattaya\",\"Peloponnesian\",\"Penning\",\"Perce\",\"Performance\",\"Perimeter\",\"Persian\",\"Petersburg\",\"Petitcodiac\",\"Philadelphia\",\"Philippi\",\"Philippine\",\"Piano\",\"Pictures\",\"Pijl\",\"Plains\",\"Playboy\",\"Players\",\"Poker\",\"Polo\",\"Polygon\",\"Pony\",\"Pop\",\"Pordenone\",\"Porsche\",\"Portland\",\"Portuguese\",\"Powder\",\"Prefontaine\",\"Premier\",\"Premiership\",\"Pride\",\"Primeira\",\"Primera\",\"Prix\",\"Pro\",\"Process\",\"Punic\",\"Pusan\",\"Pyeongchang\",\"Pythian\",\"Qatar\",\"Race\",\"Raid\",\"Rainforest\",\"Rakuten\",\"Rally\",\"Rebellion\",\"Red\",\"Reorganization\",\"Restoration\",\"Revolt\",\"Revolution\",\"Revolutionary\",\"Rey\",\"Rheingau\",\"Rhythmic\",\"Rican\",\"Ricoh\",\"Riot\",\"Riots\",\"Rising\",\"River\",\"Rock\",\"Rogers\",\"Roland\",\"Romanian\",\"Rome\",\"Rose\",\"Rotterdam\",\"Royal\",\"Rugby\",\"Run\",\"Russian\",\"SAP\",\"Sacred\",\"Salvadoran\",\"San\",\"Sarasota\",\"Saur\",\"Schleswig\",\"Scottish\",\"Screamfest\",\"Sculpture\",\"Sea\",\"Seattle\",\"Second\",\"Seminole\",\"Senior\",\"Serbian\",\"Serie\",\"Series\",\"Servile\",\"Setanta\",\"Seven\",\"Shanghai\",\"Sheffield\",\"Shield\",\"Show\",\"Siege\",\"Silent\",\"Singapore\",\"Sitges\",\"Six\",\"Skating\",\"Slamdance\",\"Sled\",\"Smolensk\",\"Snooker\",\"Snow\",\"Soccer\",\"Social\",\"Solomon\",\"Somali\",\"Somme\",\"Sonisphere\",\"South\",\"Southern\",\"Southwest\",\"Spanish\",\"Special\",\"Speed\",\"Speedway\",\"Sports\",\"Spring\",\"Springs\",\"Sri\",\"St.\",\"Stanley\",\"State\",\"Stawell\",\"Ster\",\"Stockholm\",\"Storm\",\"Strongman\",\"Succession\",\"Sud\",\"Sudamericana\",\"Sudanese\",\"Suez\",\"Suit\",\"Summer\",\"Sumter\",\"Sundance\",\"Sunday\",\"Super\",\"Supercopa\",\"Superleague\",\"Superliga\",\"Surf\",\"Surfing\",\"Swamp\",\"Swedish\",\"Swiss\",\"Sydney\",\"Syrian\",\"S\\u00e9rie\",\"T\",\"TCR\",\"TV\",\"Ta'if\",\"Table\",\"Taekwondo\",\"Taipei\",\"Taiping\",\"Talking\",\"Tampa\",\"Tamworth\",\"Taos\",\"Tea\",\"Telcel\",\"Telluride\",\"Tennis\",\"Terror\",\"Texas\",\"Thailand\",\"Thanksgiving\",\"The\",\"Third\",\"Thirty\",\"Three\",\"Timbers\",\"Title\",\"Toer\",\"Tokyo\",\"Toray\",\"Torneo\",\"Toronto\",\"Total\",\"Tour\",\"Touring\",\"Tournament\",\"Tours\",\"Track\",\"Trade\",\"Trail\",\"Travelers\",\"Trenton\",\"Trial\",\"Trials\",\"Triangle\",\"Tribeca\",\"Trojan\",\"Trophy\",\"True\",\"Tulip\",\"Tunnels\",\"Turkish\",\"Twenty\",\"Twin\",\"Two\",\"UAE\",\"UEFA\",\"UK\",\"US\",\"USA\",\"Ukrainian\",\"Ulster\",\"Uprising\",\"Utah\",\"Valero\",\"Vargas\",\"Velvet\",\"Vend\\u00e9e\",\"Venice\",\"Vienna\",\"Vietnam\",\"Visiting\",\"WNBA\",\"WSOP\",\"WTA\",\"WW\",\"War\",\"Wars\",\"Warsaw\",\"Wartime\",\"Waterloo\",\"Waxhaws\",\"Wells\",\"Western\",\"Where\",\"Wimbledon\",\"Winners\",\"Winter\",\"Wisconsin\",\"Wolf\",\"Women\",\"Womyn\",\"Wood\",\"Worcester\",\"World\",\"X\",\"Year\",\"Years\",\"Yom\",\"Yorktown\",\"Youth\",\"Yugoslav\",\"Zaire\",\"Zealand\",\"Zero\",\"Zoo\",\"Zoot\",\"by\",\"de\",\"del\",\"do\",\"for\",\"in\",\"la\",\"on\",\"the\",\"von\",\"war\",\"\\u00d6sterreich\"],\"x1\":{\"__ndarray__\":\"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\",\"dtype\":\"float32\",\"order\":\"little\",\"shape\":[821]},\"x2\":{\"__ndarray__\":\"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\",\"dtype\":\"float32\",\"order\":\"little\",\"shape\":[821]}},\"selected\":{\"id\":\"1147\"},\"selection_policy\":{\"id\":\"1146\"}},\"id\":\"1122\",\"type\":\"ColumnDataSource\"},{\"attributes\":{\"active_multi\":null,\"tools\":[{\"id\":\"1113\"},{\"id\":\"1114\"},{\"id\":\"1115\"},{\"id\":\"1116\"}]},\"id\":\"1117\",\"type\":\"Toolbar\"},{\"attributes\":{\"data_source\":{\"id\":\"1122\"},\"glyph\":{\"id\":\"1124\"},\"hover_glyph\":null,\"muted_glyph\":null,\"nonselection_glyph\":{\"id\":\"1125\"},\"view\":{\"id\":\"1127\"}},\"id\":\"1126\",\"type\":\"GlyphRenderer\"},{\"attributes\":{},\"id\":\"1114\",\"type\":\"WheelZoomTool\"},{\"attributes\":{},\"id\":\"1113\",\"type\":\"PanTool\"},{\"attributes\":{},\"id\":\"1146\",\"type\":\"UnionRenderers\"},{\"attributes\":{},\"id\":\"1115\",\"type\":\"ResetTool\"},{\"attributes\":{},\"id\":\"1147\",\"type\":\"Selection\"},{\"attributes\":{},\"id\":\"1116\",\"type\":\"SaveTool\"},{\"attributes\":{\"axis\":{\"id\":\"1109\"},\"dimension\":1,\"ticker\":null},\"id\":\"1112\",\"type\":\"Grid\"},{\"attributes\":{\"formatter\":{\"id\":\"1140\"},\"major_label_policy\":{\"id\":\"1142\"},\"ticker\":{\"id\":\"1110\"}},\"id\":\"1109\",\"type\":\"LinearAxis\"},{\"attributes\":{},\"id\":\"1103\",\"type\":\"LinearScale\"},{\"attributes\":{\"text\":\"word2vec T-SNE (eng model, top1000 words)\"},\"id\":\"1095\",\"type\":\"Title\"},{\"attributes\":{},\"id\":\"1099\",\"type\":\"DataRange1d\"},{\"attributes\":{},\"id\":\"1097\",\"type\":\"DataRange1d\"},{\"attributes\":{\"fill_color\":{\"field\":\"color\"},\"line_color\":{\"field\":\"color\"},\"size\":{\"value\":8},\"x\":{\"field\":\"x1\"},\"y\":{\"field\":\"x2\"}},\"id\":\"1124\",\"type\":\"Scatter\"},{\"attributes\":{},\"id\":\"1140\",\"type\":\"BasicTickFormatter\"}],\"root_ids\":[\"1094\"]},\"title\":\"Bokeh Application\",\"version\":\"2.3.2\"}};\n  var render_items = [{\"docid\":\"5f56769c-330f-46b9-a11a-e8fa774fdb25\",\"root_ids\":[\"1094\"],\"roots\":{\"1094\":\"6b92cc21-9012-409d-991c-76e5967b4abe\"}}];\n  root.Bokeh.embed.embed_items_notebook(docs_json, render_items);\n\n  }\n  if (root.Bokeh !== undefined) {\n    embed_document(root);\n  } else {\n    var attempts = 0;\n    var timer = setInterval(function(root) {\n      if (root.Bokeh !== undefined) {\n        clearInterval(timer);\n        embed_document(root);\n      } else {\n        attempts++;\n        if (attempts > 100) {\n          clearInterval(timer);\n          console.log(\"Bokeh: ERROR: Unable to run BokehJS code because BokehJS library is missing\");\n        }\n      }\n    }, 10, root)\n  }\n})(window);",
            "application/vnd.bokehjs_exec.v0+json": ""
          },
          "metadata": {
            "application/vnd.bokehjs_exec.v0+json": {
              "id": "1094"
            }
          },
          "output_type": "display_data"
        }
      ],
      "source": [
        "output_notebook()\n",
        "\n",
        "p = figure(tools=\"pan,wheel_zoom,reset,save\",\n",
        "           toolbar_location=\"above\",\n",
        "           title=\"word2vec T-SNE (eng model, top1000 words)\")\n",
        "\n",
        "source = ColumnDataSource(data=dict(x1=top_words_tsne[:,0],\n",
        "                                    x2=top_words_tsne[:,1],\n",
        "                                    names=presented_events,\n",
        "                                   color=to_colors(model.labels_)))\n",
        "\n",
        "p.scatter(x=\"x1\", y=\"x2\", size=8, source=source, color='color')\n",
        "\n",
        "labels = LabelSet(x=\"x1\", y=\"x2\", text=\"names\", y_offset=6,\n",
        "                  text_font_size=\"8pt\", text_color=\"#555555\",\n",
        "                  source=source, text_align='center')\n",
        "p.add_layout(labels)\n",
        "\n",
        "show(p)"
      ]
    },
    {
      "cell_type": "markdown",
      "metadata": {
        "id": "oj2u13nEXD9Q"
      },
      "source": [
        "Кластеры для визуализации multinerd более заметные."
      ]
    },
    {
      "cell_type": "markdown",
      "metadata": {
        "id": "faT3xLfPXD9Q"
      },
      "source": [
        "В следующих частях домашнего задания вам понадобится train-test-dev разбиения. Авторы статей предлагают следующую структуру разбиения для корпуса LitBank: обучающее множество – 80 книг, валидационное – 10 книг, тестовое – 10 книг. Предложения из одного источника не должны попадать в разные сегменты разбиения.\n",
        "Для корпуса MultiNERD_EN произведите стратифицированное разбиение по предложениям в соотношении 80%:10%:10%. Стратификацию производить в отношении пропорции по именованным сущностям (понятно, что с учётом всех вводных идеального разбиения не получится, но старайтесь сохранить распределения по типам сущностей для каждой и подвыборок)."
      ]
    },
    {
      "cell_type": "code",
      "execution_count": 20,
      "metadata": {
        "id": "HVaW4Tz3XD9Q",
        "outputId": "51a214fe-69fd-400e-a1a6-5281f1ed82c8",
        "colab": {
          "base_uri": "https://localhost:8080/"
        }
      },
      "outputs": [
        {
          "output_type": "execute_result",
          "data": {
            "text/plain": [
              "(80, 10, 10)"
            ]
          },
          "metadata": {},
          "execution_count": 20
        }
      ],
      "source": [
        "from sklearn.model_selection import train_test_split\n",
        "# local init\n",
        "# pathes = os.listdir('litbank_entities/tsv')\n",
        "\n",
        "# colab init\n",
        "pathes = os.listdir('/content/drive/MyDrive/litbank_events/tsv')\n",
        "\n",
        "train_pathes, test_pathes = train_test_split(pathes, train_size=0.8, random_state=1)\n",
        "val_pathes, test_pathes = train_test_split(test_pathes, train_size=0.5, random_state=1)\n",
        "len(train_pathes), len(val_pathes), len(test_pathes)"
      ]
    },
    {
      "cell_type": "markdown",
      "metadata": {
        "id": "vCbh3jeiXD9Q"
      },
      "source": [
        "## Часть 2. [4 балла] Извлечение именованных сущностей\n",
        "Для каждой корпуса необходимо осуществить раздельно следующую процедуру:\n",
        "1. [0.75 балла] Обучите стандартную модель для извлечения именованных сущностей, CNN-BiLSTM-CRF, для извлечения именованных *низкоуровневых именованных сущностей*, т.е. для самых коротких из вложенных сущностей. Модель устроена так: сверточная сеть на символах + эмбеддинги слов + двунаправленная LSTM сеть (модель последовательности) + CRF (глобальная нормализация). \n",
        "2. [0.75 балла] Замените часть модели на символах и словах (CNN + эмбеддинги словах) на ELMo и / или BERT. Должна получиться модель ELMo / BERT + BiLSTM + CRF. \n",
        "3. [2.5 балла] Замените модель последовательности (BiLSTM) на другой слой, например, на Transformer. Должна получиться модель Transformer + CRF.\n",
        "В результате у вас будет 2 набора моделей - проверьте качество извлечения на тестовых данных.\n",
        "- Примените модели первого корпуса ко всем (!!!) предложениям второго корпуса и наоборот.\n",
        "- Составьте отчёт по качеству работы моделей в терминах извлечения по типам сущностей, которые встречаются в обоих корпусах. Метрику выберите самостоятельно.\n",
        "- Проанализируйте ошибки моделей в терминах предсказания сущностям первого корпуса специфических типов для второго корпуса. И наоборот - когда специфическим типам второго корпуса модель, обученная на LitBank, прсваивает одну из своих категорий.\n",
        "\n",
        "[бонус] Дообучите BERT для извлечения именованных сущностей.\n",
        "\n",
        "[бонус] Используйте модель для извлечения вложенных именованных сущностей [Ju et al., 2018]\n",
        "\n",
        "[бонус] Модифицируйте модель для извлечения вложенных именованных сущностей [Ju et al., 2018]: вместо эмбеддингов слов используйте ELMo и/или BERT."
      ]
    },
    {
      "cell_type": "code",
      "execution_count": 17,
      "metadata": {
        "id": "gdzEToeWXD9R"
      },
      "outputs": [],
      "source": [
        "import torch\n",
        "import torch.autograd as autograd\n",
        "import torch.nn as nn\n",
        "import torch.optim as optim\n",
        "import pandas as pd\n",
        "import numpy as np\n",
        "import csv\n",
        "from tqdm import tqdm\n",
        "\n",
        "torch.manual_seed(1)\n",
        "\n",
        "START_TAG = \"<START>\"\n",
        "STOP_TAG = \"<STOP>\""
      ]
    },
    {
      "cell_type": "code",
      "source": [
        "train_pathes[:3]"
      ],
      "metadata": {
        "id": "SB3btXPT7iTw",
        "outputId": "e7bb162e-e3ab-4d16-9710-b0b0ffe5443c",
        "colab": {
          "base_uri": "https://localhost:8080/"
        }
      },
      "execution_count": 26,
      "outputs": [
        {
          "output_type": "execute_result",
          "data": {
            "text/plain": [
              "['4300_ulysses_brat.tsv',\n",
              " '969_the_tenant_of_wildfell_hall_brat.tsv',\n",
              " '1245_night_and_day_brat.tsv']"
            ]
          },
          "metadata": {},
          "execution_count": 26
        }
      ]
    },
    {
      "cell_type": "code",
      "execution_count": 54,
      "metadata": {
        "id": "ODvX7ngPXD9R"
      },
      "outputs": [],
      "source": [
        "from torch.utils.data import Dataset, DataLoader\n",
        "\n",
        "class BookDataset(Dataset):\n",
        "    def __init__(self, pathes):\n",
        "        super().__init__()\n",
        "        self.data = []\n",
        "        self.labels = []\n",
        "        self.all_labels = set()\n",
        "        self.read_books(pathes)\n",
        "        self.len = len(self.data)\n",
        "        \n",
        "    def read_books(self, pathes):\n",
        "        for path in pathes:\n",
        "            folder_path = '/content/drive/MyDrive/litbank_entities/tsv/'\n",
        "            df = pd.read_csv(\n",
        "                folder_path + path, sep='\\t', quoting=csv.QUOTE_NONE, names=['word', 'label', '1', '2', '3', '4'], skip_blank_lines=False, index_col=False)\n",
        "            blanks = np.append(-1, df[df['word'].isna()].index)\n",
        "            for i in range(len(blanks) - 1):\n",
        "                self.data.append(df[blanks[i] + 1:blanks[i + 1]]['word'].values)\n",
        "                self.labels.append(df[blanks[i] + 1:blanks[i + 1]]['label'].values)\n",
        "            self.all_labels |= set(df.dropna(subset=['label'])['label'].values)\n",
        "        \n",
        "\n",
        "    def __len__(self):\n",
        "        return self.len\n",
        "\n",
        "    def __getitem__(self, index):\n",
        "        return self.data[index], self.labels[index]\n",
        "    \n",
        "\n",
        "training_data = BookDataset(train_pathes)\n",
        "val_data = BookDataset(val_pathes)\n",
        "test_data = BookDataset(test_pathes)"
      ]
    },
    {
      "cell_type": "code",
      "source": [
        "# update python version in colab\n",
        "# !sudo apt-get update -y\n",
        "# !sudo apt-get install python3.10\n",
        "# !sudo update-alternatives --install /usr/bin/python3 python3 /usr/bin/python3.7 1\n",
        "# !sudo update-alternatives --install /usr/bin/python3 python3 /usr/bin/python3.10 2\n",
        "# !python --version"
      ],
      "metadata": {
        "id": "hcqsAJgK8abD"
      },
      "execution_count": 40,
      "outputs": []
    },
    {
      "cell_type": "code",
      "execution_count": 82,
      "metadata": {
        "id": "fVT8HtalXD9R"
      },
      "outputs": [],
      "source": [
        "def argmax(vec):\n",
        "    _, idx = torch.max(vec, 1)\n",
        "    return idx.item()\n",
        "\n",
        "def prepare_sequence(seq, to_ix, padding=None):\n",
        "    idxs = [to_ix[w] for w in seq]\n",
        "    if padding:\n",
        "        idxs += [to_ix['<PAD>'] for i in range(padding - len(idxs))]\n",
        "    return torch.tensor(idxs, dtype=torch.long)\n",
        "\n",
        "def log_sum_exp(vec):\n",
        "    max_score = vec[0, argmax(vec)]\n",
        "    max_score_broadcast = max_score.view(1, -1).expand(1, vec.size()[1])\n",
        "    return max_score + \\\n",
        "        torch.log(torch.sum(torch.exp(vec - max_score_broadcast)))\n",
        "\n",
        "class BiLSTM_CRF(nn.Module):\n",
        "    def __init__(self, vocab_size, char_vocab_size, tag_to_ix,\n",
        "                 embedding_dim, hidden_dim, char_embedding_dim, dropout=0.5, use_gpu=False):\n",
        "        super(BiLSTM_CRF, self).__init__()\n",
        "        self.use_gpu = use_gpu\n",
        "        self.device = torch.device(\"cuda\" if self.use_gpu else \"cpu\")\n",
        "        self.embedding_dim = embedding_dim\n",
        "        self.hidden_dim = hidden_dim\n",
        "        self.vocab_size = vocab_size\n",
        "        self.tag_to_ix = tag_to_ix\n",
        "        self.tagset_size = len(tag_to_ix)\n",
        "\n",
        "        self.word_embeds = nn.Embedding(vocab_size, embedding_dim)\n",
        "        self.char_embeds = nn.Embedding(char_vocab_size, embedding_dim)\n",
        "        self.lstm = nn.LSTM(embedding_dim + char_embedding_dim, hidden_dim // 2,\n",
        "                            num_layers=1, bidirectional=True)\n",
        "        self.hidden2tag = nn.Linear(hidden_dim, self.tagset_size)\n",
        "        self.transitions = nn.Parameter(\n",
        "            torch.randn(self.tagset_size, self.tagset_size))\n",
        "        self.transitions.data[tag_to_ix[START_TAG], :] = -10000\n",
        "        self.transitions.data[:, tag_to_ix[STOP_TAG]] = -10000\n",
        "        self.hidden = self.init_hidden()\n",
        "        self.char_embedding_dim = char_embedding_dim\n",
        "        self.cnn = nn.Conv2d(1, char_embedding_dim, kernel_size=(3, embedding_dim))\n",
        "        self.cnn_fc = nn.Linear(char_embedding_dim * 1590, 100)\n",
        "        \n",
        "        \n",
        "\n",
        "    def init_hidden(self):\n",
        "        return (torch.randn(2, 1, self.hidden_dim // 2),\n",
        "                torch.randn(2, 1, self.hidden_dim // 2))\n",
        "\n",
        "    def _forward_alg(self, feats):\n",
        "        init_alphas = torch.full((1, self.tagset_size), -10000., device=self.device)\n",
        "        init_alphas[0][self.tag_to_ix[START_TAG]] = 0.\n",
        "        forward_var = init_alphas\n",
        "        for feat in feats:\n",
        "            alphas_t = []\n",
        "            for next_tag in range(self.tagset_size):\n",
        "                emit_score = feat[next_tag].view(\n",
        "                    1, -1).expand(1, self.tagset_size).to(self.device)\n",
        "                trans_score = self.transitions[next_tag].view(1, -1).to(self.device)\n",
        "                next_tag_var = forward_var + trans_score + emit_score\n",
        "                alphas_t.append(log_sum_exp(next_tag_var).view(1))\n",
        "            forward_var = torch.cat(alphas_t).view(1, -1)\n",
        "        terminal_var = forward_var + self.transitions[self.tag_to_ix[STOP_TAG]].to(self.device)\n",
        "        alpha = log_sum_exp(terminal_var)\n",
        "        return alpha\n",
        "    \n",
        "    def _cnn(self, embedded):\n",
        "        cnn_out = self.cnn(embedded)\n",
        "        cnn_out = nn.functional.max_pool2d(cnn_out, kernel_size=(cnn_out.size(2), 1))\n",
        "        #cnn_out = self.cnn_fc(cnn_out.view(-1))\n",
        "        return cnn_out.view(-1, self.char_embedding_dim)\n",
        "\n",
        "    def _get_lstm_features(self, sentence, chars):\n",
        "        self.hidden = self.init_hidden()\n",
        "        embeds = self.word_embeds(sentence)\n",
        "        char_features = []\n",
        "        char_embeds = self.char_embeds(chars)\n",
        "        cnn_res = self._cnn(char_embeds.unsqueeze(1))\n",
        "        embeds = torch.cat([embeds, cnn_res], axis=1)\n",
        "        embeds = embeds.view(len(sentence), 1, -1)\n",
        "        lstm_out, self.hidden = self.lstm(embeds, self.hidden)\n",
        "        lstm_out = lstm_out.view(len(sentence), self.hidden_dim)\n",
        "        lstm_feats = self.hidden2tag(lstm_out)\n",
        "        return lstm_feats\n",
        "\n",
        "    def _score_sentence(self, feats, tags):\n",
        "        score = torch.zeros(1)\n",
        "        tags = torch.cat([torch.tensor([self.tag_to_ix[START_TAG]], dtype=torch.long), tags]).to(self.device)\n",
        "        for i, feat in enumerate(feats):\n",
        "            score = score + \\\n",
        "                self.transitions[tags[i + 1], tags[i]] + feat[tags[i + 1]]\n",
        "        score = score + self.transitions[self.tag_to_ix[STOP_TAG], tags[-1]]\n",
        "        return score\n",
        "\n",
        "    def _viterbi_decode(self, feats):\n",
        "        backpointers = []\n",
        "        init_vvars = torch.full((1, self.tagset_size), -10000., device=self.device)\n",
        "        init_vvars[0][self.tag_to_ix[START_TAG]] = 0\n",
        "        forward_var = init_vvars\n",
        "        for feat in feats:\n",
        "            bptrs_t = []\n",
        "            viterbivars_t = []\n",
        "\n",
        "            for next_tag in range(self.tagset_size):\n",
        "        \n",
        "                next_tag_var = forward_var + self.transitions[next_tag]\n",
        "                best_tag_id = argmax(next_tag_var)\n",
        "                bptrs_t.append(best_tag_id)\n",
        "                viterbivars_t.append(next_tag_var[0][best_tag_id].view(1))\n",
        "            forward_var = (torch.cat(viterbivars_t) + feat).view(1, -1)\n",
        "            backpointers.append(bptrs_t)\n",
        "        terminal_var = forward_var + self.transitions[self.tag_to_ix[STOP_TAG]]\n",
        "        best_tag_id = argmax(terminal_var)\n",
        "        path_score = terminal_var[0][best_tag_id]\n",
        "        best_path = [best_tag_id]\n",
        "        for bptrs_t in reversed(backpointers):\n",
        "            best_tag_id = bptrs_t[best_tag_id]\n",
        "            best_path.append(best_tag_id)\n",
        "        start = best_path.pop()\n",
        "        assert start == self.tag_to_ix[START_TAG]  # Sanity check\n",
        "        best_path.reverse()\n",
        "        return path_score, best_path\n",
        "\n",
        "    def neg_log_likelihood(self, sentence, chars, tags):\n",
        "        feats = self._get_lstm_features(sentence, chars)\n",
        "        forward_score = self._forward_alg(feats)\n",
        "        gold_score = self._score_sentence(feats, tags).to(self.device)\n",
        "        return forward_score - gold_score\n",
        "\n",
        "    def forward(self, sentence, chars):\n",
        "        lstm_feats = self._get_lstm_features(sentence, chars)\n",
        "        score, tag_seq = self._viterbi_decode(lstm_feats)\n",
        "        return score, tag_seq"
      ]
    },
    {
      "cell_type": "code",
      "execution_count": 59,
      "metadata": {
        "id": "uA4q9dDzXD9S"
      },
      "outputs": [],
      "source": [
        "def mapping(data, res, char_=False):\n",
        "    for sentence, tags in data:\n",
        "        for word in sentence:\n",
        "            if char_:\n",
        "                for char in word:\n",
        "                    if char not in res:\n",
        "                        res[char] = len(res)\n",
        "            else:\n",
        "                if word not in res:\n",
        "                    res[word] = len(res)\n",
        "\n",
        "\n",
        "word_to_ix = {}\n",
        "word_to_ix['<PAD>'] = 0\n",
        "mapping(training_data, word_to_ix)\n",
        "mapping(val_data, word_to_ix)\n",
        "mapping(test_data, word_to_ix)\n",
        "\n",
        "char_to_ix = {}\n",
        "char_to_ix['<PAD>'] = 0\n",
        "mapping(training_data, char_to_ix, True)\n",
        "mapping(val_data, char_to_ix, True)\n",
        "mapping(test_data, char_to_ix, True)"
      ]
    },
    {
      "cell_type": "code",
      "execution_count": 60,
      "metadata": {
        "id": "w_U2gH8QXD9S"
      },
      "outputs": [],
      "source": [
        "tag_to_ix = {list(training_data.all_labels)[i] : i for i in range(len(training_data.all_labels))}\n",
        "tag_to_ix[START_TAG] = len(tag_to_ix)\n",
        "tag_to_ix[STOP_TAG] = len(tag_to_ix)\n",
        "tag_to_ix['<PAD>'] = tag_to_ix[STOP_TAG]"
      ]
    },
    {
      "cell_type": "code",
      "execution_count": 61,
      "metadata": {
        "id": "STb2JraHXD9S"
      },
      "outputs": [],
      "source": [
        "train_sentences = [' '.join(training_data[i][0]) for i in range(len(training_data))]\n",
        "train_max = max(list(map(len, train_sentences)))\n",
        "\n",
        "val_sentences = [' '.join(val_data[i][0]) for i in range(len(val_data))]\n",
        "val_max = max(list(map(len, val_sentences)))\n",
        "\n",
        "test_sentences = [' '.join(test_data[i][0]) for i in range(len(test_data))]\n",
        "test_max = max(list(map(len, test_sentences)))\n",
        "\n",
        "char_padding_size = max([train_max, val_max, test_max])"
      ]
    },
    {
      "cell_type": "code",
      "execution_count": 76,
      "metadata": {
        "id": "CLiVtiZTXD9S"
      },
      "outputs": [],
      "source": [
        "# EMBEDDING_DIM = 100\n",
        "# HIDDEN_DIM = 32\n",
        "# CHAR_EMBEDDING_DIM = 50\n",
        "\n",
        "# model = BiLSTM_CRF(len(word_to_ix), len(char_to_ix), tag_to_ix,\n",
        "#                    EMBEDDING_DIM, HIDDEN_DIM, CHAR_EMBEDDING_DIM)\n",
        "# optimizer = optim.SGD(model.parameters(), lr=0.01, weight_decay=1e-4)\n",
        "\n",
        "# for epoch in range(10):\n",
        "#     epoch_loss = 0\n",
        "#     for sentence, tags in tqdm(training_data):\n",
        "#         model.zero_grad()\n",
        "#         sentence_in = prepare_sequence(sentence, word_to_ix)\n",
        "#         chars_in = list(map(lambda x : prepare_sequence(x, char_to_ix, padding=char_padding_size), sentence))\n",
        "#         chars_in = torch.stack(chars_in)\n",
        "#         targets = torch.tensor([tag_to_ix[t] for t in tags], dtype=torch.long)\n",
        "        \n",
        "#         loss = model.neg_log_likelihood(sentence_in, chars_in, targets)\n",
        "#         epoch_loss += loss.item()\n",
        "\n",
        "#         loss.backward()\n",
        "#         optimizer.step()\n",
        "#     print(epoch_loss)"
      ]
    },
    {
      "cell_type": "markdown",
      "metadata": {
        "id": "n-WpO3LdXD9T"
      },
      "source": [
        "##### Save model for future calculations"
      ]
    },
    {
      "cell_type": "code",
      "execution_count": 69,
      "metadata": {
        "id": "DCAv5YP1XD9T"
      },
      "outputs": [],
      "source": [
        "def training(model, training_data, n_epoch=10):\n",
        "    optimizer = optim.SGD(model.parameters(), lr=0.01, weight_decay=1e-4)\n",
        "    for epoch in range(n_epoch):\n",
        "        print(f\"{epoch} Epoch:\")\n",
        "        epoch_loss = 0\n",
        "        for sentence, tags in tqdm(training_data):\n",
        "            model.zero_grad()\n",
        "            sentence_in = prepare_sequence(sentence, word_to_ix)\n",
        "            chars_in = list(map(lambda x : prepare_sequence(x, char_to_ix, padding=char_padding_size), sentence))\n",
        "            chars_in = torch.stack(chars_in)\n",
        "            targets = torch.tensor([tag_to_ix[t] for t in tags], dtype=torch.long)\n",
        "            \n",
        "            loss = model.neg_log_likelihood(sentence_in, chars_in, targets)\n",
        "            epoch_loss += loss.item()\n",
        "\n",
        "            loss.backward()\n",
        "            optimizer.step()\n",
        "        print(epoch_loss)\n"
      ]
    },
    {
      "cell_type": "code",
      "execution_count": 86,
      "metadata": {
        "id": "CqJcjR9DXD9U",
        "outputId": "9c4de754-1192-40d3-a6df-f207c1fd0a25",
        "colab": {
          "base_uri": "https://localhost:8080/",
          "height": 407
        }
      },
      "outputs": [
        {
          "output_type": "stream",
          "name": "stdout",
          "text": [
            "0 Epoch:\n"
          ]
        },
        {
          "output_type": "stream",
          "name": "stderr",
          "text": [
            " 16%|█▋        | 1099/6756 [04:18<22:11,  4.25it/s]\n"
          ]
        },
        {
          "output_type": "error",
          "ename": "KeyboardInterrupt",
          "evalue": "ignored",
          "traceback": [
            "\u001b[0;31m---------------------------------------------------------------------------\u001b[0m",
            "\u001b[0;31mKeyboardInterrupt\u001b[0m                         Traceback (most recent call last)",
            "\u001b[0;32m<ipython-input-86-0e6caf7dca64>\u001b[0m in \u001b[0;36m<module>\u001b[0;34m\u001b[0m\n\u001b[1;32m      6\u001b[0m                    EMBEDDING_DIM, HIDDEN_DIM, CHAR_EMBEDDING_DIM)\n\u001b[1;32m      7\u001b[0m \u001b[0;34m\u001b[0m\u001b[0m\n\u001b[0;32m----> 8\u001b[0;31m \u001b[0mtraining\u001b[0m\u001b[0;34m(\u001b[0m\u001b[0mmodel\u001b[0m\u001b[0;34m,\u001b[0m \u001b[0mtraining_data\u001b[0m\u001b[0;34m,\u001b[0m \u001b[0mn_epoch\u001b[0m\u001b[0;34m=\u001b[0m\u001b[0;36m5\u001b[0m\u001b[0;34m)\u001b[0m\u001b[0;34m\u001b[0m\u001b[0;34m\u001b[0m\u001b[0m\n\u001b[0m",
            "\u001b[0;32m<ipython-input-69-c57bdd497f62>\u001b[0m in \u001b[0;36mtraining\u001b[0;34m(model, training_data, n_epoch)\u001b[0m\n\u001b[1;32m     11\u001b[0m             \u001b[0mtargets\u001b[0m \u001b[0;34m=\u001b[0m \u001b[0mtorch\u001b[0m\u001b[0;34m.\u001b[0m\u001b[0mtensor\u001b[0m\u001b[0;34m(\u001b[0m\u001b[0;34m[\u001b[0m\u001b[0mtag_to_ix\u001b[0m\u001b[0;34m[\u001b[0m\u001b[0mt\u001b[0m\u001b[0;34m]\u001b[0m \u001b[0;32mfor\u001b[0m \u001b[0mt\u001b[0m \u001b[0;32min\u001b[0m \u001b[0mtags\u001b[0m\u001b[0;34m]\u001b[0m\u001b[0;34m,\u001b[0m \u001b[0mdtype\u001b[0m\u001b[0;34m=\u001b[0m\u001b[0mtorch\u001b[0m\u001b[0;34m.\u001b[0m\u001b[0mlong\u001b[0m\u001b[0;34m)\u001b[0m\u001b[0;34m\u001b[0m\u001b[0;34m\u001b[0m\u001b[0m\n\u001b[1;32m     12\u001b[0m \u001b[0;34m\u001b[0m\u001b[0m\n\u001b[0;32m---> 13\u001b[0;31m             \u001b[0mloss\u001b[0m \u001b[0;34m=\u001b[0m \u001b[0mmodel\u001b[0m\u001b[0;34m.\u001b[0m\u001b[0mneg_log_likelihood\u001b[0m\u001b[0;34m(\u001b[0m\u001b[0msentence_in\u001b[0m\u001b[0;34m,\u001b[0m \u001b[0mchars_in\u001b[0m\u001b[0;34m,\u001b[0m \u001b[0mtargets\u001b[0m\u001b[0;34m)\u001b[0m\u001b[0;34m\u001b[0m\u001b[0;34m\u001b[0m\u001b[0m\n\u001b[0m\u001b[1;32m     14\u001b[0m             \u001b[0mepoch_loss\u001b[0m \u001b[0;34m+=\u001b[0m \u001b[0mloss\u001b[0m\u001b[0;34m.\u001b[0m\u001b[0mitem\u001b[0m\u001b[0;34m(\u001b[0m\u001b[0;34m)\u001b[0m\u001b[0;34m\u001b[0m\u001b[0;34m\u001b[0m\u001b[0m\n\u001b[1;32m     15\u001b[0m \u001b[0;34m\u001b[0m\u001b[0m\n",
            "\u001b[0;32m<ipython-input-82-fa7501cc672f>\u001b[0m in \u001b[0;36mneg_log_likelihood\u001b[0;34m(self, sentence, chars, tags)\u001b[0m\n\u001b[1;32m    122\u001b[0m \u001b[0;34m\u001b[0m\u001b[0m\n\u001b[1;32m    123\u001b[0m     \u001b[0;32mdef\u001b[0m \u001b[0mneg_log_likelihood\u001b[0m\u001b[0;34m(\u001b[0m\u001b[0mself\u001b[0m\u001b[0;34m,\u001b[0m \u001b[0msentence\u001b[0m\u001b[0;34m,\u001b[0m \u001b[0mchars\u001b[0m\u001b[0;34m,\u001b[0m \u001b[0mtags\u001b[0m\u001b[0;34m)\u001b[0m\u001b[0;34m:\u001b[0m\u001b[0;34m\u001b[0m\u001b[0;34m\u001b[0m\u001b[0m\n\u001b[0;32m--> 124\u001b[0;31m         \u001b[0mfeats\u001b[0m \u001b[0;34m=\u001b[0m \u001b[0mself\u001b[0m\u001b[0;34m.\u001b[0m\u001b[0m_get_lstm_features\u001b[0m\u001b[0;34m(\u001b[0m\u001b[0msentence\u001b[0m\u001b[0;34m,\u001b[0m \u001b[0mchars\u001b[0m\u001b[0;34m)\u001b[0m\u001b[0;34m\u001b[0m\u001b[0;34m\u001b[0m\u001b[0m\n\u001b[0m\u001b[1;32m    125\u001b[0m         \u001b[0mforward_score\u001b[0m \u001b[0;34m=\u001b[0m \u001b[0mself\u001b[0m\u001b[0;34m.\u001b[0m\u001b[0m_forward_alg\u001b[0m\u001b[0;34m(\u001b[0m\u001b[0mfeats\u001b[0m\u001b[0;34m)\u001b[0m\u001b[0;34m\u001b[0m\u001b[0;34m\u001b[0m\u001b[0m\n\u001b[1;32m    126\u001b[0m         \u001b[0mgold_score\u001b[0m \u001b[0;34m=\u001b[0m \u001b[0mself\u001b[0m\u001b[0;34m.\u001b[0m\u001b[0m_score_sentence\u001b[0m\u001b[0;34m(\u001b[0m\u001b[0mfeats\u001b[0m\u001b[0;34m,\u001b[0m \u001b[0mtags\u001b[0m\u001b[0;34m)\u001b[0m\u001b[0;34m.\u001b[0m\u001b[0mto\u001b[0m\u001b[0;34m(\u001b[0m\u001b[0mself\u001b[0m\u001b[0;34m.\u001b[0m\u001b[0mdevice\u001b[0m\u001b[0;34m)\u001b[0m\u001b[0;34m\u001b[0m\u001b[0;34m\u001b[0m\u001b[0m\n",
            "\u001b[0;32m<ipython-input-82-fa7501cc672f>\u001b[0m in \u001b[0;36m_get_lstm_features\u001b[0;34m(self, sentence, chars)\u001b[0m\n\u001b[1;32m     75\u001b[0m         \u001b[0mchar_features\u001b[0m \u001b[0;34m=\u001b[0m \u001b[0;34m[\u001b[0m\u001b[0;34m]\u001b[0m\u001b[0;34m\u001b[0m\u001b[0;34m\u001b[0m\u001b[0m\n\u001b[1;32m     76\u001b[0m         \u001b[0mchar_embeds\u001b[0m \u001b[0;34m=\u001b[0m \u001b[0mself\u001b[0m\u001b[0;34m.\u001b[0m\u001b[0mchar_embeds\u001b[0m\u001b[0;34m(\u001b[0m\u001b[0mchars\u001b[0m\u001b[0;34m)\u001b[0m\u001b[0;34m\u001b[0m\u001b[0;34m\u001b[0m\u001b[0m\n\u001b[0;32m---> 77\u001b[0;31m         \u001b[0mcnn_res\u001b[0m \u001b[0;34m=\u001b[0m \u001b[0mself\u001b[0m\u001b[0;34m.\u001b[0m\u001b[0m_cnn\u001b[0m\u001b[0;34m(\u001b[0m\u001b[0mchar_embeds\u001b[0m\u001b[0;34m.\u001b[0m\u001b[0munsqueeze\u001b[0m\u001b[0;34m(\u001b[0m\u001b[0;36m1\u001b[0m\u001b[0;34m)\u001b[0m\u001b[0;34m)\u001b[0m\u001b[0;34m\u001b[0m\u001b[0;34m\u001b[0m\u001b[0m\n\u001b[0m\u001b[1;32m     78\u001b[0m         \u001b[0membeds\u001b[0m \u001b[0;34m=\u001b[0m \u001b[0mtorch\u001b[0m\u001b[0;34m.\u001b[0m\u001b[0mcat\u001b[0m\u001b[0;34m(\u001b[0m\u001b[0;34m[\u001b[0m\u001b[0membeds\u001b[0m\u001b[0;34m,\u001b[0m \u001b[0mcnn_res\u001b[0m\u001b[0;34m]\u001b[0m\u001b[0;34m,\u001b[0m \u001b[0maxis\u001b[0m\u001b[0;34m=\u001b[0m\u001b[0;36m1\u001b[0m\u001b[0;34m)\u001b[0m\u001b[0;34m\u001b[0m\u001b[0;34m\u001b[0m\u001b[0m\n\u001b[1;32m     79\u001b[0m         \u001b[0membeds\u001b[0m \u001b[0;34m=\u001b[0m \u001b[0membeds\u001b[0m\u001b[0;34m.\u001b[0m\u001b[0mview\u001b[0m\u001b[0;34m(\u001b[0m\u001b[0mlen\u001b[0m\u001b[0;34m(\u001b[0m\u001b[0msentence\u001b[0m\u001b[0;34m)\u001b[0m\u001b[0;34m,\u001b[0m \u001b[0;36m1\u001b[0m\u001b[0;34m,\u001b[0m \u001b[0;34m-\u001b[0m\u001b[0;36m1\u001b[0m\u001b[0;34m)\u001b[0m\u001b[0;34m\u001b[0m\u001b[0;34m\u001b[0m\u001b[0m\n",
            "\u001b[0;32m<ipython-input-82-fa7501cc672f>\u001b[0m in \u001b[0;36m_cnn\u001b[0;34m(self, embedded)\u001b[0m\n\u001b[1;32m     65\u001b[0m \u001b[0;34m\u001b[0m\u001b[0m\n\u001b[1;32m     66\u001b[0m     \u001b[0;32mdef\u001b[0m \u001b[0m_cnn\u001b[0m\u001b[0;34m(\u001b[0m\u001b[0mself\u001b[0m\u001b[0;34m,\u001b[0m \u001b[0membedded\u001b[0m\u001b[0;34m)\u001b[0m\u001b[0;34m:\u001b[0m\u001b[0;34m\u001b[0m\u001b[0;34m\u001b[0m\u001b[0m\n\u001b[0;32m---> 67\u001b[0;31m         \u001b[0mcnn_out\u001b[0m \u001b[0;34m=\u001b[0m \u001b[0mself\u001b[0m\u001b[0;34m.\u001b[0m\u001b[0mcnn\u001b[0m\u001b[0;34m(\u001b[0m\u001b[0membedded\u001b[0m\u001b[0;34m)\u001b[0m\u001b[0;34m\u001b[0m\u001b[0;34m\u001b[0m\u001b[0m\n\u001b[0m\u001b[1;32m     68\u001b[0m         \u001b[0mcnn_out\u001b[0m \u001b[0;34m=\u001b[0m \u001b[0mnn\u001b[0m\u001b[0;34m.\u001b[0m\u001b[0mfunctional\u001b[0m\u001b[0;34m.\u001b[0m\u001b[0mmax_pool2d\u001b[0m\u001b[0;34m(\u001b[0m\u001b[0mcnn_out\u001b[0m\u001b[0;34m,\u001b[0m \u001b[0mkernel_size\u001b[0m\u001b[0;34m=\u001b[0m\u001b[0;34m(\u001b[0m\u001b[0mcnn_out\u001b[0m\u001b[0;34m.\u001b[0m\u001b[0msize\u001b[0m\u001b[0;34m(\u001b[0m\u001b[0;36m2\u001b[0m\u001b[0;34m)\u001b[0m\u001b[0;34m,\u001b[0m \u001b[0;36m1\u001b[0m\u001b[0;34m)\u001b[0m\u001b[0;34m)\u001b[0m\u001b[0;34m\u001b[0m\u001b[0;34m\u001b[0m\u001b[0m\n\u001b[1;32m     69\u001b[0m         \u001b[0;31m#cnn_out = self.cnn_fc(cnn_out.view(-1))\u001b[0m\u001b[0;34m\u001b[0m\u001b[0;34m\u001b[0m\u001b[0;34m\u001b[0m\u001b[0m\n",
            "\u001b[0;32m/usr/local/lib/python3.7/dist-packages/torch/nn/modules/module.py\u001b[0m in \u001b[0;36m_call_impl\u001b[0;34m(self, *input, **kwargs)\u001b[0m\n\u001b[1;32m   1128\u001b[0m         if not (self._backward_hooks or self._forward_hooks or self._forward_pre_hooks or _global_backward_hooks\n\u001b[1;32m   1129\u001b[0m                 or _global_forward_hooks or _global_forward_pre_hooks):\n\u001b[0;32m-> 1130\u001b[0;31m             \u001b[0;32mreturn\u001b[0m \u001b[0mforward_call\u001b[0m\u001b[0;34m(\u001b[0m\u001b[0;34m*\u001b[0m\u001b[0minput\u001b[0m\u001b[0;34m,\u001b[0m \u001b[0;34m**\u001b[0m\u001b[0mkwargs\u001b[0m\u001b[0;34m)\u001b[0m\u001b[0;34m\u001b[0m\u001b[0;34m\u001b[0m\u001b[0m\n\u001b[0m\u001b[1;32m   1131\u001b[0m         \u001b[0;31m# Do not call functions when jit is used\u001b[0m\u001b[0;34m\u001b[0m\u001b[0;34m\u001b[0m\u001b[0;34m\u001b[0m\u001b[0m\n\u001b[1;32m   1132\u001b[0m         \u001b[0mfull_backward_hooks\u001b[0m\u001b[0;34m,\u001b[0m \u001b[0mnon_full_backward_hooks\u001b[0m \u001b[0;34m=\u001b[0m \u001b[0;34m[\u001b[0m\u001b[0;34m]\u001b[0m\u001b[0;34m,\u001b[0m \u001b[0;34m[\u001b[0m\u001b[0;34m]\u001b[0m\u001b[0;34m\u001b[0m\u001b[0;34m\u001b[0m\u001b[0m\n",
            "\u001b[0;32m/usr/local/lib/python3.7/dist-packages/torch/nn/modules/conv.py\u001b[0m in \u001b[0;36mforward\u001b[0;34m(self, input)\u001b[0m\n\u001b[1;32m    455\u001b[0m \u001b[0;34m\u001b[0m\u001b[0m\n\u001b[1;32m    456\u001b[0m     \u001b[0;32mdef\u001b[0m \u001b[0mforward\u001b[0m\u001b[0;34m(\u001b[0m\u001b[0mself\u001b[0m\u001b[0;34m,\u001b[0m \u001b[0minput\u001b[0m\u001b[0;34m:\u001b[0m \u001b[0mTensor\u001b[0m\u001b[0;34m)\u001b[0m \u001b[0;34m->\u001b[0m \u001b[0mTensor\u001b[0m\u001b[0;34m:\u001b[0m\u001b[0;34m\u001b[0m\u001b[0;34m\u001b[0m\u001b[0m\n\u001b[0;32m--> 457\u001b[0;31m         \u001b[0;32mreturn\u001b[0m \u001b[0mself\u001b[0m\u001b[0;34m.\u001b[0m\u001b[0m_conv_forward\u001b[0m\u001b[0;34m(\u001b[0m\u001b[0minput\u001b[0m\u001b[0;34m,\u001b[0m \u001b[0mself\u001b[0m\u001b[0;34m.\u001b[0m\u001b[0mweight\u001b[0m\u001b[0;34m,\u001b[0m \u001b[0mself\u001b[0m\u001b[0;34m.\u001b[0m\u001b[0mbias\u001b[0m\u001b[0;34m)\u001b[0m\u001b[0;34m\u001b[0m\u001b[0;34m\u001b[0m\u001b[0m\n\u001b[0m\u001b[1;32m    458\u001b[0m \u001b[0;34m\u001b[0m\u001b[0m\n\u001b[1;32m    459\u001b[0m \u001b[0;32mclass\u001b[0m \u001b[0mConv3d\u001b[0m\u001b[0;34m(\u001b[0m\u001b[0m_ConvNd\u001b[0m\u001b[0;34m)\u001b[0m\u001b[0;34m:\u001b[0m\u001b[0;34m\u001b[0m\u001b[0;34m\u001b[0m\u001b[0m\n",
            "\u001b[0;32m/usr/local/lib/python3.7/dist-packages/torch/nn/modules/conv.py\u001b[0m in \u001b[0;36m_conv_forward\u001b[0;34m(self, input, weight, bias)\u001b[0m\n\u001b[1;32m    452\u001b[0m                             _pair(0), self.dilation, self.groups)\n\u001b[1;32m    453\u001b[0m         return F.conv2d(input, weight, bias, self.stride,\n\u001b[0;32m--> 454\u001b[0;31m                         self.padding, self.dilation, self.groups)\n\u001b[0m\u001b[1;32m    455\u001b[0m \u001b[0;34m\u001b[0m\u001b[0m\n\u001b[1;32m    456\u001b[0m     \u001b[0;32mdef\u001b[0m \u001b[0mforward\u001b[0m\u001b[0;34m(\u001b[0m\u001b[0mself\u001b[0m\u001b[0;34m,\u001b[0m \u001b[0minput\u001b[0m\u001b[0;34m:\u001b[0m \u001b[0mTensor\u001b[0m\u001b[0;34m)\u001b[0m \u001b[0;34m->\u001b[0m \u001b[0mTensor\u001b[0m\u001b[0;34m:\u001b[0m\u001b[0;34m\u001b[0m\u001b[0;34m\u001b[0m\u001b[0m\n",
            "\u001b[0;31mKeyboardInterrupt\u001b[0m: "
          ]
        }
      ],
      "source": [
        "EMBEDDING_DIM = 100\n",
        "HIDDEN_DIM = 32\n",
        "CHAR_EMBEDDING_DIM = 50\n",
        "\n",
        "model = BiLSTM_CRF(len(word_to_ix), len(char_to_ix), tag_to_ix,\n",
        "                   EMBEDDING_DIM, HIDDEN_DIM, CHAR_EMBEDDING_DIM)\n",
        "\n",
        "training(model, training_data, n_epoch=5)"
      ]
    },
    {
      "cell_type": "code",
      "execution_count": null,
      "metadata": {
        "id": "s0iyrE-bXD9U"
      },
      "outputs": [],
      "source": [
        "print(\"Model's state_dict:\")\n",
        "for param_tensor in model.state_dict():\n",
        "    print(param_tensor, \"\\t\", model.state_dict()[param_tensor].size())\n",
        "\n",
        "torch.save(model.state_dict(), \"BiLSTM_CRF_5_epochs\")"
      ]
    },
    {
      "cell_type": "code",
      "source": [
        "model.load_state_dict(torch.load(\"BiLSTM_CRF_5_epochs\"))"
      ],
      "metadata": {
        "id": "jLlFHAKdH5Hf"
      },
      "execution_count": null,
      "outputs": []
    },
    {
      "cell_type": "code",
      "execution_count": null,
      "metadata": {
        "id": "mdIUR2NAXD9U"
      },
      "outputs": [],
      "source": [
        "ix_to_tag = {tag_to_ix[key] : key for key in tag_to_ix}"
      ]
    },
    {
      "cell_type": "code",
      "execution_count": null,
      "metadata": {
        "id": "2qYyY8EAXD9U"
      },
      "outputs": [],
      "source": [
        "def calculate_predictions(model, data, ix_to_tag):\n",
        "    predictions = list()\n",
        "    for sentence in tqdm(data):\n",
        "        words_prep = prepare_sequence(sentence[0], word_to_ix)\n",
        "        chars_prep = list(map(lambda x : prepare_sequence(x, char_to_ix, padding=char_padding_size), sentence[0]))\n",
        "        chars_prep = torch.stack(chars_prep)\n",
        "        model_prediction = model(words_prep, chars_prep)[1]\n",
        "        predictions.append(list(map(lambda x : ix_to_tag[x], model_prediction)))\n",
        "    return predictions"
      ]
    },
    {
      "cell_type": "code",
      "execution_count": null,
      "metadata": {
        "id": "91bUAl9fXD9U",
        "outputId": "b98b01eb-a58e-46f2-8018-6cd41bc90652"
      },
      "outputs": [
        {
          "name": "stderr",
          "output_type": "stream",
          "text": [
            "100%|██████████| 908/908 [00:23<00:00, 38.82it/s]\n"
          ]
        }
      ],
      "source": [
        "y_pred = calculate_predictions(model, test_data, ix_to_tag)"
      ]
    },
    {
      "cell_type": "code",
      "execution_count": null,
      "metadata": {
        "id": "PxxEty1SXD9V"
      },
      "outputs": [],
      "source": [
        "y_test = [x[1] for x in test_data]"
      ]
    },
    {
      "cell_type": "code",
      "execution_count": null,
      "metadata": {
        "id": "gIPYiFdcXD9V"
      },
      "outputs": [],
      "source": [
        "from sklearn_crfsuite.metrics import flat_f1_score\n",
        "from sklearn_crfsuite.metrics import flat_classification_report"
      ]
    },
    {
      "cell_type": "code",
      "execution_count": null,
      "metadata": {
        "id": "7Cm6p7x-XD9V",
        "outputId": "4e117c1d-cf8d-4445-b153-6f4734897c82"
      },
      "outputs": [
        {
          "name": "stdout",
          "output_type": "stream",
          "text": [
            "0.012303460608492075\n"
          ]
        }
      ],
      "source": [
        "f1_score = flat_f1_score(y_test, y_pred, average=\"weighted\")\n",
        "print(f1_score)"
      ]
    },
    {
      "cell_type": "code",
      "execution_count": null,
      "metadata": {
        "id": "T34XFooMXD9V"
      },
      "outputs": [],
      "source": [
        "labels = list(tag_to_ix.keys())[:-3]"
      ]
    },
    {
      "cell_type": "markdown",
      "metadata": {
        "id": "Mgc5k10nXD9V"
      },
      "source": [
        "##### BERT + BiLSTM + CRF"
      ]
    },
    {
      "cell_type": "code",
      "source": [
        "# !sudo update-alternatives --config python3"
      ],
      "metadata": {
        "id": "w6cbogKyJR4N"
      },
      "execution_count": 101,
      "outputs": []
    },
    {
      "cell_type": "code",
      "source": [
        "# !pip install transformers\n",
        "# !pip install sklearn-crfsuite\n",
        "# !pip install pytorch-crf\n",
        "!pip install pytorch-lightning"
      ],
      "metadata": {
        "id": "b3ycARUkJXI6",
        "outputId": "f1d6c08b-7ded-40dc-d289-e4db43f7b25f",
        "colab": {
          "base_uri": "https://localhost:8080/"
        }
      },
      "execution_count": 109,
      "outputs": [
        {
          "output_type": "stream",
          "name": "stdout",
          "text": [
            "Looking in indexes: https://pypi.org/simple, https://us-python.pkg.dev/colab-wheels/public/simple/\n",
            "Collecting pytorch-lightning\n",
            "  Downloading pytorch_lightning-1.8.0.post1-py3-none-any.whl (796 kB)\n",
            "\u001b[K     |████████████████████████████████| 796 kB 31.0 MB/s \n",
            "\u001b[?25hRequirement already satisfied: torch>=1.9.* in /usr/local/lib/python3.7/dist-packages (from pytorch-lightning) (1.12.1+cu113)\n",
            "Collecting lightning-utilities==0.3.*\n",
            "  Downloading lightning_utilities-0.3.0-py3-none-any.whl (15 kB)\n",
            "Requirement already satisfied: numpy>=1.17.2 in /usr/local/lib/python3.7/dist-packages (from pytorch-lightning) (1.21.6)\n",
            "Requirement already satisfied: packaging>=17.0 in /usr/local/lib/python3.7/dist-packages (from pytorch-lightning) (21.3)\n",
            "Requirement already satisfied: tqdm>=4.57.0 in /usr/local/lib/python3.7/dist-packages (from pytorch-lightning) (4.64.1)\n",
            "Requirement already satisfied: PyYAML>=5.4 in /usr/local/lib/python3.7/dist-packages (from pytorch-lightning) (6.0)\n",
            "Collecting lightning-lite==1.8.0.post1\n",
            "  Downloading lightning_lite-1.8.0.post1-py3-none-any.whl (136 kB)\n",
            "\u001b[K     |████████████████████████████████| 136 kB 85.4 MB/s \n",
            "\u001b[?25hRequirement already satisfied: fsspec[http]>2021.06.0 in /usr/local/lib/python3.7/dist-packages (from pytorch-lightning) (2022.10.0)\n",
            "Collecting torchmetrics>=0.7.0\n",
            "  Downloading torchmetrics-0.10.2-py3-none-any.whl (529 kB)\n",
            "\u001b[K     |████████████████████████████████| 529 kB 93.3 MB/s \n",
            "\u001b[?25hRequirement already satisfied: tensorboard>=2.9.1 in /usr/local/lib/python3.7/dist-packages (from pytorch-lightning) (2.9.1)\n",
            "Requirement already satisfied: typing-extensions>=4.0.0 in /usr/local/lib/python3.7/dist-packages (from pytorch-lightning) (4.1.1)\n",
            "Collecting fire\n",
            "  Downloading fire-0.4.0.tar.gz (87 kB)\n",
            "\u001b[K     |████████████████████████████████| 87 kB 9.5 MB/s \n",
            "\u001b[?25hRequirement already satisfied: aiohttp!=4.0.0a0,!=4.0.0a1 in /usr/local/lib/python3.7/dist-packages (from fsspec[http]>2021.06.0->pytorch-lightning) (3.8.3)\n",
            "Requirement already satisfied: requests in /usr/local/lib/python3.7/dist-packages (from fsspec[http]>2021.06.0->pytorch-lightning) (2.23.0)\n",
            "Requirement already satisfied: async-timeout<5.0,>=4.0.0a3 in /usr/local/lib/python3.7/dist-packages (from aiohttp!=4.0.0a0,!=4.0.0a1->fsspec[http]>2021.06.0->pytorch-lightning) (4.0.2)\n",
            "Requirement already satisfied: yarl<2.0,>=1.0 in /usr/local/lib/python3.7/dist-packages (from aiohttp!=4.0.0a0,!=4.0.0a1->fsspec[http]>2021.06.0->pytorch-lightning) (1.8.1)\n",
            "Requirement already satisfied: attrs>=17.3.0 in /usr/local/lib/python3.7/dist-packages (from aiohttp!=4.0.0a0,!=4.0.0a1->fsspec[http]>2021.06.0->pytorch-lightning) (22.1.0)\n",
            "Requirement already satisfied: frozenlist>=1.1.1 in /usr/local/lib/python3.7/dist-packages (from aiohttp!=4.0.0a0,!=4.0.0a1->fsspec[http]>2021.06.0->pytorch-lightning) (1.3.1)\n",
            "Requirement already satisfied: charset-normalizer<3.0,>=2.0 in /usr/local/lib/python3.7/dist-packages (from aiohttp!=4.0.0a0,!=4.0.0a1->fsspec[http]>2021.06.0->pytorch-lightning) (2.1.1)\n",
            "Requirement already satisfied: multidict<7.0,>=4.5 in /usr/local/lib/python3.7/dist-packages (from aiohttp!=4.0.0a0,!=4.0.0a1->fsspec[http]>2021.06.0->pytorch-lightning) (6.0.2)\n",
            "Requirement already satisfied: aiosignal>=1.1.2 in /usr/local/lib/python3.7/dist-packages (from aiohttp!=4.0.0a0,!=4.0.0a1->fsspec[http]>2021.06.0->pytorch-lightning) (1.2.0)\n",
            "Requirement already satisfied: asynctest==0.13.0 in /usr/local/lib/python3.7/dist-packages (from aiohttp!=4.0.0a0,!=4.0.0a1->fsspec[http]>2021.06.0->pytorch-lightning) (0.13.0)\n",
            "Requirement already satisfied: pyparsing!=3.0.5,>=2.0.2 in /usr/local/lib/python3.7/dist-packages (from packaging>=17.0->pytorch-lightning) (3.0.9)\n",
            "Requirement already satisfied: wheel>=0.26 in /usr/local/lib/python3.7/dist-packages (from tensorboard>=2.9.1->pytorch-lightning) (0.38.1)\n",
            "Requirement already satisfied: google-auth-oauthlib<0.5,>=0.4.1 in /usr/local/lib/python3.7/dist-packages (from tensorboard>=2.9.1->pytorch-lightning) (0.4.6)\n",
            "Requirement already satisfied: setuptools>=41.0.0 in /usr/local/lib/python3.7/dist-packages (from tensorboard>=2.9.1->pytorch-lightning) (57.4.0)\n",
            "Requirement already satisfied: tensorboard-data-server<0.7.0,>=0.6.0 in /usr/local/lib/python3.7/dist-packages (from tensorboard>=2.9.1->pytorch-lightning) (0.6.1)\n",
            "Requirement already satisfied: markdown>=2.6.8 in /usr/local/lib/python3.7/dist-packages (from tensorboard>=2.9.1->pytorch-lightning) (3.4.1)\n",
            "Requirement already satisfied: grpcio>=1.24.3 in /usr/local/lib/python3.7/dist-packages (from tensorboard>=2.9.1->pytorch-lightning) (1.50.0)\n",
            "Requirement already satisfied: google-auth<3,>=1.6.3 in /usr/local/lib/python3.7/dist-packages (from tensorboard>=2.9.1->pytorch-lightning) (1.35.0)\n",
            "Requirement already satisfied: absl-py>=0.4 in /usr/local/lib/python3.7/dist-packages (from tensorboard>=2.9.1->pytorch-lightning) (1.3.0)\n",
            "Requirement already satisfied: protobuf<3.20,>=3.9.2 in /usr/local/lib/python3.7/dist-packages (from tensorboard>=2.9.1->pytorch-lightning) (3.17.3)\n",
            "Requirement already satisfied: werkzeug>=1.0.1 in /usr/local/lib/python3.7/dist-packages (from tensorboard>=2.9.1->pytorch-lightning) (1.0.1)\n",
            "Requirement already satisfied: tensorboard-plugin-wit>=1.6.0 in /usr/local/lib/python3.7/dist-packages (from tensorboard>=2.9.1->pytorch-lightning) (1.8.1)\n",
            "Requirement already satisfied: pyasn1-modules>=0.2.1 in /usr/local/lib/python3.7/dist-packages (from google-auth<3,>=1.6.3->tensorboard>=2.9.1->pytorch-lightning) (0.2.8)\n",
            "Requirement already satisfied: rsa<5,>=3.1.4 in /usr/local/lib/python3.7/dist-packages (from google-auth<3,>=1.6.3->tensorboard>=2.9.1->pytorch-lightning) (4.9)\n",
            "Requirement already satisfied: cachetools<5.0,>=2.0.0 in /usr/local/lib/python3.7/dist-packages (from google-auth<3,>=1.6.3->tensorboard>=2.9.1->pytorch-lightning) (4.2.4)\n",
            "Requirement already satisfied: six>=1.9.0 in /usr/local/lib/python3.7/dist-packages (from google-auth<3,>=1.6.3->tensorboard>=2.9.1->pytorch-lightning) (1.15.0)\n",
            "Requirement already satisfied: requests-oauthlib>=0.7.0 in /usr/local/lib/python3.7/dist-packages (from google-auth-oauthlib<0.5,>=0.4.1->tensorboard>=2.9.1->pytorch-lightning) (1.3.1)\n",
            "Requirement already satisfied: importlib-metadata>=4.4 in /usr/local/lib/python3.7/dist-packages (from markdown>=2.6.8->tensorboard>=2.9.1->pytorch-lightning) (4.13.0)\n",
            "Requirement already satisfied: zipp>=0.5 in /usr/local/lib/python3.7/dist-packages (from importlib-metadata>=4.4->markdown>=2.6.8->tensorboard>=2.9.1->pytorch-lightning) (3.10.0)\n",
            "Requirement already satisfied: pyasn1<0.5.0,>=0.4.6 in /usr/local/lib/python3.7/dist-packages (from pyasn1-modules>=0.2.1->google-auth<3,>=1.6.3->tensorboard>=2.9.1->pytorch-lightning) (0.4.8)\n",
            "Requirement already satisfied: idna<3,>=2.5 in /usr/local/lib/python3.7/dist-packages (from requests->fsspec[http]>2021.06.0->pytorch-lightning) (2.10)\n",
            "Requirement already satisfied: chardet<4,>=3.0.2 in /usr/local/lib/python3.7/dist-packages (from requests->fsspec[http]>2021.06.0->pytorch-lightning) (3.0.4)\n",
            "Requirement already satisfied: urllib3!=1.25.0,!=1.25.1,<1.26,>=1.21.1 in /usr/local/lib/python3.7/dist-packages (from requests->fsspec[http]>2021.06.0->pytorch-lightning) (1.24.3)\n",
            "Requirement already satisfied: certifi>=2017.4.17 in /usr/local/lib/python3.7/dist-packages (from requests->fsspec[http]>2021.06.0->pytorch-lightning) (2022.9.24)\n",
            "Requirement already satisfied: oauthlib>=3.0.0 in /usr/local/lib/python3.7/dist-packages (from requests-oauthlib>=0.7.0->google-auth-oauthlib<0.5,>=0.4.1->tensorboard>=2.9.1->pytorch-lightning) (3.2.2)\n",
            "Requirement already satisfied: termcolor in /usr/local/lib/python3.7/dist-packages (from fire->lightning-utilities==0.3.*->pytorch-lightning) (2.1.0)\n",
            "Building wheels for collected packages: fire\n",
            "  Building wheel for fire (setup.py) ... \u001b[?25l\u001b[?25hdone\n",
            "  Created wheel for fire: filename=fire-0.4.0-py2.py3-none-any.whl size=115942 sha256=b41c9a46d347f4df96c73f9e57ed92326f53a4ff7c0c2100d9ab42a70c99b4ed\n",
            "  Stored in directory: /root/.cache/pip/wheels/8a/67/fb/2e8a12fa16661b9d5af1f654bd199366799740a85c64981226\n",
            "Successfully built fire\n",
            "Installing collected packages: fire, lightning-utilities, torchmetrics, lightning-lite, pytorch-lightning\n",
            "Successfully installed fire-0.4.0 lightning-lite-1.8.0.post1 lightning-utilities-0.3.0 pytorch-lightning-1.8.0.post1 torchmetrics-0.10.2\n"
          ]
        }
      ]
    },
    {
      "cell_type": "code",
      "execution_count": 106,
      "metadata": {
        "id": "p1GMDI8KXD9W"
      },
      "outputs": [],
      "source": [
        "import torch\n",
        "from torch import nn\n",
        "from transformers import BertModel\n",
        "from torchcrf import CRF\n",
        "# from sklearn_crfsuite import CRF\n",
        "\n",
        "\n",
        "class BERTBiLSTMCRF(nn.Module):\n",
        "    __doc__ = \"\"\" bert bilstm crf \"\"\"\n",
        "\n",
        "    def __init__(self, lstm_num_layers, hidden_size, num_labels, dropout=0.5):\n",
        "        super().__init__()\n",
        "        self.bert = BertModel.from_pretrained(\"bert-base-cased\")\n",
        "        self.lstm = nn.LSTM(input_size=self.bert.config.hidden_size,\n",
        "                            bidirectional=True,\n",
        "                            num_layers=lstm_num_layers,\n",
        "                            hidden_size=hidden_size,\n",
        "                            batch_first=True)\n",
        "        self.fc = nn.Linear(in_features=hidden_size * 2, out_features=num_labels)\n",
        "        self.crf = CRF(num_tags=num_labels, batch_first=True)\n",
        "        self.dropout = nn.Dropout(dropout)\n",
        "    \n",
        "    def forward(self, input_ids, attention_mask, segment_ids, tags_idx):\n",
        "        embeds = self.bert(input_ids, attention_mask=attention_mask, token_type_ids=segment_ids)[0]\n",
        "        lstm_out, _ = self.lstm(embeds)\n",
        "        lstm_out = self.dropout(lstm_out)\n",
        "        lstm_out = self.fc(lstm_out)\n",
        "        mask = tags_idx != 1\n",
        "        loss = self.crf(lstm_out, tags_idx, mask)\n",
        "        return -loss\n",
        "\n",
        "    def decode(self, input_ids, attention_mask, segment_ids):\n",
        "        embeds = self.bert(input_ids, attention_mask=attention_mask, token_type_ids=segment_ids)[0]\n",
        "        lstm_out, _ = self.lstm(embeds)\n",
        "        lstm_out = self.dropout(lstm_out)\n",
        "        lstm_out = self.fc(lstm_out)\n",
        "        results = self.crf.decode(lstm_out)\n",
        "        result_tensor = []\n",
        "        for result in results:\n",
        "            result_tensor.append(torch.tensor(result))\n",
        "        return torch.stack(result_tensor)"
      ]
    },
    {
      "cell_type": "code",
      "execution_count": 111,
      "metadata": {
        "id": "QhzcHDgyXD9W",
        "outputId": "778d8a47-cca4-4f69-adca-0cf68fb40be2",
        "colab": {
          "base_uri": "https://localhost:8080/",
          "height": 546
        }
      },
      "outputs": [
        {
          "output_type": "stream",
          "name": "stderr",
          "text": [
            "Some weights of the model checkpoint at bert-base-cased were not used when initializing BertModel: ['cls.seq_relationship.bias', 'cls.predictions.transform.dense.bias', 'cls.predictions.transform.LayerNorm.bias', 'cls.predictions.bias', 'cls.predictions.transform.LayerNorm.weight', 'cls.seq_relationship.weight', 'cls.predictions.transform.dense.weight', 'cls.predictions.decoder.weight']\n",
            "- This IS expected if you are initializing BertModel from the checkpoint of a model trained on another task or with another architecture (e.g. initializing a BertForSequenceClassification model from a BertForPreTraining model).\n",
            "- This IS NOT expected if you are initializing BertModel from the checkpoint of a model that you expect to be exactly identical (initializing a BertForSequenceClassification model from a BertForSequenceClassification model).\n",
            "INFO:pytorch_lightning.utilities.rank_zero:GPU available: True (cuda), used: False\n",
            "INFO:pytorch_lightning.utilities.rank_zero:TPU available: False, using: 0 TPU cores\n",
            "INFO:pytorch_lightning.utilities.rank_zero:IPU available: False, using: 0 IPUs\n",
            "INFO:pytorch_lightning.utilities.rank_zero:HPU available: False, using: 0 HPUs\n",
            "/usr/local/lib/python3.7/dist-packages/pytorch_lightning/trainer/setup.py:178: PossibleUserWarning: GPU available but not used. Set `accelerator` and `devices` using `Trainer(accelerator='gpu', devices=1)`.\n",
            "  category=PossibleUserWarning,\n"
          ]
        },
        {
          "output_type": "error",
          "ename": "TypeError",
          "evalue": "ignored",
          "traceback": [
            "\u001b[0;31m---------------------------------------------------------------------------\u001b[0m",
            "\u001b[0;31mTypeError\u001b[0m                                 Traceback (most recent call last)",
            "\u001b[0;32m<ipython-input-111-6c29d7e7289f>\u001b[0m in \u001b[0;36m<module>\u001b[0;34m\u001b[0m\n\u001b[1;32m      7\u001b[0m \u001b[0;34m\u001b[0m\u001b[0m\n\u001b[1;32m      8\u001b[0m \u001b[0mtrainer\u001b[0m \u001b[0;34m=\u001b[0m \u001b[0mTrainer\u001b[0m\u001b[0;34m(\u001b[0m\u001b[0;34m)\u001b[0m\u001b[0;34m\u001b[0m\u001b[0;34m\u001b[0m\u001b[0m\n\u001b[0;32m----> 9\u001b[0;31m \u001b[0mtrainer\u001b[0m\u001b[0;34m.\u001b[0m\u001b[0mfit\u001b[0m\u001b[0;34m(\u001b[0m\u001b[0mmodel\u001b[0m\u001b[0;34m)\u001b[0m\u001b[0;34m\u001b[0m\u001b[0;34m\u001b[0m\u001b[0m\n\u001b[0m",
            "\u001b[0;32m/usr/local/lib/python3.7/dist-packages/pytorch_lightning/trainer/trainer.py\u001b[0m in \u001b[0;36mfit\u001b[0;34m(self, model, train_dataloaders, val_dataloaders, datamodule, ckpt_path)\u001b[0m\n\u001b[1;32m    575\u001b[0m         \"\"\"\n\u001b[1;32m    576\u001b[0m         \u001b[0;32mif\u001b[0m \u001b[0;32mnot\u001b[0m \u001b[0misinstance\u001b[0m\u001b[0;34m(\u001b[0m\u001b[0mmodel\u001b[0m\u001b[0;34m,\u001b[0m \u001b[0mpl\u001b[0m\u001b[0;34m.\u001b[0m\u001b[0mLightningModule\u001b[0m\u001b[0;34m)\u001b[0m\u001b[0;34m:\u001b[0m\u001b[0;34m\u001b[0m\u001b[0;34m\u001b[0m\u001b[0m\n\u001b[0;32m--> 577\u001b[0;31m             \u001b[0;32mraise\u001b[0m \u001b[0mTypeError\u001b[0m\u001b[0;34m(\u001b[0m\u001b[0;34mf\"`Trainer.fit()` requires a `LightningModule`, got: {model.__class__.__qualname__}\"\u001b[0m\u001b[0;34m)\u001b[0m\u001b[0;34m\u001b[0m\u001b[0;34m\u001b[0m\u001b[0m\n\u001b[0m\u001b[1;32m    578\u001b[0m         \u001b[0mself\u001b[0m\u001b[0;34m.\u001b[0m\u001b[0mstrategy\u001b[0m\u001b[0;34m.\u001b[0m\u001b[0m_lightning_module\u001b[0m \u001b[0;34m=\u001b[0m \u001b[0mmodel\u001b[0m\u001b[0;34m\u001b[0m\u001b[0;34m\u001b[0m\u001b[0m\n\u001b[1;32m    579\u001b[0m         call._call_and_handle_interrupt(\n",
            "\u001b[0;31mTypeError\u001b[0m: `Trainer.fit()` requires a `LightningModule`, got: BERTBiLSTMCRF"
          ]
        }
      ],
      "source": [
        "from pytorch_lightning import Trainer\n",
        "\n",
        "EMBEDDING_DIM = 100\n",
        "HIDDEN_DIM = 32\n",
        "\n",
        "model = BERTBiLSTMCRF(EMBEDDING_DIM, HIDDEN_DIM, len(tag_to_ix))\n",
        "\n",
        "trainer = Trainer()\n",
        "trainer.fit(model)"
      ]
    },
    {
      "cell_type": "code",
      "execution_count": 108,
      "metadata": {
        "id": "i6_1Wp2TXD9W",
        "outputId": "b11f5397-976c-4ec9-f0d2-049958e9494f",
        "colab": {
          "base_uri": "https://localhost:8080/",
          "height": 389
        }
      },
      "outputs": [
        {
          "output_type": "stream",
          "name": "stdout",
          "text": [
            "0 Epoch:\n"
          ]
        },
        {
          "output_type": "stream",
          "name": "stderr",
          "text": [
            "  0%|          | 0/6756 [00:00<?, ?it/s]\n"
          ]
        },
        {
          "output_type": "error",
          "ename": "AttributeError",
          "evalue": "ignored",
          "traceback": [
            "\u001b[0;31m---------------------------------------------------------------------------\u001b[0m",
            "\u001b[0;31mAttributeError\u001b[0m                            Traceback (most recent call last)",
            "\u001b[0;32m<ipython-input-108-056517f15a60>\u001b[0m in \u001b[0;36m<module>\u001b[0;34m\u001b[0m\n\u001b[1;32m     18\u001b[0m         \u001b[0mprint\u001b[0m\u001b[0;34m(\u001b[0m\u001b[0mepoch_loss\u001b[0m\u001b[0;34m)\u001b[0m\u001b[0;34m\u001b[0m\u001b[0;34m\u001b[0m\u001b[0m\n\u001b[1;32m     19\u001b[0m \u001b[0;34m\u001b[0m\u001b[0m\n\u001b[0;32m---> 20\u001b[0;31m \u001b[0mtraining\u001b[0m\u001b[0;34m(\u001b[0m\u001b[0mmodel\u001b[0m\u001b[0;34m,\u001b[0m \u001b[0mtraining_data\u001b[0m\u001b[0;34m,\u001b[0m \u001b[0mn_epoch\u001b[0m\u001b[0;34m=\u001b[0m\u001b[0;36m5\u001b[0m\u001b[0;34m)\u001b[0m\u001b[0;34m\u001b[0m\u001b[0;34m\u001b[0m\u001b[0m\n\u001b[0m",
            "\u001b[0;32m<ipython-input-108-056517f15a60>\u001b[0m in \u001b[0;36mtraining\u001b[0;34m(model, training_data, n_epoch)\u001b[0m\n\u001b[1;32m     11\u001b[0m             \u001b[0mtargets\u001b[0m \u001b[0;34m=\u001b[0m \u001b[0mtorch\u001b[0m\u001b[0;34m.\u001b[0m\u001b[0mtensor\u001b[0m\u001b[0;34m(\u001b[0m\u001b[0;34m[\u001b[0m\u001b[0mtag_to_ix\u001b[0m\u001b[0;34m[\u001b[0m\u001b[0mt\u001b[0m\u001b[0;34m]\u001b[0m \u001b[0;32mfor\u001b[0m \u001b[0mt\u001b[0m \u001b[0;32min\u001b[0m \u001b[0mtags\u001b[0m\u001b[0;34m]\u001b[0m\u001b[0;34m,\u001b[0m \u001b[0mdtype\u001b[0m\u001b[0;34m=\u001b[0m\u001b[0mtorch\u001b[0m\u001b[0;34m.\u001b[0m\u001b[0mlong\u001b[0m\u001b[0;34m)\u001b[0m\u001b[0;34m\u001b[0m\u001b[0;34m\u001b[0m\u001b[0m\n\u001b[1;32m     12\u001b[0m \u001b[0;34m\u001b[0m\u001b[0m\n\u001b[0;32m---> 13\u001b[0;31m             \u001b[0mloss\u001b[0m \u001b[0;34m=\u001b[0m \u001b[0mmodel\u001b[0m\u001b[0;34m.\u001b[0m\u001b[0mneg_log_likelihood\u001b[0m\u001b[0;34m(\u001b[0m\u001b[0msentence_in\u001b[0m\u001b[0;34m,\u001b[0m \u001b[0mchars_in\u001b[0m\u001b[0;34m,\u001b[0m \u001b[0mtargets\u001b[0m\u001b[0;34m)\u001b[0m\u001b[0;34m\u001b[0m\u001b[0;34m\u001b[0m\u001b[0m\n\u001b[0m\u001b[1;32m     14\u001b[0m             \u001b[0mepoch_loss\u001b[0m \u001b[0;34m+=\u001b[0m \u001b[0mloss\u001b[0m\u001b[0;34m.\u001b[0m\u001b[0mitem\u001b[0m\u001b[0;34m(\u001b[0m\u001b[0;34m)\u001b[0m\u001b[0;34m\u001b[0m\u001b[0;34m\u001b[0m\u001b[0m\n\u001b[1;32m     15\u001b[0m \u001b[0;34m\u001b[0m\u001b[0m\n",
            "\u001b[0;32m/usr/local/lib/python3.7/dist-packages/torch/nn/modules/module.py\u001b[0m in \u001b[0;36m__getattr__\u001b[0;34m(self, name)\u001b[0m\n\u001b[1;32m   1206\u001b[0m                 \u001b[0;32mreturn\u001b[0m \u001b[0mmodules\u001b[0m\u001b[0;34m[\u001b[0m\u001b[0mname\u001b[0m\u001b[0;34m]\u001b[0m\u001b[0;34m\u001b[0m\u001b[0;34m\u001b[0m\u001b[0m\n\u001b[1;32m   1207\u001b[0m         raise AttributeError(\"'{}' object has no attribute '{}'\".format(\n\u001b[0;32m-> 1208\u001b[0;31m             type(self).__name__, name))\n\u001b[0m\u001b[1;32m   1209\u001b[0m \u001b[0;34m\u001b[0m\u001b[0m\n\u001b[1;32m   1210\u001b[0m     \u001b[0;32mdef\u001b[0m \u001b[0m__setattr__\u001b[0m\u001b[0;34m(\u001b[0m\u001b[0mself\u001b[0m\u001b[0;34m,\u001b[0m \u001b[0mname\u001b[0m\u001b[0;34m:\u001b[0m \u001b[0mstr\u001b[0m\u001b[0;34m,\u001b[0m \u001b[0mvalue\u001b[0m\u001b[0;34m:\u001b[0m \u001b[0mUnion\u001b[0m\u001b[0;34m[\u001b[0m\u001b[0mTensor\u001b[0m\u001b[0;34m,\u001b[0m \u001b[0;34m'Module'\u001b[0m\u001b[0;34m]\u001b[0m\u001b[0;34m)\u001b[0m \u001b[0;34m->\u001b[0m \u001b[0;32mNone\u001b[0m\u001b[0;34m:\u001b[0m\u001b[0;34m\u001b[0m\u001b[0;34m\u001b[0m\u001b[0m\n",
            "\u001b[0;31mAttributeError\u001b[0m: 'BERTBiLSTMCRF' object has no attribute 'neg_log_likelihood'"
          ]
        }
      ],
      "source": [
        "def training(model, training_data, n_epoch=10):\n",
        "    optimizer = optim.SGD(model.parameters(), lr=0.01, weight_decay=1e-4)\n",
        "    for epoch in range(n_epoch):\n",
        "        print(f\"{epoch} Epoch:\")\n",
        "        epoch_loss = 0\n",
        "        for sentence, tags in tqdm(training_data):\n",
        "            model.zero_grad()\n",
        "            sentence_in = prepare_sequence(sentence, word_to_ix)\n",
        "            chars_in = list(map(lambda x : prepare_sequence(x, char_to_ix, padding=char_padding_size), sentence))\n",
        "            chars_in = torch.stack(chars_in)\n",
        "            targets = torch.tensor([tag_to_ix[t] for t in tags], dtype=torch.long)\n",
        "            \n",
        "            loss = model.neg_log_likelihood(sentence_in, chars_in, targets)\n",
        "            epoch_loss += loss.item()\n",
        "\n",
        "            loss.backward()\n",
        "            optimizer.step()\n",
        "        print(epoch_loss)\n",
        "\n",
        "training(model, training_data, n_epoch=5)"
      ]
    },
    {
      "cell_type": "code",
      "source": [],
      "metadata": {
        "id": "ujf-vETeNeWh"
      },
      "execution_count": null,
      "outputs": []
    }
  ],
  "metadata": {
    "colab": {
      "name": "hw2.ipynb",
      "provenance": [],
      "machine_shape": "hm"
    },
    "kernelspec": {
      "display_name": "Python 3 (ipykernel)",
      "language": "python",
      "name": "python3"
    },
    "language_info": {
      "codemirror_mode": {
        "name": "ipython",
        "version": 3
      },
      "file_extension": ".py",
      "mimetype": "text/x-python",
      "name": "python",
      "nbconvert_exporter": "python",
      "pygments_lexer": "ipython3",
      "version": "3.10.8"
    },
    "vscode": {
      "interpreter": {
        "hash": "b0fa6594d8f4cbf19f97940f81e996739fb7646882a419484c72d19e05852a7e"
      }
    },
    "accelerator": "GPU",
    "gpuClass": "premium"
  },
  "nbformat": 4,
  "nbformat_minor": 0
}